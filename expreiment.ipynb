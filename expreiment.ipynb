{
 "cells": [
  {
   "cell_type": "code",
   "execution_count": 1,
   "metadata": {},
   "outputs": [],
   "source": [
    "import pandas as pd\n",
    "import numpy as np\n",
    "from sklearn import preprocessing\n",
    "from sklearn.preprocessing import StandardScaler\n",
    "\n",
    "\n",
    "\n",
    "\n",
    "def Scaling(df,columns):\n",
    "    for col in columns:\n",
    "        scaler= StandardScaler()\n",
    "        df[col] = scaler.fit_transform(np.array(df[col].values).reshape(-1,1))\n",
    "    return df[col]\n",
    "\n",
    "\n",
    "def replace_nan_with_zero(df,variable):\n",
    "    df_variables=[variable]\n",
    "    for i in df_variables:\n",
    "        df[i].replace(0,np.nan,inplace=True)\n",
    "        return df[i].isnull().sum()\n",
    "\n",
    "def return_median(df,variable):   \n",
    "    temp_df = df[df[variable].notnull()]\n",
    "    temp_df = temp_df[[variable, 'status_group']].groupby(['status_group'])[[variable]].median().reset_index()\n",
    "    temp_col = temp_df[variable]\n",
    "    return temp_col\n",
    "\n",
    "import pandas as pd\n",
    "import numpy as np\n",
    "\n",
    "\n",
    "\n",
    "def installer_cl(df):\n",
    "    \"\"\"keep top 10 of installer\"\"\"\n",
    "\n",
    "    if df['installer']==\"DWE\":\n",
    "        return 'dwe'\n",
    "    elif df['installer']==\"Government\":\n",
    "        return 'gov'\n",
    "    elif df['installer']==\"RWE\":\n",
    "        return \"rwe\"\n",
    "    elif df['installer']==\"Commu\":\n",
    "        return\"commu\"\n",
    "    elif df['installer']==\"DANIDA\":\n",
    "        return\"danida\"\n",
    "    elif df['installer']==\"KKKT\":\n",
    "        return \"kkkt\"\n",
    "    elif df['installer']==\"Hesawa\":\n",
    "        return \"hesewa\"\n",
    "    elif df['installer']==\"0\":\n",
    "        return \"unknown\"\n",
    "    elif df['installer']==\"TCRS\":\n",
    "        return\"tcrs\"\n",
    "    elif df['installer']==\"Central government\":\n",
    "        return \"central gov\" \n",
    "    elif df['installer']==\"NaN\":\n",
    "        return \"nan\"\n",
    "    else:\n",
    "        return \"others\"\n",
    "\n",
    "\n",
    "def funder_cl(df):\n",
    "    \"\"\"keep top 10 of installer\"\"\"\n",
    "\n",
    "    if df['funder']==\"Government Of Tanzania\":\n",
    "        return 'gov of Tanzania'\n",
    "    elif df['funder']==\"Danida\":\n",
    "        return 'danida'\n",
    "    elif df[\"funder\"]==\"Hesawa\":\n",
    "        return \"hesawa\"\n",
    "    elif df['funder']==\"Rwssp\":\n",
    "        return\"rwssp\"\n",
    "    elif df['funder']==\"World Vision\":\n",
    "        return\"world vision\"\n",
    "    elif df['funder']==\"Unicef\":\n",
    "        return \"unicef\"\n",
    "    elif df['funder']==\"Hesawa\":\n",
    "        return \"hesewa\"\n",
    "    elif df['funder']==\"Tasaf\":\n",
    "        return \"tasaf\"\n",
    "    elif df['funder']==\"District Council\":\n",
    "        return\"district council\"\n",
    "    elif df['funder']==\"Kkkt\":\n",
    "        return \"kkkt\" \n",
    "    elif df['funder']==\"NaN\":\n",
    "        return \"nan\"\n",
    "    elif df[\"funder\"]==\"0\":\n",
    "        return \"unknown\"\n",
    "    else:\n",
    "        return \"others\"\n",
    "\n",
    "\n",
    "def year_cl(df):\n",
    "    \"\"\"Construction year grouping\"\"\"\n",
    "\n",
    "    if df[\"construction_year\"]==0:\n",
    "        return 'unknown'\n",
    "    elif 1960 <= df[\"construction_year\"]<=1969:\n",
    "        return \"60s\"\n",
    "    elif 1970 <= df[\"construction_year\"]<=1979:\n",
    "        return \"70s\"\n",
    "    elif 1980 <= df[\"construction_year\"]<=1989:\n",
    "        return \"80s\"\n",
    "    elif 1990 <= df[\"construction_year\"]<=1999:\n",
    "        return \"90s\"\n",
    "    elif 2000 <= df[\"construction_year\"]<=2009:\n",
    "        return \"00s\"\n",
    "    elif 2010 <= df[\"construction_year\"]<=2019:\n",
    "        return \"10s\"\n",
    "\n",
    "\n",
    "\n",
    "def pop_cl(df):\n",
    "    \"\"\"Population zero or not zero\"\"\"\n",
    "\n",
    "    if df[\"population\"]==0:\n",
    "        return \"1\"\n",
    "    else:\n",
    "        return \"0\"\n",
    "\n",
    "\n",
    "def pay_cl(df):\n",
    "    \"\"\"payment never pay , pay or unknown\"\"\"\n",
    "\n",
    "    if df[\"payment\"]==\"never pay\":\n",
    "        return \"NeverPay\"\n",
    "    elif df[\"payment\"]==\"unknown\":\n",
    "        return \"Unknown\"\n",
    "    else:\n",
    "        return \"Pay\"\n",
    "\n",
    "\n",
    "\n",
    "\n",
    "\n",
    "\n",
    "\n",
    "\n",
    "\n",
    "\n",
    "\n",
    "\n",
    "\n",
    "\n",
    "\n",
    "\n",
    "\n",
    "\n",
    "\n",
    "# read csv\n",
    "df = pd.read_csv(\"data/Training_set_values.csv\")\n",
    "label = pd.read_csv(\"data/training_set_labels.csv\")\n",
    "\n",
    "# merge two datasets\n",
    "df = pd.merge(df,label, on = \"id\")\n",
    "\n",
    "# making a new numeric label for classification model\n",
    "le = preprocessing.LabelEncoder()\n",
    "le.fit(df[\"status_group\"])\n",
    "df[\"label\"] =le.transform(df[\"status_group\"])\n",
    "\n",
    "\n",
    "# Longitude : missing value filled with median\n",
    "replace_nan_with_zero(df,\"longitude\")\n",
    "return_median(df,\"longitude\")\n",
    "\n",
    "# Save \n",
    "save_it_to_variable = return_median(df,\"longitude\")\n",
    "\n",
    "# replace median values with zero value\n",
    "df.loc[(df['status_group'] == \"functional\" ) & (df[\"longitude\"].isnull()), \"longitude\"] = save_it_to_variable[0]\n",
    "df.loc[(df['status_group'] == \"functional needs repair\" ) & (df[\"longitude\"].isnull()), \"longitude\"] = save_it_to_variable[1]\n",
    "df.loc[(df['status_group'] == \"non functional\" ) & (df[\"longitude\"].isnull()), \"longitude\"] = save_it_to_variable[2]\n",
    "\n",
    "\n",
    "# gps_height : missing value filled with median\n",
    "replace_nan_with_zero(df,\"gps_height\")\n",
    "return_median(df,\"gps_height\")\n",
    "\n",
    "# Save \n",
    "save_it_to_variable_gps = return_median(df,\"gps_height\")\n",
    "\n",
    "# replace median values with zero value\n",
    "df.loc[(df['status_group'] == \"functional\" ) & (df[\"gps_height\"].isnull()), \"gps_height\"] = save_it_to_variable_gps[0]\n",
    "df.loc[(df['status_group'] == \"functional needs repair\" ) & (df[\"gps_height\"].isnull()), \"gps_height\"] = save_it_to_variable_gps[1]\n",
    "df.loc[(df['status_group'] == \"non functional\" ) & (df[\"gps_height\"].isnull()), \"gps_height\"] = save_it_to_variable_gps[2]\n",
    "\n",
    "# Keep top 10 of funder and installer\n",
    "df['installer_group'] = df.apply(lambda df: installer_cl(df), axis=1)\n",
    "df['funder_group'] = df.apply(lambda df: installer_cl(df), axis=1)\n",
    "\n",
    "\n",
    "# Sorting decades\n",
    "df['construction_year_new'] = df.apply(lambda df: year_cl(df), axis=1)\n",
    "\n",
    "# new columns tells if population is  zero or not zero\n",
    "df[\"population_zero\"] = df.apply(lambda df:pop_cl(df),axis =1)\n",
    "\n",
    "# new columns tells if payment status is paid, not paid or unknown\n",
    "df[\"payment_status\"] = df.apply(lambda df:pay_cl(df),axis =1)\n",
    "\n",
    "\n",
    "\n",
    "# Feature scaling : standarisaton\n",
    "# list of numeric variables \n",
    "columns_list = [\"gps_height\",\"population\",\"longitude\",\"latitude\"]\n",
    "Scaling(df,columns_list)\n",
    "\n",
    "#Remove unnecessary columns \n",
    "to_drop = [\"funder\",\"installer\",\"payment\",\"payment_type\",\"wpt_name\",\"recorded_by\",\"num_private\",\"extraction_type\",\n",
    "           \"extraction_type_group\",\"scheme_management\",\"scheme_name\",\"management\",\n",
    "          \"quality_group\",\"quantity_group\",\"source\",\"public_meeting\",\"lga\",\"ward\",\n",
    "           \"subvillage\",\"region_code\",\"district_code\",\"date_recorded\",\"id\",'label',\n",
    "           \"waterpoint_type_group\",\"permit\",\"construction_year\",\"amount_tsh\"]\n",
    "df.drop(to_drop,inplace= True,axis =1)\n",
    "\n",
    "\n",
    "# transform Categotical variable to numeric variable\n",
    "df =pd.get_dummies(df,columns=[\"basin\",\"region\",\"extraction_type_class\",\"management_group\",\"payment_status\",\"water_quality\",\"quantity\",\"source_type\",\"source_class\",\n",
    "                                            \"waterpoint_type\",\"installer_group\",\"construction_year_new\",\"funder_group\",\"population_zero\",\"status_group\"\n",
    "                                           ])\n",
    "\n",
    "\n",
    "df = df[['gps_height','longitude','latitude','population','basin_Internal',\n",
    " 'basin_Lake Nyasa','basin_Lake Rukwa', 'basin_Lake Tanganyika',\n",
    " 'basin_Lake Victoria', 'basin_Pangani', 'basin_Rufiji',\n",
    " 'basin_Ruvuma / Southern Coast', 'basin_Wami / Ruvu', 'region_Arusha',\n",
    " 'region_Dar es Salaam', 'region_Dodoma', 'region_Iringa', 'region_Kagera',\n",
    " 'region_Kigoma', 'region_Kilimanjaro', 'region_Lindi', 'region_Manyara',\n",
    " 'region_Mara', 'region_Mbeya', 'region_Morogoro', 'region_Mtwara',\n",
    " 'region_Mwanza', 'region_Pwani', 'region_Rukwa' ,'region_Ruvuma',\n",
    " 'region_Shinyanga', 'region_Singida', 'region_Tabora', 'region_Tanga',\n",
    " 'extraction_type_class_gravity', 'extraction_type_class_handpump',\n",
    " 'extraction_type_class_motorpump', 'extraction_type_class_other',\n",
    " 'extraction_type_class_rope pump' ,'extraction_type_class_submersible',\n",
    " 'extraction_type_class_wind-powered', 'management_group_commercial',\n",
    " 'management_group_other', 'management_group_parastatal',\n",
    " 'management_group_unknown' ,'management_group_user-group',\n",
    " 'payment_status_NeverPay', 'payment_status_Pay', 'payment_status_Unknown',\n",
    " 'water_quality_coloured', 'water_quality_fluoride',\n",
    " 'water_quality_fluoride abandoned', 'water_quality_milky',\n",
    " 'water_quality_salty', 'water_quality_salty abandoned',\n",
    " 'water_quality_soft', 'water_quality_unknown', 'quantity_dry',\n",
    " 'quantity_enough', 'quantity_insufficient', 'quantity_seasonal',\n",
    " 'quantity_unknown', 'source_type_borehole', 'source_type_dam',\n",
    " 'source_type_other' ,'source_type_rainwater harvesting',\n",
    " 'source_type_river/lake', 'source_type_shallow well', 'source_type_spring',\n",
    " 'source_class_groundwater', 'source_class_surface', 'source_class_unknown',\n",
    " 'waterpoint_type_cattle trough', 'waterpoint_type_communal standpipe',\n",
    " 'waterpoint_type_communal standpipe multiple', 'waterpoint_type_dam',\n",
    " 'waterpoint_type_hand pump', 'waterpoint_type_improved spring',\n",
    " 'waterpoint_type_other' ,'installer_group_central gov',\n",
    " 'installer_group_commu', 'installer_group_danida', 'installer_group_dwe',\n",
    " 'installer_group_gov', 'installer_group_hesewa', 'installer_group_kkkt',\n",
    " 'installer_group_others', 'installer_group_rwe', 'installer_group_tcrs',\n",
    " 'installer_group_unknown' ,'construction_year_new_00s',\n",
    " 'construction_year_new_10s', 'construction_year_new_60s',\n",
    " 'construction_year_new_70s', 'construction_year_new_80s',\n",
    " 'construction_year_new_90s', 'construction_year_new_unknown',\n",
    " 'funder_group_central gov', 'funder_group_commu' ,'funder_group_danida',\n",
    " 'funder_group_dwe', 'funder_group_gov', 'funder_group_hesewa',\n",
    " 'funder_group_kkkt', 'funder_group_others', 'funder_group_rwe',\n",
    " 'funder_group_tcrs', 'funder_group_unknown', 'population_zero_0',\n",
    " 'population_zero_1','status_group_functional','status_group_functional needs repair','status_group_non functional']]\n",
    "\n",
    "\n",
    "\n",
    "\n",
    "\n",
    "# MOMO\n",
    "# do something with missing data ( gps, popluration, water amount)\n",
    "\n",
    "\n",
    "\n"
   ]
  },
  {
   "cell_type": "code",
   "execution_count": 2,
   "metadata": {},
   "outputs": [],
   "source": [
    "# filling space in columns' name with under score\n",
    "\n",
    "df.columns = [c.replace(' ', '_') for c in df.columns]"
   ]
  },
  {
   "cell_type": "code",
   "execution_count": null,
   "metadata": {},
   "outputs": [],
   "source": [
    "# save df\n",
    "\n",
    "df.to_csv(\"data/tanzania_cleaned_df.csv\",index=False)"
   ]
  },
  {
   "cell_type": "code",
   "execution_count": null,
   "metadata": {},
   "outputs": [],
   "source": []
  },
  {
   "cell_type": "code",
   "execution_count": null,
   "metadata": {},
   "outputs": [],
   "source": []
  },
  {
   "cell_type": "code",
   "execution_count": null,
   "metadata": {},
   "outputs": [],
   "source": []
  },
  {
   "cell_type": "code",
   "execution_count": null,
   "metadata": {},
   "outputs": [],
   "source": []
  },
  {
   "cell_type": "code",
   "execution_count": null,
   "metadata": {},
   "outputs": [],
   "source": []
  },
  {
   "cell_type": "code",
   "execution_count": 2,
   "metadata": {},
   "outputs": [],
   "source": [
    "import pandas as pd\n",
    "import numpy as np\n",
    "from sklearn import preprocessing\n",
    "from sklearn.preprocessing import StandardScaler\n"
   ]
  },
  {
   "cell_type": "code",
   "execution_count": 3,
   "metadata": {},
   "outputs": [
    {
     "data": {
      "text/plain": [
       "(59400, 113)"
      ]
     },
     "execution_count": 3,
     "metadata": {},
     "output_type": "execute_result"
    }
   ],
   "source": [
    "df = pd.read_csv(\"data/tanzania_cleaned_df.csv\")\n",
    "df.shape"
   ]
  },
  {
   "cell_type": "code",
   "execution_count": 4,
   "metadata": {},
   "outputs": [
    {
     "data": {
      "text/html": [
       "<div>\n",
       "<style scoped>\n",
       "    .dataframe tbody tr th:only-of-type {\n",
       "        vertical-align: middle;\n",
       "    }\n",
       "\n",
       "    .dataframe tbody tr th {\n",
       "        vertical-align: top;\n",
       "    }\n",
       "\n",
       "    .dataframe thead th {\n",
       "        text-align: right;\n",
       "    }\n",
       "</style>\n",
       "<table border=\"1\" class=\"dataframe\">\n",
       "  <thead>\n",
       "    <tr style=\"text-align: right;\">\n",
       "      <th></th>\n",
       "      <th>gps_height</th>\n",
       "      <th>longitude</th>\n",
       "      <th>latitude</th>\n",
       "      <th>population</th>\n",
       "      <th>basin_Internal</th>\n",
       "      <th>basin_Lake_Nyasa</th>\n",
       "      <th>basin_Lake_Rukwa</th>\n",
       "      <th>basin_Lake_Tanganyika</th>\n",
       "      <th>basin_Lake_Victoria</th>\n",
       "      <th>basin_Pangani</th>\n",
       "      <th>...</th>\n",
       "      <th>funder_group_kkkt</th>\n",
       "      <th>funder_group_others</th>\n",
       "      <th>funder_group_rwe</th>\n",
       "      <th>funder_group_tcrs</th>\n",
       "      <th>funder_group_unknown</th>\n",
       "      <th>population_zero_0</th>\n",
       "      <th>population_zero_1</th>\n",
       "      <th>status_group_functional</th>\n",
       "      <th>status_group_functional_needs_repair</th>\n",
       "      <th>status_group_non_functional</th>\n",
       "    </tr>\n",
       "  </thead>\n",
       "  <tbody>\n",
       "    <tr>\n",
       "      <th>0</th>\n",
       "      <td>0.653165</td>\n",
       "      <td>-0.079198</td>\n",
       "      <td>-1.408791</td>\n",
       "      <td>-0.150399</td>\n",
       "      <td>0</td>\n",
       "      <td>1</td>\n",
       "      <td>0</td>\n",
       "      <td>0</td>\n",
       "      <td>0</td>\n",
       "      <td>0</td>\n",
       "      <td>...</td>\n",
       "      <td>0</td>\n",
       "      <td>1</td>\n",
       "      <td>0</td>\n",
       "      <td>0</td>\n",
       "      <td>0</td>\n",
       "      <td>1</td>\n",
       "      <td>0</td>\n",
       "      <td>1</td>\n",
       "      <td>0</td>\n",
       "      <td>0</td>\n",
       "    </tr>\n",
       "    <tr>\n",
       "      <th>1</th>\n",
       "      <td>0.671010</td>\n",
       "      <td>-0.172375</td>\n",
       "      <td>1.207934</td>\n",
       "      <td>0.212290</td>\n",
       "      <td>0</td>\n",
       "      <td>0</td>\n",
       "      <td>0</td>\n",
       "      <td>0</td>\n",
       "      <td>1</td>\n",
       "      <td>0</td>\n",
       "      <td>...</td>\n",
       "      <td>0</td>\n",
       "      <td>1</td>\n",
       "      <td>0</td>\n",
       "      <td>0</td>\n",
       "      <td>0</td>\n",
       "      <td>1</td>\n",
       "      <td>0</td>\n",
       "      <td>1</td>\n",
       "      <td>0</td>\n",
       "      <td>0</td>\n",
       "    </tr>\n",
       "    <tr>\n",
       "      <th>2</th>\n",
       "      <td>-0.742690</td>\n",
       "      <td>0.902910</td>\n",
       "      <td>0.639751</td>\n",
       "      <td>0.148660</td>\n",
       "      <td>0</td>\n",
       "      <td>0</td>\n",
       "      <td>0</td>\n",
       "      <td>0</td>\n",
       "      <td>0</td>\n",
       "      <td>1</td>\n",
       "      <td>...</td>\n",
       "      <td>0</td>\n",
       "      <td>1</td>\n",
       "      <td>0</td>\n",
       "      <td>0</td>\n",
       "      <td>0</td>\n",
       "      <td>1</td>\n",
       "      <td>0</td>\n",
       "      <td>1</td>\n",
       "      <td>0</td>\n",
       "      <td>0</td>\n",
       "    </tr>\n",
       "    <tr>\n",
       "      <th>3</th>\n",
       "      <td>-1.581393</td>\n",
       "      <td>1.302165</td>\n",
       "      <td>-1.849720</td>\n",
       "      <td>-0.258570</td>\n",
       "      <td>0</td>\n",
       "      <td>0</td>\n",
       "      <td>0</td>\n",
       "      <td>0</td>\n",
       "      <td>0</td>\n",
       "      <td>0</td>\n",
       "      <td>...</td>\n",
       "      <td>0</td>\n",
       "      <td>1</td>\n",
       "      <td>0</td>\n",
       "      <td>0</td>\n",
       "      <td>0</td>\n",
       "      <td>1</td>\n",
       "      <td>0</td>\n",
       "      <td>0</td>\n",
       "      <td>0</td>\n",
       "      <td>1</td>\n",
       "    </tr>\n",
       "    <tr>\n",
       "      <th>4</th>\n",
       "      <td>0.373597</td>\n",
       "      <td>-1.561466</td>\n",
       "      <td>1.317271</td>\n",
       "      <td>-0.381587</td>\n",
       "      <td>0</td>\n",
       "      <td>0</td>\n",
       "      <td>0</td>\n",
       "      <td>0</td>\n",
       "      <td>1</td>\n",
       "      <td>0</td>\n",
       "      <td>...</td>\n",
       "      <td>0</td>\n",
       "      <td>1</td>\n",
       "      <td>0</td>\n",
       "      <td>0</td>\n",
       "      <td>0</td>\n",
       "      <td>0</td>\n",
       "      <td>1</td>\n",
       "      <td>1</td>\n",
       "      <td>0</td>\n",
       "      <td>0</td>\n",
       "    </tr>\n",
       "  </tbody>\n",
       "</table>\n",
       "<p>5 rows × 113 columns</p>\n",
       "</div>"
      ],
      "text/plain": [
       "   gps_height  longitude  latitude  population  basin_Internal  \\\n",
       "0    0.653165  -0.079198 -1.408791   -0.150399               0   \n",
       "1    0.671010  -0.172375  1.207934    0.212290               0   \n",
       "2   -0.742690   0.902910  0.639751    0.148660               0   \n",
       "3   -1.581393   1.302165 -1.849720   -0.258570               0   \n",
       "4    0.373597  -1.561466  1.317271   -0.381587               0   \n",
       "\n",
       "   basin_Lake_Nyasa  basin_Lake_Rukwa  basin_Lake_Tanganyika  \\\n",
       "0                 1                 0                      0   \n",
       "1                 0                 0                      0   \n",
       "2                 0                 0                      0   \n",
       "3                 0                 0                      0   \n",
       "4                 0                 0                      0   \n",
       "\n",
       "   basin_Lake_Victoria  basin_Pangani  ...  funder_group_kkkt  \\\n",
       "0                    0              0  ...                  0   \n",
       "1                    1              0  ...                  0   \n",
       "2                    0              1  ...                  0   \n",
       "3                    0              0  ...                  0   \n",
       "4                    1              0  ...                  0   \n",
       "\n",
       "   funder_group_others  funder_group_rwe  funder_group_tcrs  \\\n",
       "0                    1                 0                  0   \n",
       "1                    1                 0                  0   \n",
       "2                    1                 0                  0   \n",
       "3                    1                 0                  0   \n",
       "4                    1                 0                  0   \n",
       "\n",
       "   funder_group_unknown  population_zero_0  population_zero_1  \\\n",
       "0                     0                  1                  0   \n",
       "1                     0                  1                  0   \n",
       "2                     0                  1                  0   \n",
       "3                     0                  1                  0   \n",
       "4                     0                  0                  1   \n",
       "\n",
       "   status_group_functional  status_group_functional_needs_repair  \\\n",
       "0                        1                                     0   \n",
       "1                        1                                     0   \n",
       "2                        1                                     0   \n",
       "3                        0                                     0   \n",
       "4                        1                                     0   \n",
       "\n",
       "   status_group_non_functional  \n",
       "0                            0  \n",
       "1                            0  \n",
       "2                            0  \n",
       "3                            1  \n",
       "4                            0  \n",
       "\n",
       "[5 rows x 113 columns]"
      ]
     },
     "execution_count": 4,
     "metadata": {},
     "output_type": "execute_result"
    }
   ],
   "source": [
    "df.head()"
   ]
  },
  {
   "cell_type": "code",
   "execution_count": 5,
   "metadata": {},
   "outputs": [
    {
     "data": {
      "text/plain": [
       "Index(['gps_height', 'longitude', 'latitude', 'population', 'basin_Internal',\n",
       "       'basin_Lake_Nyasa', 'basin_Lake_Rukwa', 'basin_Lake_Tanganyika',\n",
       "       'basin_Lake_Victoria', 'basin_Pangani',\n",
       "       ...\n",
       "       'funder_group_kkkt', 'funder_group_others', 'funder_group_rwe',\n",
       "       'funder_group_tcrs', 'funder_group_unknown', 'population_zero_0',\n",
       "       'population_zero_1', 'status_group_functional',\n",
       "       'status_group_functional_needs_repair', 'status_group_non_functional'],\n",
       "      dtype='object', length=113)"
      ]
     },
     "execution_count": 5,
     "metadata": {},
     "output_type": "execute_result"
    }
   ],
   "source": [
    "df.columns"
   ]
  },
  {
   "cell_type": "code",
   "execution_count": 6,
   "metadata": {},
   "outputs": [],
   "source": [
    "# Feature selection \n",
    "X = df.iloc[0:59400,0:110]\n",
    "y= df[['status_group_functional','status_group_functional_needs_repair','status_group_non_functional']]\n"
   ]
  },
  {
   "cell_type": "code",
   "execution_count": 7,
   "metadata": {},
   "outputs": [
    {
     "data": {
      "text/html": [
       "<div>\n",
       "<style scoped>\n",
       "    .dataframe tbody tr th:only-of-type {\n",
       "        vertical-align: middle;\n",
       "    }\n",
       "\n",
       "    .dataframe tbody tr th {\n",
       "        vertical-align: top;\n",
       "    }\n",
       "\n",
       "    .dataframe thead th {\n",
       "        text-align: right;\n",
       "    }\n",
       "</style>\n",
       "<table border=\"1\" class=\"dataframe\">\n",
       "  <thead>\n",
       "    <tr style=\"text-align: right;\">\n",
       "      <th></th>\n",
       "      <th>gps_height</th>\n",
       "      <th>longitude</th>\n",
       "      <th>latitude</th>\n",
       "      <th>population</th>\n",
       "      <th>basin_Internal</th>\n",
       "      <th>basin_Lake_Nyasa</th>\n",
       "      <th>basin_Lake_Rukwa</th>\n",
       "      <th>basin_Lake_Tanganyika</th>\n",
       "      <th>basin_Lake_Victoria</th>\n",
       "      <th>basin_Pangani</th>\n",
       "      <th>...</th>\n",
       "      <th>funder_group_dwe</th>\n",
       "      <th>funder_group_gov</th>\n",
       "      <th>funder_group_hesewa</th>\n",
       "      <th>funder_group_kkkt</th>\n",
       "      <th>funder_group_others</th>\n",
       "      <th>funder_group_rwe</th>\n",
       "      <th>funder_group_tcrs</th>\n",
       "      <th>funder_group_unknown</th>\n",
       "      <th>population_zero_0</th>\n",
       "      <th>population_zero_1</th>\n",
       "    </tr>\n",
       "  </thead>\n",
       "  <tbody>\n",
       "    <tr>\n",
       "      <th>0</th>\n",
       "      <td>0.653165</td>\n",
       "      <td>-0.079198</td>\n",
       "      <td>-1.408791</td>\n",
       "      <td>-0.150399</td>\n",
       "      <td>0</td>\n",
       "      <td>1</td>\n",
       "      <td>0</td>\n",
       "      <td>0</td>\n",
       "      <td>0</td>\n",
       "      <td>0</td>\n",
       "      <td>...</td>\n",
       "      <td>0</td>\n",
       "      <td>0</td>\n",
       "      <td>0</td>\n",
       "      <td>0</td>\n",
       "      <td>1</td>\n",
       "      <td>0</td>\n",
       "      <td>0</td>\n",
       "      <td>0</td>\n",
       "      <td>1</td>\n",
       "      <td>0</td>\n",
       "    </tr>\n",
       "    <tr>\n",
       "      <th>1</th>\n",
       "      <td>0.671010</td>\n",
       "      <td>-0.172375</td>\n",
       "      <td>1.207934</td>\n",
       "      <td>0.212290</td>\n",
       "      <td>0</td>\n",
       "      <td>0</td>\n",
       "      <td>0</td>\n",
       "      <td>0</td>\n",
       "      <td>1</td>\n",
       "      <td>0</td>\n",
       "      <td>...</td>\n",
       "      <td>0</td>\n",
       "      <td>0</td>\n",
       "      <td>0</td>\n",
       "      <td>0</td>\n",
       "      <td>1</td>\n",
       "      <td>0</td>\n",
       "      <td>0</td>\n",
       "      <td>0</td>\n",
       "      <td>1</td>\n",
       "      <td>0</td>\n",
       "    </tr>\n",
       "    <tr>\n",
       "      <th>2</th>\n",
       "      <td>-0.742690</td>\n",
       "      <td>0.902910</td>\n",
       "      <td>0.639751</td>\n",
       "      <td>0.148660</td>\n",
       "      <td>0</td>\n",
       "      <td>0</td>\n",
       "      <td>0</td>\n",
       "      <td>0</td>\n",
       "      <td>0</td>\n",
       "      <td>1</td>\n",
       "      <td>...</td>\n",
       "      <td>0</td>\n",
       "      <td>0</td>\n",
       "      <td>0</td>\n",
       "      <td>0</td>\n",
       "      <td>1</td>\n",
       "      <td>0</td>\n",
       "      <td>0</td>\n",
       "      <td>0</td>\n",
       "      <td>1</td>\n",
       "      <td>0</td>\n",
       "    </tr>\n",
       "    <tr>\n",
       "      <th>3</th>\n",
       "      <td>-1.581393</td>\n",
       "      <td>1.302165</td>\n",
       "      <td>-1.849720</td>\n",
       "      <td>-0.258570</td>\n",
       "      <td>0</td>\n",
       "      <td>0</td>\n",
       "      <td>0</td>\n",
       "      <td>0</td>\n",
       "      <td>0</td>\n",
       "      <td>0</td>\n",
       "      <td>...</td>\n",
       "      <td>0</td>\n",
       "      <td>0</td>\n",
       "      <td>0</td>\n",
       "      <td>0</td>\n",
       "      <td>1</td>\n",
       "      <td>0</td>\n",
       "      <td>0</td>\n",
       "      <td>0</td>\n",
       "      <td>1</td>\n",
       "      <td>0</td>\n",
       "    </tr>\n",
       "    <tr>\n",
       "      <th>4</th>\n",
       "      <td>0.373597</td>\n",
       "      <td>-1.561466</td>\n",
       "      <td>1.317271</td>\n",
       "      <td>-0.381587</td>\n",
       "      <td>0</td>\n",
       "      <td>0</td>\n",
       "      <td>0</td>\n",
       "      <td>0</td>\n",
       "      <td>1</td>\n",
       "      <td>0</td>\n",
       "      <td>...</td>\n",
       "      <td>0</td>\n",
       "      <td>0</td>\n",
       "      <td>0</td>\n",
       "      <td>0</td>\n",
       "      <td>1</td>\n",
       "      <td>0</td>\n",
       "      <td>0</td>\n",
       "      <td>0</td>\n",
       "      <td>0</td>\n",
       "      <td>1</td>\n",
       "    </tr>\n",
       "    <tr>\n",
       "      <th>...</th>\n",
       "      <td>...</td>\n",
       "      <td>...</td>\n",
       "      <td>...</td>\n",
       "      <td>...</td>\n",
       "      <td>...</td>\n",
       "      <td>...</td>\n",
       "      <td>...</td>\n",
       "      <td>...</td>\n",
       "      <td>...</td>\n",
       "      <td>...</td>\n",
       "      <td>...</td>\n",
       "      <td>...</td>\n",
       "      <td>...</td>\n",
       "      <td>...</td>\n",
       "      <td>...</td>\n",
       "      <td>...</td>\n",
       "      <td>...</td>\n",
       "      <td>...</td>\n",
       "      <td>...</td>\n",
       "      <td>...</td>\n",
       "      <td>...</td>\n",
       "    </tr>\n",
       "    <tr>\n",
       "      <th>59395</th>\n",
       "      <td>0.296270</td>\n",
       "      <td>0.789671</td>\n",
       "      <td>0.832379</td>\n",
       "      <td>-0.116463</td>\n",
       "      <td>0</td>\n",
       "      <td>0</td>\n",
       "      <td>0</td>\n",
       "      <td>0</td>\n",
       "      <td>0</td>\n",
       "      <td>1</td>\n",
       "      <td>...</td>\n",
       "      <td>0</td>\n",
       "      <td>0</td>\n",
       "      <td>0</td>\n",
       "      <td>0</td>\n",
       "      <td>1</td>\n",
       "      <td>0</td>\n",
       "      <td>0</td>\n",
       "      <td>0</td>\n",
       "      <td>1</td>\n",
       "      <td>0</td>\n",
       "    </tr>\n",
       "    <tr>\n",
       "      <th>59396</th>\n",
       "      <td>0.300236</td>\n",
       "      <td>0.042233</td>\n",
       "      <td>-1.142092</td>\n",
       "      <td>-0.262812</td>\n",
       "      <td>0</td>\n",
       "      <td>0</td>\n",
       "      <td>0</td>\n",
       "      <td>0</td>\n",
       "      <td>0</td>\n",
       "      <td>0</td>\n",
       "      <td>...</td>\n",
       "      <td>0</td>\n",
       "      <td>0</td>\n",
       "      <td>0</td>\n",
       "      <td>0</td>\n",
       "      <td>1</td>\n",
       "      <td>0</td>\n",
       "      <td>0</td>\n",
       "      <td>0</td>\n",
       "      <td>1</td>\n",
       "      <td>0</td>\n",
       "    </tr>\n",
       "    <tr>\n",
       "      <th>59397</th>\n",
       "      <td>0.373597</td>\n",
       "      <td>-0.437772</td>\n",
       "      <td>-1.033404</td>\n",
       "      <td>-0.381587</td>\n",
       "      <td>0</td>\n",
       "      <td>0</td>\n",
       "      <td>0</td>\n",
       "      <td>0</td>\n",
       "      <td>0</td>\n",
       "      <td>0</td>\n",
       "      <td>...</td>\n",
       "      <td>0</td>\n",
       "      <td>0</td>\n",
       "      <td>0</td>\n",
       "      <td>0</td>\n",
       "      <td>1</td>\n",
       "      <td>0</td>\n",
       "      <td>0</td>\n",
       "      <td>0</td>\n",
       "      <td>0</td>\n",
       "      <td>1</td>\n",
       "    </tr>\n",
       "    <tr>\n",
       "      <th>59398</th>\n",
       "      <td>0.373597</td>\n",
       "      <td>0.280239</td>\n",
       "      <td>-0.228290</td>\n",
       "      <td>-0.381587</td>\n",
       "      <td>0</td>\n",
       "      <td>0</td>\n",
       "      <td>0</td>\n",
       "      <td>0</td>\n",
       "      <td>0</td>\n",
       "      <td>0</td>\n",
       "      <td>...</td>\n",
       "      <td>0</td>\n",
       "      <td>0</td>\n",
       "      <td>0</td>\n",
       "      <td>0</td>\n",
       "      <td>1</td>\n",
       "      <td>0</td>\n",
       "      <td>0</td>\n",
       "      <td>0</td>\n",
       "      <td>0</td>\n",
       "      <td>1</td>\n",
       "    </tr>\n",
       "    <tr>\n",
       "      <th>59399</th>\n",
       "      <td>-1.724151</td>\n",
       "      <td>1.153398</td>\n",
       "      <td>-0.353508</td>\n",
       "      <td>-0.063439</td>\n",
       "      <td>0</td>\n",
       "      <td>0</td>\n",
       "      <td>0</td>\n",
       "      <td>0</td>\n",
       "      <td>0</td>\n",
       "      <td>0</td>\n",
       "      <td>...</td>\n",
       "      <td>0</td>\n",
       "      <td>0</td>\n",
       "      <td>0</td>\n",
       "      <td>0</td>\n",
       "      <td>1</td>\n",
       "      <td>0</td>\n",
       "      <td>0</td>\n",
       "      <td>0</td>\n",
       "      <td>1</td>\n",
       "      <td>0</td>\n",
       "    </tr>\n",
       "  </tbody>\n",
       "</table>\n",
       "<p>59400 rows × 110 columns</p>\n",
       "</div>"
      ],
      "text/plain": [
       "       gps_height  longitude  latitude  population  basin_Internal  \\\n",
       "0        0.653165  -0.079198 -1.408791   -0.150399               0   \n",
       "1        0.671010  -0.172375  1.207934    0.212290               0   \n",
       "2       -0.742690   0.902910  0.639751    0.148660               0   \n",
       "3       -1.581393   1.302165 -1.849720   -0.258570               0   \n",
       "4        0.373597  -1.561466  1.317271   -0.381587               0   \n",
       "...           ...        ...       ...         ...             ...   \n",
       "59395    0.296270   0.789671  0.832379   -0.116463               0   \n",
       "59396    0.300236   0.042233 -1.142092   -0.262812               0   \n",
       "59397    0.373597  -0.437772 -1.033404   -0.381587               0   \n",
       "59398    0.373597   0.280239 -0.228290   -0.381587               0   \n",
       "59399   -1.724151   1.153398 -0.353508   -0.063439               0   \n",
       "\n",
       "       basin_Lake_Nyasa  basin_Lake_Rukwa  basin_Lake_Tanganyika  \\\n",
       "0                     1                 0                      0   \n",
       "1                     0                 0                      0   \n",
       "2                     0                 0                      0   \n",
       "3                     0                 0                      0   \n",
       "4                     0                 0                      0   \n",
       "...                 ...               ...                    ...   \n",
       "59395                 0                 0                      0   \n",
       "59396                 0                 0                      0   \n",
       "59397                 0                 0                      0   \n",
       "59398                 0                 0                      0   \n",
       "59399                 0                 0                      0   \n",
       "\n",
       "       basin_Lake_Victoria  basin_Pangani  ...  funder_group_dwe  \\\n",
       "0                        0              0  ...                 0   \n",
       "1                        1              0  ...                 0   \n",
       "2                        0              1  ...                 0   \n",
       "3                        0              0  ...                 0   \n",
       "4                        1              0  ...                 0   \n",
       "...                    ...            ...  ...               ...   \n",
       "59395                    0              1  ...                 0   \n",
       "59396                    0              0  ...                 0   \n",
       "59397                    0              0  ...                 0   \n",
       "59398                    0              0  ...                 0   \n",
       "59399                    0              0  ...                 0   \n",
       "\n",
       "       funder_group_gov  funder_group_hesewa  funder_group_kkkt  \\\n",
       "0                     0                    0                  0   \n",
       "1                     0                    0                  0   \n",
       "2                     0                    0                  0   \n",
       "3                     0                    0                  0   \n",
       "4                     0                    0                  0   \n",
       "...                 ...                  ...                ...   \n",
       "59395                 0                    0                  0   \n",
       "59396                 0                    0                  0   \n",
       "59397                 0                    0                  0   \n",
       "59398                 0                    0                  0   \n",
       "59399                 0                    0                  0   \n",
       "\n",
       "       funder_group_others  funder_group_rwe  funder_group_tcrs  \\\n",
       "0                        1                 0                  0   \n",
       "1                        1                 0                  0   \n",
       "2                        1                 0                  0   \n",
       "3                        1                 0                  0   \n",
       "4                        1                 0                  0   \n",
       "...                    ...               ...                ...   \n",
       "59395                    1                 0                  0   \n",
       "59396                    1                 0                  0   \n",
       "59397                    1                 0                  0   \n",
       "59398                    1                 0                  0   \n",
       "59399                    1                 0                  0   \n",
       "\n",
       "       funder_group_unknown  population_zero_0  population_zero_1  \n",
       "0                         0                  1                  0  \n",
       "1                         0                  1                  0  \n",
       "2                         0                  1                  0  \n",
       "3                         0                  1                  0  \n",
       "4                         0                  0                  1  \n",
       "...                     ...                ...                ...  \n",
       "59395                     0                  1                  0  \n",
       "59396                     0                  1                  0  \n",
       "59397                     0                  0                  1  \n",
       "59398                     0                  0                  1  \n",
       "59399                     0                  1                  0  \n",
       "\n",
       "[59400 rows x 110 columns]"
      ]
     },
     "execution_count": 7,
     "metadata": {},
     "output_type": "execute_result"
    }
   ],
   "source": [
    "X"
   ]
  },
  {
   "cell_type": "code",
   "execution_count": 8,
   "metadata": {},
   "outputs": [
    {
     "data": {
      "text/plain": [
       "4317"
      ]
     },
     "execution_count": 8,
     "metadata": {},
     "output_type": "execute_result"
    }
   ],
   "source": [
    "np.count_nonzero(y[[\"status_group_functional_needs_repair\"]]==1)"
   ]
  },
  {
   "cell_type": "code",
   "execution_count": 9,
   "metadata": {},
   "outputs": [
    {
     "data": {
      "text/html": [
       "<div>\n",
       "<style scoped>\n",
       "    .dataframe tbody tr th:only-of-type {\n",
       "        vertical-align: middle;\n",
       "    }\n",
       "\n",
       "    .dataframe tbody tr th {\n",
       "        vertical-align: top;\n",
       "    }\n",
       "\n",
       "    .dataframe thead th {\n",
       "        text-align: right;\n",
       "    }\n",
       "</style>\n",
       "<table border=\"1\" class=\"dataframe\">\n",
       "  <thead>\n",
       "    <tr style=\"text-align: right;\">\n",
       "      <th></th>\n",
       "      <th>status_group_functional</th>\n",
       "      <th>status_group_functional_needs_repair</th>\n",
       "      <th>status_group_non_functional</th>\n",
       "    </tr>\n",
       "  </thead>\n",
       "  <tbody>\n",
       "    <tr>\n",
       "      <th>0</th>\n",
       "      <td>1</td>\n",
       "      <td>0</td>\n",
       "      <td>0</td>\n",
       "    </tr>\n",
       "    <tr>\n",
       "      <th>1</th>\n",
       "      <td>1</td>\n",
       "      <td>0</td>\n",
       "      <td>0</td>\n",
       "    </tr>\n",
       "    <tr>\n",
       "      <th>2</th>\n",
       "      <td>1</td>\n",
       "      <td>0</td>\n",
       "      <td>0</td>\n",
       "    </tr>\n",
       "    <tr>\n",
       "      <th>3</th>\n",
       "      <td>0</td>\n",
       "      <td>0</td>\n",
       "      <td>1</td>\n",
       "    </tr>\n",
       "    <tr>\n",
       "      <th>4</th>\n",
       "      <td>1</td>\n",
       "      <td>0</td>\n",
       "      <td>0</td>\n",
       "    </tr>\n",
       "    <tr>\n",
       "      <th>...</th>\n",
       "      <td>...</td>\n",
       "      <td>...</td>\n",
       "      <td>...</td>\n",
       "    </tr>\n",
       "    <tr>\n",
       "      <th>59395</th>\n",
       "      <td>1</td>\n",
       "      <td>0</td>\n",
       "      <td>0</td>\n",
       "    </tr>\n",
       "    <tr>\n",
       "      <th>59396</th>\n",
       "      <td>1</td>\n",
       "      <td>0</td>\n",
       "      <td>0</td>\n",
       "    </tr>\n",
       "    <tr>\n",
       "      <th>59397</th>\n",
       "      <td>1</td>\n",
       "      <td>0</td>\n",
       "      <td>0</td>\n",
       "    </tr>\n",
       "    <tr>\n",
       "      <th>59398</th>\n",
       "      <td>1</td>\n",
       "      <td>0</td>\n",
       "      <td>0</td>\n",
       "    </tr>\n",
       "    <tr>\n",
       "      <th>59399</th>\n",
       "      <td>1</td>\n",
       "      <td>0</td>\n",
       "      <td>0</td>\n",
       "    </tr>\n",
       "  </tbody>\n",
       "</table>\n",
       "<p>59400 rows × 3 columns</p>\n",
       "</div>"
      ],
      "text/plain": [
       "       status_group_functional  status_group_functional_needs_repair  \\\n",
       "0                            1                                     0   \n",
       "1                            1                                     0   \n",
       "2                            1                                     0   \n",
       "3                            0                                     0   \n",
       "4                            1                                     0   \n",
       "...                        ...                                   ...   \n",
       "59395                        1                                     0   \n",
       "59396                        1                                     0   \n",
       "59397                        1                                     0   \n",
       "59398                        1                                     0   \n",
       "59399                        1                                     0   \n",
       "\n",
       "       status_group_non_functional  \n",
       "0                                0  \n",
       "1                                0  \n",
       "2                                0  \n",
       "3                                1  \n",
       "4                                0  \n",
       "...                            ...  \n",
       "59395                            0  \n",
       "59396                            0  \n",
       "59397                            0  \n",
       "59398                            0  \n",
       "59399                            0  \n",
       "\n",
       "[59400 rows x 3 columns]"
      ]
     },
     "execution_count": 9,
     "metadata": {},
     "output_type": "execute_result"
    }
   ],
   "source": [
    "# To use randomisesearch, y labels needs to be processed as one-hot-endoing style \n",
    "y"
   ]
  },
  {
   "cell_type": "code",
   "execution_count": 10,
   "metadata": {},
   "outputs": [
    {
     "data": {
      "text/plain": [
       "array([[1, 0, 0],\n",
       "       [1, 0, 0],\n",
       "       [1, 0, 0],\n",
       "       ...,\n",
       "       [1, 0, 0],\n",
       "       [1, 0, 0],\n",
       "       [1, 0, 0]])"
      ]
     },
     "execution_count": 10,
     "metadata": {},
     "output_type": "execute_result"
    }
   ],
   "source": [
    "# To use randomisesearch, y labels needs to be processed as one-hot-endoing style \n",
    "\n",
    "y = preprocessing.label_binarize(y, classes=[0, 1, 2])\n",
    "y"
   ]
  },
  {
   "cell_type": "code",
   "execution_count": 11,
   "metadata": {},
   "outputs": [
    {
     "data": {
      "text/plain": [
       "(59400, 3)"
      ]
     },
     "execution_count": 11,
     "metadata": {},
     "output_type": "execute_result"
    }
   ],
   "source": [
    "y.shape"
   ]
  },
  {
   "cell_type": "code",
   "execution_count": 12,
   "metadata": {},
   "outputs": [
    {
     "name": "stdout",
     "output_type": "stream",
     "text": [
      "the total df size (59400, 113)\n",
      "y label 0 (functional) 32259\n",
      "y label 1 (need repair) 4317\n",
      "y label 2 (non functional) 22824\n"
     ]
    }
   ],
   "source": [
    "print(\"the total df size \" + str(df.shape))\n",
    "print(\"y label 0 (functional) \" + str(np.sum(y[:,0])))\n",
    "print(\"y label 1 (need repair) \" + str(np.sum(y[:,1])))\n",
    "print(\"y label 2 (non functional) \" + str(np.sum(y[:,2])))"
   ]
  },
  {
   "cell_type": "code",
   "execution_count": 13,
   "metadata": {},
   "outputs": [
    {
     "name": "stdout",
     "output_type": "stream",
     "text": [
      "20% test before resampling 11880\n",
      "80% train before resampling 47520\n"
     ]
    }
   ],
   "source": [
    "print(\"20% test before resampling \" + str(11880))\n",
    "print(\"80% train before resampling \" + str(47520))"
   ]
  },
  {
   "cell_type": "code",
   "execution_count": 14,
   "metadata": {},
   "outputs": [
    {
     "name": "stderr",
     "output_type": "stream",
     "text": [
      "Using TensorFlow backend.\n",
      "C:\\Users\\yuka\\Anaconda3\\lib\\site-packages\\tensorflow\\python\\framework\\dtypes.py:526: FutureWarning: Passing (type, 1) or '1type' as a synonym of type is deprecated; in a future version of numpy, it will be understood as (type, (1,)) / '(1,)type'.\n",
      "  _np_qint8 = np.dtype([(\"qint8\", np.int8, 1)])\n",
      "C:\\Users\\yuka\\Anaconda3\\lib\\site-packages\\tensorflow\\python\\framework\\dtypes.py:527: FutureWarning: Passing (type, 1) or '1type' as a synonym of type is deprecated; in a future version of numpy, it will be understood as (type, (1,)) / '(1,)type'.\n",
      "  _np_quint8 = np.dtype([(\"quint8\", np.uint8, 1)])\n",
      "C:\\Users\\yuka\\Anaconda3\\lib\\site-packages\\tensorflow\\python\\framework\\dtypes.py:528: FutureWarning: Passing (type, 1) or '1type' as a synonym of type is deprecated; in a future version of numpy, it will be understood as (type, (1,)) / '(1,)type'.\n",
      "  _np_qint16 = np.dtype([(\"qint16\", np.int16, 1)])\n",
      "C:\\Users\\yuka\\Anaconda3\\lib\\site-packages\\tensorflow\\python\\framework\\dtypes.py:529: FutureWarning: Passing (type, 1) or '1type' as a synonym of type is deprecated; in a future version of numpy, it will be understood as (type, (1,)) / '(1,)type'.\n",
      "  _np_quint16 = np.dtype([(\"quint16\", np.uint16, 1)])\n",
      "C:\\Users\\yuka\\Anaconda3\\lib\\site-packages\\tensorflow\\python\\framework\\dtypes.py:530: FutureWarning: Passing (type, 1) or '1type' as a synonym of type is deprecated; in a future version of numpy, it will be understood as (type, (1,)) / '(1,)type'.\n",
      "  _np_qint32 = np.dtype([(\"qint32\", np.int32, 1)])\n",
      "C:\\Users\\yuka\\Anaconda3\\lib\\site-packages\\tensorflow\\python\\framework\\dtypes.py:535: FutureWarning: Passing (type, 1) or '1type' as a synonym of type is deprecated; in a future version of numpy, it will be understood as (type, (1,)) / '(1,)type'.\n",
      "  np_resource = np.dtype([(\"resource\", np.ubyte, 1)])\n"
     ]
    }
   ],
   "source": [
    "from sklearn.model_selection import train_test_split\n",
    "from imblearn.combine import SMOTEENN"
   ]
  },
  {
   "cell_type": "code",
   "execution_count": 15,
   "metadata": {},
   "outputs": [],
   "source": [
    "def split_data_resampling(X,y, test_percentage=0.2):\n",
    "    #import pdb;pdb.set_trace()\n",
    "    \n",
    "    X_train, X_test, y_train, y_test = train_test_split(X, y, test_size=test_percentage, random_state=42)\n",
    "    smote_enn = SMOTEENN(random_state=0)\n",
    "    X_train_resampled, y_train_resampled = smote_enn.fit_resample(X_train, y_train)\n",
    "    return X_train_resampled, y_train_resampled, X_test, y_test, X_train, y_train"
   ]
  },
  {
   "cell_type": "code",
   "execution_count": 16,
   "metadata": {},
   "outputs": [],
   "source": [
    "X_train_resampled, y_train_resampled, X_test, y_test,X_train, y_train  = split_data_resampling(X,y)"
   ]
  },
  {
   "cell_type": "code",
   "execution_count": null,
   "metadata": {},
   "outputs": [],
   "source": []
  },
  {
   "cell_type": "code",
   "execution_count": 17,
   "metadata": {},
   "outputs": [
    {
     "name": "stdout",
     "output_type": "stream",
     "text": [
      "Resampled train datasets\n",
      "58760\n",
      "58760\n",
      "The train datasets without resampling\n",
      "47520\n",
      "47520\n"
     ]
    }
   ],
   "source": [
    "print(\"Resampled train datasets\")\n",
    "print(len(X_train_resampled))\n",
    "print(len(y_train_resampled))\n",
    "print(\"The train datasets without resampling\")\n",
    "print(len(y_train))\n",
    "print(len(y_train))"
   ]
  },
  {
   "cell_type": "code",
   "execution_count": 18,
   "metadata": {},
   "outputs": [
    {
     "name": "stdout",
     "output_type": "stream",
     "text": [
      "11880\n",
      "11880\n"
     ]
    }
   ],
   "source": [
    "print(len(X_test))\n",
    "print(len(y_test))"
   ]
  },
  {
   "cell_type": "code",
   "execution_count": 19,
   "metadata": {},
   "outputs": [
    {
     "name": "stdout",
     "output_type": "stream",
     "text": [
      "Resampled y labels\n",
      "17242\n",
      "22137\n",
      "19381\n",
      "The original y labels\n",
      "32259\n",
      "4317\n",
      "22824\n"
     ]
    }
   ],
   "source": [
    "print(\"Resampled y labels\")\n",
    "print(np.sum(y_train_resampled[:,0]))\n",
    "print(np.sum(y_train_resampled[:,1]))\n",
    "print(np.sum(y_train_resampled[:,2]))\n",
    "print(\"The original y labels\")\n",
    "print(np.sum(y[:,0]))\n",
    "print(np.sum(y[:,1]))\n",
    "print(np.sum(y[:,2]))"
   ]
  },
  {
   "cell_type": "code",
   "execution_count": null,
   "metadata": {},
   "outputs": [],
   "source": []
  },
  {
   "cell_type": "markdown",
   "metadata": {},
   "source": [
    "# Base model (without hyperparameter turning) : XGB"
   ]
  },
  {
   "cell_type": "code",
   "execution_count": 20,
   "metadata": {},
   "outputs": [],
   "source": [
    "import pandas as pd\n",
    "import numpy as np\n",
    "from sklearn import preprocessing\n",
    "from sklearn.preprocessing import StandardScaler"
   ]
  },
  {
   "cell_type": "code",
   "execution_count": 21,
   "metadata": {},
   "outputs": [],
   "source": [
    "from xgboost import XGBClassifier"
   ]
  },
  {
   "cell_type": "code",
   "execution_count": 22,
   "metadata": {},
   "outputs": [],
   "source": [
    "# Need y data for base model (NO one hot encoding type)"
   ]
  },
  {
   "cell_type": "code",
   "execution_count": 23,
   "metadata": {},
   "outputs": [],
   "source": [
    "import pandas as pd\n",
    "import numpy as np\n",
    "from sklearn import preprocessing\n",
    "from sklearn.preprocessing import StandardScaler\n",
    "\n",
    "\n",
    "\n",
    "\n",
    "def Scaling(df,columns):\n",
    "    for col in columns:\n",
    "        scaler= StandardScaler()\n",
    "        df[col] = scaler.fit_transform(np.array(df[col].values).reshape(-1,1))\n",
    "    return df[col]\n",
    "\n",
    "\n",
    "def replace_nan_with_zero(df,variable):\n",
    "    df_variables=[variable]\n",
    "    for i in df_variables:\n",
    "        df[i].replace(0,np.nan,inplace=True)\n",
    "        return df[i].isnull().sum()\n",
    "\n",
    "def return_median(df,variable):   \n",
    "    temp_df = df[df[variable].notnull()]\n",
    "    temp_df = temp_df[[variable, 'status_group']].groupby(['status_group'])[[variable]].median().reset_index()\n",
    "    temp_col = temp_df[variable]\n",
    "    return temp_col\n",
    "\n",
    "import pandas as pd\n",
    "import numpy as np\n",
    "\n",
    "\n",
    "\n",
    "def installer_cl(df):\n",
    "    \"\"\"keep top 10 of installer\"\"\"\n",
    "\n",
    "    if df['installer']==\"DWE\":\n",
    "        return 'dwe'\n",
    "    elif df['installer']==\"Government\":\n",
    "        return 'gov'\n",
    "    elif df['installer']==\"RWE\":\n",
    "        return \"rwe\"\n",
    "    elif df['installer']==\"Commu\":\n",
    "        return\"commu\"\n",
    "    elif df['installer']==\"DANIDA\":\n",
    "        return\"danida\"\n",
    "    elif df['installer']==\"KKKT\":\n",
    "        return \"kkkt\"\n",
    "    elif df['installer']==\"Hesawa\":\n",
    "        return \"hesewa\"\n",
    "    elif df['installer']==\"0\":\n",
    "        return \"unknown\"\n",
    "    elif df['installer']==\"TCRS\":\n",
    "        return\"tcrs\"\n",
    "    elif df['installer']==\"Central government\":\n",
    "        return \"central gov\" \n",
    "    elif df['installer']==\"NaN\":\n",
    "        return \"nan\"\n",
    "    else:\n",
    "        return \"others\"\n",
    "\n",
    "\n",
    "def funder_cl(df):\n",
    "    \"\"\"keep top 10 of installer\"\"\"\n",
    "\n",
    "    if df['funder']==\"Government Of Tanzania\":\n",
    "        return 'gov of Tanzania'\n",
    "    elif df['funder']==\"Danida\":\n",
    "        return 'danida'\n",
    "    elif df[\"funder\"]==\"Hesawa\":\n",
    "        return \"hesawa\"\n",
    "    elif df['funder']==\"Rwssp\":\n",
    "        return\"rwssp\"\n",
    "    elif df['funder']==\"World Vision\":\n",
    "        return\"world vision\"\n",
    "    elif df['funder']==\"Unicef\":\n",
    "        return \"unicef\"\n",
    "    elif df['funder']==\"Hesawa\":\n",
    "        return \"hesewa\"\n",
    "    elif df['funder']==\"Tasaf\":\n",
    "        return \"tasaf\"\n",
    "    elif df['funder']==\"District Council\":\n",
    "        return\"district council\"\n",
    "    elif df['funder']==\"Kkkt\":\n",
    "        return \"kkkt\" \n",
    "    elif df['funder']==\"NaN\":\n",
    "        return \"nan\"\n",
    "    elif df[\"funder\"]==\"0\":\n",
    "        return \"unknown\"\n",
    "    else:\n",
    "        return \"others\"\n",
    "\n",
    "\n",
    "def year_cl(df):\n",
    "    \"\"\"Construction year grouping\"\"\"\n",
    "\n",
    "    if df[\"construction_year\"]==0:\n",
    "        return 'unknown'\n",
    "    elif 1960 <= df[\"construction_year\"]<=1969:\n",
    "        return \"60s\"\n",
    "    elif 1970 <= df[\"construction_year\"]<=1979:\n",
    "        return \"70s\"\n",
    "    elif 1980 <= df[\"construction_year\"]<=1989:\n",
    "        return \"80s\"\n",
    "    elif 1990 <= df[\"construction_year\"]<=1999:\n",
    "        return \"90s\"\n",
    "    elif 2000 <= df[\"construction_year\"]<=2009:\n",
    "        return \"00s\"\n",
    "    elif 2010 <= df[\"construction_year\"]<=2019:\n",
    "        return \"10s\"\n",
    "\n",
    "\n",
    "\n",
    "def pop_cl(df):\n",
    "    \"\"\"Population zero or not zero\"\"\"\n",
    "\n",
    "    if df[\"population\"]==0:\n",
    "        return \"1\"\n",
    "    else:\n",
    "        return \"0\"\n",
    "\n",
    "\n",
    "def pay_cl(df):\n",
    "    \"\"\"payment never pay , pay or unknown\"\"\"\n",
    "\n",
    "    if df[\"payment\"]==\"never pay\":\n",
    "        return \"NeverPay\"\n",
    "    elif df[\"payment\"]==\"unknown\":\n",
    "        return \"Unknown\"\n",
    "    else:\n",
    "        return \"Pay\"\n",
    "\n",
    "\n",
    "\n",
    "\n",
    "\n",
    "\n",
    "\n",
    "\n",
    "\n",
    "\n",
    "\n",
    "\n",
    "\n",
    "\n",
    "\n",
    "\n",
    "\n",
    "\n",
    "\n",
    "# read csv\n",
    "df = pd.read_csv(\"data/Training_set_values.csv\")\n",
    "label = pd.read_csv(\"data/training_set_labels.csv\")\n",
    "\n",
    "# merge two datasets\n",
    "df = pd.merge(df,label, on = \"id\")\n",
    "\n",
    "# making a new numeric label for classification model\n",
    "le = preprocessing.LabelEncoder()\n",
    "le.fit(df[\"status_group\"])\n",
    "df[\"label\"] =le.transform(df[\"status_group\"])\n",
    "\n",
    "\n",
    "# Longitude : missing value filled with median\n",
    "replace_nan_with_zero(df,\"longitude\")\n",
    "return_median(df,\"longitude\")\n",
    "\n",
    "# Save \n",
    "save_it_to_variable = return_median(df,\"longitude\")\n",
    "\n",
    "# replace median values with zero value\n",
    "df.loc[(df['status_group'] == \"functional\" ) & (df[\"longitude\"].isnull()), \"longitude\"] = save_it_to_variable[0]\n",
    "df.loc[(df['status_group'] == \"functional needs repair\" ) & (df[\"longitude\"].isnull()), \"longitude\"] = save_it_to_variable[1]\n",
    "df.loc[(df['status_group'] == \"non functional\" ) & (df[\"longitude\"].isnull()), \"longitude\"] = save_it_to_variable[2]\n",
    "\n",
    "\n",
    "# gps_height : missing value filled with median\n",
    "replace_nan_with_zero(df,\"gps_height\")\n",
    "return_median(df,\"gps_height\")\n",
    "\n",
    "# Save \n",
    "save_it_to_variable_gps = return_median(df,\"gps_height\")\n",
    "\n",
    "# replace median values with zero value\n",
    "df.loc[(df['status_group'] == \"functional\" ) & (df[\"gps_height\"].isnull()), \"gps_height\"] = save_it_to_variable_gps[0]\n",
    "df.loc[(df['status_group'] == \"functional needs repair\" ) & (df[\"gps_height\"].isnull()), \"gps_height\"] = save_it_to_variable_gps[1]\n",
    "df.loc[(df['status_group'] == \"non functional\" ) & (df[\"gps_height\"].isnull()), \"gps_height\"] = save_it_to_variable_gps[2]\n",
    "\n",
    "# Keep top 10 of funder and installer\n",
    "df['installer_group'] = df.apply(lambda df: installer_cl(df), axis=1)\n",
    "df['funder_group'] = df.apply(lambda df: installer_cl(df), axis=1)\n",
    "\n",
    "\n",
    "# Sorting decades\n",
    "df['construction_year_new'] = df.apply(lambda df: year_cl(df), axis=1)\n",
    "\n",
    "# new columns tells if population is  zero or not zero\n",
    "df[\"population_zero\"] = df.apply(lambda df:pop_cl(df),axis =1)\n",
    "\n",
    "# new columns tells if payment status is paid, not paid or unknown\n",
    "df[\"payment_status\"] = df.apply(lambda df:pay_cl(df),axis =1)\n",
    "\n",
    "\n",
    "\n",
    "# Feature scaling : standarisaton\n",
    "# list of numeric variables \n",
    "columns_list = [\"gps_height\",\"population\",\"longitude\",\"latitude\"]\n",
    "Scaling(df,columns_list)\n",
    "\n",
    "#Remove unnecessary columns \n",
    "to_drop = [\"funder\",\"installer\",\"payment\",\"payment_type\",\"wpt_name\",\"recorded_by\",\"num_private\",\"extraction_type\",\n",
    "           \"extraction_type_group\",\"scheme_management\",\"scheme_name\",\"management\",\n",
    "          \"quality_group\",\"quantity_group\",\"source\",\"public_meeting\",\"lga\",\"ward\",\n",
    "           \"subvillage\",\"region_code\",\"district_code\",\"date_recorded\",\"id\",'label',\n",
    "           \"waterpoint_type_group\",\"permit\",\"construction_year\",\"amount_tsh\"]\n",
    "df.drop(to_drop,inplace= True,axis =1)\n",
    "\n",
    "\n",
    "# transform Categotical variable to numeric variable\n",
    "df =pd.get_dummies(df,columns=[\"basin\",\"region\",\"extraction_type_class\",\"management_group\",\"payment_status\",\"water_quality\",\"quantity\",\"source_type\",\"source_class\",\n",
    "                                            \"waterpoint_type\",\"installer_group\",\"construction_year_new\",\"funder_group\",\"population_zero\"\n",
    "                                           ])\n",
    "\n",
    "\n",
    "df = df[['gps_height','longitude','latitude','population','basin_Internal',\n",
    " 'basin_Lake Nyasa','basin_Lake Rukwa', 'basin_Lake Tanganyika',\n",
    " 'basin_Lake Victoria', 'basin_Pangani', 'basin_Rufiji',\n",
    " 'basin_Ruvuma / Southern Coast', 'basin_Wami / Ruvu', 'region_Arusha',\n",
    " 'region_Dar es Salaam', 'region_Dodoma', 'region_Iringa', 'region_Kagera',\n",
    " 'region_Kigoma', 'region_Kilimanjaro', 'region_Lindi', 'region_Manyara',\n",
    " 'region_Mara', 'region_Mbeya', 'region_Morogoro', 'region_Mtwara',\n",
    " 'region_Mwanza', 'region_Pwani', 'region_Rukwa' ,'region_Ruvuma',\n",
    " 'region_Shinyanga', 'region_Singida', 'region_Tabora', 'region_Tanga',\n",
    " 'extraction_type_class_gravity', 'extraction_type_class_handpump',\n",
    " 'extraction_type_class_motorpump', 'extraction_type_class_other',\n",
    " 'extraction_type_class_rope pump' ,'extraction_type_class_submersible',\n",
    " 'extraction_type_class_wind-powered', 'management_group_commercial',\n",
    " 'management_group_other', 'management_group_parastatal',\n",
    " 'management_group_unknown' ,'management_group_user-group',\n",
    " 'payment_status_NeverPay', 'payment_status_Pay', 'payment_status_Unknown',\n",
    " 'water_quality_coloured', 'water_quality_fluoride',\n",
    " 'water_quality_fluoride abandoned', 'water_quality_milky',\n",
    " 'water_quality_salty', 'water_quality_salty abandoned',\n",
    " 'water_quality_soft', 'water_quality_unknown', 'quantity_dry',\n",
    " 'quantity_enough', 'quantity_insufficient', 'quantity_seasonal',\n",
    " 'quantity_unknown', 'source_type_borehole', 'source_type_dam',\n",
    " 'source_type_other' ,'source_type_rainwater harvesting',\n",
    " 'source_type_river/lake', 'source_type_shallow well', 'source_type_spring',\n",
    " 'source_class_groundwater', 'source_class_surface', 'source_class_unknown',\n",
    " 'waterpoint_type_cattle trough', 'waterpoint_type_communal standpipe',\n",
    " 'waterpoint_type_communal standpipe multiple', 'waterpoint_type_dam',\n",
    " 'waterpoint_type_hand pump', 'waterpoint_type_improved spring',\n",
    " 'waterpoint_type_other' ,'installer_group_central gov',\n",
    " 'installer_group_commu', 'installer_group_danida', 'installer_group_dwe',\n",
    " 'installer_group_gov', 'installer_group_hesewa', 'installer_group_kkkt',\n",
    " 'installer_group_others', 'installer_group_rwe', 'installer_group_tcrs',\n",
    " 'installer_group_unknown' ,'construction_year_new_00s',\n",
    " 'construction_year_new_10s', 'construction_year_new_60s',\n",
    " 'construction_year_new_70s', 'construction_year_new_80s',\n",
    " 'construction_year_new_90s', 'construction_year_new_unknown',\n",
    " 'funder_group_central gov', 'funder_group_commu' ,'funder_group_danida',\n",
    " 'funder_group_dwe', 'funder_group_gov', 'funder_group_hesewa',\n",
    " 'funder_group_kkkt', 'funder_group_others', 'funder_group_rwe',\n",
    " 'funder_group_tcrs', 'funder_group_unknown', 'population_zero_0',\n",
    " 'population_zero_1',\"status_group\"]]\n",
    "\n",
    "# MOMO\n",
    "# do something with missing data ( gps, popluration, water amount)\n"
   ]
  },
  {
   "cell_type": "code",
   "execution_count": 24,
   "metadata": {},
   "outputs": [],
   "source": [
    "# filling space in columns' name with under score\n",
    "\n",
    "df.columns = [c.replace(' ', '_') for c in df.columns]"
   ]
  },
  {
   "cell_type": "code",
   "execution_count": 25,
   "metadata": {},
   "outputs": [
    {
     "data": {
      "text/html": [
       "<div>\n",
       "<style scoped>\n",
       "    .dataframe tbody tr th:only-of-type {\n",
       "        vertical-align: middle;\n",
       "    }\n",
       "\n",
       "    .dataframe tbody tr th {\n",
       "        vertical-align: top;\n",
       "    }\n",
       "\n",
       "    .dataframe thead th {\n",
       "        text-align: right;\n",
       "    }\n",
       "</style>\n",
       "<table border=\"1\" class=\"dataframe\">\n",
       "  <thead>\n",
       "    <tr style=\"text-align: right;\">\n",
       "      <th></th>\n",
       "      <th>gps_height</th>\n",
       "      <th>longitude</th>\n",
       "      <th>latitude</th>\n",
       "      <th>population</th>\n",
       "      <th>basin_Internal</th>\n",
       "      <th>basin_Lake_Nyasa</th>\n",
       "      <th>basin_Lake_Rukwa</th>\n",
       "      <th>basin_Lake_Tanganyika</th>\n",
       "      <th>basin_Lake_Victoria</th>\n",
       "      <th>basin_Pangani</th>\n",
       "      <th>...</th>\n",
       "      <th>funder_group_gov</th>\n",
       "      <th>funder_group_hesewa</th>\n",
       "      <th>funder_group_kkkt</th>\n",
       "      <th>funder_group_others</th>\n",
       "      <th>funder_group_rwe</th>\n",
       "      <th>funder_group_tcrs</th>\n",
       "      <th>funder_group_unknown</th>\n",
       "      <th>population_zero_0</th>\n",
       "      <th>population_zero_1</th>\n",
       "      <th>status_group</th>\n",
       "    </tr>\n",
       "  </thead>\n",
       "  <tbody>\n",
       "    <tr>\n",
       "      <th>0</th>\n",
       "      <td>0.653165</td>\n",
       "      <td>-0.079198</td>\n",
       "      <td>-1.408791</td>\n",
       "      <td>-0.150399</td>\n",
       "      <td>0</td>\n",
       "      <td>1</td>\n",
       "      <td>0</td>\n",
       "      <td>0</td>\n",
       "      <td>0</td>\n",
       "      <td>0</td>\n",
       "      <td>...</td>\n",
       "      <td>0</td>\n",
       "      <td>0</td>\n",
       "      <td>0</td>\n",
       "      <td>1</td>\n",
       "      <td>0</td>\n",
       "      <td>0</td>\n",
       "      <td>0</td>\n",
       "      <td>1</td>\n",
       "      <td>0</td>\n",
       "      <td>functional</td>\n",
       "    </tr>\n",
       "    <tr>\n",
       "      <th>1</th>\n",
       "      <td>0.671010</td>\n",
       "      <td>-0.172375</td>\n",
       "      <td>1.207934</td>\n",
       "      <td>0.212290</td>\n",
       "      <td>0</td>\n",
       "      <td>0</td>\n",
       "      <td>0</td>\n",
       "      <td>0</td>\n",
       "      <td>1</td>\n",
       "      <td>0</td>\n",
       "      <td>...</td>\n",
       "      <td>0</td>\n",
       "      <td>0</td>\n",
       "      <td>0</td>\n",
       "      <td>1</td>\n",
       "      <td>0</td>\n",
       "      <td>0</td>\n",
       "      <td>0</td>\n",
       "      <td>1</td>\n",
       "      <td>0</td>\n",
       "      <td>functional</td>\n",
       "    </tr>\n",
       "    <tr>\n",
       "      <th>2</th>\n",
       "      <td>-0.742690</td>\n",
       "      <td>0.902910</td>\n",
       "      <td>0.639751</td>\n",
       "      <td>0.148660</td>\n",
       "      <td>0</td>\n",
       "      <td>0</td>\n",
       "      <td>0</td>\n",
       "      <td>0</td>\n",
       "      <td>0</td>\n",
       "      <td>1</td>\n",
       "      <td>...</td>\n",
       "      <td>0</td>\n",
       "      <td>0</td>\n",
       "      <td>0</td>\n",
       "      <td>1</td>\n",
       "      <td>0</td>\n",
       "      <td>0</td>\n",
       "      <td>0</td>\n",
       "      <td>1</td>\n",
       "      <td>0</td>\n",
       "      <td>functional</td>\n",
       "    </tr>\n",
       "    <tr>\n",
       "      <th>3</th>\n",
       "      <td>-1.581393</td>\n",
       "      <td>1.302165</td>\n",
       "      <td>-1.849720</td>\n",
       "      <td>-0.258570</td>\n",
       "      <td>0</td>\n",
       "      <td>0</td>\n",
       "      <td>0</td>\n",
       "      <td>0</td>\n",
       "      <td>0</td>\n",
       "      <td>0</td>\n",
       "      <td>...</td>\n",
       "      <td>0</td>\n",
       "      <td>0</td>\n",
       "      <td>0</td>\n",
       "      <td>1</td>\n",
       "      <td>0</td>\n",
       "      <td>0</td>\n",
       "      <td>0</td>\n",
       "      <td>1</td>\n",
       "      <td>0</td>\n",
       "      <td>non functional</td>\n",
       "    </tr>\n",
       "    <tr>\n",
       "      <th>4</th>\n",
       "      <td>0.373597</td>\n",
       "      <td>-1.561466</td>\n",
       "      <td>1.317271</td>\n",
       "      <td>-0.381587</td>\n",
       "      <td>0</td>\n",
       "      <td>0</td>\n",
       "      <td>0</td>\n",
       "      <td>0</td>\n",
       "      <td>1</td>\n",
       "      <td>0</td>\n",
       "      <td>...</td>\n",
       "      <td>0</td>\n",
       "      <td>0</td>\n",
       "      <td>0</td>\n",
       "      <td>1</td>\n",
       "      <td>0</td>\n",
       "      <td>0</td>\n",
       "      <td>0</td>\n",
       "      <td>0</td>\n",
       "      <td>1</td>\n",
       "      <td>functional</td>\n",
       "    </tr>\n",
       "    <tr>\n",
       "      <th>...</th>\n",
       "      <td>...</td>\n",
       "      <td>...</td>\n",
       "      <td>...</td>\n",
       "      <td>...</td>\n",
       "      <td>...</td>\n",
       "      <td>...</td>\n",
       "      <td>...</td>\n",
       "      <td>...</td>\n",
       "      <td>...</td>\n",
       "      <td>...</td>\n",
       "      <td>...</td>\n",
       "      <td>...</td>\n",
       "      <td>...</td>\n",
       "      <td>...</td>\n",
       "      <td>...</td>\n",
       "      <td>...</td>\n",
       "      <td>...</td>\n",
       "      <td>...</td>\n",
       "      <td>...</td>\n",
       "      <td>...</td>\n",
       "      <td>...</td>\n",
       "    </tr>\n",
       "    <tr>\n",
       "      <th>59395</th>\n",
       "      <td>0.296270</td>\n",
       "      <td>0.789671</td>\n",
       "      <td>0.832379</td>\n",
       "      <td>-0.116463</td>\n",
       "      <td>0</td>\n",
       "      <td>0</td>\n",
       "      <td>0</td>\n",
       "      <td>0</td>\n",
       "      <td>0</td>\n",
       "      <td>1</td>\n",
       "      <td>...</td>\n",
       "      <td>0</td>\n",
       "      <td>0</td>\n",
       "      <td>0</td>\n",
       "      <td>1</td>\n",
       "      <td>0</td>\n",
       "      <td>0</td>\n",
       "      <td>0</td>\n",
       "      <td>1</td>\n",
       "      <td>0</td>\n",
       "      <td>functional</td>\n",
       "    </tr>\n",
       "    <tr>\n",
       "      <th>59396</th>\n",
       "      <td>0.300236</td>\n",
       "      <td>0.042233</td>\n",
       "      <td>-1.142092</td>\n",
       "      <td>-0.262812</td>\n",
       "      <td>0</td>\n",
       "      <td>0</td>\n",
       "      <td>0</td>\n",
       "      <td>0</td>\n",
       "      <td>0</td>\n",
       "      <td>0</td>\n",
       "      <td>...</td>\n",
       "      <td>0</td>\n",
       "      <td>0</td>\n",
       "      <td>0</td>\n",
       "      <td>1</td>\n",
       "      <td>0</td>\n",
       "      <td>0</td>\n",
       "      <td>0</td>\n",
       "      <td>1</td>\n",
       "      <td>0</td>\n",
       "      <td>functional</td>\n",
       "    </tr>\n",
       "    <tr>\n",
       "      <th>59397</th>\n",
       "      <td>0.373597</td>\n",
       "      <td>-0.437772</td>\n",
       "      <td>-1.033404</td>\n",
       "      <td>-0.381587</td>\n",
       "      <td>0</td>\n",
       "      <td>0</td>\n",
       "      <td>0</td>\n",
       "      <td>0</td>\n",
       "      <td>0</td>\n",
       "      <td>0</td>\n",
       "      <td>...</td>\n",
       "      <td>0</td>\n",
       "      <td>0</td>\n",
       "      <td>0</td>\n",
       "      <td>1</td>\n",
       "      <td>0</td>\n",
       "      <td>0</td>\n",
       "      <td>0</td>\n",
       "      <td>0</td>\n",
       "      <td>1</td>\n",
       "      <td>functional</td>\n",
       "    </tr>\n",
       "    <tr>\n",
       "      <th>59398</th>\n",
       "      <td>0.373597</td>\n",
       "      <td>0.280239</td>\n",
       "      <td>-0.228290</td>\n",
       "      <td>-0.381587</td>\n",
       "      <td>0</td>\n",
       "      <td>0</td>\n",
       "      <td>0</td>\n",
       "      <td>0</td>\n",
       "      <td>0</td>\n",
       "      <td>0</td>\n",
       "      <td>...</td>\n",
       "      <td>0</td>\n",
       "      <td>0</td>\n",
       "      <td>0</td>\n",
       "      <td>1</td>\n",
       "      <td>0</td>\n",
       "      <td>0</td>\n",
       "      <td>0</td>\n",
       "      <td>0</td>\n",
       "      <td>1</td>\n",
       "      <td>functional</td>\n",
       "    </tr>\n",
       "    <tr>\n",
       "      <th>59399</th>\n",
       "      <td>-1.724151</td>\n",
       "      <td>1.153398</td>\n",
       "      <td>-0.353508</td>\n",
       "      <td>-0.063439</td>\n",
       "      <td>0</td>\n",
       "      <td>0</td>\n",
       "      <td>0</td>\n",
       "      <td>0</td>\n",
       "      <td>0</td>\n",
       "      <td>0</td>\n",
       "      <td>...</td>\n",
       "      <td>0</td>\n",
       "      <td>0</td>\n",
       "      <td>0</td>\n",
       "      <td>1</td>\n",
       "      <td>0</td>\n",
       "      <td>0</td>\n",
       "      <td>0</td>\n",
       "      <td>1</td>\n",
       "      <td>0</td>\n",
       "      <td>functional</td>\n",
       "    </tr>\n",
       "  </tbody>\n",
       "</table>\n",
       "<p>59400 rows × 111 columns</p>\n",
       "</div>"
      ],
      "text/plain": [
       "       gps_height  longitude  latitude  population  basin_Internal  \\\n",
       "0        0.653165  -0.079198 -1.408791   -0.150399               0   \n",
       "1        0.671010  -0.172375  1.207934    0.212290               0   \n",
       "2       -0.742690   0.902910  0.639751    0.148660               0   \n",
       "3       -1.581393   1.302165 -1.849720   -0.258570               0   \n",
       "4        0.373597  -1.561466  1.317271   -0.381587               0   \n",
       "...           ...        ...       ...         ...             ...   \n",
       "59395    0.296270   0.789671  0.832379   -0.116463               0   \n",
       "59396    0.300236   0.042233 -1.142092   -0.262812               0   \n",
       "59397    0.373597  -0.437772 -1.033404   -0.381587               0   \n",
       "59398    0.373597   0.280239 -0.228290   -0.381587               0   \n",
       "59399   -1.724151   1.153398 -0.353508   -0.063439               0   \n",
       "\n",
       "       basin_Lake_Nyasa  basin_Lake_Rukwa  basin_Lake_Tanganyika  \\\n",
       "0                     1                 0                      0   \n",
       "1                     0                 0                      0   \n",
       "2                     0                 0                      0   \n",
       "3                     0                 0                      0   \n",
       "4                     0                 0                      0   \n",
       "...                 ...               ...                    ...   \n",
       "59395                 0                 0                      0   \n",
       "59396                 0                 0                      0   \n",
       "59397                 0                 0                      0   \n",
       "59398                 0                 0                      0   \n",
       "59399                 0                 0                      0   \n",
       "\n",
       "       basin_Lake_Victoria  basin_Pangani  ...  funder_group_gov  \\\n",
       "0                        0              0  ...                 0   \n",
       "1                        1              0  ...                 0   \n",
       "2                        0              1  ...                 0   \n",
       "3                        0              0  ...                 0   \n",
       "4                        1              0  ...                 0   \n",
       "...                    ...            ...  ...               ...   \n",
       "59395                    0              1  ...                 0   \n",
       "59396                    0              0  ...                 0   \n",
       "59397                    0              0  ...                 0   \n",
       "59398                    0              0  ...                 0   \n",
       "59399                    0              0  ...                 0   \n",
       "\n",
       "       funder_group_hesewa  funder_group_kkkt  funder_group_others  \\\n",
       "0                        0                  0                    1   \n",
       "1                        0                  0                    1   \n",
       "2                        0                  0                    1   \n",
       "3                        0                  0                    1   \n",
       "4                        0                  0                    1   \n",
       "...                    ...                ...                  ...   \n",
       "59395                    0                  0                    1   \n",
       "59396                    0                  0                    1   \n",
       "59397                    0                  0                    1   \n",
       "59398                    0                  0                    1   \n",
       "59399                    0                  0                    1   \n",
       "\n",
       "       funder_group_rwe  funder_group_tcrs  funder_group_unknown  \\\n",
       "0                     0                  0                     0   \n",
       "1                     0                  0                     0   \n",
       "2                     0                  0                     0   \n",
       "3                     0                  0                     0   \n",
       "4                     0                  0                     0   \n",
       "...                 ...                ...                   ...   \n",
       "59395                 0                  0                     0   \n",
       "59396                 0                  0                     0   \n",
       "59397                 0                  0                     0   \n",
       "59398                 0                  0                     0   \n",
       "59399                 0                  0                     0   \n",
       "\n",
       "       population_zero_0  population_zero_1    status_group  \n",
       "0                      1                  0      functional  \n",
       "1                      1                  0      functional  \n",
       "2                      1                  0      functional  \n",
       "3                      1                  0  non functional  \n",
       "4                      0                  1      functional  \n",
       "...                  ...                ...             ...  \n",
       "59395                  1                  0      functional  \n",
       "59396                  1                  0      functional  \n",
       "59397                  0                  1      functional  \n",
       "59398                  0                  1      functional  \n",
       "59399                  1                  0      functional  \n",
       "\n",
       "[59400 rows x 111 columns]"
      ]
     },
     "execution_count": 25,
     "metadata": {},
     "output_type": "execute_result"
    }
   ],
   "source": [
    "df"
   ]
  },
  {
   "cell_type": "code",
   "execution_count": 26,
   "metadata": {},
   "outputs": [],
   "source": [
    "# Feature selection \n",
    "X = df.iloc[0:59400,0:110]\n",
    "y= df[['status_group']]"
   ]
  },
  {
   "cell_type": "code",
   "execution_count": 27,
   "metadata": {},
   "outputs": [],
   "source": [
    "from sklearn.model_selection import train_test_split\n",
    "from imblearn.combine import SMOTEENN"
   ]
  },
  {
   "cell_type": "code",
   "execution_count": 28,
   "metadata": {},
   "outputs": [],
   "source": [
    "X_train, X_test, y_train, y_test = train_test_split(X, y, test_size=0.2, random_state=42)"
   ]
  },
  {
   "cell_type": "code",
   "execution_count": 29,
   "metadata": {},
   "outputs": [
    {
     "name": "stdout",
     "output_type": "stream",
     "text": [
      "47520\n",
      "47520\n",
      "11880\n",
      "11880\n"
     ]
    }
   ],
   "source": [
    "print(len(X_train))\n",
    "print(len(y_train))\n",
    "print(len(X_test))\n",
    "print(len(y_test))"
   ]
  },
  {
   "cell_type": "code",
   "execution_count": 30,
   "metadata": {},
   "outputs": [
    {
     "data": {
      "text/html": [
       "<div>\n",
       "<style scoped>\n",
       "    .dataframe tbody tr th:only-of-type {\n",
       "        vertical-align: middle;\n",
       "    }\n",
       "\n",
       "    .dataframe tbody tr th {\n",
       "        vertical-align: top;\n",
       "    }\n",
       "\n",
       "    .dataframe thead th {\n",
       "        text-align: right;\n",
       "    }\n",
       "</style>\n",
       "<table border=\"1\" class=\"dataframe\">\n",
       "  <thead>\n",
       "    <tr style=\"text-align: right;\">\n",
       "      <th></th>\n",
       "      <th>status_group</th>\n",
       "    </tr>\n",
       "  </thead>\n",
       "  <tbody>\n",
       "    <tr>\n",
       "      <th>3607</th>\n",
       "      <td>functional</td>\n",
       "    </tr>\n",
       "    <tr>\n",
       "      <th>50870</th>\n",
       "      <td>functional</td>\n",
       "    </tr>\n",
       "    <tr>\n",
       "      <th>20413</th>\n",
       "      <td>non functional</td>\n",
       "    </tr>\n",
       "    <tr>\n",
       "      <th>52806</th>\n",
       "      <td>non functional</td>\n",
       "    </tr>\n",
       "    <tr>\n",
       "      <th>50091</th>\n",
       "      <td>non functional</td>\n",
       "    </tr>\n",
       "    <tr>\n",
       "      <th>...</th>\n",
       "      <td>...</td>\n",
       "    </tr>\n",
       "    <tr>\n",
       "      <th>54343</th>\n",
       "      <td>functional</td>\n",
       "    </tr>\n",
       "    <tr>\n",
       "      <th>38158</th>\n",
       "      <td>functional</td>\n",
       "    </tr>\n",
       "    <tr>\n",
       "      <th>860</th>\n",
       "      <td>non functional</td>\n",
       "    </tr>\n",
       "    <tr>\n",
       "      <th>15795</th>\n",
       "      <td>functional</td>\n",
       "    </tr>\n",
       "    <tr>\n",
       "      <th>56422</th>\n",
       "      <td>non functional</td>\n",
       "    </tr>\n",
       "  </tbody>\n",
       "</table>\n",
       "<p>47520 rows × 1 columns</p>\n",
       "</div>"
      ],
      "text/plain": [
       "         status_group\n",
       "3607       functional\n",
       "50870      functional\n",
       "20413  non functional\n",
       "52806  non functional\n",
       "50091  non functional\n",
       "...               ...\n",
       "54343      functional\n",
       "38158      functional\n",
       "860    non functional\n",
       "15795      functional\n",
       "56422  non functional\n",
       "\n",
       "[47520 rows x 1 columns]"
      ]
     },
     "execution_count": 30,
     "metadata": {},
     "output_type": "execute_result"
    }
   ],
   "source": [
    "y_train"
   ]
  },
  {
   "cell_type": "code",
   "execution_count": 31,
   "metadata": {},
   "outputs": [
    {
     "data": {
      "text/html": [
       "<div>\n",
       "<style scoped>\n",
       "    .dataframe tbody tr th:only-of-type {\n",
       "        vertical-align: middle;\n",
       "    }\n",
       "\n",
       "    .dataframe tbody tr th {\n",
       "        vertical-align: top;\n",
       "    }\n",
       "\n",
       "    .dataframe thead th {\n",
       "        text-align: right;\n",
       "    }\n",
       "</style>\n",
       "<table border=\"1\" class=\"dataframe\">\n",
       "  <thead>\n",
       "    <tr style=\"text-align: right;\">\n",
       "      <th></th>\n",
       "      <th>status_group_functional</th>\n",
       "      <th>status_group_functional needs repair</th>\n",
       "      <th>status_group_non functional</th>\n",
       "    </tr>\n",
       "  </thead>\n",
       "  <tbody>\n",
       "    <tr>\n",
       "      <th>3607</th>\n",
       "      <td>1</td>\n",
       "      <td>0</td>\n",
       "      <td>0</td>\n",
       "    </tr>\n",
       "    <tr>\n",
       "      <th>50870</th>\n",
       "      <td>1</td>\n",
       "      <td>0</td>\n",
       "      <td>0</td>\n",
       "    </tr>\n",
       "    <tr>\n",
       "      <th>20413</th>\n",
       "      <td>0</td>\n",
       "      <td>0</td>\n",
       "      <td>1</td>\n",
       "    </tr>\n",
       "    <tr>\n",
       "      <th>52806</th>\n",
       "      <td>0</td>\n",
       "      <td>0</td>\n",
       "      <td>1</td>\n",
       "    </tr>\n",
       "    <tr>\n",
       "      <th>50091</th>\n",
       "      <td>0</td>\n",
       "      <td>0</td>\n",
       "      <td>1</td>\n",
       "    </tr>\n",
       "    <tr>\n",
       "      <th>...</th>\n",
       "      <td>...</td>\n",
       "      <td>...</td>\n",
       "      <td>...</td>\n",
       "    </tr>\n",
       "    <tr>\n",
       "      <th>54343</th>\n",
       "      <td>1</td>\n",
       "      <td>0</td>\n",
       "      <td>0</td>\n",
       "    </tr>\n",
       "    <tr>\n",
       "      <th>38158</th>\n",
       "      <td>1</td>\n",
       "      <td>0</td>\n",
       "      <td>0</td>\n",
       "    </tr>\n",
       "    <tr>\n",
       "      <th>860</th>\n",
       "      <td>0</td>\n",
       "      <td>0</td>\n",
       "      <td>1</td>\n",
       "    </tr>\n",
       "    <tr>\n",
       "      <th>15795</th>\n",
       "      <td>1</td>\n",
       "      <td>0</td>\n",
       "      <td>0</td>\n",
       "    </tr>\n",
       "    <tr>\n",
       "      <th>56422</th>\n",
       "      <td>0</td>\n",
       "      <td>0</td>\n",
       "      <td>1</td>\n",
       "    </tr>\n",
       "  </tbody>\n",
       "</table>\n",
       "<p>47520 rows × 3 columns</p>\n",
       "</div>"
      ],
      "text/plain": [
       "       status_group_functional  status_group_functional needs repair  \\\n",
       "3607                         1                                     0   \n",
       "50870                        1                                     0   \n",
       "20413                        0                                     0   \n",
       "52806                        0                                     0   \n",
       "50091                        0                                     0   \n",
       "...                        ...                                   ...   \n",
       "54343                        1                                     0   \n",
       "38158                        1                                     0   \n",
       "860                          0                                     0   \n",
       "15795                        1                                     0   \n",
       "56422                        0                                     0   \n",
       "\n",
       "       status_group_non functional  \n",
       "3607                             0  \n",
       "50870                            0  \n",
       "20413                            1  \n",
       "52806                            1  \n",
       "50091                            1  \n",
       "...                            ...  \n",
       "54343                            0  \n",
       "38158                            0  \n",
       "860                              1  \n",
       "15795                            0  \n",
       "56422                            1  \n",
       "\n",
       "[47520 rows x 3 columns]"
      ]
     },
     "execution_count": 31,
     "metadata": {},
     "output_type": "execute_result"
    }
   ],
   "source": [
    "# change y_train data type for randomisesearch \n",
    "\n",
    "y_train_dum =pd.get_dummies(y_train)\n",
    "y_train_dum"
   ]
  },
  {
   "cell_type": "code",
   "execution_count": 32,
   "metadata": {},
   "outputs": [
    {
     "data": {
      "text/plain": [
       "array([[1, 0, 0],\n",
       "       [1, 0, 0],\n",
       "       [0, 0, 1],\n",
       "       ...,\n",
       "       [0, 0, 1],\n",
       "       [1, 0, 0],\n",
       "       [0, 0, 1]])"
      ]
     },
     "execution_count": 32,
     "metadata": {},
     "output_type": "execute_result"
    }
   ],
   "source": [
    "y_train_dum = preprocessing.label_binarize(y_train_dum, classes=[0, 1, 2])\n",
    "y_train_dum"
   ]
  },
  {
   "cell_type": "code",
   "execution_count": 33,
   "metadata": {},
   "outputs": [
    {
     "data": {
      "text/plain": [
       "47520"
      ]
     },
     "execution_count": 33,
     "metadata": {},
     "output_type": "execute_result"
    }
   ],
   "source": [
    "len(y_train_dum)"
   ]
  },
  {
   "cell_type": "code",
   "execution_count": 34,
   "metadata": {},
   "outputs": [
    {
     "data": {
      "text/html": [
       "<div>\n",
       "<style scoped>\n",
       "    .dataframe tbody tr th:only-of-type {\n",
       "        vertical-align: middle;\n",
       "    }\n",
       "\n",
       "    .dataframe tbody tr th {\n",
       "        vertical-align: top;\n",
       "    }\n",
       "\n",
       "    .dataframe thead th {\n",
       "        text-align: right;\n",
       "    }\n",
       "</style>\n",
       "<table border=\"1\" class=\"dataframe\">\n",
       "  <thead>\n",
       "    <tr style=\"text-align: right;\">\n",
       "      <th></th>\n",
       "      <th>status_group</th>\n",
       "    </tr>\n",
       "  </thead>\n",
       "  <tbody>\n",
       "    <tr>\n",
       "      <th>2980</th>\n",
       "      <td>non functional</td>\n",
       "    </tr>\n",
       "    <tr>\n",
       "      <th>5246</th>\n",
       "      <td>functional</td>\n",
       "    </tr>\n",
       "    <tr>\n",
       "      <th>22659</th>\n",
       "      <td>functional</td>\n",
       "    </tr>\n",
       "    <tr>\n",
       "      <th>39888</th>\n",
       "      <td>non functional</td>\n",
       "    </tr>\n",
       "    <tr>\n",
       "      <th>13361</th>\n",
       "      <td>functional</td>\n",
       "    </tr>\n",
       "    <tr>\n",
       "      <th>...</th>\n",
       "      <td>...</td>\n",
       "    </tr>\n",
       "    <tr>\n",
       "      <th>17841</th>\n",
       "      <td>functional</td>\n",
       "    </tr>\n",
       "    <tr>\n",
       "      <th>20222</th>\n",
       "      <td>functional</td>\n",
       "    </tr>\n",
       "    <tr>\n",
       "      <th>40219</th>\n",
       "      <td>non functional</td>\n",
       "    </tr>\n",
       "    <tr>\n",
       "      <th>19599</th>\n",
       "      <td>functional</td>\n",
       "    </tr>\n",
       "    <tr>\n",
       "      <th>41264</th>\n",
       "      <td>functional</td>\n",
       "    </tr>\n",
       "  </tbody>\n",
       "</table>\n",
       "<p>11880 rows × 1 columns</p>\n",
       "</div>"
      ],
      "text/plain": [
       "         status_group\n",
       "2980   non functional\n",
       "5246       functional\n",
       "22659      functional\n",
       "39888  non functional\n",
       "13361      functional\n",
       "...               ...\n",
       "17841      functional\n",
       "20222      functional\n",
       "40219  non functional\n",
       "19599      functional\n",
       "41264      functional\n",
       "\n",
       "[11880 rows x 1 columns]"
      ]
     },
     "execution_count": 34,
     "metadata": {},
     "output_type": "execute_result"
    }
   ],
   "source": [
    "y_test"
   ]
  },
  {
   "cell_type": "code",
   "execution_count": 35,
   "metadata": {},
   "outputs": [
    {
     "data": {
      "text/html": [
       "<div>\n",
       "<style scoped>\n",
       "    .dataframe tbody tr th:only-of-type {\n",
       "        vertical-align: middle;\n",
       "    }\n",
       "\n",
       "    .dataframe tbody tr th {\n",
       "        vertical-align: top;\n",
       "    }\n",
       "\n",
       "    .dataframe thead th {\n",
       "        text-align: right;\n",
       "    }\n",
       "</style>\n",
       "<table border=\"1\" class=\"dataframe\">\n",
       "  <thead>\n",
       "    <tr style=\"text-align: right;\">\n",
       "      <th></th>\n",
       "      <th>status_group_functional</th>\n",
       "      <th>status_group_functional needs repair</th>\n",
       "      <th>status_group_non functional</th>\n",
       "    </tr>\n",
       "  </thead>\n",
       "  <tbody>\n",
       "    <tr>\n",
       "      <th>2980</th>\n",
       "      <td>0</td>\n",
       "      <td>0</td>\n",
       "      <td>1</td>\n",
       "    </tr>\n",
       "    <tr>\n",
       "      <th>5246</th>\n",
       "      <td>1</td>\n",
       "      <td>0</td>\n",
       "      <td>0</td>\n",
       "    </tr>\n",
       "    <tr>\n",
       "      <th>22659</th>\n",
       "      <td>1</td>\n",
       "      <td>0</td>\n",
       "      <td>0</td>\n",
       "    </tr>\n",
       "    <tr>\n",
       "      <th>39888</th>\n",
       "      <td>0</td>\n",
       "      <td>0</td>\n",
       "      <td>1</td>\n",
       "    </tr>\n",
       "    <tr>\n",
       "      <th>13361</th>\n",
       "      <td>1</td>\n",
       "      <td>0</td>\n",
       "      <td>0</td>\n",
       "    </tr>\n",
       "    <tr>\n",
       "      <th>...</th>\n",
       "      <td>...</td>\n",
       "      <td>...</td>\n",
       "      <td>...</td>\n",
       "    </tr>\n",
       "    <tr>\n",
       "      <th>17841</th>\n",
       "      <td>1</td>\n",
       "      <td>0</td>\n",
       "      <td>0</td>\n",
       "    </tr>\n",
       "    <tr>\n",
       "      <th>20222</th>\n",
       "      <td>1</td>\n",
       "      <td>0</td>\n",
       "      <td>0</td>\n",
       "    </tr>\n",
       "    <tr>\n",
       "      <th>40219</th>\n",
       "      <td>0</td>\n",
       "      <td>0</td>\n",
       "      <td>1</td>\n",
       "    </tr>\n",
       "    <tr>\n",
       "      <th>19599</th>\n",
       "      <td>1</td>\n",
       "      <td>0</td>\n",
       "      <td>0</td>\n",
       "    </tr>\n",
       "    <tr>\n",
       "      <th>41264</th>\n",
       "      <td>1</td>\n",
       "      <td>0</td>\n",
       "      <td>0</td>\n",
       "    </tr>\n",
       "  </tbody>\n",
       "</table>\n",
       "<p>11880 rows × 3 columns</p>\n",
       "</div>"
      ],
      "text/plain": [
       "       status_group_functional  status_group_functional needs repair  \\\n",
       "2980                         0                                     0   \n",
       "5246                         1                                     0   \n",
       "22659                        1                                     0   \n",
       "39888                        0                                     0   \n",
       "13361                        1                                     0   \n",
       "...                        ...                                   ...   \n",
       "17841                        1                                     0   \n",
       "20222                        1                                     0   \n",
       "40219                        0                                     0   \n",
       "19599                        1                                     0   \n",
       "41264                        1                                     0   \n",
       "\n",
       "       status_group_non functional  \n",
       "2980                             1  \n",
       "5246                             0  \n",
       "22659                            0  \n",
       "39888                            1  \n",
       "13361                            0  \n",
       "...                            ...  \n",
       "17841                            0  \n",
       "20222                            0  \n",
       "40219                            1  \n",
       "19599                            0  \n",
       "41264                            0  \n",
       "\n",
       "[11880 rows x 3 columns]"
      ]
     },
     "execution_count": 35,
     "metadata": {},
     "output_type": "execute_result"
    }
   ],
   "source": [
    "y_test_dum =pd.get_dummies(y_test)\n",
    "y_test_dum"
   ]
  },
  {
   "cell_type": "code",
   "execution_count": 36,
   "metadata": {},
   "outputs": [
    {
     "data": {
      "text/plain": [
       "array([[0, 0, 1],\n",
       "       [1, 0, 0],\n",
       "       [1, 0, 0],\n",
       "       ...,\n",
       "       [0, 0, 1],\n",
       "       [1, 0, 0],\n",
       "       [1, 0, 0]])"
      ]
     },
     "execution_count": 36,
     "metadata": {},
     "output_type": "execute_result"
    }
   ],
   "source": [
    "y_test_dum = preprocessing.label_binarize(y_test_dum, classes=[0, 1, 2])\n",
    "y_test_dum"
   ]
  },
  {
   "cell_type": "code",
   "execution_count": 37,
   "metadata": {},
   "outputs": [
    {
     "data": {
      "text/plain": [
       "11880"
      ]
     },
     "execution_count": 37,
     "metadata": {},
     "output_type": "execute_result"
    }
   ],
   "source": [
    "len(y_test_dum)"
   ]
  },
  {
   "cell_type": "code",
   "execution_count": null,
   "metadata": {},
   "outputs": [],
   "source": []
  },
  {
   "cell_type": "code",
   "execution_count": null,
   "metadata": {},
   "outputs": [],
   "source": []
  },
  {
   "cell_type": "code",
   "execution_count": 38,
   "metadata": {},
   "outputs": [],
   "source": [
    "def data_resampling(X_train,y_train_dum, test_percentage=0.2):\n",
    "    smote_enn = SMOTEENN(random_state=0)\n",
    "    X_train_resampled, y_train_resampled = smote_enn.fit_resample(X_train, y_train_dum)\n",
    "    return X_train_resampled, y_train_resampled"
   ]
  },
  {
   "cell_type": "code",
   "execution_count": 39,
   "metadata": {},
   "outputs": [],
   "source": [
    "X_train_resampled, y_train_resampled = data_resampling(X_train,y_train_dum)"
   ]
  },
  {
   "cell_type": "markdown",
   "metadata": {},
   "source": [
    "# Resampling train and test for grid and randomised search"
   ]
  },
  {
   "cell_type": "code",
   "execution_count": 40,
   "metadata": {},
   "outputs": [
    {
     "name": "stdout",
     "output_type": "stream",
     "text": [
      "Resampled train datasets\n",
      "58760\n",
      "58760\n",
      "The train datasets without resampling\n",
      "47520\n",
      "47520\n"
     ]
    }
   ],
   "source": [
    "print(\"Resampled train datasets\")\n",
    "print(len(X_train_resampled))\n",
    "print(len(y_train_resampled))\n",
    "print(\"The train datasets without resampling\")\n",
    "print(len(X_train))\n",
    "print(len(y_train))"
   ]
  },
  {
   "cell_type": "code",
   "execution_count": 41,
   "metadata": {},
   "outputs": [
    {
     "name": "stdout",
     "output_type": "stream",
     "text": [
      "11880\n",
      "11880\n"
     ]
    }
   ],
   "source": [
    "print(len(X_test))\n",
    "print(len(y_test))"
   ]
  },
  {
   "cell_type": "code",
   "execution_count": 42,
   "metadata": {},
   "outputs": [
    {
     "name": "stdout",
     "output_type": "stream",
     "text": [
      "Resampled y labels\n",
      "17242\n",
      "22137\n",
      "19381\n",
      "The original y labels\n",
      "25802\n",
      "3466\n",
      "18252\n",
      "functional                 25802\n",
      "non functional             18252\n",
      "functional needs repair     3466\n",
      "Name: status_group, dtype: int64\n"
     ]
    }
   ],
   "source": [
    "print(\"Resampled y labels\")\n",
    "print(np.sum(y_train_resampled[:,0]))\n",
    "print(np.sum(y_train_resampled[:,1]))\n",
    "print(np.sum(y_train_resampled[:,2]))\n",
    "print(\"The original y labels\")\n",
    "print(np.sum(y_train_dum[:,0]))\n",
    "print(np.sum(y_train_dum[:,1]))\n",
    "print(np.sum(y_train_dum[:,2]))\n",
    "print(y_train.status_group.value_counts())"
   ]
  },
  {
   "cell_type": "markdown",
   "metadata": {},
   "source": [
    "# Resampling train and test for modeling"
   ]
  },
  {
   "cell_type": "code",
   "execution_count": 43,
   "metadata": {},
   "outputs": [],
   "source": [
    "def data_resampling(X_train,y_train, test_percentage=0.2):\n",
    "    smote_enn = SMOTEENN(random_state=0)\n",
    "    X_train_resampled, y_train_resampled = smote_enn.fit_resample(X_train, y_train)\n",
    "    return X_train_resampled, y_train_resampled"
   ]
  },
  {
   "cell_type": "code",
   "execution_count": 44,
   "metadata": {},
   "outputs": [],
   "source": [
    "X_train_resampled2, y_train_resampled2 = data_resampling(X_train,y_train)"
   ]
  },
  {
   "cell_type": "code",
   "execution_count": 45,
   "metadata": {},
   "outputs": [
    {
     "data": {
      "text/html": [
       "<div>\n",
       "<style scoped>\n",
       "    .dataframe tbody tr th:only-of-type {\n",
       "        vertical-align: middle;\n",
       "    }\n",
       "\n",
       "    .dataframe tbody tr th {\n",
       "        vertical-align: top;\n",
       "    }\n",
       "\n",
       "    .dataframe thead th {\n",
       "        text-align: right;\n",
       "    }\n",
       "</style>\n",
       "<table border=\"1\" class=\"dataframe\">\n",
       "  <thead>\n",
       "    <tr style=\"text-align: right;\">\n",
       "      <th></th>\n",
       "      <th>status_group</th>\n",
       "    </tr>\n",
       "  </thead>\n",
       "  <tbody>\n",
       "    <tr>\n",
       "      <th>0</th>\n",
       "      <td>functional</td>\n",
       "    </tr>\n",
       "    <tr>\n",
       "      <th>1</th>\n",
       "      <td>functional</td>\n",
       "    </tr>\n",
       "    <tr>\n",
       "      <th>2</th>\n",
       "      <td>functional</td>\n",
       "    </tr>\n",
       "    <tr>\n",
       "      <th>3</th>\n",
       "      <td>functional</td>\n",
       "    </tr>\n",
       "    <tr>\n",
       "      <th>4</th>\n",
       "      <td>functional</td>\n",
       "    </tr>\n",
       "    <tr>\n",
       "      <th>...</th>\n",
       "      <td>...</td>\n",
       "    </tr>\n",
       "    <tr>\n",
       "      <th>58755</th>\n",
       "      <td>non functional</td>\n",
       "    </tr>\n",
       "    <tr>\n",
       "      <th>58756</th>\n",
       "      <td>non functional</td>\n",
       "    </tr>\n",
       "    <tr>\n",
       "      <th>58757</th>\n",
       "      <td>non functional</td>\n",
       "    </tr>\n",
       "    <tr>\n",
       "      <th>58758</th>\n",
       "      <td>non functional</td>\n",
       "    </tr>\n",
       "    <tr>\n",
       "      <th>58759</th>\n",
       "      <td>non functional</td>\n",
       "    </tr>\n",
       "  </tbody>\n",
       "</table>\n",
       "<p>58760 rows × 1 columns</p>\n",
       "</div>"
      ],
      "text/plain": [
       "         status_group\n",
       "0          functional\n",
       "1          functional\n",
       "2          functional\n",
       "3          functional\n",
       "4          functional\n",
       "...               ...\n",
       "58755  non functional\n",
       "58756  non functional\n",
       "58757  non functional\n",
       "58758  non functional\n",
       "58759  non functional\n",
       "\n",
       "[58760 rows x 1 columns]"
      ]
     },
     "execution_count": 45,
     "metadata": {},
     "output_type": "execute_result"
    }
   ],
   "source": [
    "y_train_resampled2"
   ]
  },
  {
   "cell_type": "code",
   "execution_count": 46,
   "metadata": {},
   "outputs": [
    {
     "name": "stdout",
     "output_type": "stream",
     "text": [
      "58760\n",
      "58760\n"
     ]
    }
   ],
   "source": [
    "print(len(X_train_resampled2))\n",
    "print(len(y_train_resampled2))"
   ]
  },
  {
   "cell_type": "code",
   "execution_count": 47,
   "metadata": {},
   "outputs": [
    {
     "name": "stdout",
     "output_type": "stream",
     "text": [
      "functional needs repair    22137\n",
      "non functional             19381\n",
      "functional                 17242\n",
      "Name: status_group, dtype: int64\n"
     ]
    }
   ],
   "source": [
    "print(y_train_resampled2.status_group.value_counts())"
   ]
  },
  {
   "cell_type": "code",
   "execution_count": null,
   "metadata": {},
   "outputs": [],
   "source": []
  },
  {
   "cell_type": "code",
   "execution_count": null,
   "metadata": {},
   "outputs": [],
   "source": []
  },
  {
   "cell_type": "markdown",
   "metadata": {},
   "source": [
    "# from the link https://kiwidamien.github.io/how-to-do-cross-validation-when-upsampling-data.html\n",
    "\n",
    "# Creates folds manually, and upsamples within each fold. Returns an array of validation (recall) scores"
   ]
  },
  {
   "cell_type": "code",
   "execution_count": null,
   "metadata": {},
   "outputs": [],
   "source": []
  },
  {
   "cell_type": "code",
   "execution_count": null,
   "metadata": {},
   "outputs": [],
   "source": []
  },
  {
   "cell_type": "code",
   "execution_count": null,
   "metadata": {},
   "outputs": [],
   "source": []
  },
  {
   "cell_type": "code",
   "execution_count": 61,
   "metadata": {},
   "outputs": [],
   "source": [
    "from xgboost import XGBClassifier\n",
    "XGB =XGBClassifier()"
   ]
  },
  {
   "cell_type": "code",
   "execution_count": 63,
   "metadata": {},
   "outputs": [],
   "source": [
    "from sklearn.model_selection import cross_val_score\n",
    "from sklearn.metrics import classification_report\n",
    "from sklearn.metrics import accuracy_score"
   ]
  },
  {
   "cell_type": "code",
   "execution_count": 64,
   "metadata": {},
   "outputs": [
    {
     "name": "stderr",
     "output_type": "stream",
     "text": [
      "C:\\Users\\yuka\\Anaconda3\\lib\\site-packages\\sklearn\\preprocessing\\_label.py:235: DataConversionWarning: A column-vector y was passed when a 1d array was expected. Please change the shape of y to (n_samples, ), for example using ravel().\n",
      "  y = column_or_1d(y, warn=True)\n",
      "C:\\Users\\yuka\\Anaconda3\\lib\\site-packages\\sklearn\\preprocessing\\_label.py:268: DataConversionWarning: A column-vector y was passed when a 1d array was expected. Please change the shape of y to (n_samples, ), for example using ravel().\n",
      "  y = column_or_1d(y, warn=True)\n"
     ]
    },
    {
     "data": {
      "text/plain": [
       "array([0.81810463, 0.80938806, 0.80551056, 0.79654798, 0.81974877])"
      ]
     },
     "execution_count": 64,
     "metadata": {},
     "output_type": "execute_result"
    }
   ],
   "source": [
    "X_train, X_test, y_train, y_test = train_test_split(X, y, random_state=45)\n",
    "\n",
    "cross_val_score(XGB, X_train, y_train, cv=kf, scoring='f1_macro')"
   ]
  },
  {
   "cell_type": "code",
   "execution_count": 54,
   "metadata": {},
   "outputs": [],
   "source": [
    "from sklearn.model_selection import KFold"
   ]
  },
  {
   "cell_type": "code",
   "execution_count": 55,
   "metadata": {},
   "outputs": [
    {
     "name": "stderr",
     "output_type": "stream",
     "text": [
      "C:\\Users\\yuka\\Anaconda3\\lib\\site-packages\\sklearn\\model_selection\\_split.py:296: FutureWarning: Setting a random_state has no effect since shuffle is False. This will raise an error in 0.24. You should leave random_state to its default (None), or set shuffle=True.\n",
      "  FutureWarning\n"
     ]
    }
   ],
   "source": [
    "kf = KFold(n_splits=5, random_state=42, shuffle=False)"
   ]
  },
  {
   "cell_type": "code",
   "execution_count": 65,
   "metadata": {},
   "outputs": [],
   "source": [
    "from sklearn.model_selection import RandomizedSearchCV, GridSearchCV\n",
    "import xgboost\n",
    "from sklearn.multiclass import OneVsRestClassifier"
   ]
  },
  {
   "cell_type": "code",
   "execution_count": 72,
   "metadata": {},
   "outputs": [],
   "source": [
    "params = {'min_child_weight': [1],\n",
    " 'max_depth': [5,10,15],\n",
    " 'bootstrap': [True],\n",
    " 'booster': ['gbtree']}"
   ]
  },
  {
   "cell_type": "code",
   "execution_count": 73,
   "metadata": {},
   "outputs": [],
   "source": [
    "grid_no_up = GridSearchCV(XGB, param_grid=params, cv=kf, \n",
    "                          scoring='f1_macro').fit(X_train, y_train)"
   ]
  },
  {
   "cell_type": "code",
   "execution_count": 74,
   "metadata": {},
   "outputs": [
    {
     "data": {
      "text/plain": [
       "0.8132054831901684"
      ]
     },
     "execution_count": 74,
     "metadata": {},
     "output_type": "execute_result"
    }
   ],
   "source": [
    "grid_no_up.best_score_"
   ]
  },
  {
   "cell_type": "code",
   "execution_count": 75,
   "metadata": {},
   "outputs": [
    {
     "data": {
      "text/plain": [
       "{'booster': 'gbtree',\n",
       " 'bootstrap': True,\n",
       " 'max_depth': 10,\n",
       " 'min_child_weight': 1}"
      ]
     },
     "execution_count": 75,
     "metadata": {},
     "output_type": "execute_result"
    }
   ],
   "source": [
    "grid_no_up.best_params_"
   ]
  },
  {
   "cell_type": "code",
   "execution_count": 80,
   "metadata": {},
   "outputs": [],
   "source": [
    "from sklearn.metrics import f1_score"
   ]
  },
  {
   "cell_type": "code",
   "execution_count": 82,
   "metadata": {},
   "outputs": [
    {
     "data": {
      "text/plain": [
       "0.8751515151515151"
      ]
     },
     "execution_count": 82,
     "metadata": {},
     "output_type": "execute_result"
    }
   ],
   "source": [
    "f1_score(y_test, grid_no_up.predict(X_test),average='micro')"
   ]
  },
  {
   "cell_type": "code",
   "execution_count": null,
   "metadata": {},
   "outputs": [],
   "source": []
  },
  {
   "cell_type": "code",
   "execution_count": null,
   "metadata": {},
   "outputs": [],
   "source": []
  },
  {
   "cell_type": "code",
   "execution_count": 58,
   "metadata": {},
   "outputs": [],
   "source": [
    "from imblearn.over_sampling import SMOTE"
   ]
  },
  {
   "cell_type": "code",
   "execution_count": 76,
   "metadata": {},
   "outputs": [],
   "source": [
    "example_params = {'min_child_weight': [1],\n",
    " 'max_depth': [5,10,15],\n",
    " 'bootstrap': [True],\n",
    " 'booster': ['gbtree']}"
   ]
  },
  {
   "cell_type": "code",
   "execution_count": 79,
   "metadata": {},
   "outputs": [
    {
     "data": {
      "text/html": [
       "<div>\n",
       "<style scoped>\n",
       "    .dataframe tbody tr th:only-of-type {\n",
       "        vertical-align: middle;\n",
       "    }\n",
       "\n",
       "    .dataframe tbody tr th {\n",
       "        vertical-align: top;\n",
       "    }\n",
       "\n",
       "    .dataframe thead th {\n",
       "        text-align: right;\n",
       "    }\n",
       "</style>\n",
       "<table border=\"1\" class=\"dataframe\">\n",
       "  <thead>\n",
       "    <tr style=\"text-align: right;\">\n",
       "      <th></th>\n",
       "      <th>status_group</th>\n",
       "    </tr>\n",
       "  </thead>\n",
       "  <tbody>\n",
       "    <tr>\n",
       "      <th>0</th>\n",
       "      <td>functional</td>\n",
       "    </tr>\n",
       "    <tr>\n",
       "      <th>1</th>\n",
       "      <td>functional</td>\n",
       "    </tr>\n",
       "    <tr>\n",
       "      <th>2</th>\n",
       "      <td>functional</td>\n",
       "    </tr>\n",
       "    <tr>\n",
       "      <th>3</th>\n",
       "      <td>non functional</td>\n",
       "    </tr>\n",
       "    <tr>\n",
       "      <th>4</th>\n",
       "      <td>functional</td>\n",
       "    </tr>\n",
       "    <tr>\n",
       "      <th>...</th>\n",
       "      <td>...</td>\n",
       "    </tr>\n",
       "    <tr>\n",
       "      <th>59395</th>\n",
       "      <td>functional</td>\n",
       "    </tr>\n",
       "    <tr>\n",
       "      <th>59396</th>\n",
       "      <td>functional</td>\n",
       "    </tr>\n",
       "    <tr>\n",
       "      <th>59397</th>\n",
       "      <td>functional</td>\n",
       "    </tr>\n",
       "    <tr>\n",
       "      <th>59398</th>\n",
       "      <td>functional</td>\n",
       "    </tr>\n",
       "    <tr>\n",
       "      <th>59399</th>\n",
       "      <td>functional</td>\n",
       "    </tr>\n",
       "  </tbody>\n",
       "</table>\n",
       "<p>59400 rows × 1 columns</p>\n",
       "</div>"
      ],
      "text/plain": [
       "         status_group\n",
       "0          functional\n",
       "1          functional\n",
       "2          functional\n",
       "3      non functional\n",
       "4          functional\n",
       "...               ...\n",
       "59395      functional\n",
       "59396      functional\n",
       "59397      functional\n",
       "59398      functional\n",
       "59399      functional\n",
       "\n",
       "[59400 rows x 1 columns]"
      ]
     },
     "execution_count": 79,
     "metadata": {},
     "output_type": "execute_result"
    }
   ],
   "source": [
    "y"
   ]
  },
  {
   "cell_type": "code",
   "execution_count": null,
   "metadata": {},
   "outputs": [],
   "source": []
  },
  {
   "cell_type": "code",
   "execution_count": 86,
   "metadata": {},
   "outputs": [],
   "source": [
    "smoter = SMOTE(random_state=42)"
   ]
  },
  {
   "cell_type": "code",
   "execution_count": 87,
   "metadata": {},
   "outputs": [],
   "source": [
    "scores = []"
   ]
  },
  {
   "cell_type": "code",
   "execution_count": 121,
   "metadata": {},
   "outputs": [
    {
     "ename": "IndentationError",
     "evalue": "unexpected indent (<ipython-input-121-d9dbb90fcc15>, line 15)",
     "output_type": "error",
     "traceback": [
      "\u001b[1;36m  File \u001b[1;32m\"<ipython-input-121-d9dbb90fcc15>\"\u001b[1;36m, line \u001b[1;32m15\u001b[0m\n\u001b[1;33m    return np.array(scores)\u001b[0m\n\u001b[1;37m    ^\u001b[0m\n\u001b[1;31mIndentationError\u001b[0m\u001b[1;31m:\u001b[0m unexpected indent\n"
     ]
    }
   ],
   "source": [
    "for train_fold_index, val_fold_index in KFold(n_splits=5, random_state=42).split(X_train, y_train):\n",
    "        # Get the training data\n",
    "        X_train_fold, y_train_fold = X_train.iloc[train_fold_index], y_train.iloc[train_fold_index]\n",
    "        # Get the validation data\n",
    "        X_val_fold, y_val_fold = X_train.iloc[val_fold_index], y_train.iloc[val_fold_index]\n",
    "        \n",
    "         # Upsample only the data in the training section\n",
    "        X_train_fold_upsample, y_train_fold_upsample = smoter.fit_resample(X_train_fold,\n",
    "                                                                           y_train_fold)\n",
    "         # Fit the model on the upsampled training data\n",
    "        model_obj = XGBClassifier(example_params).fit(X_train_fold_upsample, y_train_fold_upsample)\n",
    "        # Score the model on the (non-upsampled) validation data\n",
    "        score = f1_score(y_val_fold, model_obj.predict(X_val_fold),average='micro')\n",
    "        scores.append(score)"
   ]
  },
  {
   "cell_type": "markdown",
   "metadata": {},
   "source": [
    "# Base model Resampled X and y train's cross validation F1 macro score "
   ]
  },
  {
   "cell_type": "markdown",
   "metadata": {},
   "source": [
    "# XGB base model"
   ]
  },
  {
   "cell_type": "code",
   "execution_count": 124,
   "metadata": {},
   "outputs": [
    {
     "data": {
      "text/plain": [
       "[0.8521885521885522,\n",
       " 0.8491582491582491,\n",
       " 0.8509539842873176,\n",
       " 0.8518518518518519,\n",
       " 0.8560044893378227]"
      ]
     },
     "execution_count": 124,
     "metadata": {},
     "output_type": "execute_result"
    }
   ],
   "source": [
    "scores"
   ]
  },
  {
   "cell_type": "code",
   "execution_count": 125,
   "metadata": {},
   "outputs": [
    {
     "data": {
      "text/plain": [
       "0.8560044893378227"
      ]
     },
     "execution_count": 125,
     "metadata": {},
     "output_type": "execute_result"
    }
   ],
   "source": [
    "score.mean()"
   ]
  },
  {
   "cell_type": "code",
   "execution_count": 126,
   "metadata": {},
   "outputs": [
    {
     "data": {
      "text/html": [
       "<div>\n",
       "<style scoped>\n",
       "    .dataframe tbody tr th:only-of-type {\n",
       "        vertical-align: middle;\n",
       "    }\n",
       "\n",
       "    .dataframe tbody tr th {\n",
       "        vertical-align: top;\n",
       "    }\n",
       "\n",
       "    .dataframe thead th {\n",
       "        text-align: right;\n",
       "    }\n",
       "</style>\n",
       "<table border=\"1\" class=\"dataframe\">\n",
       "  <thead>\n",
       "    <tr style=\"text-align: right;\">\n",
       "      <th></th>\n",
       "      <th>gps_height</th>\n",
       "      <th>longitude</th>\n",
       "      <th>latitude</th>\n",
       "      <th>population</th>\n",
       "      <th>basin_Internal</th>\n",
       "      <th>basin_Lake_Nyasa</th>\n",
       "      <th>basin_Lake_Rukwa</th>\n",
       "      <th>basin_Lake_Tanganyika</th>\n",
       "      <th>basin_Lake_Victoria</th>\n",
       "      <th>basin_Pangani</th>\n",
       "      <th>...</th>\n",
       "      <th>funder_group_dwe</th>\n",
       "      <th>funder_group_gov</th>\n",
       "      <th>funder_group_hesewa</th>\n",
       "      <th>funder_group_kkkt</th>\n",
       "      <th>funder_group_others</th>\n",
       "      <th>funder_group_rwe</th>\n",
       "      <th>funder_group_tcrs</th>\n",
       "      <th>funder_group_unknown</th>\n",
       "      <th>population_zero_0</th>\n",
       "      <th>population_zero_1</th>\n",
       "    </tr>\n",
       "  </thead>\n",
       "  <tbody>\n",
       "    <tr>\n",
       "      <th>0</th>\n",
       "      <td>-0.126055</td>\n",
       "      <td>-1.063734</td>\n",
       "      <td>0.223320</td>\n",
       "      <td>-0.381587</td>\n",
       "      <td>0</td>\n",
       "      <td>0</td>\n",
       "      <td>0</td>\n",
       "      <td>1</td>\n",
       "      <td>0</td>\n",
       "      <td>0</td>\n",
       "      <td>...</td>\n",
       "      <td>0</td>\n",
       "      <td>0</td>\n",
       "      <td>0</td>\n",
       "      <td>0</td>\n",
       "      <td>0</td>\n",
       "      <td>0</td>\n",
       "      <td>0</td>\n",
       "      <td>0</td>\n",
       "      <td>0</td>\n",
       "      <td>1</td>\n",
       "    </tr>\n",
       "    <tr>\n",
       "      <th>1</th>\n",
       "      <td>0.373597</td>\n",
       "      <td>-1.235910</td>\n",
       "      <td>0.740173</td>\n",
       "      <td>-0.381587</td>\n",
       "      <td>0</td>\n",
       "      <td>0</td>\n",
       "      <td>0</td>\n",
       "      <td>1</td>\n",
       "      <td>0</td>\n",
       "      <td>0</td>\n",
       "      <td>...</td>\n",
       "      <td>1</td>\n",
       "      <td>0</td>\n",
       "      <td>0</td>\n",
       "      <td>0</td>\n",
       "      <td>0</td>\n",
       "      <td>0</td>\n",
       "      <td>0</td>\n",
       "      <td>0</td>\n",
       "      <td>0</td>\n",
       "      <td>1</td>\n",
       "    </tr>\n",
       "    <tr>\n",
       "      <th>2</th>\n",
       "      <td>1.057646</td>\n",
       "      <td>-0.105608</td>\n",
       "      <td>0.340415</td>\n",
       "      <td>-0.379466</td>\n",
       "      <td>1</td>\n",
       "      <td>0</td>\n",
       "      <td>0</td>\n",
       "      <td>0</td>\n",
       "      <td>0</td>\n",
       "      <td>0</td>\n",
       "      <td>...</td>\n",
       "      <td>0</td>\n",
       "      <td>0</td>\n",
       "      <td>0</td>\n",
       "      <td>0</td>\n",
       "      <td>1</td>\n",
       "      <td>0</td>\n",
       "      <td>0</td>\n",
       "      <td>0</td>\n",
       "      <td>1</td>\n",
       "      <td>0</td>\n",
       "    </tr>\n",
       "    <tr>\n",
       "      <th>3</th>\n",
       "      <td>1.632643</td>\n",
       "      <td>-0.308977</td>\n",
       "      <td>-1.329658</td>\n",
       "      <td>-0.381587</td>\n",
       "      <td>0</td>\n",
       "      <td>1</td>\n",
       "      <td>0</td>\n",
       "      <td>0</td>\n",
       "      <td>0</td>\n",
       "      <td>0</td>\n",
       "      <td>...</td>\n",
       "      <td>0</td>\n",
       "      <td>0</td>\n",
       "      <td>0</td>\n",
       "      <td>0</td>\n",
       "      <td>0</td>\n",
       "      <td>0</td>\n",
       "      <td>0</td>\n",
       "      <td>0</td>\n",
       "      <td>0</td>\n",
       "      <td>1</td>\n",
       "    </tr>\n",
       "    <tr>\n",
       "      <th>4</th>\n",
       "      <td>-0.354072</td>\n",
       "      <td>-0.006243</td>\n",
       "      <td>-0.691718</td>\n",
       "      <td>-0.379466</td>\n",
       "      <td>0</td>\n",
       "      <td>0</td>\n",
       "      <td>0</td>\n",
       "      <td>0</td>\n",
       "      <td>0</td>\n",
       "      <td>0</td>\n",
       "      <td>...</td>\n",
       "      <td>0</td>\n",
       "      <td>0</td>\n",
       "      <td>0</td>\n",
       "      <td>0</td>\n",
       "      <td>1</td>\n",
       "      <td>0</td>\n",
       "      <td>0</td>\n",
       "      <td>0</td>\n",
       "      <td>1</td>\n",
       "      <td>0</td>\n",
       "    </tr>\n",
       "    <tr>\n",
       "      <th>...</th>\n",
       "      <td>...</td>\n",
       "      <td>...</td>\n",
       "      <td>...</td>\n",
       "      <td>...</td>\n",
       "      <td>...</td>\n",
       "      <td>...</td>\n",
       "      <td>...</td>\n",
       "      <td>...</td>\n",
       "      <td>...</td>\n",
       "      <td>...</td>\n",
       "      <td>...</td>\n",
       "      <td>...</td>\n",
       "      <td>...</td>\n",
       "      <td>...</td>\n",
       "      <td>...</td>\n",
       "      <td>...</td>\n",
       "      <td>...</td>\n",
       "      <td>...</td>\n",
       "      <td>...</td>\n",
       "      <td>...</td>\n",
       "      <td>...</td>\n",
       "    </tr>\n",
       "    <tr>\n",
       "      <th>57988</th>\n",
       "      <td>-0.570102</td>\n",
       "      <td>-1.838395</td>\n",
       "      <td>-0.361754</td>\n",
       "      <td>0.105761</td>\n",
       "      <td>0</td>\n",
       "      <td>0</td>\n",
       "      <td>0</td>\n",
       "      <td>1</td>\n",
       "      <td>0</td>\n",
       "      <td>0</td>\n",
       "      <td>...</td>\n",
       "      <td>0</td>\n",
       "      <td>0</td>\n",
       "      <td>0</td>\n",
       "      <td>0</td>\n",
       "      <td>1</td>\n",
       "      <td>0</td>\n",
       "      <td>0</td>\n",
       "      <td>0</td>\n",
       "      <td>1</td>\n",
       "      <td>0</td>\n",
       "    </tr>\n",
       "    <tr>\n",
       "      <th>57989</th>\n",
       "      <td>-0.024866</td>\n",
       "      <td>-0.033639</td>\n",
       "      <td>0.573368</td>\n",
       "      <td>-0.039051</td>\n",
       "      <td>1</td>\n",
       "      <td>0</td>\n",
       "      <td>0</td>\n",
       "      <td>0</td>\n",
       "      <td>0</td>\n",
       "      <td>0</td>\n",
       "      <td>...</td>\n",
       "      <td>1</td>\n",
       "      <td>0</td>\n",
       "      <td>0</td>\n",
       "      <td>0</td>\n",
       "      <td>0</td>\n",
       "      <td>0</td>\n",
       "      <td>0</td>\n",
       "      <td>0</td>\n",
       "      <td>1</td>\n",
       "      <td>0</td>\n",
       "    </tr>\n",
       "    <tr>\n",
       "      <th>57990</th>\n",
       "      <td>-1.938375</td>\n",
       "      <td>1.370116</td>\n",
       "      <td>-0.033788</td>\n",
       "      <td>0.577519</td>\n",
       "      <td>0</td>\n",
       "      <td>0</td>\n",
       "      <td>0</td>\n",
       "      <td>0</td>\n",
       "      <td>0</td>\n",
       "      <td>1</td>\n",
       "      <td>...</td>\n",
       "      <td>1</td>\n",
       "      <td>0</td>\n",
       "      <td>0</td>\n",
       "      <td>0</td>\n",
       "      <td>0</td>\n",
       "      <td>0</td>\n",
       "      <td>0</td>\n",
       "      <td>0</td>\n",
       "      <td>1</td>\n",
       "      <td>0</td>\n",
       "    </tr>\n",
       "    <tr>\n",
       "      <th>57991</th>\n",
       "      <td>-0.126055</td>\n",
       "      <td>-1.326832</td>\n",
       "      <td>1.475636</td>\n",
       "      <td>-0.381587</td>\n",
       "      <td>0</td>\n",
       "      <td>0</td>\n",
       "      <td>0</td>\n",
       "      <td>0</td>\n",
       "      <td>1</td>\n",
       "      <td>0</td>\n",
       "      <td>...</td>\n",
       "      <td>1</td>\n",
       "      <td>0</td>\n",
       "      <td>0</td>\n",
       "      <td>0</td>\n",
       "      <td>0</td>\n",
       "      <td>0</td>\n",
       "      <td>0</td>\n",
       "      <td>0</td>\n",
       "      <td>0</td>\n",
       "      <td>1</td>\n",
       "    </tr>\n",
       "    <tr>\n",
       "      <th>57992</th>\n",
       "      <td>-0.126055</td>\n",
       "      <td>0.111996</td>\n",
       "      <td>0.152984</td>\n",
       "      <td>-0.381587</td>\n",
       "      <td>1</td>\n",
       "      <td>0</td>\n",
       "      <td>0</td>\n",
       "      <td>0</td>\n",
       "      <td>0</td>\n",
       "      <td>0</td>\n",
       "      <td>...</td>\n",
       "      <td>1</td>\n",
       "      <td>0</td>\n",
       "      <td>0</td>\n",
       "      <td>0</td>\n",
       "      <td>0</td>\n",
       "      <td>0</td>\n",
       "      <td>0</td>\n",
       "      <td>0</td>\n",
       "      <td>0</td>\n",
       "      <td>1</td>\n",
       "    </tr>\n",
       "  </tbody>\n",
       "</table>\n",
       "<p>57993 rows × 110 columns</p>\n",
       "</div>"
      ],
      "text/plain": [
       "       gps_height  longitude  latitude  population  basin_Internal  \\\n",
       "0       -0.126055  -1.063734  0.223320   -0.381587               0   \n",
       "1        0.373597  -1.235910  0.740173   -0.381587               0   \n",
       "2        1.057646  -0.105608  0.340415   -0.379466               1   \n",
       "3        1.632643  -0.308977 -1.329658   -0.381587               0   \n",
       "4       -0.354072  -0.006243 -0.691718   -0.379466               0   \n",
       "...           ...        ...       ...         ...             ...   \n",
       "57988   -0.570102  -1.838395 -0.361754    0.105761               0   \n",
       "57989   -0.024866  -0.033639  0.573368   -0.039051               1   \n",
       "57990   -1.938375   1.370116 -0.033788    0.577519               0   \n",
       "57991   -0.126055  -1.326832  1.475636   -0.381587               0   \n",
       "57992   -0.126055   0.111996  0.152984   -0.381587               1   \n",
       "\n",
       "       basin_Lake_Nyasa  basin_Lake_Rukwa  basin_Lake_Tanganyika  \\\n",
       "0                     0                 0                      1   \n",
       "1                     0                 0                      1   \n",
       "2                     0                 0                      0   \n",
       "3                     1                 0                      0   \n",
       "4                     0                 0                      0   \n",
       "...                 ...               ...                    ...   \n",
       "57988                 0                 0                      1   \n",
       "57989                 0                 0                      0   \n",
       "57990                 0                 0                      0   \n",
       "57991                 0                 0                      0   \n",
       "57992                 0                 0                      0   \n",
       "\n",
       "       basin_Lake_Victoria  basin_Pangani  ...  funder_group_dwe  \\\n",
       "0                        0              0  ...                 0   \n",
       "1                        0              0  ...                 1   \n",
       "2                        0              0  ...                 0   \n",
       "3                        0              0  ...                 0   \n",
       "4                        0              0  ...                 0   \n",
       "...                    ...            ...  ...               ...   \n",
       "57988                    0              0  ...                 0   \n",
       "57989                    0              0  ...                 1   \n",
       "57990                    0              1  ...                 1   \n",
       "57991                    1              0  ...                 1   \n",
       "57992                    0              0  ...                 1   \n",
       "\n",
       "       funder_group_gov  funder_group_hesewa  funder_group_kkkt  \\\n",
       "0                     0                    0                  0   \n",
       "1                     0                    0                  0   \n",
       "2                     0                    0                  0   \n",
       "3                     0                    0                  0   \n",
       "4                     0                    0                  0   \n",
       "...                 ...                  ...                ...   \n",
       "57988                 0                    0                  0   \n",
       "57989                 0                    0                  0   \n",
       "57990                 0                    0                  0   \n",
       "57991                 0                    0                  0   \n",
       "57992                 0                    0                  0   \n",
       "\n",
       "       funder_group_others  funder_group_rwe  funder_group_tcrs  \\\n",
       "0                        0                 0                  0   \n",
       "1                        0                 0                  0   \n",
       "2                        1                 0                  0   \n",
       "3                        0                 0                  0   \n",
       "4                        1                 0                  0   \n",
       "...                    ...               ...                ...   \n",
       "57988                    1                 0                  0   \n",
       "57989                    0                 0                  0   \n",
       "57990                    0                 0                  0   \n",
       "57991                    0                 0                  0   \n",
       "57992                    0                 0                  0   \n",
       "\n",
       "       funder_group_unknown  population_zero_0  population_zero_1  \n",
       "0                         0                  0                  1  \n",
       "1                         0                  0                  1  \n",
       "2                         0                  1                  0  \n",
       "3                         0                  0                  1  \n",
       "4                         0                  1                  0  \n",
       "...                     ...                ...                ...  \n",
       "57988                     0                  1                  0  \n",
       "57989                     0                  1                  0  \n",
       "57990                     0                  1                  0  \n",
       "57991                     0                  0                  1  \n",
       "57992                     0                  0                  1  \n",
       "\n",
       "[57993 rows x 110 columns]"
      ]
     },
     "execution_count": 126,
     "metadata": {},
     "output_type": "execute_result"
    }
   ],
   "source": [
    "X_train_fold_upsample"
   ]
  },
  {
   "cell_type": "code",
   "execution_count": 127,
   "metadata": {},
   "outputs": [
    {
     "data": {
      "text/html": [
       "<div>\n",
       "<style scoped>\n",
       "    .dataframe tbody tr th:only-of-type {\n",
       "        vertical-align: middle;\n",
       "    }\n",
       "\n",
       "    .dataframe tbody tr th {\n",
       "        vertical-align: top;\n",
       "    }\n",
       "\n",
       "    .dataframe thead th {\n",
       "        text-align: right;\n",
       "    }\n",
       "</style>\n",
       "<table border=\"1\" class=\"dataframe\">\n",
       "  <thead>\n",
       "    <tr style=\"text-align: right;\">\n",
       "      <th></th>\n",
       "      <th>status_group</th>\n",
       "    </tr>\n",
       "  </thead>\n",
       "  <tbody>\n",
       "    <tr>\n",
       "      <th>0</th>\n",
       "      <td>non functional</td>\n",
       "    </tr>\n",
       "    <tr>\n",
       "      <th>1</th>\n",
       "      <td>functional</td>\n",
       "    </tr>\n",
       "    <tr>\n",
       "      <th>2</th>\n",
       "      <td>non functional</td>\n",
       "    </tr>\n",
       "    <tr>\n",
       "      <th>3</th>\n",
       "      <td>functional</td>\n",
       "    </tr>\n",
       "    <tr>\n",
       "      <th>4</th>\n",
       "      <td>functional</td>\n",
       "    </tr>\n",
       "    <tr>\n",
       "      <th>...</th>\n",
       "      <td>...</td>\n",
       "    </tr>\n",
       "    <tr>\n",
       "      <th>57988</th>\n",
       "      <td>non functional</td>\n",
       "    </tr>\n",
       "    <tr>\n",
       "      <th>57989</th>\n",
       "      <td>non functional</td>\n",
       "    </tr>\n",
       "    <tr>\n",
       "      <th>57990</th>\n",
       "      <td>non functional</td>\n",
       "    </tr>\n",
       "    <tr>\n",
       "      <th>57991</th>\n",
       "      <td>non functional</td>\n",
       "    </tr>\n",
       "    <tr>\n",
       "      <th>57992</th>\n",
       "      <td>non functional</td>\n",
       "    </tr>\n",
       "  </tbody>\n",
       "</table>\n",
       "<p>57993 rows × 1 columns</p>\n",
       "</div>"
      ],
      "text/plain": [
       "         status_group\n",
       "0      non functional\n",
       "1          functional\n",
       "2      non functional\n",
       "3          functional\n",
       "4          functional\n",
       "...               ...\n",
       "57988  non functional\n",
       "57989  non functional\n",
       "57990  non functional\n",
       "57991  non functional\n",
       "57992  non functional\n",
       "\n",
       "[57993 rows x 1 columns]"
      ]
     },
     "execution_count": 127,
     "metadata": {},
     "output_type": "execute_result"
    }
   ],
   "source": [
    "y_train_fold_upsample"
   ]
  },
  {
   "cell_type": "code",
   "execution_count": 128,
   "metadata": {},
   "outputs": [
    {
     "data": {
      "text/plain": [
       "functional needs repair    19331\n",
       "non functional             19331\n",
       "functional                 19331\n",
       "Name: status_group, dtype: int64"
      ]
     },
     "execution_count": 128,
     "metadata": {},
     "output_type": "execute_result"
    }
   ],
   "source": [
    "y_train_fold_upsample.status_group.value_counts()"
   ]
  },
  {
   "cell_type": "code",
   "execution_count": null,
   "metadata": {},
   "outputs": [],
   "source": []
  },
  {
   "cell_type": "code",
   "execution_count": 139,
   "metadata": {},
   "outputs": [],
   "source": [
    "example_params = {'booster': 'gbtree',\n",
    " 'bootstrap': True,\n",
    " 'max_depth': 10,\n",
    " 'min_child_weight': 1}"
   ]
  },
  {
   "cell_type": "code",
   "execution_count": 152,
   "metadata": {},
   "outputs": [],
   "source": [
    "example_params_rfc = {'max_depth': 10}"
   ]
  },
  {
   "cell_type": "code",
   "execution_count": 144,
   "metadata": {},
   "outputs": [],
   "source": [
    "\n",
    "def score_model(model, params, cv=None):\n",
    "    \"\"\"\n",
    "    Creates folds manually, and upsamples within each fold.\n",
    "    Returns an array of validation (recall) scores\n",
    "    \"\"\"\n",
    "    if cv is None:\n",
    "        cv = KFold(n_splits=5, random_state=42)\n",
    "\n",
    "    smoter = SMOTE(random_state=42)\n",
    "    \n",
    "    scores = []\n",
    "    for train_fold_index, val_fold_index in KFold(n_splits=5, random_state=42).split(X_train, y_train):\n",
    "        # Get the training data\n",
    "        X_train_fold, y_train_fold = X_train.iloc[train_fold_index], y_train.iloc[train_fold_index]\n",
    "        # Get the validation data\n",
    "        X_val_fold, y_val_fold = X_train.iloc[val_fold_index], y_train.iloc[val_fold_index]\n",
    "        \n",
    "         # Upsample only the data in the training section\n",
    "        X_train_fold_upsample, y_train_fold_upsample = smoter.fit_resample(X_train_fold,\n",
    "                                                                           y_train_fold)\n",
    "         # Fit the model on the upsampled training data\n",
    "        model_upsample = model(**params).fit(X_train_fold_upsample, y_train_fold_upsample)\n",
    "        # Score the model on the (non-upsampled) validation data\n",
    "        score = f1_score(y_val_fold, model_upsample.predict(X_val_fold),average='micro')\n",
    "        scores.append(score)\n",
    "        score_mean=score.mean()\n",
    "    return np.array(scores),score_mean\n",
    "\n"
   ]
  },
  {
   "cell_type": "code",
   "execution_count": 145,
   "metadata": {},
   "outputs": [],
   "source": [
    "from sklearn.ensemble import GradientBoostingClassifier\n",
    "from sklearn.ensemble import RandomForestClassifier\n",
    "from sklearn.svm import SVC\n",
    "GBC = GradientBoostingClassifier()\n",
    "RFC =RandomForestClassifier()\n",
    "svc =SVC()\n",
    "XGB = XGBClassifier()"
   ]
  },
  {
   "cell_type": "code",
   "execution_count": 148,
   "metadata": {},
   "outputs": [
    {
     "name": "stderr",
     "output_type": "stream",
     "text": [
      "C:\\Users\\yuka\\Anaconda3\\lib\\site-packages\\sklearn\\model_selection\\_split.py:296: FutureWarning: Setting a random_state has no effect since shuffle is False. This will raise an error in 0.24. You should leave random_state to its default (None), or set shuffle=True.\n",
      "  FutureWarning\n",
      "C:\\Users\\yuka\\Anaconda3\\lib\\site-packages\\sklearn\\preprocessing\\_label.py:235: DataConversionWarning: A column-vector y was passed when a 1d array was expected. Please change the shape of y to (n_samples, ), for example using ravel().\n",
      "  y = column_or_1d(y, warn=True)\n",
      "C:\\Users\\yuka\\Anaconda3\\lib\\site-packages\\sklearn\\preprocessing\\_label.py:268: DataConversionWarning: A column-vector y was passed when a 1d array was expected. Please change the shape of y to (n_samples, ), for example using ravel().\n",
      "  y = column_or_1d(y, warn=True)\n",
      "C:\\Users\\yuka\\Anaconda3\\lib\\site-packages\\sklearn\\preprocessing\\_label.py:235: DataConversionWarning: A column-vector y was passed when a 1d array was expected. Please change the shape of y to (n_samples, ), for example using ravel().\n",
      "  y = column_or_1d(y, warn=True)\n",
      "C:\\Users\\yuka\\Anaconda3\\lib\\site-packages\\sklearn\\preprocessing\\_label.py:268: DataConversionWarning: A column-vector y was passed when a 1d array was expected. Please change the shape of y to (n_samples, ), for example using ravel().\n",
      "  y = column_or_1d(y, warn=True)\n",
      "C:\\Users\\yuka\\Anaconda3\\lib\\site-packages\\sklearn\\preprocessing\\_label.py:235: DataConversionWarning: A column-vector y was passed when a 1d array was expected. Please change the shape of y to (n_samples, ), for example using ravel().\n",
      "  y = column_or_1d(y, warn=True)\n",
      "C:\\Users\\yuka\\Anaconda3\\lib\\site-packages\\sklearn\\preprocessing\\_label.py:268: DataConversionWarning: A column-vector y was passed when a 1d array was expected. Please change the shape of y to (n_samples, ), for example using ravel().\n",
      "  y = column_or_1d(y, warn=True)\n",
      "C:\\Users\\yuka\\Anaconda3\\lib\\site-packages\\sklearn\\preprocessing\\_label.py:235: DataConversionWarning: A column-vector y was passed when a 1d array was expected. Please change the shape of y to (n_samples, ), for example using ravel().\n",
      "  y = column_or_1d(y, warn=True)\n",
      "C:\\Users\\yuka\\Anaconda3\\lib\\site-packages\\sklearn\\preprocessing\\_label.py:268: DataConversionWarning: A column-vector y was passed when a 1d array was expected. Please change the shape of y to (n_samples, ), for example using ravel().\n",
      "  y = column_or_1d(y, warn=True)\n",
      "C:\\Users\\yuka\\Anaconda3\\lib\\site-packages\\sklearn\\preprocessing\\_label.py:235: DataConversionWarning: A column-vector y was passed when a 1d array was expected. Please change the shape of y to (n_samples, ), for example using ravel().\n",
      "  y = column_or_1d(y, warn=True)\n",
      "C:\\Users\\yuka\\Anaconda3\\lib\\site-packages\\sklearn\\preprocessing\\_label.py:268: DataConversionWarning: A column-vector y was passed when a 1d array was expected. Please change the shape of y to (n_samples, ), for example using ravel().\n",
      "  y = column_or_1d(y, warn=True)\n"
     ]
    },
    {
     "data": {
      "text/plain": [
       "(array([0.8664422 , 0.86498316, 0.86004489, 0.86655443, 0.86835017]),\n",
       " 0.8683501683501683)"
      ]
     },
     "execution_count": 148,
     "metadata": {},
     "output_type": "execute_result"
    }
   ],
   "source": [
    "score_model(XGBClassifier, example_params, cv=kf)"
   ]
  },
  {
   "cell_type": "code",
   "execution_count": 150,
   "metadata": {},
   "outputs": [
    {
     "ename": "TypeError",
     "evalue": "score_model() missing 1 required positional argument: 'params'",
     "output_type": "error",
     "traceback": [
      "\u001b[1;31m---------------------------------------------------------------------------\u001b[0m",
      "\u001b[1;31mTypeError\u001b[0m                                 Traceback (most recent call last)",
      "\u001b[1;32m<ipython-input-150-b957e7eda460>\u001b[0m in \u001b[0;36m<module>\u001b[1;34m\u001b[0m\n\u001b[1;32m----> 1\u001b[1;33m \u001b[0mscore_model\u001b[0m\u001b[1;33m(\u001b[0m\u001b[0mGradientBoostingClassifier\u001b[0m\u001b[1;33m,\u001b[0m \u001b[0mcv\u001b[0m\u001b[1;33m=\u001b[0m\u001b[0mkf\u001b[0m\u001b[1;33m)\u001b[0m\u001b[1;33m\u001b[0m\u001b[1;33m\u001b[0m\u001b[0m\n\u001b[0m",
      "\u001b[1;31mTypeError\u001b[0m: score_model() missing 1 required positional argument: 'params'"
     ]
    }
   ],
   "source": [
    "score_model(GradientBoostingClassifier, cv=kf)"
   ]
  },
  {
   "cell_type": "code",
   "execution_count": 153,
   "metadata": {},
   "outputs": [
    {
     "name": "stderr",
     "output_type": "stream",
     "text": [
      "C:\\Users\\yuka\\Anaconda3\\lib\\site-packages\\sklearn\\model_selection\\_split.py:296: FutureWarning: Setting a random_state has no effect since shuffle is False. This will raise an error in 0.24. You should leave random_state to its default (None), or set shuffle=True.\n",
      "  FutureWarning\n",
      "C:\\Users\\yuka\\Anaconda3\\lib\\site-packages\\ipykernel_launcher.py:22: DataConversionWarning: A column-vector y was passed when a 1d array was expected. Please change the shape of y to (n_samples,), for example using ravel().\n",
      "C:\\Users\\yuka\\Anaconda3\\lib\\site-packages\\ipykernel_launcher.py:22: DataConversionWarning: A column-vector y was passed when a 1d array was expected. Please change the shape of y to (n_samples,), for example using ravel().\n",
      "C:\\Users\\yuka\\Anaconda3\\lib\\site-packages\\ipykernel_launcher.py:22: DataConversionWarning: A column-vector y was passed when a 1d array was expected. Please change the shape of y to (n_samples,), for example using ravel().\n",
      "C:\\Users\\yuka\\Anaconda3\\lib\\site-packages\\ipykernel_launcher.py:22: DataConversionWarning: A column-vector y was passed when a 1d array was expected. Please change the shape of y to (n_samples,), for example using ravel().\n",
      "C:\\Users\\yuka\\Anaconda3\\lib\\site-packages\\ipykernel_launcher.py:22: DataConversionWarning: A column-vector y was passed when a 1d array was expected. Please change the shape of y to (n_samples,), for example using ravel().\n"
     ]
    },
    {
     "data": {
      "text/plain": [
       "(array([0.81728395, 0.81391695, 0.81279461, 0.82356902, 0.82255892]),\n",
       " 0.8225589225589225)"
      ]
     },
     "execution_count": 153,
     "metadata": {},
     "output_type": "execute_result"
    }
   ],
   "source": [
    "score_model(RandomForestClassifier, example_params_rfc, cv=kf)"
   ]
  },
  {
   "cell_type": "code",
   "execution_count": null,
   "metadata": {},
   "outputs": [],
   "source": [
    "score_model(svc, example_params, cv=kf)"
   ]
  },
  {
   "cell_type": "code",
   "execution_count": null,
   "metadata": {},
   "outputs": [],
   "source": []
  },
  {
   "cell_type": "code",
   "execution_count": null,
   "metadata": {},
   "outputs": [],
   "source": []
  },
  {
   "cell_type": "code",
   "execution_count": null,
   "metadata": {},
   "outputs": [],
   "source": []
  },
  {
   "cell_type": "code",
   "execution_count": null,
   "metadata": {},
   "outputs": [],
   "source": []
  },
  {
   "cell_type": "code",
   "execution_count": null,
   "metadata": {},
   "outputs": [],
   "source": []
  },
  {
   "cell_type": "code",
   "execution_count": null,
   "metadata": {},
   "outputs": [],
   "source": []
  },
  {
   "cell_type": "markdown",
   "metadata": {},
   "source": [
    "# Base model with X y train without resampling"
   ]
  },
  {
   "cell_type": "code",
   "execution_count": 22,
   "metadata": {},
   "outputs": [],
   "source": [
    "from xgboost import XGBClassifier"
   ]
  },
  {
   "cell_type": "code",
   "execution_count": 113,
   "metadata": {},
   "outputs": [
    {
     "name": "stderr",
     "output_type": "stream",
     "text": [
      "C:\\Users\\yuka\\Anaconda3\\lib\\site-packages\\sklearn\\preprocessing\\_label.py:235: DataConversionWarning: A column-vector y was passed when a 1d array was expected. Please change the shape of y to (n_samples, ), for example using ravel().\n",
      "  y = column_or_1d(y, warn=True)\n",
      "C:\\Users\\yuka\\Anaconda3\\lib\\site-packages\\sklearn\\preprocessing\\_label.py:268: DataConversionWarning: A column-vector y was passed when a 1d array was expected. Please change the shape of y to (n_samples, ), for example using ravel().\n",
      "  y = column_or_1d(y, warn=True)\n"
     ]
    },
    {
     "name": "stdout",
     "output_type": "stream",
     "text": [
      "                         precision    recall  f1-score   support\n",
      "\n",
      "             functional       0.85      0.94      0.89      6457\n",
      "functional needs repair       0.86      0.53      0.65       851\n",
      "         non functional       0.90      0.83      0.87      4572\n",
      "\n",
      "               accuracy                           0.87     11880\n",
      "              macro avg       0.87      0.77      0.80     11880\n",
      "           weighted avg       0.87      0.87      0.87     11880\n",
      "\n",
      "0.8704545454545455\n"
     ]
    }
   ],
   "source": [
    "XGB =XGBClassifier()\n",
    "XGB.fit(X_train,y_train)\n",
    "y_pred =XGB.predict(X_test)\n",
    "print(classification_report(y_test,y_pred))\n",
    "print(accuracy_score(y_test, y_pred))"
   ]
  },
  {
   "cell_type": "markdown",
   "metadata": {},
   "source": [
    "# Cross validation scores Base model with X y train without resampling"
   ]
  },
  {
   "cell_type": "code",
   "execution_count": 23,
   "metadata": {},
   "outputs": [],
   "source": [
    "from sklearn.model_selection import cross_val_score\n",
    "from sklearn.metrics import classification_report\n",
    "from sklearn.metrics import accuracy_score"
   ]
  },
  {
   "cell_type": "code",
   "execution_count": 116,
   "metadata": {},
   "outputs": [
    {
     "name": "stderr",
     "output_type": "stream",
     "text": [
      "C:\\Users\\yuka\\Anaconda3\\lib\\site-packages\\sklearn\\preprocessing\\_label.py:235: DataConversionWarning: A column-vector y was passed when a 1d array was expected. Please change the shape of y to (n_samples, ), for example using ravel().\n",
      "  y = column_or_1d(y, warn=True)\n",
      "C:\\Users\\yuka\\Anaconda3\\lib\\site-packages\\sklearn\\preprocessing\\_label.py:268: DataConversionWarning: A column-vector y was passed when a 1d array was expected. Please change the shape of y to (n_samples, ), for example using ravel().\n",
      "  y = column_or_1d(y, warn=True)\n"
     ]
    },
    {
     "name": "stdout",
     "output_type": "stream",
     "text": [
      "Estimate the Accuracy of Base XGB classifier(cross validation score): 0.87 (+/- 0.01)\n"
     ]
    }
   ],
   "source": [
    "# cross val X_train, y_train datasets\n",
    "\n",
    "cross_validation_score_base = cross_val_score(XGB, X_train, y_train)\n",
    "print(\"Estimate the Accuracy of Base XGB classifier(cross validation score): %0.2f (+/- %0.2f)\" % (cross_validation_score_base.mean(), cross_validation_score_base.std() * 2))"
   ]
  },
  {
   "cell_type": "code",
   "execution_count": 117,
   "metadata": {},
   "outputs": [
    {
     "name": "stdout",
     "output_type": "stream",
     "text": [
      "[0.86752946 0.87636785 0.86374158 0.87268519 0.86731902]\n"
     ]
    }
   ],
   "source": [
    "print(cross_validation_score_base)"
   ]
  },
  {
   "cell_type": "code",
   "execution_count": null,
   "metadata": {},
   "outputs": [],
   "source": []
  },
  {
   "cell_type": "code",
   "execution_count": null,
   "metadata": {},
   "outputs": [],
   "source": []
  },
  {
   "cell_type": "markdown",
   "metadata": {},
   "source": [
    "# Function that returns train a model and return model's accuracy and F1_macro"
   ]
  },
  {
   "cell_type": "code",
   "execution_count": 24,
   "metadata": {},
   "outputs": [],
   "source": [
    "from sklearn.metrics import classification_report\n",
    "from sklearn.metrics import accuracy_score\n",
    "from sklearn.metrics import f1_score"
   ]
  },
  {
   "cell_type": "code",
   "execution_count": 25,
   "metadata": {},
   "outputs": [],
   "source": [
    "def modeling(clf,X_train,y_train,X_test,y_test):\n",
    "    \"\"\"returns train a model and return model's accuracy and F1_macro\"\"\"\n",
    "    \n",
    "    clf.fit(X_train,y_train)\n",
    "    y_pred =clf.predict(X_test)\n",
    "    clf_report = classification_report(y_test,y_pred)\n",
    "    clf_acc_score = accuracy_score(y_test, y_pred)\n",
    "    f1score=f1_score(y_test, y_pred, average='macro')\n",
    "    return  clf_report, clf_acc_score, f1score\n",
    "    print(clf_report)"
   ]
  },
  {
   "cell_type": "code",
   "execution_count": 26,
   "metadata": {},
   "outputs": [],
   "source": [
    "from sklearn.ensemble import GradientBoostingClassifier\n",
    "from sklearn.ensemble import RandomForestClassifier\n",
    "from sklearn.svm import SVC"
   ]
  },
  {
   "cell_type": "code",
   "execution_count": 27,
   "metadata": {},
   "outputs": [
    {
     "name": "stderr",
     "output_type": "stream",
     "text": [
      "C:\\Users\\yuka\\Anaconda3\\lib\\site-packages\\sklearn\\ensemble\\_gb.py:1454: DataConversionWarning: A column-vector y was passed when a 1d array was expected. Please change the shape of y to (n_samples, ), for example using ravel().\n",
      "  y = column_or_1d(y, warn=True)\n",
      "C:\\Users\\yuka\\Anaconda3\\lib\\site-packages\\ipykernel_launcher.py:4: DataConversionWarning: A column-vector y was passed when a 1d array was expected. Please change the shape of y to (n_samples,), for example using ravel().\n",
      "  after removing the cwd from sys.path.\n",
      "C:\\Users\\yuka\\Anaconda3\\lib\\site-packages\\sklearn\\utils\\validation.py:760: DataConversionWarning: A column-vector y was passed when a 1d array was expected. Please change the shape of y to (n_samples, ), for example using ravel().\n",
      "  y = column_or_1d(y, warn=True)\n"
     ]
    }
   ],
   "source": [
    "GBC = GradientBoostingClassifier()\n",
    "GBC_clf_report, GBC_clf_acc_score, GBC_f1score = modeling(GBC,X_train,y_train,X_test,y_test)\n",
    "\n",
    "\n",
    "RFC =RandomForestClassifier()\n",
    "RFC_clf_report, RFC_clf_acc_score, RFC_f1score = modeling(RFC,X_train,y_train,X_test,y_test)\n",
    "\n",
    "svc =SVC()\n",
    "svc_clf_report, svc_clf_acc_score, svc_f1score = modeling(svc,X_train,y_train,X_test,y_test)\n"
   ]
  },
  {
   "cell_type": "code",
   "execution_count": 28,
   "metadata": {},
   "outputs": [
    {
     "name": "stderr",
     "output_type": "stream",
     "text": [
      "C:\\Users\\yuka\\Anaconda3\\lib\\site-packages\\sklearn\\preprocessing\\_label.py:235: DataConversionWarning: A column-vector y was passed when a 1d array was expected. Please change the shape of y to (n_samples, ), for example using ravel().\n",
      "  y = column_or_1d(y, warn=True)\n",
      "C:\\Users\\yuka\\Anaconda3\\lib\\site-packages\\sklearn\\preprocessing\\_label.py:268: DataConversionWarning: A column-vector y was passed when a 1d array was expected. Please change the shape of y to (n_samples, ), for example using ravel().\n",
      "  y = column_or_1d(y, warn=True)\n"
     ]
    }
   ],
   "source": [
    "XGB =XGBClassifier()\n",
    "XGB_clf_report, XGB_clf_acc_score, XGB_f1score = modeling(XGB,X_train,y_train,X_test,y_test)"
   ]
  },
  {
   "cell_type": "code",
   "execution_count": 29,
   "metadata": {},
   "outputs": [],
   "source": [
    "results={'Classifier':[\"XGB Classifier\",\"Gradient Boosting Classifier\",\"Random Forest Classifier\",\"SVC\"],\n",
    "'Accuracy':[XGB_clf_acc_score,GBC_clf_acc_score,RFC_clf_acc_score,svc_clf_acc_score],\n",
    "'F1_macro':[XGB_f1score,GBC_f1score,RFC_f1score,svc_f1score]}"
   ]
  },
  {
   "cell_type": "code",
   "execution_count": 30,
   "metadata": {},
   "outputs": [
    {
     "name": "stdout",
     "output_type": "stream",
     "text": [
      "                     Classifier  Accuracy  F1_macro\n",
      "0                XGB Classifier  0.870455  0.804928\n",
      "1  Gradient Boosting Classifier  0.847475  0.776302\n",
      "2      Random Forest Classifier  0.876263  0.814413\n",
      "3                           SVC  0.837710  0.696662\n"
     ]
    }
   ],
   "source": [
    "score_report_df =pd.DataFrame(data=results,columns=[\"Classifier\",\"Accuracy\",\"F1_macro\"])\n",
    "print(score_report_df)"
   ]
  },
  {
   "cell_type": "code",
   "execution_count": 31,
   "metadata": {},
   "outputs": [
    {
     "name": "stdout",
     "output_type": "stream",
     "text": [
      "Base models Train_Test Split 80:20 validation\n"
     ]
    },
    {
     "data": {
      "text/html": [
       "<div>\n",
       "<style scoped>\n",
       "    .dataframe tbody tr th:only-of-type {\n",
       "        vertical-align: middle;\n",
       "    }\n",
       "\n",
       "    .dataframe tbody tr th {\n",
       "        vertical-align: top;\n",
       "    }\n",
       "\n",
       "    .dataframe thead th {\n",
       "        text-align: right;\n",
       "    }\n",
       "</style>\n",
       "<table border=\"1\" class=\"dataframe\">\n",
       "  <thead>\n",
       "    <tr style=\"text-align: right;\">\n",
       "      <th></th>\n",
       "      <th>Classifier</th>\n",
       "      <th>Accuracy</th>\n",
       "      <th>F1_macro</th>\n",
       "    </tr>\n",
       "  </thead>\n",
       "  <tbody>\n",
       "    <tr>\n",
       "      <th>0</th>\n",
       "      <td>XGB Classifier</td>\n",
       "      <td>0.870455</td>\n",
       "      <td>0.804928</td>\n",
       "    </tr>\n",
       "    <tr>\n",
       "      <th>1</th>\n",
       "      <td>Gradient Boosting Classifier</td>\n",
       "      <td>0.847475</td>\n",
       "      <td>0.776302</td>\n",
       "    </tr>\n",
       "    <tr>\n",
       "      <th>2</th>\n",
       "      <td>Random Forest Classifier</td>\n",
       "      <td>0.876263</td>\n",
       "      <td>0.814413</td>\n",
       "    </tr>\n",
       "    <tr>\n",
       "      <th>3</th>\n",
       "      <td>SVC</td>\n",
       "      <td>0.837710</td>\n",
       "      <td>0.696662</td>\n",
       "    </tr>\n",
       "  </tbody>\n",
       "</table>\n",
       "</div>"
      ],
      "text/plain": [
       "                     Classifier  Accuracy  F1_macro\n",
       "0                XGB Classifier  0.870455  0.804928\n",
       "1  Gradient Boosting Classifier  0.847475  0.776302\n",
       "2      Random Forest Classifier  0.876263  0.814413\n",
       "3                           SVC  0.837710  0.696662"
      ]
     },
     "execution_count": 31,
     "metadata": {},
     "output_type": "execute_result"
    }
   ],
   "source": [
    "print(\"Base models Train_Test Split 80:20 validation\")\n",
    "score_report_df"
   ]
  },
  {
   "cell_type": "code",
   "execution_count": null,
   "metadata": {},
   "outputs": [],
   "source": []
  },
  {
   "cell_type": "code",
   "execution_count": 44,
   "metadata": {},
   "outputs": [],
   "source": [
    "def return_x_val_accuracy(clf,X_train,y_train,kfold=5):\n",
    "    \"\"\"Return kfold cross validation scores of accuracy and its mean. kfold = 5 as default \"\"\"\n",
    "    cross_validation_score = cross_val_score(clf,X_train,y_train,cv=kfold)\n",
    "    estimated_accuracy = (cross_validation_score.mean(), cross_validation_score.std() * 2)\n",
    "    \n",
    "    print(\"Estimate cross validation accuracy: %0.2f (+/- %0.2f)\" % (cross_validation_score.mean(), cross_validation_score.std() * 2))\n",
    "    print(\"Cross validation scores \" + str(cross_validation_score))\n",
    "    return cross_validation_score,estimated_accuracy\n"
   ]
  },
  {
   "cell_type": "code",
   "execution_count": 46,
   "metadata": {},
   "outputs": [
    {
     "name": "stderr",
     "output_type": "stream",
     "text": [
      "C:\\Users\\yuka\\Anaconda3\\lib\\site-packages\\sklearn\\ensemble\\_gb.py:1454: DataConversionWarning: A column-vector y was passed when a 1d array was expected. Please change the shape of y to (n_samples, ), for example using ravel().\n",
      "  y = column_or_1d(y, warn=True)\n",
      "C:\\Users\\yuka\\Anaconda3\\lib\\site-packages\\sklearn\\ensemble\\_gb.py:1454: DataConversionWarning: A column-vector y was passed when a 1d array was expected. Please change the shape of y to (n_samples, ), for example using ravel().\n",
      "  y = column_or_1d(y, warn=True)\n",
      "C:\\Users\\yuka\\Anaconda3\\lib\\site-packages\\sklearn\\ensemble\\_gb.py:1454: DataConversionWarning: A column-vector y was passed when a 1d array was expected. Please change the shape of y to (n_samples, ), for example using ravel().\n",
      "  y = column_or_1d(y, warn=True)\n",
      "C:\\Users\\yuka\\Anaconda3\\lib\\site-packages\\sklearn\\ensemble\\_gb.py:1454: DataConversionWarning: A column-vector y was passed when a 1d array was expected. Please change the shape of y to (n_samples, ), for example using ravel().\n",
      "  y = column_or_1d(y, warn=True)\n",
      "C:\\Users\\yuka\\Anaconda3\\lib\\site-packages\\sklearn\\ensemble\\_gb.py:1454: DataConversionWarning: A column-vector y was passed when a 1d array was expected. Please change the shape of y to (n_samples, ), for example using ravel().\n",
      "  y = column_or_1d(y, warn=True)\n"
     ]
    },
    {
     "name": "stdout",
     "output_type": "stream",
     "text": [
      "Estimate cross validation accuracy: 0.85 (+/- 0.01)\n",
      "Cross validation scores [0.84648569 0.85332492 0.8420665  0.84859007 0.84469697]\n"
     ]
    }
   ],
   "source": [
    "cross_validation_score_base_gbc,estimated_accuracy_base_gbc = return_x_val_accuracy(GBC,X_train,y_train)"
   ]
  },
  {
   "cell_type": "code",
   "execution_count": 47,
   "metadata": {},
   "outputs": [
    {
     "name": "stderr",
     "output_type": "stream",
     "text": [
      "C:\\Users\\yuka\\Anaconda3\\lib\\site-packages\\sklearn\\model_selection\\_validation.py:515: DataConversionWarning: A column-vector y was passed when a 1d array was expected. Please change the shape of y to (n_samples,), for example using ravel().\n",
      "  estimator.fit(X_train, y_train, **fit_params)\n",
      "C:\\Users\\yuka\\Anaconda3\\lib\\site-packages\\sklearn\\model_selection\\_validation.py:515: DataConversionWarning: A column-vector y was passed when a 1d array was expected. Please change the shape of y to (n_samples,), for example using ravel().\n",
      "  estimator.fit(X_train, y_train, **fit_params)\n",
      "C:\\Users\\yuka\\Anaconda3\\lib\\site-packages\\sklearn\\model_selection\\_validation.py:515: DataConversionWarning: A column-vector y was passed when a 1d array was expected. Please change the shape of y to (n_samples,), for example using ravel().\n",
      "  estimator.fit(X_train, y_train, **fit_params)\n",
      "C:\\Users\\yuka\\Anaconda3\\lib\\site-packages\\sklearn\\model_selection\\_validation.py:515: DataConversionWarning: A column-vector y was passed when a 1d array was expected. Please change the shape of y to (n_samples,), for example using ravel().\n",
      "  estimator.fit(X_train, y_train, **fit_params)\n",
      "C:\\Users\\yuka\\Anaconda3\\lib\\site-packages\\sklearn\\model_selection\\_validation.py:515: DataConversionWarning: A column-vector y was passed when a 1d array was expected. Please change the shape of y to (n_samples,), for example using ravel().\n",
      "  estimator.fit(X_train, y_train, **fit_params)\n"
     ]
    },
    {
     "name": "stdout",
     "output_type": "stream",
     "text": [
      "Estimate cross validation accuracy: 0.87 (+/- 0.00)\n",
      "Cross validation scores [0.87268519 0.87521044 0.86952862 0.87142256 0.87068603]\n"
     ]
    }
   ],
   "source": [
    "cross_validation_score_base_rfc,estimated_accuracy_base_rfc = return_x_val_accuracy(RFC,X_train,y_train)"
   ]
  },
  {
   "cell_type": "code",
   "execution_count": 48,
   "metadata": {},
   "outputs": [
    {
     "name": "stderr",
     "output_type": "stream",
     "text": [
      "C:\\Users\\yuka\\Anaconda3\\lib\\site-packages\\sklearn\\utils\\validation.py:760: DataConversionWarning: A column-vector y was passed when a 1d array was expected. Please change the shape of y to (n_samples, ), for example using ravel().\n",
      "  y = column_or_1d(y, warn=True)\n",
      "C:\\Users\\yuka\\Anaconda3\\lib\\site-packages\\sklearn\\utils\\validation.py:760: DataConversionWarning: A column-vector y was passed when a 1d array was expected. Please change the shape of y to (n_samples, ), for example using ravel().\n",
      "  y = column_or_1d(y, warn=True)\n",
      "C:\\Users\\yuka\\Anaconda3\\lib\\site-packages\\sklearn\\utils\\validation.py:760: DataConversionWarning: A column-vector y was passed when a 1d array was expected. Please change the shape of y to (n_samples, ), for example using ravel().\n",
      "  y = column_or_1d(y, warn=True)\n",
      "C:\\Users\\yuka\\Anaconda3\\lib\\site-packages\\sklearn\\utils\\validation.py:760: DataConversionWarning: A column-vector y was passed when a 1d array was expected. Please change the shape of y to (n_samples, ), for example using ravel().\n",
      "  y = column_or_1d(y, warn=True)\n",
      "C:\\Users\\yuka\\Anaconda3\\lib\\site-packages\\sklearn\\utils\\validation.py:760: DataConversionWarning: A column-vector y was passed when a 1d array was expected. Please change the shape of y to (n_samples, ), for example using ravel().\n",
      "  y = column_or_1d(y, warn=True)\n"
     ]
    },
    {
     "name": "stdout",
     "output_type": "stream",
     "text": [
      "Estimate cross validation accuracy: 0.84 (+/- 0.01)\n",
      "Cross validation scores [0.83901515 0.84122475 0.83164983 0.83743687 0.83154461]\n"
     ]
    }
   ],
   "source": [
    "cross_validation_score_base_svc,estimated_accuracy_base_svc = return_x_val_accuracy(svc,X_train,y_train)"
   ]
  },
  {
   "cell_type": "code",
   "execution_count": 49,
   "metadata": {},
   "outputs": [
    {
     "name": "stderr",
     "output_type": "stream",
     "text": [
      "C:\\Users\\yuka\\Anaconda3\\lib\\site-packages\\sklearn\\preprocessing\\_label.py:235: DataConversionWarning: A column-vector y was passed when a 1d array was expected. Please change the shape of y to (n_samples, ), for example using ravel().\n",
      "  y = column_or_1d(y, warn=True)\n",
      "C:\\Users\\yuka\\Anaconda3\\lib\\site-packages\\sklearn\\preprocessing\\_label.py:268: DataConversionWarning: A column-vector y was passed when a 1d array was expected. Please change the shape of y to (n_samples, ), for example using ravel().\n",
      "  y = column_or_1d(y, warn=True)\n"
     ]
    },
    {
     "name": "stdout",
     "output_type": "stream",
     "text": [
      "Estimate cross validation accuracy: 0.87 (+/- 0.01)\n",
      "Cross validation scores [0.86752946 0.87636785 0.86374158 0.87268519 0.86731902]\n"
     ]
    }
   ],
   "source": [
    "cross_validation_score_base_xgb,estimated_accuracy_base_xgb = return_x_val_accuracy(XGB,X_train,y_train)"
   ]
  },
  {
   "cell_type": "code",
   "execution_count": null,
   "metadata": {},
   "outputs": [],
   "source": []
  },
  {
   "cell_type": "code",
   "execution_count": 50,
   "metadata": {},
   "outputs": [],
   "source": [
    "def return_x_val_f1_macro(clf,X_train,y_train,kfold=5):\n",
    "    \"\"\"Return kfold cross validation scores of f1_macro and its mean kfold = 5 as default \"\"\"\n",
    "    cross_validation_score_f1 = cross_val_score(clf,X_train,y_train,cv=kfold,scoring='f1_macro')\n",
    "    estimated_f1 = (cross_validation_score_f1.mean(), cross_validation_score_f1.std() * 2)\n",
    "    \n",
    "    print(\"Estimate cross validation F1_macro: %0.2f (+/- %0.2f)\" % (cross_validation_score_f1.mean(), cross_validation_score_f1.std() * 2))\n",
    "    print(\"F1_macro Cross validation scores: \" + str(cross_validation_score_f1))\n",
    "    return cross_validation_score_f1,estimated_f1\n"
   ]
  },
  {
   "cell_type": "code",
   "execution_count": 52,
   "metadata": {},
   "outputs": [
    {
     "name": "stderr",
     "output_type": "stream",
     "text": [
      "C:\\Users\\yuka\\Anaconda3\\lib\\site-packages\\sklearn\\preprocessing\\_label.py:235: DataConversionWarning: A column-vector y was passed when a 1d array was expected. Please change the shape of y to (n_samples, ), for example using ravel().\n",
      "  y = column_or_1d(y, warn=True)\n",
      "C:\\Users\\yuka\\Anaconda3\\lib\\site-packages\\sklearn\\preprocessing\\_label.py:268: DataConversionWarning: A column-vector y was passed when a 1d array was expected. Please change the shape of y to (n_samples, ), for example using ravel().\n",
      "  y = column_or_1d(y, warn=True)\n"
     ]
    },
    {
     "name": "stdout",
     "output_type": "stream",
     "text": [
      "Estimate cross validation F1_macro: 0.81 (+/- 0.01)\n",
      "F1_macro Cross validation scores: [0.80488188 0.81480204 0.79617152 0.81192296 0.80342481]\n"
     ]
    }
   ],
   "source": [
    "cross_validation_score_f1_base_xgb,estimated_f1_base_xgb = return_x_val_f1_macro(XGB,X_train,y_train)"
   ]
  },
  {
   "cell_type": "code",
   "execution_count": 59,
   "metadata": {},
   "outputs": [
    {
     "data": {
      "text/plain": [
       "array([0.80488188, 0.81480204, 0.79617152, 0.81192296, 0.80342481])"
      ]
     },
     "execution_count": 59,
     "metadata": {},
     "output_type": "execute_result"
    }
   ],
   "source": [
    "cross_validation_score_f1_base_xgb"
   ]
  },
  {
   "cell_type": "code",
   "execution_count": 58,
   "metadata": {},
   "outputs": [
    {
     "data": {
      "text/plain": [
       "(0.8062406411928424, 0.01316810135582849)"
      ]
     },
     "execution_count": 58,
     "metadata": {},
     "output_type": "execute_result"
    }
   ],
   "source": [
    "estimated_f1_base_xgb\n"
   ]
  },
  {
   "cell_type": "code",
   "execution_count": 51,
   "metadata": {},
   "outputs": [
    {
     "name": "stderr",
     "output_type": "stream",
     "text": [
      "C:\\Users\\yuka\\Anaconda3\\lib\\site-packages\\sklearn\\ensemble\\_gb.py:1454: DataConversionWarning: A column-vector y was passed when a 1d array was expected. Please change the shape of y to (n_samples, ), for example using ravel().\n",
      "  y = column_or_1d(y, warn=True)\n",
      "C:\\Users\\yuka\\Anaconda3\\lib\\site-packages\\sklearn\\ensemble\\_gb.py:1454: DataConversionWarning: A column-vector y was passed when a 1d array was expected. Please change the shape of y to (n_samples, ), for example using ravel().\n",
      "  y = column_or_1d(y, warn=True)\n",
      "C:\\Users\\yuka\\Anaconda3\\lib\\site-packages\\sklearn\\ensemble\\_gb.py:1454: DataConversionWarning: A column-vector y was passed when a 1d array was expected. Please change the shape of y to (n_samples, ), for example using ravel().\n",
      "  y = column_or_1d(y, warn=True)\n",
      "C:\\Users\\yuka\\Anaconda3\\lib\\site-packages\\sklearn\\ensemble\\_gb.py:1454: DataConversionWarning: A column-vector y was passed when a 1d array was expected. Please change the shape of y to (n_samples, ), for example using ravel().\n",
      "  y = column_or_1d(y, warn=True)\n",
      "C:\\Users\\yuka\\Anaconda3\\lib\\site-packages\\sklearn\\ensemble\\_gb.py:1454: DataConversionWarning: A column-vector y was passed when a 1d array was expected. Please change the shape of y to (n_samples, ), for example using ravel().\n",
      "  y = column_or_1d(y, warn=True)\n"
     ]
    },
    {
     "name": "stdout",
     "output_type": "stream",
     "text": [
      "Estimate cross validation F1_macro: 0.78 (+/- 0.02)\n",
      "F1_macro Cross validation scores: [0.78297804 0.79311005 0.76543342 0.78836523 0.77935998]\n"
     ]
    }
   ],
   "source": [
    "cross_validation_score_f1_base_gbc,estimated_f1_base_gbc = return_x_val_f1_macro(GBC,X_train,y_train)"
   ]
  },
  {
   "cell_type": "code",
   "execution_count": 53,
   "metadata": {},
   "outputs": [
    {
     "name": "stderr",
     "output_type": "stream",
     "text": [
      "C:\\Users\\yuka\\Anaconda3\\lib\\site-packages\\sklearn\\model_selection\\_validation.py:515: DataConversionWarning: A column-vector y was passed when a 1d array was expected. Please change the shape of y to (n_samples,), for example using ravel().\n",
      "  estimator.fit(X_train, y_train, **fit_params)\n",
      "C:\\Users\\yuka\\Anaconda3\\lib\\site-packages\\sklearn\\model_selection\\_validation.py:515: DataConversionWarning: A column-vector y was passed when a 1d array was expected. Please change the shape of y to (n_samples,), for example using ravel().\n",
      "  estimator.fit(X_train, y_train, **fit_params)\n",
      "C:\\Users\\yuka\\Anaconda3\\lib\\site-packages\\sklearn\\model_selection\\_validation.py:515: DataConversionWarning: A column-vector y was passed when a 1d array was expected. Please change the shape of y to (n_samples,), for example using ravel().\n",
      "  estimator.fit(X_train, y_train, **fit_params)\n",
      "C:\\Users\\yuka\\Anaconda3\\lib\\site-packages\\sklearn\\model_selection\\_validation.py:515: DataConversionWarning: A column-vector y was passed when a 1d array was expected. Please change the shape of y to (n_samples,), for example using ravel().\n",
      "  estimator.fit(X_train, y_train, **fit_params)\n",
      "C:\\Users\\yuka\\Anaconda3\\lib\\site-packages\\sklearn\\model_selection\\_validation.py:515: DataConversionWarning: A column-vector y was passed when a 1d array was expected. Please change the shape of y to (n_samples,), for example using ravel().\n",
      "  estimator.fit(X_train, y_train, **fit_params)\n"
     ]
    },
    {
     "name": "stdout",
     "output_type": "stream",
     "text": [
      "Estimate cross validation F1_macro: 0.81 (+/- 0.01)\n",
      "F1_macro Cross validation scores: [0.80734946 0.81471298 0.79997518 0.81030385 0.81146923]\n"
     ]
    }
   ],
   "source": [
    "cross_validation_score_f1_base_rfc,estimated_f1_base_rfc = return_x_val_f1_macro(RFC,X_train,y_train)"
   ]
  },
  {
   "cell_type": "code",
   "execution_count": 54,
   "metadata": {},
   "outputs": [
    {
     "name": "stderr",
     "output_type": "stream",
     "text": [
      "C:\\Users\\yuka\\Anaconda3\\lib\\site-packages\\sklearn\\utils\\validation.py:760: DataConversionWarning: A column-vector y was passed when a 1d array was expected. Please change the shape of y to (n_samples, ), for example using ravel().\n",
      "  y = column_or_1d(y, warn=True)\n",
      "C:\\Users\\yuka\\Anaconda3\\lib\\site-packages\\sklearn\\utils\\validation.py:760: DataConversionWarning: A column-vector y was passed when a 1d array was expected. Please change the shape of y to (n_samples, ), for example using ravel().\n",
      "  y = column_or_1d(y, warn=True)\n",
      "C:\\Users\\yuka\\Anaconda3\\lib\\site-packages\\sklearn\\utils\\validation.py:760: DataConversionWarning: A column-vector y was passed when a 1d array was expected. Please change the shape of y to (n_samples, ), for example using ravel().\n",
      "  y = column_or_1d(y, warn=True)\n",
      "C:\\Users\\yuka\\Anaconda3\\lib\\site-packages\\sklearn\\utils\\validation.py:760: DataConversionWarning: A column-vector y was passed when a 1d array was expected. Please change the shape of y to (n_samples, ), for example using ravel().\n",
      "  y = column_or_1d(y, warn=True)\n",
      "C:\\Users\\yuka\\Anaconda3\\lib\\site-packages\\sklearn\\utils\\validation.py:760: DataConversionWarning: A column-vector y was passed when a 1d array was expected. Please change the shape of y to (n_samples, ), for example using ravel().\n",
      "  y = column_or_1d(y, warn=True)\n"
     ]
    },
    {
     "name": "stdout",
     "output_type": "stream",
     "text": [
      "Estimate cross validation F1_macro: 0.69 (+/- 0.02)\n",
      "F1_macro Cross validation scores: [0.70103363 0.70145815 0.68161111 0.69209729 0.68405866]\n"
     ]
    }
   ],
   "source": [
    "cross_validation_score_f1_base_svc,estimated_f1_base_svc = return_x_val_f1_macro(svc,X_train,y_train)"
   ]
  },
  {
   "cell_type": "code",
   "execution_count": 55,
   "metadata": {},
   "outputs": [],
   "source": [
    "results_x_val={'Classifier':[\"XGB Classifier\",\"Gradient Boosting Classifier\",\"Random Forest Classifier\",\"SVC\"],\n",
    "'Cross validation accuracy':[estimated_accuracy_base_xgb,estimated_accuracy_base_gbc,estimated_accuracy_base_rfc,estimated_accuracy_base_svc],\n",
    "'Cross validation F1_macro':[estimated_f1_base_xgb,estimated_f1_base_gbc,estimated_f1_base_rfc,estimated_f1_base_svc]}"
   ]
  },
  {
   "cell_type": "code",
   "execution_count": 56,
   "metadata": {},
   "outputs": [],
   "source": [
    "score_report_df_x_val_base =pd.DataFrame(data=results_x_val,columns=['Classifier','Cross validation accuracy','Cross validation F1_macro'])"
   ]
  },
  {
   "cell_type": "code",
   "execution_count": 57,
   "metadata": {},
   "outputs": [
    {
     "name": "stdout",
     "output_type": "stream",
     "text": [
      "Base models 5folds cross validation (Train_Test Split 80:20)\n"
     ]
    },
    {
     "data": {
      "text/html": [
       "<div>\n",
       "<style scoped>\n",
       "    .dataframe tbody tr th:only-of-type {\n",
       "        vertical-align: middle;\n",
       "    }\n",
       "\n",
       "    .dataframe tbody tr th {\n",
       "        vertical-align: top;\n",
       "    }\n",
       "\n",
       "    .dataframe thead th {\n",
       "        text-align: right;\n",
       "    }\n",
       "</style>\n",
       "<table border=\"1\" class=\"dataframe\">\n",
       "  <thead>\n",
       "    <tr style=\"text-align: right;\">\n",
       "      <th></th>\n",
       "      <th>Classifier</th>\n",
       "      <th>Cross validation accuracy</th>\n",
       "      <th>Cross validation F1_macro</th>\n",
       "    </tr>\n",
       "  </thead>\n",
       "  <tbody>\n",
       "    <tr>\n",
       "      <th>0</th>\n",
       "      <td>XGB Classifier</td>\n",
       "      <td>(0.8695286195286196, 0.008904275785594567)</td>\n",
       "      <td>(0.8062406411928424, 0.01316810135582849)</td>\n",
       "    </tr>\n",
       "    <tr>\n",
       "      <th>1</th>\n",
       "      <td>Gradient Boosting Classifier</td>\n",
       "      <td>(0.8470328282828283, 0.0076123787519490884)</td>\n",
       "      <td>(0.7818493446057356, 0.01889367499062976)</td>\n",
       "    </tr>\n",
       "    <tr>\n",
       "      <th>2</th>\n",
       "      <td>Random Forest Classifier</td>\n",
       "      <td>(0.8719065656565655, 0.003888488034495354)</td>\n",
       "      <td>(0.8087621418773745, 0.009972924824283975)</td>\n",
       "    </tr>\n",
       "    <tr>\n",
       "      <th>3</th>\n",
       "      <td>SVC</td>\n",
       "      <td>(0.8361742424242424, 0.007852457152775046)</td>\n",
       "      <td>(0.6920517702741111, 0.01654214233144192)</td>\n",
       "    </tr>\n",
       "  </tbody>\n",
       "</table>\n",
       "</div>"
      ],
      "text/plain": [
       "                     Classifier                    Cross validation accuracy  \\\n",
       "0                XGB Classifier   (0.8695286195286196, 0.008904275785594567)   \n",
       "1  Gradient Boosting Classifier  (0.8470328282828283, 0.0076123787519490884)   \n",
       "2      Random Forest Classifier   (0.8719065656565655, 0.003888488034495354)   \n",
       "3                           SVC   (0.8361742424242424, 0.007852457152775046)   \n",
       "\n",
       "                    Cross validation F1_macro  \n",
       "0   (0.8062406411928424, 0.01316810135582849)  \n",
       "1   (0.7818493446057356, 0.01889367499062976)  \n",
       "2  (0.8087621418773745, 0.009972924824283975)  \n",
       "3   (0.6920517702741111, 0.01654214233144192)  "
      ]
     },
     "execution_count": 57,
     "metadata": {},
     "output_type": "execute_result"
    }
   ],
   "source": [
    "print(\"Base models 5folds cross validation (Train_Test Split 80:20)\")\n",
    "score_report_df_x_val_base"
   ]
  },
  {
   "cell_type": "code",
   "execution_count": 100,
   "metadata": {},
   "outputs": [
    {
     "name": "stdout",
     "output_type": "stream",
     "text": [
      "Base models Train_Test Split 80:20 validation\n"
     ]
    },
    {
     "data": {
      "text/html": [
       "<div>\n",
       "<style scoped>\n",
       "    .dataframe tbody tr th:only-of-type {\n",
       "        vertical-align: middle;\n",
       "    }\n",
       "\n",
       "    .dataframe tbody tr th {\n",
       "        vertical-align: top;\n",
       "    }\n",
       "\n",
       "    .dataframe thead th {\n",
       "        text-align: right;\n",
       "    }\n",
       "</style>\n",
       "<table border=\"1\" class=\"dataframe\">\n",
       "  <thead>\n",
       "    <tr style=\"text-align: right;\">\n",
       "      <th></th>\n",
       "      <th>Classifier</th>\n",
       "      <th>Accuracy</th>\n",
       "      <th>F1_macro</th>\n",
       "    </tr>\n",
       "  </thead>\n",
       "  <tbody>\n",
       "    <tr>\n",
       "      <th>0</th>\n",
       "      <td>XGB Classifier</td>\n",
       "      <td>0.870455</td>\n",
       "      <td>0.804928</td>\n",
       "    </tr>\n",
       "    <tr>\n",
       "      <th>1</th>\n",
       "      <td>Gradient Boosting Classifier</td>\n",
       "      <td>0.847475</td>\n",
       "      <td>0.776302</td>\n",
       "    </tr>\n",
       "    <tr>\n",
       "      <th>2</th>\n",
       "      <td>Random Forest Classifier</td>\n",
       "      <td>0.876263</td>\n",
       "      <td>0.814413</td>\n",
       "    </tr>\n",
       "    <tr>\n",
       "      <th>3</th>\n",
       "      <td>SVC</td>\n",
       "      <td>0.837710</td>\n",
       "      <td>0.696662</td>\n",
       "    </tr>\n",
       "  </tbody>\n",
       "</table>\n",
       "</div>"
      ],
      "text/plain": [
       "                     Classifier  Accuracy  F1_macro\n",
       "0                XGB Classifier  0.870455  0.804928\n",
       "1  Gradient Boosting Classifier  0.847475  0.776302\n",
       "2      Random Forest Classifier  0.876263  0.814413\n",
       "3                           SVC  0.837710  0.696662"
      ]
     },
     "execution_count": 100,
     "metadata": {},
     "output_type": "execute_result"
    }
   ],
   "source": [
    "print(\"Base models Train_Test Split 80:20 validation\")\n",
    "score_report_df"
   ]
  },
  {
   "cell_type": "markdown",
   "metadata": {},
   "source": [
    "# Base mode, Resampling X_train and y_train"
   ]
  },
  {
   "cell_type": "code",
   "execution_count": 84,
   "metadata": {},
   "outputs": [],
   "source": [
    "XGB =XGBClassifier()\n",
    "XGB_clf_report_r, XGB_clf_acc_score_r, XGB_f1score_r = modeling(XGB,X_train_resampled2,y_train_resampled2,X_test,y_test)"
   ]
  },
  {
   "cell_type": "code",
   "execution_count": 86,
   "metadata": {},
   "outputs": [
    {
     "name": "stdout",
     "output_type": "stream",
     "text": [
      "                         precision    recall  f1-score   support\n",
      "\n",
      "             functional       0.90      0.84      0.86      6457\n",
      "functional needs repair       0.43      0.76      0.55       851\n",
      "         non functional       0.88      0.84      0.86      4572\n",
      "\n",
      "               accuracy                           0.83     11880\n",
      "              macro avg       0.74      0.81      0.76     11880\n",
      "           weighted avg       0.86      0.83      0.84     11880\n",
      "\n"
     ]
    }
   ],
   "source": [
    "print(XGB_clf_report_r)"
   ]
  },
  {
   "cell_type": "code",
   "execution_count": 87,
   "metadata": {},
   "outputs": [
    {
     "name": "stderr",
     "output_type": "stream",
     "text": [
      "C:\\Users\\yuka\\Anaconda3\\lib\\site-packages\\sklearn\\ensemble\\_gb.py:1454: DataConversionWarning: A column-vector y was passed when a 1d array was expected. Please change the shape of y to (n_samples, ), for example using ravel().\n",
      "  y = column_or_1d(y, warn=True)\n",
      "C:\\Users\\yuka\\Anaconda3\\lib\\site-packages\\ipykernel_launcher.py:4: DataConversionWarning: A column-vector y was passed when a 1d array was expected. Please change the shape of y to (n_samples,), for example using ravel().\n",
      "  after removing the cwd from sys.path.\n",
      "C:\\Users\\yuka\\Anaconda3\\lib\\site-packages\\sklearn\\utils\\validation.py:760: DataConversionWarning: A column-vector y was passed when a 1d array was expected. Please change the shape of y to (n_samples, ), for example using ravel().\n",
      "  y = column_or_1d(y, warn=True)\n"
     ]
    }
   ],
   "source": [
    "\n",
    "GBC = GradientBoostingClassifier()\n",
    "GBC_clf_report_r, GBC_clf_acc_score_r, GBC_f1score_r = modeling(GBC,X_train_resampled2,y_train_resampled2,X_test,y_test)\n",
    "\n",
    "\n",
    "RFC =RandomForestClassifier()\n",
    "RFC_clf_report_r, RFC_clf_acc_score_r, RFC_f1score_r = modeling(RFC,X_train_resampled2,y_train_resampled2,X_test,y_test)\n",
    "\n",
    "svc =SVC()\n",
    "svc_clf_report_r, svc_clf_acc_score_r, svc_f1score_r = modeling(svc,X_train_resampled2,y_train_resampled2,X_test,y_test)\n"
   ]
  },
  {
   "cell_type": "code",
   "execution_count": null,
   "metadata": {},
   "outputs": [],
   "source": []
  },
  {
   "cell_type": "code",
   "execution_count": 88,
   "metadata": {},
   "outputs": [],
   "source": [
    "results_base_r={'Classifier':[\"XGB Classifier\",\"Gradient Boosting Classifier\",\"Random Forest Classifier\",\"SVC\"],\n",
    "'Resampling Accuracy':[XGB_clf_acc_score_r,GBC_clf_acc_score_r,RFC_clf_acc_score_r,svc_clf_acc_score_r],\n",
    "'Resampling F1_macro':[XGB_f1score_r,GBC_f1score_r,RFC_f1score_r,svc_f1score_r]}"
   ]
  },
  {
   "cell_type": "code",
   "execution_count": 89,
   "metadata": {},
   "outputs": [
    {
     "name": "stdout",
     "output_type": "stream",
     "text": [
      "                     Classifier  Resampling Accuracy  Resampling F1_macro\n",
      "0                XGB Classifier             0.831650             0.757909\n",
      "1  Gradient Boosting Classifier             0.780808             0.703733\n",
      "2      Random Forest Classifier             0.828199             0.753421\n",
      "3                           SVC             0.810774             0.734234\n"
     ]
    }
   ],
   "source": [
    "score_report_df_base_r =pd.DataFrame(data=results_base_r,columns=[\"Classifier\",\"Resampling Accuracy\",\"Resampling F1_macro\"])\n",
    "print(score_report_df_base_r)"
   ]
  },
  {
   "cell_type": "code",
   "execution_count": 90,
   "metadata": {},
   "outputs": [
    {
     "name": "stdout",
     "output_type": "stream",
     "text": [
      "Base models trained by resampled Train_Test Split 80:20 validation\n"
     ]
    },
    {
     "data": {
      "text/html": [
       "<div>\n",
       "<style scoped>\n",
       "    .dataframe tbody tr th:only-of-type {\n",
       "        vertical-align: middle;\n",
       "    }\n",
       "\n",
       "    .dataframe tbody tr th {\n",
       "        vertical-align: top;\n",
       "    }\n",
       "\n",
       "    .dataframe thead th {\n",
       "        text-align: right;\n",
       "    }\n",
       "</style>\n",
       "<table border=\"1\" class=\"dataframe\">\n",
       "  <thead>\n",
       "    <tr style=\"text-align: right;\">\n",
       "      <th></th>\n",
       "      <th>Classifier</th>\n",
       "      <th>Resampling Accuracy</th>\n",
       "      <th>Resampling F1_macro</th>\n",
       "    </tr>\n",
       "  </thead>\n",
       "  <tbody>\n",
       "    <tr>\n",
       "      <th>0</th>\n",
       "      <td>XGB Classifier</td>\n",
       "      <td>0.831650</td>\n",
       "      <td>0.757909</td>\n",
       "    </tr>\n",
       "    <tr>\n",
       "      <th>1</th>\n",
       "      <td>Gradient Boosting Classifier</td>\n",
       "      <td>0.780808</td>\n",
       "      <td>0.703733</td>\n",
       "    </tr>\n",
       "    <tr>\n",
       "      <th>2</th>\n",
       "      <td>Random Forest Classifier</td>\n",
       "      <td>0.828199</td>\n",
       "      <td>0.753421</td>\n",
       "    </tr>\n",
       "    <tr>\n",
       "      <th>3</th>\n",
       "      <td>SVC</td>\n",
       "      <td>0.810774</td>\n",
       "      <td>0.734234</td>\n",
       "    </tr>\n",
       "  </tbody>\n",
       "</table>\n",
       "</div>"
      ],
      "text/plain": [
       "                     Classifier  Resampling Accuracy  Resampling F1_macro\n",
       "0                XGB Classifier             0.831650             0.757909\n",
       "1  Gradient Boosting Classifier             0.780808             0.703733\n",
       "2      Random Forest Classifier             0.828199             0.753421\n",
       "3                           SVC             0.810774             0.734234"
      ]
     },
     "execution_count": 90,
     "metadata": {},
     "output_type": "execute_result"
    }
   ],
   "source": [
    "print(\"Base models trained by resampled Train_Test Split 80:20 validation\")\n",
    "score_report_df_base_r"
   ]
  },
  {
   "cell_type": "code",
   "execution_count": 91,
   "metadata": {},
   "outputs": [
    {
     "data": {
      "text/html": [
       "<div>\n",
       "<style scoped>\n",
       "    .dataframe tbody tr th:only-of-type {\n",
       "        vertical-align: middle;\n",
       "    }\n",
       "\n",
       "    .dataframe tbody tr th {\n",
       "        vertical-align: top;\n",
       "    }\n",
       "\n",
       "    .dataframe thead th {\n",
       "        text-align: right;\n",
       "    }\n",
       "</style>\n",
       "<table border=\"1\" class=\"dataframe\">\n",
       "  <thead>\n",
       "    <tr style=\"text-align: right;\">\n",
       "      <th></th>\n",
       "      <th>Classifier</th>\n",
       "      <th>Accuracy</th>\n",
       "      <th>F1_macro</th>\n",
       "    </tr>\n",
       "  </thead>\n",
       "  <tbody>\n",
       "    <tr>\n",
       "      <th>0</th>\n",
       "      <td>XGB Classifier</td>\n",
       "      <td>0.870455</td>\n",
       "      <td>0.804928</td>\n",
       "    </tr>\n",
       "    <tr>\n",
       "      <th>1</th>\n",
       "      <td>Gradient Boosting Classifier</td>\n",
       "      <td>0.847475</td>\n",
       "      <td>0.776302</td>\n",
       "    </tr>\n",
       "    <tr>\n",
       "      <th>2</th>\n",
       "      <td>Random Forest Classifier</td>\n",
       "      <td>0.876263</td>\n",
       "      <td>0.814413</td>\n",
       "    </tr>\n",
       "    <tr>\n",
       "      <th>3</th>\n",
       "      <td>SVC</td>\n",
       "      <td>0.837710</td>\n",
       "      <td>0.696662</td>\n",
       "    </tr>\n",
       "  </tbody>\n",
       "</table>\n",
       "</div>"
      ],
      "text/plain": [
       "                     Classifier  Accuracy  F1_macro\n",
       "0                XGB Classifier  0.870455  0.804928\n",
       "1  Gradient Boosting Classifier  0.847475  0.776302\n",
       "2      Random Forest Classifier  0.876263  0.814413\n",
       "3                           SVC  0.837710  0.696662"
      ]
     },
     "execution_count": 91,
     "metadata": {},
     "output_type": "execute_result"
    }
   ],
   "source": [
    "score_report_df"
   ]
  },
  {
   "cell_type": "code",
   "execution_count": null,
   "metadata": {},
   "outputs": [],
   "source": []
  },
  {
   "cell_type": "markdown",
   "metadata": {},
   "source": [
    "# base model Corss validation with resampling "
   ]
  },
  {
   "cell_type": "markdown",
   "metadata": {},
   "source": [
    "# accuracy"
   ]
  },
  {
   "cell_type": "code",
   "execution_count": null,
   "metadata": {},
   "outputs": [],
   "source": [
    "def return_x_val_accuracy(clf,X_train,y_train,kfold=5):\n",
    "    \"\"\"Return kfold cross validation scores of accuracy and its mean. kfold = 5 as default \"\"\"\n",
    "    cross_validation_score = cross_val_score(clf,X_train,y_train,cv=kfold)\n",
    "    estimated_accuracy = (cross_validation_score.mean(), cross_validation_score.std() * 2)\n",
    "    \n",
    "    print(\"Estimate cross validation accuracy: %0.2f (+/- %0.2f)\" % (cross_validation_score.mean(), cross_validation_score.std() * 2))\n",
    "    print(\"Cross validation scores \" + str(cross_validation_score))\n",
    "    return cross_validation_score,estimated_accuracy"
   ]
  },
  {
   "cell_type": "code",
   "execution_count": 92,
   "metadata": {},
   "outputs": [
    {
     "name": "stderr",
     "output_type": "stream",
     "text": [
      "C:\\Users\\yuka\\Anaconda3\\lib\\site-packages\\sklearn\\preprocessing\\_label.py:235: DataConversionWarning: A column-vector y was passed when a 1d array was expected. Please change the shape of y to (n_samples, ), for example using ravel().\n",
      "  y = column_or_1d(y, warn=True)\n",
      "C:\\Users\\yuka\\Anaconda3\\lib\\site-packages\\sklearn\\preprocessing\\_label.py:268: DataConversionWarning: A column-vector y was passed when a 1d array was expected. Please change the shape of y to (n_samples, ), for example using ravel().\n",
      "  y = column_or_1d(y, warn=True)\n"
     ]
    },
    {
     "name": "stdout",
     "output_type": "stream",
     "text": [
      "Estimate cross validation accuracy: 0.97 (+/- 0.01)\n",
      "Cross validation scores [0.96307012 0.976855   0.9758339  0.97251532 0.96451668]\n"
     ]
    }
   ],
   "source": [
    "cross_validation_score_base_xgb_r,estimated_accuracy_base_xgb_r = return_x_val_accuracy(XGB,X_train_resampled2,y_train_resampled2)"
   ]
  },
  {
   "cell_type": "code",
   "execution_count": 93,
   "metadata": {},
   "outputs": [
    {
     "name": "stderr",
     "output_type": "stream",
     "text": [
      "C:\\Users\\yuka\\Anaconda3\\lib\\site-packages\\sklearn\\ensemble\\_gb.py:1454: DataConversionWarning: A column-vector y was passed when a 1d array was expected. Please change the shape of y to (n_samples, ), for example using ravel().\n",
      "  y = column_or_1d(y, warn=True)\n",
      "C:\\Users\\yuka\\Anaconda3\\lib\\site-packages\\sklearn\\ensemble\\_gb.py:1454: DataConversionWarning: A column-vector y was passed when a 1d array was expected. Please change the shape of y to (n_samples, ), for example using ravel().\n",
      "  y = column_or_1d(y, warn=True)\n",
      "C:\\Users\\yuka\\Anaconda3\\lib\\site-packages\\sklearn\\ensemble\\_gb.py:1454: DataConversionWarning: A column-vector y was passed when a 1d array was expected. Please change the shape of y to (n_samples, ), for example using ravel().\n",
      "  y = column_or_1d(y, warn=True)\n",
      "C:\\Users\\yuka\\Anaconda3\\lib\\site-packages\\sklearn\\ensemble\\_gb.py:1454: DataConversionWarning: A column-vector y was passed when a 1d array was expected. Please change the shape of y to (n_samples, ), for example using ravel().\n",
      "  y = column_or_1d(y, warn=True)\n",
      "C:\\Users\\yuka\\Anaconda3\\lib\\site-packages\\sklearn\\ensemble\\_gb.py:1454: DataConversionWarning: A column-vector y was passed when a 1d array was expected. Please change the shape of y to (n_samples, ), for example using ravel().\n",
      "  y = column_or_1d(y, warn=True)\n"
     ]
    },
    {
     "name": "stdout",
     "output_type": "stream",
     "text": [
      "Estimate cross validation accuracy: 0.91 (+/- 0.01)\n",
      "Cross validation scores [0.90622873 0.90818584 0.9127808  0.90537781 0.8980599 ]\n"
     ]
    }
   ],
   "source": [
    "cross_validation_score_base_gbc_r,estimated_accuracy_base_gbc_r = return_x_val_accuracy(GBC,X_train_resampled2,y_train_resampled2)"
   ]
  },
  {
   "cell_type": "code",
   "execution_count": 94,
   "metadata": {},
   "outputs": [
    {
     "name": "stderr",
     "output_type": "stream",
     "text": [
      "C:\\Users\\yuka\\Anaconda3\\lib\\site-packages\\sklearn\\model_selection\\_validation.py:515: DataConversionWarning: A column-vector y was passed when a 1d array was expected. Please change the shape of y to (n_samples,), for example using ravel().\n",
      "  estimator.fit(X_train, y_train, **fit_params)\n",
      "C:\\Users\\yuka\\Anaconda3\\lib\\site-packages\\sklearn\\model_selection\\_validation.py:515: DataConversionWarning: A column-vector y was passed when a 1d array was expected. Please change the shape of y to (n_samples,), for example using ravel().\n",
      "  estimator.fit(X_train, y_train, **fit_params)\n",
      "C:\\Users\\yuka\\Anaconda3\\lib\\site-packages\\sklearn\\model_selection\\_validation.py:515: DataConversionWarning: A column-vector y was passed when a 1d array was expected. Please change the shape of y to (n_samples,), for example using ravel().\n",
      "  estimator.fit(X_train, y_train, **fit_params)\n",
      "C:\\Users\\yuka\\Anaconda3\\lib\\site-packages\\sklearn\\model_selection\\_validation.py:515: DataConversionWarning: A column-vector y was passed when a 1d array was expected. Please change the shape of y to (n_samples,), for example using ravel().\n",
      "  estimator.fit(X_train, y_train, **fit_params)\n",
      "C:\\Users\\yuka\\Anaconda3\\lib\\site-packages\\sklearn\\model_selection\\_validation.py:515: DataConversionWarning: A column-vector y was passed when a 1d array was expected. Please change the shape of y to (n_samples,), for example using ravel().\n",
      "  estimator.fit(X_train, y_train, **fit_params)\n"
     ]
    },
    {
     "name": "stdout",
     "output_type": "stream",
     "text": [
      "Estimate cross validation accuracy: 0.99 (+/- 0.00)\n",
      "Cross validation scores [0.98604493 0.98919333 0.99140572 0.98970388 0.98468346]\n"
     ]
    }
   ],
   "source": [
    "cross_validation_score_base_rfc_r,estimated_accuracy_base_rfc_r = return_x_val_accuracy(RFC,X_train_resampled2,y_train_resampled2)"
   ]
  },
  {
   "cell_type": "code",
   "execution_count": 95,
   "metadata": {},
   "outputs": [
    {
     "name": "stderr",
     "output_type": "stream",
     "text": [
      "C:\\Users\\yuka\\Anaconda3\\lib\\site-packages\\sklearn\\utils\\validation.py:760: DataConversionWarning: A column-vector y was passed when a 1d array was expected. Please change the shape of y to (n_samples, ), for example using ravel().\n",
      "  y = column_or_1d(y, warn=True)\n",
      "C:\\Users\\yuka\\Anaconda3\\lib\\site-packages\\sklearn\\utils\\validation.py:760: DataConversionWarning: A column-vector y was passed when a 1d array was expected. Please change the shape of y to (n_samples, ), for example using ravel().\n",
      "  y = column_or_1d(y, warn=True)\n",
      "C:\\Users\\yuka\\Anaconda3\\lib\\site-packages\\sklearn\\utils\\validation.py:760: DataConversionWarning: A column-vector y was passed when a 1d array was expected. Please change the shape of y to (n_samples, ), for example using ravel().\n",
      "  y = column_or_1d(y, warn=True)\n",
      "C:\\Users\\yuka\\Anaconda3\\lib\\site-packages\\sklearn\\utils\\validation.py:760: DataConversionWarning: A column-vector y was passed when a 1d array was expected. Please change the shape of y to (n_samples, ), for example using ravel().\n",
      "  y = column_or_1d(y, warn=True)\n",
      "C:\\Users\\yuka\\Anaconda3\\lib\\site-packages\\sklearn\\utils\\validation.py:760: DataConversionWarning: A column-vector y was passed when a 1d array was expected. Please change the shape of y to (n_samples, ), for example using ravel().\n",
      "  y = column_or_1d(y, warn=True)\n"
     ]
    },
    {
     "name": "stdout",
     "output_type": "stream",
     "text": [
      "Estimate cross validation accuracy: 0.94 (+/- 0.01)\n",
      "Cross validation scores [0.93626617 0.9485194  0.94911504 0.94528591 0.93745745]\n"
     ]
    }
   ],
   "source": [
    "cross_validation_score_base_svc_r,estimated_accuracy_base_svc_r = return_x_val_accuracy(svc,X_train_resampled2,y_train_resampled2)"
   ]
  },
  {
   "cell_type": "markdown",
   "metadata": {},
   "source": [
    "# f1_macro"
   ]
  },
  {
   "cell_type": "code",
   "execution_count": null,
   "metadata": {},
   "outputs": [],
   "source": [
    "def return_x_val_f1_macro(clf,X_train,y_train,kfold=5):\n",
    "    \"\"\"Return kfold cross validation scores of f1_macro and its mean kfold = 5 as default \"\"\"\n",
    "    cross_validation_score_f1 = cross_val_score(clf,X_train,y_train,cv=kfold,scoring='f1_macro')\n",
    "    estimated_f1 = (cross_validation_score_f1.mean(), cross_validation_score_f1.std() * 2)\n",
    "    \n",
    "    print(\"Estimate cross validation F1_macro: %0.2f (+/- %0.2f)\" % (cross_validation_score_f1.mean(), cross_validation_score_f1.std() * 2))\n",
    "    print(\"F1_macro Cross validation scores: \" + str(cross_validation_score_f1))\n",
    "    return cross_validation_score_f1,estimated_f1"
   ]
  },
  {
   "cell_type": "code",
   "execution_count": 96,
   "metadata": {},
   "outputs": [
    {
     "name": "stderr",
     "output_type": "stream",
     "text": [
      "C:\\Users\\yuka\\Anaconda3\\lib\\site-packages\\sklearn\\preprocessing\\_label.py:235: DataConversionWarning: A column-vector y was passed when a 1d array was expected. Please change the shape of y to (n_samples, ), for example using ravel().\n",
      "  y = column_or_1d(y, warn=True)\n",
      "C:\\Users\\yuka\\Anaconda3\\lib\\site-packages\\sklearn\\preprocessing\\_label.py:268: DataConversionWarning: A column-vector y was passed when a 1d array was expected. Please change the shape of y to (n_samples, ), for example using ravel().\n",
      "  y = column_or_1d(y, warn=True)\n"
     ]
    },
    {
     "name": "stdout",
     "output_type": "stream",
     "text": [
      "Estimate cross validation F1_macro: 0.97 (+/- 0.01)\n",
      "F1_macro Cross validation scores: [0.96266002 0.97611001 0.97509029 0.97221646 0.96438188]\n"
     ]
    }
   ],
   "source": [
    "cross_validation_score_f1_base_xgb_r,estimated_f1_base_xgb_r = return_x_val_f1_macro(XGB,X_train_resampled2,y_train_resampled2)"
   ]
  },
  {
   "cell_type": "code",
   "execution_count": 97,
   "metadata": {},
   "outputs": [
    {
     "name": "stderr",
     "output_type": "stream",
     "text": [
      "C:\\Users\\yuka\\Anaconda3\\lib\\site-packages\\sklearn\\ensemble\\_gb.py:1454: DataConversionWarning: A column-vector y was passed when a 1d array was expected. Please change the shape of y to (n_samples, ), for example using ravel().\n",
      "  y = column_or_1d(y, warn=True)\n",
      "C:\\Users\\yuka\\Anaconda3\\lib\\site-packages\\sklearn\\ensemble\\_gb.py:1454: DataConversionWarning: A column-vector y was passed when a 1d array was expected. Please change the shape of y to (n_samples, ), for example using ravel().\n",
      "  y = column_or_1d(y, warn=True)\n",
      "C:\\Users\\yuka\\Anaconda3\\lib\\site-packages\\sklearn\\ensemble\\_gb.py:1454: DataConversionWarning: A column-vector y was passed when a 1d array was expected. Please change the shape of y to (n_samples, ), for example using ravel().\n",
      "  y = column_or_1d(y, warn=True)\n",
      "C:\\Users\\yuka\\Anaconda3\\lib\\site-packages\\sklearn\\ensemble\\_gb.py:1454: DataConversionWarning: A column-vector y was passed when a 1d array was expected. Please change the shape of y to (n_samples, ), for example using ravel().\n",
      "  y = column_or_1d(y, warn=True)\n",
      "C:\\Users\\yuka\\Anaconda3\\lib\\site-packages\\sklearn\\ensemble\\_gb.py:1454: DataConversionWarning: A column-vector y was passed when a 1d array was expected. Please change the shape of y to (n_samples, ), for example using ravel().\n",
      "  y = column_or_1d(y, warn=True)\n"
     ]
    },
    {
     "name": "stdout",
     "output_type": "stream",
     "text": [
      "Estimate cross validation F1_macro: 0.91 (+/- 0.01)\n",
      "F1_macro Cross validation scores: [0.90580875 0.90729506 0.91218463 0.90459094 0.89731111]\n"
     ]
    }
   ],
   "source": [
    "cross_validation_score_f1_base_gbc_r,estimated_f1_base_gbc_r = return_x_val_f1_macro(GBC,X_train_resampled2,y_train_resampled2)"
   ]
  },
  {
   "cell_type": "code",
   "execution_count": 98,
   "metadata": {},
   "outputs": [
    {
     "name": "stderr",
     "output_type": "stream",
     "text": [
      "C:\\Users\\yuka\\Anaconda3\\lib\\site-packages\\sklearn\\model_selection\\_validation.py:515: DataConversionWarning: A column-vector y was passed when a 1d array was expected. Please change the shape of y to (n_samples,), for example using ravel().\n",
      "  estimator.fit(X_train, y_train, **fit_params)\n",
      "C:\\Users\\yuka\\Anaconda3\\lib\\site-packages\\sklearn\\model_selection\\_validation.py:515: DataConversionWarning: A column-vector y was passed when a 1d array was expected. Please change the shape of y to (n_samples,), for example using ravel().\n",
      "  estimator.fit(X_train, y_train, **fit_params)\n",
      "C:\\Users\\yuka\\Anaconda3\\lib\\site-packages\\sklearn\\model_selection\\_validation.py:515: DataConversionWarning: A column-vector y was passed when a 1d array was expected. Please change the shape of y to (n_samples,), for example using ravel().\n",
      "  estimator.fit(X_train, y_train, **fit_params)\n",
      "C:\\Users\\yuka\\Anaconda3\\lib\\site-packages\\sklearn\\model_selection\\_validation.py:515: DataConversionWarning: A column-vector y was passed when a 1d array was expected. Please change the shape of y to (n_samples,), for example using ravel().\n",
      "  estimator.fit(X_train, y_train, **fit_params)\n",
      "C:\\Users\\yuka\\Anaconda3\\lib\\site-packages\\sklearn\\model_selection\\_validation.py:515: DataConversionWarning: A column-vector y was passed when a 1d array was expected. Please change the shape of y to (n_samples,), for example using ravel().\n",
      "  estimator.fit(X_train, y_train, **fit_params)\n"
     ]
    },
    {
     "name": "stdout",
     "output_type": "stream",
     "text": [
      "Estimate cross validation F1_macro: 0.99 (+/- 0.00)\n",
      "F1_macro Cross validation scores: [0.98662963 0.98982552 0.99117314 0.98859276 0.98440595]\n"
     ]
    }
   ],
   "source": [
    "cross_validation_score_f1_base_rfc_r,estimated_f1_base_rfc_r = return_x_val_f1_macro(RFC,X_train_resampled2,y_train_resampled2)"
   ]
  },
  {
   "cell_type": "code",
   "execution_count": 99,
   "metadata": {},
   "outputs": [
    {
     "name": "stderr",
     "output_type": "stream",
     "text": [
      "C:\\Users\\yuka\\Anaconda3\\lib\\site-packages\\sklearn\\utils\\validation.py:760: DataConversionWarning: A column-vector y was passed when a 1d array was expected. Please change the shape of y to (n_samples, ), for example using ravel().\n",
      "  y = column_or_1d(y, warn=True)\n",
      "C:\\Users\\yuka\\Anaconda3\\lib\\site-packages\\sklearn\\utils\\validation.py:760: DataConversionWarning: A column-vector y was passed when a 1d array was expected. Please change the shape of y to (n_samples, ), for example using ravel().\n",
      "  y = column_or_1d(y, warn=True)\n",
      "C:\\Users\\yuka\\Anaconda3\\lib\\site-packages\\sklearn\\utils\\validation.py:760: DataConversionWarning: A column-vector y was passed when a 1d array was expected. Please change the shape of y to (n_samples, ), for example using ravel().\n",
      "  y = column_or_1d(y, warn=True)\n",
      "C:\\Users\\yuka\\Anaconda3\\lib\\site-packages\\sklearn\\utils\\validation.py:760: DataConversionWarning: A column-vector y was passed when a 1d array was expected. Please change the shape of y to (n_samples, ), for example using ravel().\n",
      "  y = column_or_1d(y, warn=True)\n",
      "C:\\Users\\yuka\\Anaconda3\\lib\\site-packages\\sklearn\\utils\\validation.py:760: DataConversionWarning: A column-vector y was passed when a 1d array was expected. Please change the shape of y to (n_samples, ), for example using ravel().\n",
      "  y = column_or_1d(y, warn=True)\n"
     ]
    },
    {
     "name": "stdout",
     "output_type": "stream",
     "text": [
      "Estimate cross validation F1_macro: 0.94 (+/- 0.01)\n",
      "F1_macro Cross validation scores: [0.93599725 0.94760576 0.94818757 0.94474342 0.93725469]\n"
     ]
    }
   ],
   "source": [
    "cross_validation_score_f1_base_svc_r,estimated_f1_base_svc_r = return_x_val_f1_macro(svc,X_train_resampled2,y_train_resampled2)"
   ]
  },
  {
   "cell_type": "code",
   "execution_count": null,
   "metadata": {},
   "outputs": [],
   "source": []
  },
  {
   "cell_type": "code",
   "execution_count": 101,
   "metadata": {},
   "outputs": [],
   "source": [
    "results_x_val_r={'Classifier':[\"XGB Classifier\",\"Gradient Boosting Classifier\",\"Random Forest Classifier\",\"SVC\"],\n",
    "'Cross validation accuracy with resampled data':[estimated_accuracy_base_xgb_r,estimated_accuracy_base_gbc_r,estimated_accuracy_base_rfc_r,estimated_accuracy_base_svc_r],\n",
    "'Cross validation F1_macro with resampled data':[estimated_f1_base_xgb_r,estimated_f1_base_gbc_r,estimated_f1_base_rfc_r,estimated_f1_base_svc_r]}"
   ]
  },
  {
   "cell_type": "code",
   "execution_count": 102,
   "metadata": {},
   "outputs": [],
   "source": [
    "score_report_df_x_val_base_r =pd.DataFrame(data=results_x_val_r,columns=['Classifier','Cross validation accuracy with resampled data','Cross validation F1_macro with resampled data'])"
   ]
  },
  {
   "cell_type": "code",
   "execution_count": 104,
   "metadata": {},
   "outputs": [
    {
     "name": "stdout",
     "output_type": "stream",
     "text": [
      "Base models 5folds cross validation (Resampled Train_Test Split 80:20)\n"
     ]
    },
    {
     "data": {
      "text/html": [
       "<div>\n",
       "<style scoped>\n",
       "    .dataframe tbody tr th:only-of-type {\n",
       "        vertical-align: middle;\n",
       "    }\n",
       "\n",
       "    .dataframe tbody tr th {\n",
       "        vertical-align: top;\n",
       "    }\n",
       "\n",
       "    .dataframe thead th {\n",
       "        text-align: right;\n",
       "    }\n",
       "</style>\n",
       "<table border=\"1\" class=\"dataframe\">\n",
       "  <thead>\n",
       "    <tr style=\"text-align: right;\">\n",
       "      <th></th>\n",
       "      <th>Classifier</th>\n",
       "      <th>Cross validation accuracy with resampled data</th>\n",
       "      <th>Cross validation F1_macro with resampled data</th>\n",
       "    </tr>\n",
       "  </thead>\n",
       "  <tbody>\n",
       "    <tr>\n",
       "      <th>0</th>\n",
       "      <td>XGB Classifier</td>\n",
       "      <td>(0.9705582028590879, 0.011450220932560842)</td>\n",
       "      <td>(0.9700917345566253, 0.011083407288021587)</td>\n",
       "    </tr>\n",
       "    <tr>\n",
       "      <th>1</th>\n",
       "      <td>Gradient Boosting Classifier</td>\n",
       "      <td>(0.9061266167460857, 0.009556634799652016)</td>\n",
       "      <td>(0.9054380985831475, 0.009627753752311638)</td>\n",
       "    </tr>\n",
       "    <tr>\n",
       "      <th>2</th>\n",
       "      <td>Random Forest Classifier</td>\n",
       "      <td>(0.9882062627637849, 0.00494248442749251)</td>\n",
       "      <td>(0.988125398923953, 0.004772351814089159)</td>\n",
       "    </tr>\n",
       "    <tr>\n",
       "      <th>3</th>\n",
       "      <td>SVC</td>\n",
       "      <td>(0.9433287950987065, 0.01090345696278827)</td>\n",
       "      <td>(0.9427577394051878, 0.010311817873475565)</td>\n",
       "    </tr>\n",
       "  </tbody>\n",
       "</table>\n",
       "</div>"
      ],
      "text/plain": [
       "                     Classifier Cross validation accuracy with resampled data  \\\n",
       "0                XGB Classifier    (0.9705582028590879, 0.011450220932560842)   \n",
       "1  Gradient Boosting Classifier    (0.9061266167460857, 0.009556634799652016)   \n",
       "2      Random Forest Classifier     (0.9882062627637849, 0.00494248442749251)   \n",
       "3                           SVC     (0.9433287950987065, 0.01090345696278827)   \n",
       "\n",
       "  Cross validation F1_macro with resampled data  \n",
       "0    (0.9700917345566253, 0.011083407288021587)  \n",
       "1    (0.9054380985831475, 0.009627753752311638)  \n",
       "2     (0.988125398923953, 0.004772351814089159)  \n",
       "3    (0.9427577394051878, 0.010311817873475565)  "
      ]
     },
     "execution_count": 104,
     "metadata": {},
     "output_type": "execute_result"
    }
   ],
   "source": [
    "print(\"Base models 5folds cross validation (Resampled Train_Test Split 80:20)\")\n",
    "score_report_df_x_val_base_r"
   ]
  },
  {
   "cell_type": "code",
   "execution_count": 111,
   "metadata": {},
   "outputs": [
    {
     "data": {
      "text/html": [
       "<div>\n",
       "<style scoped>\n",
       "    .dataframe tbody tr th:only-of-type {\n",
       "        vertical-align: middle;\n",
       "    }\n",
       "\n",
       "    .dataframe tbody tr th {\n",
       "        vertical-align: top;\n",
       "    }\n",
       "\n",
       "    .dataframe thead th {\n",
       "        text-align: right;\n",
       "    }\n",
       "</style>\n",
       "<table border=\"1\" class=\"dataframe\">\n",
       "  <thead>\n",
       "    <tr style=\"text-align: right;\">\n",
       "      <th></th>\n",
       "      <th>Classifier</th>\n",
       "      <th>Resampling Accuracy</th>\n",
       "      <th>Resampling F1_macro</th>\n",
       "    </tr>\n",
       "  </thead>\n",
       "  <tbody>\n",
       "    <tr>\n",
       "      <th>0</th>\n",
       "      <td>XGB Classifier</td>\n",
       "      <td>0.831650</td>\n",
       "      <td>0.757909</td>\n",
       "    </tr>\n",
       "    <tr>\n",
       "      <th>1</th>\n",
       "      <td>Gradient Boosting Classifier</td>\n",
       "      <td>0.780808</td>\n",
       "      <td>0.703733</td>\n",
       "    </tr>\n",
       "    <tr>\n",
       "      <th>2</th>\n",
       "      <td>Random Forest Classifier</td>\n",
       "      <td>0.828199</td>\n",
       "      <td>0.753421</td>\n",
       "    </tr>\n",
       "    <tr>\n",
       "      <th>3</th>\n",
       "      <td>SVC</td>\n",
       "      <td>0.810774</td>\n",
       "      <td>0.734234</td>\n",
       "    </tr>\n",
       "  </tbody>\n",
       "</table>\n",
       "</div>"
      ],
      "text/plain": [
       "                     Classifier  Resampling Accuracy  Resampling F1_macro\n",
       "0                XGB Classifier             0.831650             0.757909\n",
       "1  Gradient Boosting Classifier             0.780808             0.703733\n",
       "2      Random Forest Classifier             0.828199             0.753421\n",
       "3                           SVC             0.810774             0.734234"
      ]
     },
     "execution_count": 111,
     "metadata": {},
     "output_type": "execute_result"
    }
   ],
   "source": [
    "score_report_df_base_r"
   ]
  },
  {
   "cell_type": "code",
   "execution_count": 112,
   "metadata": {},
   "outputs": [
    {
     "data": {
      "text/html": [
       "<div>\n",
       "<style scoped>\n",
       "    .dataframe tbody tr th:only-of-type {\n",
       "        vertical-align: middle;\n",
       "    }\n",
       "\n",
       "    .dataframe tbody tr th {\n",
       "        vertical-align: top;\n",
       "    }\n",
       "\n",
       "    .dataframe thead th {\n",
       "        text-align: right;\n",
       "    }\n",
       "</style>\n",
       "<table border=\"1\" class=\"dataframe\">\n",
       "  <thead>\n",
       "    <tr style=\"text-align: right;\">\n",
       "      <th></th>\n",
       "      <th>Classifier</th>\n",
       "      <th>Accuracy</th>\n",
       "      <th>F1_macro</th>\n",
       "    </tr>\n",
       "  </thead>\n",
       "  <tbody>\n",
       "    <tr>\n",
       "      <th>0</th>\n",
       "      <td>XGB Classifier</td>\n",
       "      <td>0.870455</td>\n",
       "      <td>0.804928</td>\n",
       "    </tr>\n",
       "    <tr>\n",
       "      <th>1</th>\n",
       "      <td>Gradient Boosting Classifier</td>\n",
       "      <td>0.847475</td>\n",
       "      <td>0.776302</td>\n",
       "    </tr>\n",
       "    <tr>\n",
       "      <th>2</th>\n",
       "      <td>Random Forest Classifier</td>\n",
       "      <td>0.876263</td>\n",
       "      <td>0.814413</td>\n",
       "    </tr>\n",
       "    <tr>\n",
       "      <th>3</th>\n",
       "      <td>SVC</td>\n",
       "      <td>0.837710</td>\n",
       "      <td>0.696662</td>\n",
       "    </tr>\n",
       "  </tbody>\n",
       "</table>\n",
       "</div>"
      ],
      "text/plain": [
       "                     Classifier  Accuracy  F1_macro\n",
       "0                XGB Classifier  0.870455  0.804928\n",
       "1  Gradient Boosting Classifier  0.847475  0.776302\n",
       "2      Random Forest Classifier  0.876263  0.814413\n",
       "3                           SVC  0.837710  0.696662"
      ]
     },
     "execution_count": 112,
     "metadata": {},
     "output_type": "execute_result"
    }
   ],
   "source": [
    "# \"Base models Train_Test Split 80:20 validation\"\n",
    "\n",
    "score_report_df"
   ]
  },
  {
   "cell_type": "code",
   "execution_count": 113,
   "metadata": {},
   "outputs": [
    {
     "data": {
      "text/html": [
       "<div>\n",
       "<style scoped>\n",
       "    .dataframe tbody tr th:only-of-type {\n",
       "        vertical-align: middle;\n",
       "    }\n",
       "\n",
       "    .dataframe tbody tr th {\n",
       "        vertical-align: top;\n",
       "    }\n",
       "\n",
       "    .dataframe thead th {\n",
       "        text-align: right;\n",
       "    }\n",
       "</style>\n",
       "<table border=\"1\" class=\"dataframe\">\n",
       "  <thead>\n",
       "    <tr style=\"text-align: right;\">\n",
       "      <th></th>\n",
       "      <th>Classifier</th>\n",
       "      <th>Cross validation accuracy</th>\n",
       "      <th>Cross validation F1_macro</th>\n",
       "    </tr>\n",
       "  </thead>\n",
       "  <tbody>\n",
       "    <tr>\n",
       "      <th>0</th>\n",
       "      <td>XGB Classifier</td>\n",
       "      <td>(0.8695286195286196, 0.008904275785594567)</td>\n",
       "      <td>(0.8062406411928424, 0.01316810135582849)</td>\n",
       "    </tr>\n",
       "    <tr>\n",
       "      <th>1</th>\n",
       "      <td>Gradient Boosting Classifier</td>\n",
       "      <td>(0.8470328282828283, 0.0076123787519490884)</td>\n",
       "      <td>(0.7818493446057356, 0.01889367499062976)</td>\n",
       "    </tr>\n",
       "    <tr>\n",
       "      <th>2</th>\n",
       "      <td>Random Forest Classifier</td>\n",
       "      <td>(0.8719065656565655, 0.003888488034495354)</td>\n",
       "      <td>(0.8087621418773745, 0.009972924824283975)</td>\n",
       "    </tr>\n",
       "    <tr>\n",
       "      <th>3</th>\n",
       "      <td>SVC</td>\n",
       "      <td>(0.8361742424242424, 0.007852457152775046)</td>\n",
       "      <td>(0.6920517702741111, 0.01654214233144192)</td>\n",
       "    </tr>\n",
       "  </tbody>\n",
       "</table>\n",
       "</div>"
      ],
      "text/plain": [
       "                     Classifier                    Cross validation accuracy  \\\n",
       "0                XGB Classifier   (0.8695286195286196, 0.008904275785594567)   \n",
       "1  Gradient Boosting Classifier  (0.8470328282828283, 0.0076123787519490884)   \n",
       "2      Random Forest Classifier   (0.8719065656565655, 0.003888488034495354)   \n",
       "3                           SVC   (0.8361742424242424, 0.007852457152775046)   \n",
       "\n",
       "                    Cross validation F1_macro  \n",
       "0   (0.8062406411928424, 0.01316810135582849)  \n",
       "1   (0.7818493446057356, 0.01889367499062976)  \n",
       "2  (0.8087621418773745, 0.009972924824283975)  \n",
       "3   (0.6920517702741111, 0.01654214233144192)  "
      ]
     },
     "execution_count": 113,
     "metadata": {},
     "output_type": "execute_result"
    }
   ],
   "source": [
    "score_report_df_x_val_base"
   ]
  },
  {
   "cell_type": "markdown",
   "metadata": {},
   "source": [
    "# TO DO\n",
    "https://kiwidamien.github.io/how-to-do-cross-validation-when-upsampling-data.html\n",
    "\n",
    "\n",
    "HERE ARE RIGHT TO-DO STEPS\n",
    "1. oversample the minority class\n",
    "2. train the classifier on the training folds\n",
    "3. validate the classifier on the remaining fold\n",
    "\n",
    "\n"
   ]
  },
  {
   "cell_type": "code",
   "execution_count": null,
   "metadata": {},
   "outputs": [],
   "source": []
  },
  {
   "cell_type": "code",
   "execution_count": null,
   "metadata": {},
   "outputs": [],
   "source": []
  },
  {
   "cell_type": "code",
   "execution_count": null,
   "metadata": {},
   "outputs": [],
   "source": []
  },
  {
   "cell_type": "code",
   "execution_count": null,
   "metadata": {},
   "outputs": [],
   "source": []
  },
  {
   "cell_type": "code",
   "execution_count": null,
   "metadata": {},
   "outputs": [],
   "source": []
  },
  {
   "cell_type": "code",
   "execution_count": null,
   "metadata": {},
   "outputs": [],
   "source": []
  },
  {
   "cell_type": "code",
   "execution_count": null,
   "metadata": {},
   "outputs": [],
   "source": []
  },
  {
   "cell_type": "code",
   "execution_count": null,
   "metadata": {},
   "outputs": [],
   "source": []
  },
  {
   "cell_type": "code",
   "execution_count": null,
   "metadata": {},
   "outputs": [],
   "source": []
  },
  {
   "cell_type": "code",
   "execution_count": null,
   "metadata": {},
   "outputs": [],
   "source": []
  },
  {
   "cell_type": "code",
   "execution_count": 44,
   "metadata": {},
   "outputs": [],
   "source": [
    "from sklearn.model_selection import RandomizedSearchCV, GridSearchCV\n",
    "import xgboost\n",
    "from sklearn.multiclass import OneVsRestClassifier"
   ]
  },
  {
   "cell_type": "code",
   "execution_count": 45,
   "metadata": {},
   "outputs": [],
   "source": [
    "def timer(start_time=None):\n",
    "    if not start_time:\n",
    "        start_time = datetime.now()\n",
    "        return start_time\n",
    "    elif start_time:\n",
    "        thour, temp_sec = divmod((datetime.now() - start_time).total_seconds(), 3600)\n",
    "        tmin, tsec = divmod(temp_sec, 60)\n",
    "        print('\\n Time taken: %i hours %i minutes and %s seconds.' % (thour, tmin, round(tsec, 2)))"
   ]
  },
  {
   "cell_type": "code",
   "execution_count": 46,
   "metadata": {},
   "outputs": [],
   "source": [
    "from pprint import pprint"
   ]
  },
  {
   "cell_type": "markdown",
   "metadata": {},
   "source": [
    "# !!!!!for MULTI LABEL, set parameters!!!!!\n",
    "# objective=\"multi:softmax\"\n",
    "# num_class=3 (func, non func, need repair) xgb_ovr_clf.estimator.get_params().keys() does NOT SHOW the param! \n",
    "\n",
    "# Use OneVsRestClassifier or  OneVsOneClassifier from sklearn for multi label\n",
    "\n"
   ]
  },
  {
   "cell_type": "code",
   "execution_count": null,
   "metadata": {},
   "outputs": [],
   "source": [
    "xgb_ovr_clf=OneVsRestClassifier(xgboost.XGBClassifier(objective=\"multi:softmax\",num_class=3))"
   ]
  },
  {
   "cell_type": "code",
   "execution_count": 11,
   "metadata": {},
   "outputs": [
    {
     "name": "stdout",
     "output_type": "stream",
     "text": [
      "{'estimator': XGBClassifier(base_score=None, booster=None, colsample_bylevel=None,\n",
      "              colsample_bynode=None, colsample_bytree=None, gamma=None,\n",
      "              gpu_id=None, importance_type='gain', interaction_constraints=None,\n",
      "              learning_rate=None, max_delta_step=None, max_depth=None,\n",
      "              min_child_weight=None, missing=nan, monotone_constraints=None,\n",
      "              n_estimators=100, n_jobs=None, num_class=3,\n",
      "              num_parallel_tree=None, objective='multi:softmax',\n",
      "              random_state=None, reg_alpha=None, reg_lambda=None,\n",
      "              scale_pos_weight=None, subsample=None, tree_method=None,\n",
      "              validate_parameters=False, verbosity=None),\n",
      " 'estimator__base_score': None,\n",
      " 'estimator__booster': None,\n",
      " 'estimator__colsample_bylevel': None,\n",
      " 'estimator__colsample_bynode': None,\n",
      " 'estimator__colsample_bytree': None,\n",
      " 'estimator__gamma': None,\n",
      " 'estimator__gpu_id': None,\n",
      " 'estimator__importance_type': 'gain',\n",
      " 'estimator__interaction_constraints': None,\n",
      " 'estimator__learning_rate': None,\n",
      " 'estimator__max_delta_step': None,\n",
      " 'estimator__max_depth': None,\n",
      " 'estimator__min_child_weight': None,\n",
      " 'estimator__missing': nan,\n",
      " 'estimator__monotone_constraints': None,\n",
      " 'estimator__n_estimators': 100,\n",
      " 'estimator__n_jobs': None,\n",
      " 'estimator__num_class': 3,\n",
      " 'estimator__num_parallel_tree': None,\n",
      " 'estimator__objective': 'multi:softmax',\n",
      " 'estimator__random_state': None,\n",
      " 'estimator__reg_alpha': None,\n",
      " 'estimator__reg_lambda': None,\n",
      " 'estimator__scale_pos_weight': None,\n",
      " 'estimator__subsample': None,\n",
      " 'estimator__tree_method': None,\n",
      " 'estimator__validate_parameters': False,\n",
      " 'estimator__verbosity': None,\n",
      " 'n_jobs': None}\n"
     ]
    }
   ],
   "source": [
    "from pprint import pprint\n",
    "pprint(xgb_ovr_clf.get_params())"
   ]
  },
  {
   "cell_type": "code",
   "execution_count": 12,
   "metadata": {},
   "outputs": [
    {
     "data": {
      "text/plain": [
       "dict_keys(['objective', 'base_score', 'booster', 'colsample_bylevel', 'colsample_bynode', 'colsample_bytree', 'gamma', 'gpu_id', 'importance_type', 'interaction_constraints', 'learning_rate', 'max_delta_step', 'max_depth', 'min_child_weight', 'missing', 'monotone_constraints', 'n_estimators', 'n_jobs', 'num_parallel_tree', 'random_state', 'reg_alpha', 'reg_lambda', 'scale_pos_weight', 'subsample', 'tree_method', 'validate_parameters', 'verbosity', 'num_class'])"
      ]
     },
     "execution_count": 12,
     "metadata": {},
     "output_type": "execute_result"
    }
   ],
   "source": [
    "# another way to print estimators\n",
    "\n",
    "xgb_ovr_clf.estimator.get_params().keys()"
   ]
  },
  {
   "cell_type": "code",
   "execution_count": 13,
   "metadata": {},
   "outputs": [],
   "source": [
    "random_grid = {#'estimator__n_estimators': [100,200,300],\n",
    "               'estimator__max_depth': [6,10,16],\n",
    "               #'estimator__validate_parameters': [True],\n",
    "               'estimator__min_child_weight': [1,3],\n",
    "               'estimator__gamma':[ 0.0, 0.1],\n",
    "               'estimator__learning_rate':[0.2,0.3],\n",
    "               'estimator__colsample_bytree':[0.3,0.5]}\n",
    "\n"
   ]
  },
  {
   "cell_type": "code",
   "execution_count": 14,
   "metadata": {},
   "outputs": [],
   "source": [
    "XGB_random=RandomizedSearchCV(xgb_ovr_clf,param_distributions=random_grid ,\n",
    "                              n_iter=5,scoring='roc_auc',n_jobs=-1,cv=2,verbose=10)"
   ]
  },
  {
   "cell_type": "code",
   "execution_count": 15,
   "metadata": {},
   "outputs": [
    {
     "name": "stdout",
     "output_type": "stream",
     "text": [
      "Fitting 2 folds for each of 5 candidates, totalling 10 fits\n"
     ]
    },
    {
     "name": "stderr",
     "output_type": "stream",
     "text": [
      "[Parallel(n_jobs=-1)]: Using backend LokyBackend with 4 concurrent workers.\n",
      "[Parallel(n_jobs=-1)]: Done   5 out of  10 | elapsed: 12.9min remaining: 12.9min\n",
      "[Parallel(n_jobs=-1)]: Done   7 out of  10 | elapsed: 15.0min remaining:  6.4min\n",
      "[Parallel(n_jobs=-1)]: Done  10 out of  10 | elapsed: 15.9min finished\n"
     ]
    },
    {
     "name": "stdout",
     "output_type": "stream",
     "text": [
      "\n",
      " Time taken: 0 hours 19 minutes and 31.99 seconds.\n"
     ]
    }
   ],
   "source": [
    "from datetime import datetime\n",
    "# timing starts from this point for \"start_time\" variable\n",
    "start_time = timer(None)\n",
    "\n",
    "XGB_random.fit(X,y)\n",
    "timer(start_time) # timing ends here for \"start_time\" variable"
   ]
  },
  {
   "cell_type": "code",
   "execution_count": 16,
   "metadata": {},
   "outputs": [
    {
     "name": "stdout",
     "output_type": "stream",
     "text": [
      "{'estimator__min_child_weight': 1, 'estimator__max_depth': 16, 'estimator__learning_rate': 0.3, 'estimator__gamma': 0.1, 'estimator__colsample_bytree': 0.5}\n"
     ]
    }
   ],
   "source": [
    "print(XGB_random.best_params_)"
   ]
  },
  {
   "cell_type": "code",
   "execution_count": 17,
   "metadata": {
    "scrolled": true
   },
   "outputs": [
    {
     "name": "stdout",
     "output_type": "stream",
     "text": [
      "OneVsRestClassifier(estimator=XGBClassifier(base_score=None, booster=None,\n",
      "                                            colsample_bylevel=None,\n",
      "                                            colsample_bynode=None,\n",
      "                                            colsample_bytree=0.5, gamma=0.1,\n",
      "                                            gpu_id=None, importance_type='gain',\n",
      "                                            interaction_constraints=None,\n",
      "                                            learning_rate=0.3,\n",
      "                                            max_delta_step=None, max_depth=16,\n",
      "                                            min_child_weight=1, missing=nan,\n",
      "                                            monotone_constraints=None,\n",
      "                                            n_estimators=100, n_jobs=None,\n",
      "                                            num_class=3, num_parallel_tree=None,\n",
      "                                            objective='multi:softmax',\n",
      "                                            random_state=None, reg_alpha=None,\n",
      "                                            reg_lambda=None,\n",
      "                                            scale_pos_weight=None,\n",
      "                                            subsample=None, tree_method=None,\n",
      "                                            validate_parameters=False,\n",
      "                                            verbosity=None),\n",
      "                    n_jobs=None)\n"
     ]
    }
   ],
   "source": [
    "print(XGB_random.best_estimator_)"
   ]
  },
  {
   "cell_type": "code",
   "execution_count": 18,
   "metadata": {},
   "outputs": [
    {
     "name": "stdout",
     "output_type": "stream",
     "text": [
      "0.845713669339405\n"
     ]
    }
   ],
   "source": [
    "print(XGB_random.best_score_)"
   ]
  },
  {
   "cell_type": "code",
   "execution_count": null,
   "metadata": {},
   "outputs": [],
   "source": []
  },
  {
   "cell_type": "code",
   "execution_count": null,
   "metadata": {},
   "outputs": [],
   "source": []
  },
  {
   "cell_type": "code",
   "execution_count": null,
   "metadata": {},
   "outputs": [],
   "source": []
  },
  {
   "cell_type": "code",
   "execution_count": 34,
   "metadata": {},
   "outputs": [],
   "source": [
    "from sklearn.model_selection import RandomizedSearchCV, GridSearchCV\n",
    "import xgboost\n",
    "from sklearn.multiclass import OneVsRestClassifier"
   ]
  },
  {
   "cell_type": "code",
   "execution_count": 35,
   "metadata": {},
   "outputs": [],
   "source": [
    "def timer(start_time=None):\n",
    "    if not start_time:\n",
    "        start_time = datetime.now()\n",
    "        return start_time\n",
    "    elif start_time:\n",
    "        thour, temp_sec = divmod((datetime.now() - start_time).total_seconds(), 3600)\n",
    "        tmin, tsec = divmod(temp_sec, 60)\n",
    "        print('\\n Time taken: %i hours %i minutes and %s seconds.' % (thour, tmin, round(tsec, 2)))"
   ]
  },
  {
   "cell_type": "code",
   "execution_count": 10,
   "metadata": {},
   "outputs": [],
   "source": [
    "xgb_ovr_clf=OneVsRestClassifier(xgboost.XGBClassifier(objective=\"multi:softmax\",num_class=3))"
   ]
  },
  {
   "cell_type": "code",
   "execution_count": 11,
   "metadata": {},
   "outputs": [
    {
     "name": "stdout",
     "output_type": "stream",
     "text": [
      "{'estimator': XGBClassifier(base_score=None, booster=None, colsample_bylevel=None,\n",
      "              colsample_bynode=None, colsample_bytree=None, gamma=None,\n",
      "              gpu_id=None, importance_type='gain', interaction_constraints=None,\n",
      "              learning_rate=None, max_delta_step=None, max_depth=None,\n",
      "              min_child_weight=None, missing=nan, monotone_constraints=None,\n",
      "              n_estimators=100, n_jobs=None, num_class=3,\n",
      "              num_parallel_tree=None, objective='multi:softmax',\n",
      "              random_state=None, reg_alpha=None, reg_lambda=None,\n",
      "              scale_pos_weight=None, subsample=None, tree_method=None,\n",
      "              validate_parameters=False, verbosity=None),\n",
      " 'estimator__base_score': None,\n",
      " 'estimator__booster': None,\n",
      " 'estimator__colsample_bylevel': None,\n",
      " 'estimator__colsample_bynode': None,\n",
      " 'estimator__colsample_bytree': None,\n",
      " 'estimator__gamma': None,\n",
      " 'estimator__gpu_id': None,\n",
      " 'estimator__importance_type': 'gain',\n",
      " 'estimator__interaction_constraints': None,\n",
      " 'estimator__learning_rate': None,\n",
      " 'estimator__max_delta_step': None,\n",
      " 'estimator__max_depth': None,\n",
      " 'estimator__min_child_weight': None,\n",
      " 'estimator__missing': nan,\n",
      " 'estimator__monotone_constraints': None,\n",
      " 'estimator__n_estimators': 100,\n",
      " 'estimator__n_jobs': None,\n",
      " 'estimator__num_class': 3,\n",
      " 'estimator__num_parallel_tree': None,\n",
      " 'estimator__objective': 'multi:softmax',\n",
      " 'estimator__random_state': None,\n",
      " 'estimator__reg_alpha': None,\n",
      " 'estimator__reg_lambda': None,\n",
      " 'estimator__scale_pos_weight': None,\n",
      " 'estimator__subsample': None,\n",
      " 'estimator__tree_method': None,\n",
      " 'estimator__validate_parameters': False,\n",
      " 'estimator__verbosity': None,\n",
      " 'n_jobs': None}\n"
     ]
    }
   ],
   "source": [
    "from pprint import pprint\n",
    "pprint(xgb_ovr_clf.get_params())"
   ]
  },
  {
   "cell_type": "code",
   "execution_count": 13,
   "metadata": {},
   "outputs": [],
   "source": [
    "random_grid2 = {'estimator__n_estimators': [100,200,300],\n",
    "                'estimator__booster':['gbtree'],\n",
    "               'estimator__max_depth': [16],\n",
    "               'estimator__validate_parameters': [True],\n",
    "               'estimator__min_child_weight': [1],\n",
    "               'estimator__gamma':[0.1],\n",
    "               'estimator__learning_rate':[0.3],\n",
    "               'estimator__colsample_bytree':[0.5]}\n",
    "\n"
   ]
  },
  {
   "cell_type": "code",
   "execution_count": 14,
   "metadata": {},
   "outputs": [],
   "source": [
    "XGB_random=RandomizedSearchCV(xgb_ovr_clf,param_distributions=random_grid2 ,\n",
    "                              n_iter=5,scoring='roc_auc',n_jobs=-1,cv=2,verbose=10)"
   ]
  },
  {
   "cell_type": "code",
   "execution_count": 15,
   "metadata": {},
   "outputs": [
    {
     "name": "stderr",
     "output_type": "stream",
     "text": [
      "C:\\Users\\yuka\\Anaconda3\\lib\\site-packages\\sklearn\\model_selection\\_search.py:281: UserWarning: The total space of parameters 3 is smaller than n_iter=5. Running 3 iterations. For exhaustive searches, use GridSearchCV.\n",
      "  % (grid_size, self.n_iter, grid_size), UserWarning)\n",
      "[Parallel(n_jobs=-1)]: Using backend LokyBackend with 4 concurrent workers.\n"
     ]
    },
    {
     "name": "stdout",
     "output_type": "stream",
     "text": [
      "Fitting 2 folds for each of 3 candidates, totalling 6 fits\n"
     ]
    },
    {
     "name": "stderr",
     "output_type": "stream",
     "text": [
      "[Parallel(n_jobs=-1)]: Done   2 out of   6 | elapsed:  7.5min remaining: 14.9min\n",
      "[Parallel(n_jobs=-1)]: Done   3 out of   6 | elapsed: 14.9min remaining: 14.9min\n",
      "[Parallel(n_jobs=-1)]: Done   4 out of   6 | elapsed: 14.9min remaining:  7.4min\n",
      "[Parallel(n_jobs=-1)]: Done   6 out of   6 | elapsed: 23.1min remaining:    0.0s\n",
      "[Parallel(n_jobs=-1)]: Done   6 out of   6 | elapsed: 23.1min finished\n"
     ]
    },
    {
     "name": "stdout",
     "output_type": "stream",
     "text": [
      "[10:55:10] WARNING: C:\\Users\\Administrator\\workspace\\xgboost-win64_release_1.0.0\\src\\learner.cc:328: \n",
      "Parameters: { importance_type, missing, n_estimators } might not be used.\n",
      "\n",
      "  This may not be accurate due to some parameters are only used in language bindings but\n",
      "  passed down to XGBoost core.  Or some parameters are not used but slip through this\n",
      "  verification. Please open an issue if you find above cases.\n",
      "\n",
      "\n",
      "[10:58:56] WARNING: C:\\Users\\Administrator\\workspace\\xgboost-win64_release_1.0.0\\src\\learner.cc:328: \n",
      "Parameters: { importance_type, missing, n_estimators } might not be used.\n",
      "\n",
      "  This may not be accurate due to some parameters are only used in language bindings but\n",
      "  passed down to XGBoost core.  Or some parameters are not used but slip through this\n",
      "  verification. Please open an issue if you find above cases.\n",
      "\n",
      "\n",
      "[11:02:38] WARNING: C:\\Users\\Administrator\\workspace\\xgboost-win64_release_1.0.0\\src\\learner.cc:328: \n",
      "Parameters: { importance_type, missing, n_estimators } might not be used.\n",
      "\n",
      "  This may not be accurate due to some parameters are only used in language bindings but\n",
      "  passed down to XGBoost core.  Or some parameters are not used but slip through this\n",
      "  verification. Please open an issue if you find above cases.\n",
      "\n",
      "\n",
      "\n",
      " Time taken: 0 hours 34 minutes and 19.75 seconds.\n"
     ]
    }
   ],
   "source": [
    "from datetime import datetime\n",
    "# timing starts from this point for \"start_time\" variable\n",
    "start_time = timer(None)\n",
    "\n",
    "XGB_random.fit(X,y)\n",
    "timer(start_time) # timing ends here for \"start_time\" variable"
   ]
  },
  {
   "cell_type": "code",
   "execution_count": 16,
   "metadata": {},
   "outputs": [
    {
     "name": "stdout",
     "output_type": "stream",
     "text": [
      "{'estimator__validate_parameters': True, 'estimator__n_estimators': 300, 'estimator__min_child_weight': 1, 'estimator__max_depth': 16, 'estimator__learning_rate': 0.3, 'estimator__gamma': 0.1, 'estimator__colsample_bytree': 0.5, 'estimator__booster': 'gbtree'}\n"
     ]
    }
   ],
   "source": [
    "print(XGB_random.best_params_)"
   ]
  },
  {
   "cell_type": "code",
   "execution_count": 17,
   "metadata": {},
   "outputs": [
    {
     "name": "stdout",
     "output_type": "stream",
     "text": [
      "OneVsRestClassifier(estimator=XGBClassifier(base_score=None, booster='gbtree',\n",
      "                                            colsample_bylevel=None,\n",
      "                                            colsample_bynode=None,\n",
      "                                            colsample_bytree=0.5, gamma=0.1,\n",
      "                                            gpu_id=None, importance_type='gain',\n",
      "                                            interaction_constraints=None,\n",
      "                                            learning_rate=0.3,\n",
      "                                            max_delta_step=None, max_depth=16,\n",
      "                                            min_child_weight=1, missing=nan,\n",
      "                                            monotone_constraints=None,\n",
      "                                            n_estimators=300, n_jobs=None,\n",
      "                                            num_class=3, num_parallel_tree=None,\n",
      "                                            objective='multi:softmax',\n",
      "                                            random_state=None, reg_alpha=None,\n",
      "                                            reg_lambda=None,\n",
      "                                            scale_pos_weight=None,\n",
      "                                            subsample=None, tree_method=None,\n",
      "                                            validate_parameters=True,\n",
      "                                            verbosity=None),\n",
      "                    n_jobs=None)\n"
     ]
    }
   ],
   "source": [
    "print(XGB_random.best_estimator_)"
   ]
  },
  {
   "cell_type": "code",
   "execution_count": 18,
   "metadata": {},
   "outputs": [
    {
     "name": "stdout",
     "output_type": "stream",
     "text": [
      "0.8462567756753672\n"
     ]
    }
   ],
   "source": [
    "print(XGB_random.best_score_)"
   ]
  },
  {
   "cell_type": "code",
   "execution_count": null,
   "metadata": {},
   "outputs": [],
   "source": []
  },
  {
   "cell_type": "code",
   "execution_count": null,
   "metadata": {},
   "outputs": [],
   "source": []
  },
  {
   "cell_type": "code",
   "execution_count": null,
   "metadata": {},
   "outputs": [],
   "source": [
    "# f1macro"
   ]
  },
  {
   "cell_type": "code",
   "execution_count": 22,
   "metadata": {},
   "outputs": [],
   "source": [
    "xgb_ovr_clf=OneVsRestClassifier(xgboost.XGBClassifier(objective=\"multi:softmax\",num_class=3))\n"
   ]
  },
  {
   "cell_type": "code",
   "execution_count": 23,
   "metadata": {},
   "outputs": [],
   "source": [
    "random_grid2 = {'estimator__n_estimators': [300,400,500],\n",
    "                'estimator__booster':['gbtree'],\n",
    "               'estimator__max_depth': [10],\n",
    "               'estimator__validate_parameters': [True],\n",
    "               'estimator__min_child_weight': [1],\n",
    "               'estimator__gamma':[0.1],\n",
    "               'estimator__learning_rate':[0.3],\n",
    "               'estimator__colsample_bytree':[0.5]}\n"
   ]
  },
  {
   "cell_type": "code",
   "execution_count": 24,
   "metadata": {},
   "outputs": [],
   "source": [
    "XGB_random=RandomizedSearchCV(xgb_ovr_clf,param_distributions=random_grid2 ,\n",
    "                              n_iter=5,scoring='f1_macro',n_jobs=-1,cv=2,verbose=10)"
   ]
  },
  {
   "cell_type": "code",
   "execution_count": 25,
   "metadata": {
    "scrolled": true
   },
   "outputs": [
    {
     "name": "stderr",
     "output_type": "stream",
     "text": [
      "C:\\Users\\yuka\\Anaconda3\\lib\\site-packages\\sklearn\\model_selection\\_search.py:281: UserWarning: The total space of parameters 3 is smaller than n_iter=5. Running 3 iterations. For exhaustive searches, use GridSearchCV.\n",
      "  % (grid_size, self.n_iter, grid_size), UserWarning)\n",
      "[Parallel(n_jobs=-1)]: Using backend LokyBackend with 4 concurrent workers.\n"
     ]
    },
    {
     "name": "stdout",
     "output_type": "stream",
     "text": [
      "Fitting 2 folds for each of 3 candidates, totalling 6 fits\n"
     ]
    },
    {
     "name": "stderr",
     "output_type": "stream",
     "text": [
      "[Parallel(n_jobs=-1)]: Done   2 out of   6 | elapsed: 15.4min remaining: 30.8min\n",
      "[Parallel(n_jobs=-1)]: Done   3 out of   6 | elapsed: 20.1min remaining: 20.1min\n",
      "[Parallel(n_jobs=-1)]: Done   4 out of   6 | elapsed: 20.1min remaining: 10.1min\n",
      "[Parallel(n_jobs=-1)]: Done   6 out of   6 | elapsed: 34.6min remaining:    0.0s\n",
      "[Parallel(n_jobs=-1)]: Done   6 out of   6 | elapsed: 34.6min finished\n"
     ]
    },
    {
     "name": "stdout",
     "output_type": "stream",
     "text": [
      "[12:26:43] WARNING: C:\\Users\\Administrator\\workspace\\xgboost-win64_release_1.0.0\\src\\learner.cc:328: \n",
      "Parameters: { importance_type, missing, n_estimators } might not be used.\n",
      "\n",
      "  This may not be accurate due to some parameters are only used in language bindings but\n",
      "  passed down to XGBoost core.  Or some parameters are not used but slip through this\n",
      "  verification. Please open an issue if you find above cases.\n",
      "\n",
      "\n",
      "[12:31:00] WARNING: C:\\Users\\Administrator\\workspace\\xgboost-win64_release_1.0.0\\src\\learner.cc:328: \n",
      "Parameters: { importance_type, missing, n_estimators } might not be used.\n",
      "\n",
      "  This may not be accurate due to some parameters are only used in language bindings but\n",
      "  passed down to XGBoost core.  Or some parameters are not used but slip through this\n",
      "  verification. Please open an issue if you find above cases.\n",
      "\n",
      "\n",
      "[12:35:07] WARNING: C:\\Users\\Administrator\\workspace\\xgboost-win64_release_1.0.0\\src\\learner.cc:328: \n",
      "Parameters: { importance_type, missing, n_estimators } might not be used.\n",
      "\n",
      "  This may not be accurate due to some parameters are only used in language bindings but\n",
      "  passed down to XGBoost core.  Or some parameters are not used but slip through this\n",
      "  verification. Please open an issue if you find above cases.\n",
      "\n",
      "\n",
      "\n",
      " Time taken: 0 hours 47 minutes and 22.23 seconds.\n"
     ]
    }
   ],
   "source": [
    "from datetime import datetime\n",
    "# timing starts from this point for \"start_time\" variable\n",
    "start_time = timer(None)\n",
    "\n",
    "XGB_random.fit(X,y)\n",
    "timer(start_time) # timing ends here for \"start_time\" variable"
   ]
  },
  {
   "cell_type": "code",
   "execution_count": 26,
   "metadata": {},
   "outputs": [
    {
     "name": "stdout",
     "output_type": "stream",
     "text": [
      "{'estimator__validate_parameters': True, 'estimator__n_estimators': 500, 'estimator__min_child_weight': 1, 'estimator__max_depth': 10, 'estimator__learning_rate': 0.3, 'estimator__gamma': 0.1, 'estimator__colsample_bytree': 0.5, 'estimator__booster': 'gbtree'}\n"
     ]
    }
   ],
   "source": [
    "print(XGB_random.best_params_)"
   ]
  },
  {
   "cell_type": "code",
   "execution_count": 27,
   "metadata": {},
   "outputs": [
    {
     "name": "stdout",
     "output_type": "stream",
     "text": [
      "OneVsRestClassifier(estimator=XGBClassifier(base_score=None, booster='gbtree',\n",
      "                                            colsample_bylevel=None,\n",
      "                                            colsample_bynode=None,\n",
      "                                            colsample_bytree=0.5, gamma=0.1,\n",
      "                                            gpu_id=None, importance_type='gain',\n",
      "                                            interaction_constraints=None,\n",
      "                                            learning_rate=0.3,\n",
      "                                            max_delta_step=None, max_depth=10,\n",
      "                                            min_child_weight=1, missing=nan,\n",
      "                                            monotone_constraints=None,\n",
      "                                            n_estimators=500, n_jobs=None,\n",
      "                                            num_class=3, num_parallel_tree=None,\n",
      "                                            objective='multi:softmax',\n",
      "                                            random_state=None, reg_alpha=None,\n",
      "                                            reg_lambda=None,\n",
      "                                            scale_pos_weight=None,\n",
      "                                            subsample=None, tree_method=None,\n",
      "                                            validate_parameters=True,\n",
      "                                            verbosity=None),\n",
      "                    n_jobs=None)\n"
     ]
    }
   ],
   "source": [
    "print(XGB_random.best_estimator_)"
   ]
  },
  {
   "cell_type": "code",
   "execution_count": 28,
   "metadata": {},
   "outputs": [
    {
     "name": "stdout",
     "output_type": "stream",
     "text": [
      "0.8052778418038147\n"
     ]
    }
   ],
   "source": [
    "print(XGB_random.best_score_)"
   ]
  },
  {
   "cell_type": "code",
   "execution_count": null,
   "metadata": {},
   "outputs": [],
   "source": []
  },
  {
   "cell_type": "code",
   "execution_count": null,
   "metadata": {},
   "outputs": [],
   "source": []
  },
  {
   "cell_type": "markdown",
   "metadata": {},
   "source": [
    "# Instead of X and y, use resampled train X and y \n",
    "# scoring = f1_macro"
   ]
  },
  {
   "cell_type": "code",
   "execution_count": 36,
   "metadata": {},
   "outputs": [],
   "source": [
    "xgb_ovr_clf=OneVsRestClassifier(xgboost.XGBClassifier(objective=\"multi:softmax\",num_class=3))\n"
   ]
  },
  {
   "cell_type": "code",
   "execution_count": 37,
   "metadata": {},
   "outputs": [],
   "source": [
    "random_grid3 = {'estimator__n_estimators': [100,300],\n",
    "                'estimator__booster':['gbtree'],\n",
    "               'estimator__max_depth': [10],\n",
    "               'estimator__validate_parameters': [True],\n",
    "               'estimator__min_child_weight': [1],\n",
    "               'estimator__gamma':[0.1],\n",
    "               'estimator__learning_rate':[0.3],\n",
    "               'estimator__colsample_bytree':[0.1]}"
   ]
  },
  {
   "cell_type": "code",
   "execution_count": 38,
   "metadata": {},
   "outputs": [],
   "source": [
    "XGB_random=RandomizedSearchCV(xgb_ovr_clf,param_distributions=random_grid3 ,\n",
    "                              n_iter=5,scoring='f1_macro',n_jobs=-1,cv=2,verbose=10)"
   ]
  },
  {
   "cell_type": "code",
   "execution_count": 39,
   "metadata": {
    "scrolled": true
   },
   "outputs": [
    {
     "name": "stderr",
     "output_type": "stream",
     "text": [
      "C:\\Users\\yuka\\Anaconda3\\lib\\site-packages\\sklearn\\model_selection\\_search.py:281: UserWarning: The total space of parameters 2 is smaller than n_iter=5. Running 2 iterations. For exhaustive searches, use GridSearchCV.\n",
      "  % (grid_size, self.n_iter, grid_size), UserWarning)\n",
      "[Parallel(n_jobs=-1)]: Using backend LokyBackend with 4 concurrent workers.\n"
     ]
    },
    {
     "name": "stdout",
     "output_type": "stream",
     "text": [
      "Fitting 2 folds for each of 2 candidates, totalling 4 fits\n"
     ]
    },
    {
     "name": "stderr",
     "output_type": "stream",
     "text": [
      "[Parallel(n_jobs=-1)]: Done   1 tasks      | elapsed:  1.6min\n",
      "[Parallel(n_jobs=-1)]: Done   2 out of   4 | elapsed:  1.6min remaining:  1.6min\n",
      "[Parallel(n_jobs=-1)]: Done   4 out of   4 | elapsed:  3.7min remaining:    0.0s\n",
      "[Parallel(n_jobs=-1)]: Done   4 out of   4 | elapsed:  3.7min finished\n"
     ]
    },
    {
     "name": "stdout",
     "output_type": "stream",
     "text": [
      "[10:34:44] WARNING: C:\\Users\\Administrator\\workspace\\xgboost-win64_release_1.0.0\\src\\learner.cc:328: \n",
      "Parameters: { importance_type, missing, n_estimators } might not be used.\n",
      "\n",
      "  This may not be accurate due to some parameters are only used in language bindings but\n",
      "  passed down to XGBoost core.  Or some parameters are not used but slip through this\n",
      "  verification. Please open an issue if you find above cases.\n",
      "\n",
      "\n",
      "[10:35:11] WARNING: C:\\Users\\Administrator\\workspace\\xgboost-win64_release_1.0.0\\src\\learner.cc:328: \n",
      "Parameters: { importance_type, missing, n_estimators } might not be used.\n",
      "\n",
      "  This may not be accurate due to some parameters are only used in language bindings but\n",
      "  passed down to XGBoost core.  Or some parameters are not used but slip through this\n",
      "  verification. Please open an issue if you find above cases.\n",
      "\n",
      "\n",
      "[10:35:35] WARNING: C:\\Users\\Administrator\\workspace\\xgboost-win64_release_1.0.0\\src\\learner.cc:328: \n",
      "Parameters: { importance_type, missing, n_estimators } might not be used.\n",
      "\n",
      "  This may not be accurate due to some parameters are only used in language bindings but\n",
      "  passed down to XGBoost core.  Or some parameters are not used but slip through this\n",
      "  verification. Please open an issue if you find above cases.\n",
      "\n",
      "\n",
      "\n",
      " Time taken: 0 hours 5 minutes and 0.51 seconds.\n"
     ]
    }
   ],
   "source": [
    "from datetime import datetime\n",
    "# timing starts from this point for \"start_time\" variable\n",
    "start_time = timer(None)\n",
    "\n",
    "XGB_random.fit(X_train_resampled,y_train_resampled)\n",
    "timer(start_time) # timing ends here for \"start_time\" variable"
   ]
  },
  {
   "cell_type": "code",
   "execution_count": 40,
   "metadata": {},
   "outputs": [
    {
     "name": "stdout",
     "output_type": "stream",
     "text": [
      "{'estimator__validate_parameters': True, 'estimator__n_estimators': 100, 'estimator__min_child_weight': 1, 'estimator__max_depth': 10, 'estimator__learning_rate': 0.3, 'estimator__gamma': 0.1, 'estimator__colsample_bytree': 0.1, 'estimator__booster': 'gbtree'}\n"
     ]
    }
   ],
   "source": [
    "print(XGB_random.best_params_)"
   ]
  },
  {
   "cell_type": "code",
   "execution_count": 41,
   "metadata": {},
   "outputs": [
    {
     "name": "stdout",
     "output_type": "stream",
     "text": [
      "OneVsRestClassifier(estimator=XGBClassifier(base_score=None, booster='gbtree',\n",
      "                                            colsample_bylevel=None,\n",
      "                                            colsample_bynode=None,\n",
      "                                            colsample_bytree=0.1, gamma=0.1,\n",
      "                                            gpu_id=None, importance_type='gain',\n",
      "                                            interaction_constraints=None,\n",
      "                                            learning_rate=0.3,\n",
      "                                            max_delta_step=None, max_depth=10,\n",
      "                                            min_child_weight=1, missing=nan,\n",
      "                                            monotone_constraints=None,\n",
      "                                            n_estimators=100, n_jobs=None,\n",
      "                                            num_class=3, num_parallel_tree=None,\n",
      "                                            objective='multi:softmax',\n",
      "                                            random_state=None, reg_alpha=None,\n",
      "                                            reg_lambda=None,\n",
      "                                            scale_pos_weight=None,\n",
      "                                            subsample=None, tree_method=None,\n",
      "                                            validate_parameters=True,\n",
      "                                            verbosity=None),\n",
      "                    n_jobs=None)\n"
     ]
    }
   ],
   "source": [
    "print(XGB_random.best_estimator_)"
   ]
  },
  {
   "cell_type": "code",
   "execution_count": 42,
   "metadata": {},
   "outputs": [
    {
     "name": "stdout",
     "output_type": "stream",
     "text": [
      "0.23887809255388498\n"
     ]
    }
   ],
   "source": [
    "print(XGB_random.best_score_)"
   ]
  },
  {
   "cell_type": "code",
   "execution_count": null,
   "metadata": {},
   "outputs": [],
   "source": []
  },
  {
   "cell_type": "code",
   "execution_count": null,
   "metadata": {},
   "outputs": [],
   "source": []
  },
  {
   "cell_type": "code",
   "execution_count": null,
   "metadata": {},
   "outputs": [],
   "source": []
  },
  {
   "cell_type": "markdown",
   "metadata": {},
   "source": [
    "# scoring default = none\n",
    "# Instead of X and y, use resampled train X and y "
   ]
  },
  {
   "cell_type": "code",
   "execution_count": 44,
   "metadata": {},
   "outputs": [],
   "source": [
    "xgb_ovr_clf=OneVsRestClassifier(xgboost.XGBClassifier(objective=\"multi:softmax\",num_class=3))"
   ]
  },
  {
   "cell_type": "code",
   "execution_count": 45,
   "metadata": {},
   "outputs": [],
   "source": [
    "random_grid3 = {'estimator__n_estimators': [100,300],\n",
    "                'estimator__booster':['gbtree'],\n",
    "               'estimator__max_depth': [10],\n",
    "               'estimator__validate_parameters': [True],\n",
    "               'estimator__min_child_weight': [1],\n",
    "               'estimator__gamma':[0.1],\n",
    "               'estimator__learning_rate':[0.3],\n",
    "               'estimator__colsample_bytree':[0.1]}"
   ]
  },
  {
   "cell_type": "code",
   "execution_count": 46,
   "metadata": {},
   "outputs": [],
   "source": [
    "XGB_random=RandomizedSearchCV(xgb_ovr_clf,param_distributions=random_grid3 ,\n",
    "                              n_iter=5,n_jobs=-1,cv=2,verbose=10)"
   ]
  },
  {
   "cell_type": "code",
   "execution_count": 47,
   "metadata": {},
   "outputs": [
    {
     "name": "stderr",
     "output_type": "stream",
     "text": [
      "C:\\Users\\yuka\\Anaconda3\\lib\\site-packages\\sklearn\\model_selection\\_search.py:281: UserWarning: The total space of parameters 2 is smaller than n_iter=5. Running 2 iterations. For exhaustive searches, use GridSearchCV.\n",
      "  % (grid_size, self.n_iter, grid_size), UserWarning)\n",
      "[Parallel(n_jobs=-1)]: Using backend LokyBackend with 4 concurrent workers.\n"
     ]
    },
    {
     "name": "stdout",
     "output_type": "stream",
     "text": [
      "Fitting 2 folds for each of 2 candidates, totalling 4 fits\n"
     ]
    },
    {
     "name": "stderr",
     "output_type": "stream",
     "text": [
      "[Parallel(n_jobs=-1)]: Done   1 tasks      | elapsed:  1.7min\n",
      "[Parallel(n_jobs=-1)]: Done   2 out of   4 | elapsed:  1.7min remaining:  1.7min\n",
      "[Parallel(n_jobs=-1)]: Done   4 out of   4 | elapsed:  3.4min remaining:    0.0s\n",
      "[Parallel(n_jobs=-1)]: Done   4 out of   4 | elapsed:  3.4min finished\n"
     ]
    },
    {
     "name": "stdout",
     "output_type": "stream",
     "text": [
      "[10:42:35] WARNING: C:\\Users\\Administrator\\workspace\\xgboost-win64_release_1.0.0\\src\\learner.cc:328: \n",
      "Parameters: { importance_type, missing, n_estimators } might not be used.\n",
      "\n",
      "  This may not be accurate due to some parameters are only used in language bindings but\n",
      "  passed down to XGBoost core.  Or some parameters are not used but slip through this\n",
      "  verification. Please open an issue if you find above cases.\n",
      "\n",
      "\n",
      "[10:43:42] WARNING: C:\\Users\\Administrator\\workspace\\xgboost-win64_release_1.0.0\\src\\learner.cc:328: \n",
      "Parameters: { importance_type, missing, n_estimators } might not be used.\n",
      "\n",
      "  This may not be accurate due to some parameters are only used in language bindings but\n",
      "  passed down to XGBoost core.  Or some parameters are not used but slip through this\n",
      "  verification. Please open an issue if you find above cases.\n",
      "\n",
      "\n",
      "[10:44:50] WARNING: C:\\Users\\Administrator\\workspace\\xgboost-win64_release_1.0.0\\src\\learner.cc:328: \n",
      "Parameters: { importance_type, missing, n_estimators } might not be used.\n",
      "\n",
      "  This may not be accurate due to some parameters are only used in language bindings but\n",
      "  passed down to XGBoost core.  Or some parameters are not used but slip through this\n",
      "  verification. Please open an issue if you find above cases.\n",
      "\n",
      "\n",
      "\n",
      " Time taken: 0 hours 6 minutes and 47.6 seconds.\n"
     ]
    }
   ],
   "source": [
    "from datetime import datetime\n",
    "# timing starts from this point for \"start_time\" variable\n",
    "start_time = timer(None)\n",
    "\n",
    "XGB_random.fit(X_train_resampled,y_train_resampled)\n",
    "timer(start_time) # timing ends here for \"start_time\" variablev"
   ]
  },
  {
   "cell_type": "code",
   "execution_count": 48,
   "metadata": {},
   "outputs": [
    {
     "name": "stdout",
     "output_type": "stream",
     "text": [
      "{'estimator__validate_parameters': True, 'estimator__n_estimators': 300, 'estimator__min_child_weight': 1, 'estimator__max_depth': 10, 'estimator__learning_rate': 0.3, 'estimator__gamma': 0.1, 'estimator__colsample_bytree': 0.1, 'estimator__booster': 'gbtree'}\n"
     ]
    }
   ],
   "source": [
    "print(XGB_random.best_params_)"
   ]
  },
  {
   "cell_type": "code",
   "execution_count": 49,
   "metadata": {},
   "outputs": [
    {
     "name": "stdout",
     "output_type": "stream",
     "text": [
      "OneVsRestClassifier(estimator=XGBClassifier(base_score=None, booster='gbtree',\n",
      "                                            colsample_bylevel=None,\n",
      "                                            colsample_bynode=None,\n",
      "                                            colsample_bytree=0.1, gamma=0.1,\n",
      "                                            gpu_id=None, importance_type='gain',\n",
      "                                            interaction_constraints=None,\n",
      "                                            learning_rate=0.3,\n",
      "                                            max_delta_step=None, max_depth=10,\n",
      "                                            min_child_weight=1, missing=nan,\n",
      "                                            monotone_constraints=None,\n",
      "                                            n_estimators=300, n_jobs=None,\n",
      "                                            num_class=3, num_parallel_tree=None,\n",
      "                                            objective='multi:softmax',\n",
      "                                            random_state=None, reg_alpha=None,\n",
      "                                            reg_lambda=None,\n",
      "                                            scale_pos_weight=None,\n",
      "                                            subsample=None, tree_method=None,\n",
      "                                            validate_parameters=True,\n",
      "                                            verbosity=None),\n",
      "                    n_jobs=None)\n"
     ]
    }
   ],
   "source": [
    "print(XGB_random.best_estimator_)"
   ]
  },
  {
   "cell_type": "code",
   "execution_count": 50,
   "metadata": {},
   "outputs": [
    {
     "name": "stdout",
     "output_type": "stream",
     "text": [
      "0.36946902654867253\n"
     ]
    }
   ],
   "source": [
    "print(XGB_random.best_score_)"
   ]
  },
  {
   "cell_type": "code",
   "execution_count": null,
   "metadata": {},
   "outputs": [],
   "source": []
  },
  {
   "cell_type": "code",
   "execution_count": null,
   "metadata": {},
   "outputs": [],
   "source": []
  },
  {
   "cell_type": "markdown",
   "metadata": {},
   "source": [
    "# DO NOT WORK!!!!! TO FIX!!!! \n",
    "# resampling train set\n",
    "# scoring = ‘roc_auc_ovr’, 'roc_auc_ovo', 'roc_auc'\n"
   ]
  },
  {
   "cell_type": "code",
   "execution_count": 51,
   "metadata": {},
   "outputs": [],
   "source": [
    "xgb_ovr_clf=OneVsRestClassifier(xgboost.XGBClassifier(objective=\"multi:softmax\",num_class=3))"
   ]
  },
  {
   "cell_type": "code",
   "execution_count": 52,
   "metadata": {},
   "outputs": [],
   "source": [
    "random_grid3 = {'estimator__n_estimators': [100,300],\n",
    "                'estimator__booster':['gbtree'],\n",
    "               'estimator__max_depth': [10],\n",
    "               'estimator__validate_parameters': [True],\n",
    "               'estimator__min_child_weight': [1],\n",
    "               'estimator__gamma':[0.1],\n",
    "               'estimator__learning_rate':[0.3],\n",
    "               'estimator__colsample_bytree':[0.1]}"
   ]
  },
  {
   "cell_type": "code",
   "execution_count": 58,
   "metadata": {},
   "outputs": [],
   "source": [
    "XGB_random=RandomizedSearchCV(xgb_ovr_clf,param_distributions=random_grid3 ,\n",
    "                              n_iter=5, scoring ='roc_auc_ovo', n_jobs=-1,cv=2,verbose=10)"
   ]
  },
  {
   "cell_type": "code",
   "execution_count": 59,
   "metadata": {},
   "outputs": [
    {
     "name": "stdout",
     "output_type": "stream",
     "text": [
      "Fitting 2 folds for each of 2 candidates, totalling 4 fits\n"
     ]
    },
    {
     "name": "stderr",
     "output_type": "stream",
     "text": [
      "[Parallel(n_jobs=-1)]: Using backend LokyBackend with 4 concurrent workers.\n",
      "[Parallel(n_jobs=-1)]: Done   1 tasks      | elapsed:  1.5min\n",
      "[Parallel(n_jobs=-1)]: Done   2 out of   4 | elapsed:  1.5min remaining:  1.5min\n",
      "[Parallel(n_jobs=-1)]: Done   4 out of   4 | elapsed:  1.5min remaining:    0.0s\n"
     ]
    },
    {
     "ename": "ValueError",
     "evalue": "Only one class present in y_true. ROC AUC score is not defined in that case.",
     "output_type": "error",
     "traceback": [
      "\u001b[1;31m---------------------------------------------------------------------------\u001b[0m",
      "\u001b[1;31m_RemoteTraceback\u001b[0m                          Traceback (most recent call last)",
      "\u001b[1;31m_RemoteTraceback\u001b[0m: \n\"\"\"\nTraceback (most recent call last):\n  File \"C:\\Users\\yuka\\Anaconda3\\lib\\site-packages\\joblib\\externals\\loky\\process_executor.py\", line 431, in _process_worker\n    r = call_item()\n  File \"C:\\Users\\yuka\\Anaconda3\\lib\\site-packages\\joblib\\externals\\loky\\process_executor.py\", line 285, in __call__\n    return self.fn(*self.args, **self.kwargs)\n  File \"C:\\Users\\yuka\\Anaconda3\\lib\\site-packages\\joblib\\_parallel_backends.py\", line 593, in __call__\n    return self.func(*args, **kwargs)\n  File \"C:\\Users\\yuka\\Anaconda3\\lib\\site-packages\\joblib\\parallel.py\", line 253, in __call__\n    for func, args, kwargs in self.items]\n  File \"C:\\Users\\yuka\\Anaconda3\\lib\\site-packages\\joblib\\parallel.py\", line 253, in <listcomp>\n    for func, args, kwargs in self.items]\n  File \"C:\\Users\\yuka\\Anaconda3\\lib\\site-packages\\sklearn\\model_selection\\_validation.py\", line 544, in _fit_and_score\n    test_scores = _score(estimator, X_test, y_test, scorer)\n  File \"C:\\Users\\yuka\\Anaconda3\\lib\\site-packages\\sklearn\\model_selection\\_validation.py\", line 591, in _score\n    scores = scorer(estimator, X_test, y_test)\n  File \"C:\\Users\\yuka\\Anaconda3\\lib\\site-packages\\sklearn\\metrics\\_scorer.py\", line 87, in __call__\n    *args, **kwargs)\n  File \"C:\\Users\\yuka\\Anaconda3\\lib\\site-packages\\sklearn\\metrics\\_scorer.py\", line 260, in _score\n    return self._sign * self._score_func(y, y_pred, **self._kwargs)\n  File \"C:\\Users\\yuka\\Anaconda3\\lib\\site-packages\\sklearn\\metrics\\_ranking.py\", line 395, in roc_auc_score\n    sample_weight=sample_weight)\n  File \"C:\\Users\\yuka\\Anaconda3\\lib\\site-packages\\sklearn\\metrics\\_base.py\", line 120, in _average_binary_score\n    sample_weight=score_weight)\n  File \"C:\\Users\\yuka\\Anaconda3\\lib\\site-packages\\sklearn\\metrics\\_ranking.py\", line 221, in _binary_roc_auc_score\n    raise ValueError(\"Only one class present in y_true. ROC AUC score \"\nValueError: Only one class present in y_true. ROC AUC score is not defined in that case.\n\"\"\"",
      "\nThe above exception was the direct cause of the following exception:\n",
      "\u001b[1;31mValueError\u001b[0m                                Traceback (most recent call last)",
      "\u001b[1;32m<ipython-input-59-a9d1ec73416e>\u001b[0m in \u001b[0;36m<module>\u001b[1;34m\u001b[0m\n\u001b[0;32m      3\u001b[0m \u001b[0mstart_time\u001b[0m \u001b[1;33m=\u001b[0m \u001b[0mtimer\u001b[0m\u001b[1;33m(\u001b[0m\u001b[1;32mNone\u001b[0m\u001b[1;33m)\u001b[0m\u001b[1;33m\u001b[0m\u001b[1;33m\u001b[0m\u001b[0m\n\u001b[0;32m      4\u001b[0m \u001b[1;33m\u001b[0m\u001b[0m\n\u001b[1;32m----> 5\u001b[1;33m \u001b[0mXGB_random\u001b[0m\u001b[1;33m.\u001b[0m\u001b[0mfit\u001b[0m\u001b[1;33m(\u001b[0m\u001b[0mX_train_resampled\u001b[0m\u001b[1;33m,\u001b[0m\u001b[0my_train_resampled\u001b[0m\u001b[1;33m)\u001b[0m\u001b[1;33m\u001b[0m\u001b[1;33m\u001b[0m\u001b[0m\n\u001b[0m\u001b[0;32m      6\u001b[0m \u001b[0mtimer\u001b[0m\u001b[1;33m(\u001b[0m\u001b[0mstart_time\u001b[0m\u001b[1;33m)\u001b[0m \u001b[1;31m# timing ends here for \"start_time\" variablev\u001b[0m\u001b[1;33m\u001b[0m\u001b[1;33m\u001b[0m\u001b[0m\n",
      "\u001b[1;32m~\\Anaconda3\\lib\\site-packages\\sklearn\\model_selection\\_search.py\u001b[0m in \u001b[0;36mfit\u001b[1;34m(self, X, y, groups, **fit_params)\u001b[0m\n\u001b[0;32m    708\u001b[0m                 \u001b[1;32mreturn\u001b[0m \u001b[0mresults\u001b[0m\u001b[1;33m\u001b[0m\u001b[1;33m\u001b[0m\u001b[0m\n\u001b[0;32m    709\u001b[0m \u001b[1;33m\u001b[0m\u001b[0m\n\u001b[1;32m--> 710\u001b[1;33m             \u001b[0mself\u001b[0m\u001b[1;33m.\u001b[0m\u001b[0m_run_search\u001b[0m\u001b[1;33m(\u001b[0m\u001b[0mevaluate_candidates\u001b[0m\u001b[1;33m)\u001b[0m\u001b[1;33m\u001b[0m\u001b[1;33m\u001b[0m\u001b[0m\n\u001b[0m\u001b[0;32m    711\u001b[0m \u001b[1;33m\u001b[0m\u001b[0m\n\u001b[0;32m    712\u001b[0m         \u001b[1;31m# For multi-metric evaluation, store the best_index_, best_params_ and\u001b[0m\u001b[1;33m\u001b[0m\u001b[1;33m\u001b[0m\u001b[1;33m\u001b[0m\u001b[0m\n",
      "\u001b[1;32m~\\Anaconda3\\lib\\site-packages\\sklearn\\model_selection\\_search.py\u001b[0m in \u001b[0;36m_run_search\u001b[1;34m(self, evaluate_candidates)\u001b[0m\n\u001b[0;32m   1482\u001b[0m         evaluate_candidates(ParameterSampler(\n\u001b[0;32m   1483\u001b[0m             \u001b[0mself\u001b[0m\u001b[1;33m.\u001b[0m\u001b[0mparam_distributions\u001b[0m\u001b[1;33m,\u001b[0m \u001b[0mself\u001b[0m\u001b[1;33m.\u001b[0m\u001b[0mn_iter\u001b[0m\u001b[1;33m,\u001b[0m\u001b[1;33m\u001b[0m\u001b[1;33m\u001b[0m\u001b[0m\n\u001b[1;32m-> 1484\u001b[1;33m             random_state=self.random_state))\n\u001b[0m",
      "\u001b[1;32m~\\Anaconda3\\lib\\site-packages\\sklearn\\model_selection\\_search.py\u001b[0m in \u001b[0;36mevaluate_candidates\u001b[1;34m(candidate_params)\u001b[0m\n\u001b[0;32m    687\u001b[0m                                \u001b[1;32mfor\u001b[0m \u001b[0mparameters\u001b[0m\u001b[1;33m,\u001b[0m \u001b[1;33m(\u001b[0m\u001b[0mtrain\u001b[0m\u001b[1;33m,\u001b[0m \u001b[0mtest\u001b[0m\u001b[1;33m)\u001b[0m\u001b[1;33m\u001b[0m\u001b[1;33m\u001b[0m\u001b[0m\n\u001b[0;32m    688\u001b[0m                                in product(candidate_params,\n\u001b[1;32m--> 689\u001b[1;33m                                           cv.split(X, y, groups)))\n\u001b[0m\u001b[0;32m    690\u001b[0m \u001b[1;33m\u001b[0m\u001b[0m\n\u001b[0;32m    691\u001b[0m                 \u001b[1;32mif\u001b[0m \u001b[0mlen\u001b[0m\u001b[1;33m(\u001b[0m\u001b[0mout\u001b[0m\u001b[1;33m)\u001b[0m \u001b[1;33m<\u001b[0m \u001b[1;36m1\u001b[0m\u001b[1;33m:\u001b[0m\u001b[1;33m\u001b[0m\u001b[1;33m\u001b[0m\u001b[0m\n",
      "\u001b[1;32m~\\Anaconda3\\lib\\site-packages\\joblib\\parallel.py\u001b[0m in \u001b[0;36m__call__\u001b[1;34m(self, iterable)\u001b[0m\n\u001b[0;32m   1040\u001b[0m \u001b[1;33m\u001b[0m\u001b[0m\n\u001b[0;32m   1041\u001b[0m             \u001b[1;32mwith\u001b[0m \u001b[0mself\u001b[0m\u001b[1;33m.\u001b[0m\u001b[0m_backend\u001b[0m\u001b[1;33m.\u001b[0m\u001b[0mretrieval_context\u001b[0m\u001b[1;33m(\u001b[0m\u001b[1;33m)\u001b[0m\u001b[1;33m:\u001b[0m\u001b[1;33m\u001b[0m\u001b[1;33m\u001b[0m\u001b[0m\n\u001b[1;32m-> 1042\u001b[1;33m                 \u001b[0mself\u001b[0m\u001b[1;33m.\u001b[0m\u001b[0mretrieve\u001b[0m\u001b[1;33m(\u001b[0m\u001b[1;33m)\u001b[0m\u001b[1;33m\u001b[0m\u001b[1;33m\u001b[0m\u001b[0m\n\u001b[0m\u001b[0;32m   1043\u001b[0m             \u001b[1;31m# Make sure that we get a last message telling us we are done\u001b[0m\u001b[1;33m\u001b[0m\u001b[1;33m\u001b[0m\u001b[1;33m\u001b[0m\u001b[0m\n\u001b[0;32m   1044\u001b[0m             \u001b[0melapsed_time\u001b[0m \u001b[1;33m=\u001b[0m \u001b[0mtime\u001b[0m\u001b[1;33m.\u001b[0m\u001b[0mtime\u001b[0m\u001b[1;33m(\u001b[0m\u001b[1;33m)\u001b[0m \u001b[1;33m-\u001b[0m \u001b[0mself\u001b[0m\u001b[1;33m.\u001b[0m\u001b[0m_start_time\u001b[0m\u001b[1;33m\u001b[0m\u001b[1;33m\u001b[0m\u001b[0m\n",
      "\u001b[1;32m~\\Anaconda3\\lib\\site-packages\\joblib\\parallel.py\u001b[0m in \u001b[0;36mretrieve\u001b[1;34m(self)\u001b[0m\n\u001b[0;32m    919\u001b[0m             \u001b[1;32mtry\u001b[0m\u001b[1;33m:\u001b[0m\u001b[1;33m\u001b[0m\u001b[1;33m\u001b[0m\u001b[0m\n\u001b[0;32m    920\u001b[0m                 \u001b[1;32mif\u001b[0m \u001b[0mgetattr\u001b[0m\u001b[1;33m(\u001b[0m\u001b[0mself\u001b[0m\u001b[1;33m.\u001b[0m\u001b[0m_backend\u001b[0m\u001b[1;33m,\u001b[0m \u001b[1;34m'supports_timeout'\u001b[0m\u001b[1;33m,\u001b[0m \u001b[1;32mFalse\u001b[0m\u001b[1;33m)\u001b[0m\u001b[1;33m:\u001b[0m\u001b[1;33m\u001b[0m\u001b[1;33m\u001b[0m\u001b[0m\n\u001b[1;32m--> 921\u001b[1;33m                     \u001b[0mself\u001b[0m\u001b[1;33m.\u001b[0m\u001b[0m_output\u001b[0m\u001b[1;33m.\u001b[0m\u001b[0mextend\u001b[0m\u001b[1;33m(\u001b[0m\u001b[0mjob\u001b[0m\u001b[1;33m.\u001b[0m\u001b[0mget\u001b[0m\u001b[1;33m(\u001b[0m\u001b[0mtimeout\u001b[0m\u001b[1;33m=\u001b[0m\u001b[0mself\u001b[0m\u001b[1;33m.\u001b[0m\u001b[0mtimeout\u001b[0m\u001b[1;33m)\u001b[0m\u001b[1;33m)\u001b[0m\u001b[1;33m\u001b[0m\u001b[1;33m\u001b[0m\u001b[0m\n\u001b[0m\u001b[0;32m    922\u001b[0m                 \u001b[1;32melse\u001b[0m\u001b[1;33m:\u001b[0m\u001b[1;33m\u001b[0m\u001b[1;33m\u001b[0m\u001b[0m\n\u001b[0;32m    923\u001b[0m                     \u001b[0mself\u001b[0m\u001b[1;33m.\u001b[0m\u001b[0m_output\u001b[0m\u001b[1;33m.\u001b[0m\u001b[0mextend\u001b[0m\u001b[1;33m(\u001b[0m\u001b[0mjob\u001b[0m\u001b[1;33m.\u001b[0m\u001b[0mget\u001b[0m\u001b[1;33m(\u001b[0m\u001b[1;33m)\u001b[0m\u001b[1;33m)\u001b[0m\u001b[1;33m\u001b[0m\u001b[1;33m\u001b[0m\u001b[0m\n",
      "\u001b[1;32m~\\Anaconda3\\lib\\site-packages\\joblib\\_parallel_backends.py\u001b[0m in \u001b[0;36mwrap_future_result\u001b[1;34m(future, timeout)\u001b[0m\n\u001b[0;32m    538\u001b[0m         AsyncResults.get from multiprocessing.\"\"\"\n\u001b[0;32m    539\u001b[0m         \u001b[1;32mtry\u001b[0m\u001b[1;33m:\u001b[0m\u001b[1;33m\u001b[0m\u001b[1;33m\u001b[0m\u001b[0m\n\u001b[1;32m--> 540\u001b[1;33m             \u001b[1;32mreturn\u001b[0m \u001b[0mfuture\u001b[0m\u001b[1;33m.\u001b[0m\u001b[0mresult\u001b[0m\u001b[1;33m(\u001b[0m\u001b[0mtimeout\u001b[0m\u001b[1;33m=\u001b[0m\u001b[0mtimeout\u001b[0m\u001b[1;33m)\u001b[0m\u001b[1;33m\u001b[0m\u001b[1;33m\u001b[0m\u001b[0m\n\u001b[0m\u001b[0;32m    541\u001b[0m         \u001b[1;32mexcept\u001b[0m \u001b[0mCfTimeoutError\u001b[0m\u001b[1;33m:\u001b[0m\u001b[1;33m\u001b[0m\u001b[1;33m\u001b[0m\u001b[0m\n\u001b[0;32m    542\u001b[0m             \u001b[1;32mraise\u001b[0m \u001b[0mTimeoutError\u001b[0m\u001b[1;33m(\u001b[0m\u001b[1;33m)\u001b[0m\u001b[1;33m\u001b[0m\u001b[1;33m\u001b[0m\u001b[0m\n",
      "\u001b[1;32m~\\Anaconda3\\lib\\concurrent\\futures\\_base.py\u001b[0m in \u001b[0;36mresult\u001b[1;34m(self, timeout)\u001b[0m\n\u001b[0;32m    430\u001b[0m                 \u001b[1;32mraise\u001b[0m \u001b[0mCancelledError\u001b[0m\u001b[1;33m(\u001b[0m\u001b[1;33m)\u001b[0m\u001b[1;33m\u001b[0m\u001b[1;33m\u001b[0m\u001b[0m\n\u001b[0;32m    431\u001b[0m             \u001b[1;32melif\u001b[0m \u001b[0mself\u001b[0m\u001b[1;33m.\u001b[0m\u001b[0m_state\u001b[0m \u001b[1;33m==\u001b[0m \u001b[0mFINISHED\u001b[0m\u001b[1;33m:\u001b[0m\u001b[1;33m\u001b[0m\u001b[1;33m\u001b[0m\u001b[0m\n\u001b[1;32m--> 432\u001b[1;33m                 \u001b[1;32mreturn\u001b[0m \u001b[0mself\u001b[0m\u001b[1;33m.\u001b[0m\u001b[0m__get_result\u001b[0m\u001b[1;33m(\u001b[0m\u001b[1;33m)\u001b[0m\u001b[1;33m\u001b[0m\u001b[1;33m\u001b[0m\u001b[0m\n\u001b[0m\u001b[0;32m    433\u001b[0m             \u001b[1;32melse\u001b[0m\u001b[1;33m:\u001b[0m\u001b[1;33m\u001b[0m\u001b[1;33m\u001b[0m\u001b[0m\n\u001b[0;32m    434\u001b[0m                 \u001b[1;32mraise\u001b[0m \u001b[0mTimeoutError\u001b[0m\u001b[1;33m(\u001b[0m\u001b[1;33m)\u001b[0m\u001b[1;33m\u001b[0m\u001b[1;33m\u001b[0m\u001b[0m\n",
      "\u001b[1;32m~\\Anaconda3\\lib\\concurrent\\futures\\_base.py\u001b[0m in \u001b[0;36m__get_result\u001b[1;34m(self)\u001b[0m\n\u001b[0;32m    382\u001b[0m     \u001b[1;32mdef\u001b[0m \u001b[0m__get_result\u001b[0m\u001b[1;33m(\u001b[0m\u001b[0mself\u001b[0m\u001b[1;33m)\u001b[0m\u001b[1;33m:\u001b[0m\u001b[1;33m\u001b[0m\u001b[1;33m\u001b[0m\u001b[0m\n\u001b[0;32m    383\u001b[0m         \u001b[1;32mif\u001b[0m \u001b[0mself\u001b[0m\u001b[1;33m.\u001b[0m\u001b[0m_exception\u001b[0m\u001b[1;33m:\u001b[0m\u001b[1;33m\u001b[0m\u001b[1;33m\u001b[0m\u001b[0m\n\u001b[1;32m--> 384\u001b[1;33m             \u001b[1;32mraise\u001b[0m \u001b[0mself\u001b[0m\u001b[1;33m.\u001b[0m\u001b[0m_exception\u001b[0m\u001b[1;33m\u001b[0m\u001b[1;33m\u001b[0m\u001b[0m\n\u001b[0m\u001b[0;32m    385\u001b[0m         \u001b[1;32melse\u001b[0m\u001b[1;33m:\u001b[0m\u001b[1;33m\u001b[0m\u001b[1;33m\u001b[0m\u001b[0m\n\u001b[0;32m    386\u001b[0m             \u001b[1;32mreturn\u001b[0m \u001b[0mself\u001b[0m\u001b[1;33m.\u001b[0m\u001b[0m_result\u001b[0m\u001b[1;33m\u001b[0m\u001b[1;33m\u001b[0m\u001b[0m\n",
      "\u001b[1;31mValueError\u001b[0m: Only one class present in y_true. ROC AUC score is not defined in that case."
     ]
    }
   ],
   "source": [
    "from datetime import datetime\n",
    "# timing starts from this point for \"start_time\" variable\n",
    "start_time = timer(None)\n",
    "\n",
    "XGB_random.fit(X_train_resampled,y_train_resampled)\n",
    "timer(start_time) # timing ends here for \"start_time\" variablev"
   ]
  },
  {
   "cell_type": "code",
   "execution_count": null,
   "metadata": {},
   "outputs": [],
   "source": []
  },
  {
   "cell_type": "code",
   "execution_count": null,
   "metadata": {},
   "outputs": [],
   "source": []
  },
  {
   "cell_type": "markdown",
   "metadata": {},
   "source": [
    "# resampled train\n",
    "# scoring = accuracy\n"
   ]
  },
  {
   "cell_type": "code",
   "execution_count": 62,
   "metadata": {},
   "outputs": [],
   "source": [
    "xgb_ovr_clf=OneVsRestClassifier(xgboost.XGBClassifier(objective=\"multi:softmax\",num_class=3))"
   ]
  },
  {
   "cell_type": "code",
   "execution_count": 63,
   "metadata": {},
   "outputs": [],
   "source": [
    "random_grid3 = {'estimator__n_estimators': [100,300],\n",
    "                'estimator__booster':['gbtree'],\n",
    "               'estimator__max_depth': [10],\n",
    "               'estimator__validate_parameters': [True],\n",
    "               'estimator__min_child_weight': [1],\n",
    "               'estimator__gamma':[0.1],\n",
    "               'estimator__learning_rate':[0.3],\n",
    "               'estimator__colsample_bytree':[0.1]}"
   ]
  },
  {
   "cell_type": "code",
   "execution_count": 64,
   "metadata": {},
   "outputs": [],
   "source": [
    "XGB_random=RandomizedSearchCV(xgb_ovr_clf,param_distributions=random_grid3 ,\n",
    "                              n_iter=5, scoring ='accuracy', n_jobs=-1,cv=2,verbose=10)"
   ]
  },
  {
   "cell_type": "code",
   "execution_count": 65,
   "metadata": {},
   "outputs": [
    {
     "name": "stdout",
     "output_type": "stream",
     "text": [
      "Fitting 2 folds for each of 2 candidates, totalling 4 fits\n"
     ]
    },
    {
     "name": "stderr",
     "output_type": "stream",
     "text": [
      "[Parallel(n_jobs=-1)]: Using backend LokyBackend with 4 concurrent workers.\n",
      "[Parallel(n_jobs=-1)]: Done   1 tasks      | elapsed:  1.7min\n",
      "[Parallel(n_jobs=-1)]: Done   2 out of   4 | elapsed:  1.7min remaining:  1.7min\n",
      "[Parallel(n_jobs=-1)]: Done   4 out of   4 | elapsed:  3.7min remaining:    0.0s\n",
      "[Parallel(n_jobs=-1)]: Done   4 out of   4 | elapsed:  3.7min finished\n"
     ]
    },
    {
     "name": "stdout",
     "output_type": "stream",
     "text": [
      "[11:08:39] WARNING: C:\\Users\\Administrator\\workspace\\xgboost-win64_release_1.0.0\\src\\learner.cc:328: \n",
      "Parameters: { importance_type, missing, n_estimators } might not be used.\n",
      "\n",
      "  This may not be accurate due to some parameters are only used in language bindings but\n",
      "  passed down to XGBoost core.  Or some parameters are not used but slip through this\n",
      "  verification. Please open an issue if you find above cases.\n",
      "\n",
      "\n",
      "[11:09:54] WARNING: C:\\Users\\Administrator\\workspace\\xgboost-win64_release_1.0.0\\src\\learner.cc:328: \n",
      "Parameters: { importance_type, missing, n_estimators } might not be used.\n",
      "\n",
      "  This may not be accurate due to some parameters are only used in language bindings but\n",
      "  passed down to XGBoost core.  Or some parameters are not used but slip through this\n",
      "  verification. Please open an issue if you find above cases.\n",
      "\n",
      "\n",
      "[11:11:04] WARNING: C:\\Users\\Administrator\\workspace\\xgboost-win64_release_1.0.0\\src\\learner.cc:328: \n",
      "Parameters: { importance_type, missing, n_estimators } might not be used.\n",
      "\n",
      "  This may not be accurate due to some parameters are only used in language bindings but\n",
      "  passed down to XGBoost core.  Or some parameters are not used but slip through this\n",
      "  verification. Please open an issue if you find above cases.\n",
      "\n",
      "\n",
      "\n",
      " Time taken: 0 hours 7 minutes and 20.05 seconds.\n"
     ]
    }
   ],
   "source": [
    "from datetime import datetime\n",
    "# timing starts from this point for \"start_time\" variable\n",
    "start_time = timer(None)\n",
    "\n",
    "XGB_random.fit(X_train_resampled,y_train_resampled)\n",
    "timer(start_time) # timing ends here for \"start_time\" variablev"
   ]
  },
  {
   "cell_type": "code",
   "execution_count": 66,
   "metadata": {},
   "outputs": [
    {
     "name": "stdout",
     "output_type": "stream",
     "text": [
      "{'estimator__validate_parameters': True, 'estimator__n_estimators': 300, 'estimator__min_child_weight': 1, 'estimator__max_depth': 10, 'estimator__learning_rate': 0.3, 'estimator__gamma': 0.1, 'estimator__colsample_bytree': 0.1, 'estimator__booster': 'gbtree'}\n"
     ]
    }
   ],
   "source": [
    "print(XGB_random.best_params_)"
   ]
  },
  {
   "cell_type": "code",
   "execution_count": 67,
   "metadata": {},
   "outputs": [
    {
     "name": "stdout",
     "output_type": "stream",
     "text": [
      "OneVsRestClassifier(estimator=XGBClassifier(base_score=None, booster='gbtree',\n",
      "                                            colsample_bylevel=None,\n",
      "                                            colsample_bynode=None,\n",
      "                                            colsample_bytree=0.1, gamma=0.1,\n",
      "                                            gpu_id=None, importance_type='gain',\n",
      "                                            interaction_constraints=None,\n",
      "                                            learning_rate=0.3,\n",
      "                                            max_delta_step=None, max_depth=10,\n",
      "                                            min_child_weight=1, missing=nan,\n",
      "                                            monotone_constraints=None,\n",
      "                                            n_estimators=300, n_jobs=None,\n",
      "                                            num_class=3, num_parallel_tree=None,\n",
      "                                            objective='multi:softmax',\n",
      "                                            random_state=None, reg_alpha=None,\n",
      "                                            reg_lambda=None,\n",
      "                                            scale_pos_weight=None,\n",
      "                                            subsample=None, tree_method=None,\n",
      "                                            validate_parameters=True,\n",
      "                                            verbosity=None),\n",
      "                    n_jobs=None)\n"
     ]
    }
   ],
   "source": [
    "print(XGB_random.best_estimator_)"
   ]
  },
  {
   "cell_type": "code",
   "execution_count": 68,
   "metadata": {},
   "outputs": [
    {
     "name": "stdout",
     "output_type": "stream",
     "text": [
      "0.36946902654867253\n"
     ]
    }
   ],
   "source": [
    "print(XGB_random.best_score_)"
   ]
  },
  {
   "cell_type": "code",
   "execution_count": null,
   "metadata": {},
   "outputs": [],
   "source": []
  },
  {
   "cell_type": "code",
   "execution_count": null,
   "metadata": {},
   "outputs": [],
   "source": []
  },
  {
   "cell_type": "code",
   "execution_count": null,
   "metadata": {},
   "outputs": [],
   "source": []
  },
  {
   "cell_type": "code",
   "execution_count": null,
   "metadata": {},
   "outputs": [],
   "source": []
  },
  {
   "cell_type": "code",
   "execution_count": null,
   "metadata": {},
   "outputs": [],
   "source": []
  },
  {
   "cell_type": "code",
   "execution_count": null,
   "metadata": {},
   "outputs": [],
   "source": []
  },
  {
   "cell_type": "code",
   "execution_count": null,
   "metadata": {},
   "outputs": [],
   "source": []
  },
  {
   "cell_type": "code",
   "execution_count": null,
   "metadata": {},
   "outputs": [],
   "source": []
  },
  {
   "cell_type": "code",
   "execution_count": null,
   "metadata": {},
   "outputs": [],
   "source": []
  },
  {
   "cell_type": "code",
   "execution_count": null,
   "metadata": {},
   "outputs": [],
   "source": []
  },
  {
   "cell_type": "code",
   "execution_count": null,
   "metadata": {},
   "outputs": [],
   "source": []
  },
  {
   "cell_type": "markdown",
   "metadata": {},
   "source": [
    "# TO DO \n",
    "\n",
    "* set xgb params  'booster':'gbtree'. it returned ' not suported.....? but model was comuting this, so it should work! > WORKED! \n",
    "* set ramdom search param scoring='f1_macro'> worked! \n",
    "* set random search param return_train_score=True\n",
    "* params set by code\n",
    "* read https://www.kaggle.com/mommermi/resampling-gridsearch-lightgbm-magic\n",
    "\n",
    "https://stackoverflow.com/questions/61453795/using-sklearns-randomizedsearchcv-with-smote-oversampling-only-on-training-fold\n",
    "\n",
    "# Findings \n",
    "* X y set is ok\n",
    "* X_train_resampled, y_train_resampled did not work even if the dataset type are the same as X and y\n",
    "* **scoring = ‘roc_auc_ovr’, 'roc_auc_ovo', 'roc_auc' did not work**\n",
    "* y_train_resampled has no issue since it has 1 or 0 in one of three labels. \n",
    "\n",
    "\n",
    "\n",
    "# Questions\n",
    "\n",
    "* cross val with resampled X y train\n",
    "* use resampled X and y train for grid/randomise search. \n",
    "* \n",
    "\n",
    "# Gridsearch\n",
    "# cross val \n",
    "# save model \n",
    "# save df \n",
    "# submit compe and see ranking \n",
    "\n"
   ]
  },
  {
   "cell_type": "code",
   "execution_count": null,
   "metadata": {},
   "outputs": [],
   "source": []
  },
  {
   "cell_type": "markdown",
   "metadata": {},
   "source": [
    "# Findings\n",
    "\n",
    "* step 1 cross validation and get mean arrucacy with defaults hyperparameters\n",
    "* step 2 gridsearh or random search and get \".best_score_\"\n",
    "* step 3 compare step1( mean of corss val socre ) and step2 's score (\".best_score\" becuase grid and random do CV as default) to see the improvemnt from step1 to step2 \n",
    "https://towardsdatascience.com/hyperparameter-tuning-c5619e7e6624\n",
    "\n",
    "\n",
    "# Grid VS Random Search\n",
    "\n",
    "**Grid**\n",
    "* a small number of hyperparameters.\n",
    "* computationally expensive! \n",
    "* time comsuming \n",
    "* it is guaranteed to find the optimal combination of parameters supplied\n",
    "\n",
    "**Random**\n",
    "* \"There is a tradeoff to decreased processing time, however. We aren’t guaranteed to find the optimal combination of hyperparameters\" \n",
    "* less expensive\n",
    "* change \"n_iter\" value by yourself. Selecting too low of a number will decrease our chance of finding the best combination. Selecting too large of a number will increase our processing time.\n",
    "* Use when the number of parameters to consider is particularly high and the magnitudes of influence are imbalanced\n",
    "https://towardsdatascience.com/machine-learning-gridsearchcv-randomizedsearchcv-d36b89231b10\n",
    "\n"
   ]
  },
  {
   "cell_type": "code",
   "execution_count": null,
   "metadata": {},
   "outputs": [],
   "source": []
  },
  {
   "cell_type": "code",
   "execution_count": null,
   "metadata": {},
   "outputs": [],
   "source": []
  },
  {
   "cell_type": "code",
   "execution_count": null,
   "metadata": {},
   "outputs": [],
   "source": []
  },
  {
   "cell_type": "code",
   "execution_count": 13,
   "metadata": {},
   "outputs": [],
   "source": [
    "from xgboost import XGBClassifier\n",
    "from sklearn.ensemble import GradientBoostingClassifier\n",
    "from sklearn.ensemble import RandomForestClassifier\n",
    "from sklearn.svm import SVC\n",
    "\n",
    "from sklearn.metrics import classification_report\n",
    "from sklearn.metrics import accuracy_score"
   ]
  },
  {
   "cell_type": "code",
   "execution_count": 14,
   "metadata": {},
   "outputs": [],
   "source": [
    "XGB =XGBClassifier()\n",
    "#XGB.fit(X_train_resampled,y_train_resampled)\n",
    "#y_pred =XGB.predict(X_test)\n",
    "#print(classification_report(y_test,y_pred))\n",
    "#print(accuracy_score(y_test, y_pred))"
   ]
  },
  {
   "cell_type": "code",
   "execution_count": null,
   "metadata": {},
   "outputs": [],
   "source": []
  },
  {
   "cell_type": "markdown",
   "metadata": {},
   "source": [
    "# FIX THIS CODE! infinity loop!!!!!!! ?????????????? "
   ]
  },
  {
   "cell_type": "code",
   "execution_count": 16,
   "metadata": {},
   "outputs": [],
   "source": [
    "# Number of trees\n",
    "#n_estimator = [int(x) for x in np.linspace(start = 100, stop =300, num = 3)]\n",
    "\n",
    "# booster types\n",
    "booster = ['gbtree']\n",
    "\n",
    "# Maximum number of levels in tree\n",
    "max_dep = [int(x) for x in np.linspace(4, 10, num = 3)]\n",
    "#max_dep.append(None)\n",
    "\n",
    "# When set to True, XGBoost will perform validation of input parameters to check whether a parameter is used or not.\n",
    "#validate_parameter = [True]\n",
    "\n",
    "# the minimum weight (or number of samples if all samples have a weight of 1) required in order to create a new node in the tree.\n",
    "#Smaller weight, smaller samples. If too big, will result in overfitiing\n",
    "min_child_wei = [int(x) for x in np.linspace(1, 3, num = 3)]\n",
    "#min_child_wei.append(None)\n",
    "\n",
    "# learning_rate (eta) range: [0,1], default=0.3,  prevents overfitting\n",
    "#eta = [0.1,0.3,0.5]\n",
    "\n",
    "# Method of selecting samples for training each tree\n",
    "bootstp = [True]#,False]\n"
   ]
  },
  {
   "cell_type": "code",
   "execution_count": 17,
   "metadata": {},
   "outputs": [],
   "source": [
    "random_grid = {#'n_estimators': n_estimator,\n",
    "               'booster':booster,\n",
    "               'max_depth': max_dep,\n",
    "               #'validate_parameters': validate_parameter,\n",
    "               'min_child_weight': min_child_wei,\n",
    "               #'learning_rate':eta,\n",
    "               'bootstrap': bootstp}\n"
   ]
  },
  {
   "cell_type": "code",
   "execution_count": 18,
   "metadata": {},
   "outputs": [
    {
     "data": {
      "text/plain": [
       "{'booster': ['gbtree'],\n",
       " 'max_depth': [4, 7, 10],\n",
       " 'min_child_weight': [1, 2, 3],\n",
       " 'bootstrap': [True]}"
      ]
     },
     "execution_count": 18,
     "metadata": {},
     "output_type": "execute_result"
    }
   ],
   "source": [
    "random_grid"
   ]
  },
  {
   "cell_type": "code",
   "execution_count": 22,
   "metadata": {},
   "outputs": [],
   "source": [
    "# Use the random grid to search for best hyperparameters\n",
    "\n",
    "# Random search of parameters, using 10 fold cross validation \"cv = 5\"\n",
    "# search across 100 different combinations, and use all available cores n_iter = 100\n",
    "# evaluate accuracy scoring='f1'\n",
    "# n_iter :when a big number is set, it will take long to compute! default is 10"
   ]
  },
  {
   "cell_type": "code",
   "execution_count": 20,
   "metadata": {},
   "outputs": [
    {
     "data": {
      "text/plain": [
       "{'min_child_weight': 1,\n",
       " 'max_depth': 10,\n",
       " 'bootstrap': True,\n",
       " 'booster': 'gbtree'}"
      ]
     },
     "execution_count": 20,
     "metadata": {},
     "output_type": "execute_result"
    }
   ],
   "source": [
    "XGB_random.best_params_"
   ]
  },
  {
   "cell_type": "code",
   "execution_count": 21,
   "metadata": {},
   "outputs": [
    {
     "data": {
      "text/plain": [
       "0.9799093667032123"
      ]
     },
     "execution_count": 21,
     "metadata": {},
     "output_type": "execute_result"
    }
   ],
   "source": [
    "XGB_random.best_score_"
   ]
  },
  {
   "cell_type": "code",
   "execution_count": null,
   "metadata": {},
   "outputs": [],
   "source": []
  },
  {
   "cell_type": "code",
   "execution_count": null,
   "metadata": {},
   "outputs": [],
   "source": []
  },
  {
   "cell_type": "markdown",
   "metadata": {},
   "source": [
    "# GridSearch \n",
    "# Create the parameter grid based on the results of random search "
   ]
  },
  {
   "cell_type": "code",
   "execution_count": 23,
   "metadata": {},
   "outputs": [],
   "source": [
    "from sklearn.model_selection import GridSearchCV"
   ]
  },
  {
   "cell_type": "code",
   "execution_count": 25,
   "metadata": {},
   "outputs": [],
   "source": [
    "n_estimator = [100,200,300]\n",
    "\n",
    "booster = ['gbtree']\n",
    "\n",
    "max_dep = [9, 11,13]\n",
    "\n",
    "min_child_wei = [1]\n",
    "\n",
    "eta =  [0.1,0.3,0.5]\n",
    "\n",
    "bootstp = [True]\n",
    "\n",
    "validate_param = [True]\n"
   ]
  },
  {
   "cell_type": "code",
   "execution_count": 26,
   "metadata": {},
   "outputs": [],
   "source": [
    "grids_params = {'n_estimators': n_estimator,\n",
    "               'booster':booster,\n",
    "               'max_depth': max_dep,\n",
    "               'validate_parameters': validate_param,\n",
    "               'min_child_weight': min_child_wei,\n",
    "               'learning_rate':eta,\n",
    "               'bootstrap': bootstp}"
   ]
  },
  {
   "cell_type": "code",
   "execution_count": 27,
   "metadata": {},
   "outputs": [],
   "source": [
    "gridsearch = GridSearchCV(estimator = XGB, param_grid = grids_params, scoring='f1_macro',\n",
    "                          cv = 5, n_jobs = -1, verbose = 2, return_train_score=True)"
   ]
  },
  {
   "cell_type": "code",
   "execution_count": 28,
   "metadata": {},
   "outputs": [
    {
     "name": "stdout",
     "output_type": "stream",
     "text": [
      "Fitting 5 folds for each of 27 candidates, totalling 135 fits\n"
     ]
    },
    {
     "name": "stderr",
     "output_type": "stream",
     "text": [
      "[Parallel(n_jobs=-1)]: Using backend LokyBackend with 4 concurrent workers.\n",
      "[Parallel(n_jobs=-1)]: Done  33 tasks      | elapsed: 106.7min\n"
     ]
    },
    {
     "ename": "KeyboardInterrupt",
     "evalue": "",
     "output_type": "error",
     "traceback": [
      "\u001b[1;31m---------------------------------------------------------------------------\u001b[0m",
      "\u001b[1;31mKeyboardInterrupt\u001b[0m                         Traceback (most recent call last)",
      "\u001b[1;32m<ipython-input-28-831435d3e37b>\u001b[0m in \u001b[0;36m<module>\u001b[1;34m\u001b[0m\n\u001b[1;32m----> 1\u001b[1;33m \u001b[0mgridsearch\u001b[0m\u001b[1;33m.\u001b[0m\u001b[0mfit\u001b[0m\u001b[1;33m(\u001b[0m\u001b[0mX_train_resampled\u001b[0m\u001b[1;33m,\u001b[0m\u001b[0my_train_resampled\u001b[0m\u001b[1;33m)\u001b[0m\u001b[1;33m\u001b[0m\u001b[1;33m\u001b[0m\u001b[0m\n\u001b[0m",
      "\u001b[1;32m~\\Anaconda3\\lib\\site-packages\\sklearn\\model_selection\\_search.py\u001b[0m in \u001b[0;36mfit\u001b[1;34m(self, X, y, groups, **fit_params)\u001b[0m\n\u001b[0;32m    708\u001b[0m                 \u001b[1;32mreturn\u001b[0m \u001b[0mresults\u001b[0m\u001b[1;33m\u001b[0m\u001b[1;33m\u001b[0m\u001b[0m\n\u001b[0;32m    709\u001b[0m \u001b[1;33m\u001b[0m\u001b[0m\n\u001b[1;32m--> 710\u001b[1;33m             \u001b[0mself\u001b[0m\u001b[1;33m.\u001b[0m\u001b[0m_run_search\u001b[0m\u001b[1;33m(\u001b[0m\u001b[0mevaluate_candidates\u001b[0m\u001b[1;33m)\u001b[0m\u001b[1;33m\u001b[0m\u001b[1;33m\u001b[0m\u001b[0m\n\u001b[0m\u001b[0;32m    711\u001b[0m \u001b[1;33m\u001b[0m\u001b[0m\n\u001b[0;32m    712\u001b[0m         \u001b[1;31m# For multi-metric evaluation, store the best_index_, best_params_ and\u001b[0m\u001b[1;33m\u001b[0m\u001b[1;33m\u001b[0m\u001b[1;33m\u001b[0m\u001b[0m\n",
      "\u001b[1;32m~\\Anaconda3\\lib\\site-packages\\sklearn\\model_selection\\_search.py\u001b[0m in \u001b[0;36m_run_search\u001b[1;34m(self, evaluate_candidates)\u001b[0m\n\u001b[0;32m   1149\u001b[0m     \u001b[1;32mdef\u001b[0m \u001b[0m_run_search\u001b[0m\u001b[1;33m(\u001b[0m\u001b[0mself\u001b[0m\u001b[1;33m,\u001b[0m \u001b[0mevaluate_candidates\u001b[0m\u001b[1;33m)\u001b[0m\u001b[1;33m:\u001b[0m\u001b[1;33m\u001b[0m\u001b[1;33m\u001b[0m\u001b[0m\n\u001b[0;32m   1150\u001b[0m         \u001b[1;34m\"\"\"Search all candidates in param_grid\"\"\"\u001b[0m\u001b[1;33m\u001b[0m\u001b[1;33m\u001b[0m\u001b[0m\n\u001b[1;32m-> 1151\u001b[1;33m         \u001b[0mevaluate_candidates\u001b[0m\u001b[1;33m(\u001b[0m\u001b[0mParameterGrid\u001b[0m\u001b[1;33m(\u001b[0m\u001b[0mself\u001b[0m\u001b[1;33m.\u001b[0m\u001b[0mparam_grid\u001b[0m\u001b[1;33m)\u001b[0m\u001b[1;33m)\u001b[0m\u001b[1;33m\u001b[0m\u001b[1;33m\u001b[0m\u001b[0m\n\u001b[0m\u001b[0;32m   1152\u001b[0m \u001b[1;33m\u001b[0m\u001b[0m\n\u001b[0;32m   1153\u001b[0m \u001b[1;33m\u001b[0m\u001b[0m\n",
      "\u001b[1;32m~\\Anaconda3\\lib\\site-packages\\sklearn\\model_selection\\_search.py\u001b[0m in \u001b[0;36mevaluate_candidates\u001b[1;34m(candidate_params)\u001b[0m\n\u001b[0;32m    687\u001b[0m                                \u001b[1;32mfor\u001b[0m \u001b[0mparameters\u001b[0m\u001b[1;33m,\u001b[0m \u001b[1;33m(\u001b[0m\u001b[0mtrain\u001b[0m\u001b[1;33m,\u001b[0m \u001b[0mtest\u001b[0m\u001b[1;33m)\u001b[0m\u001b[1;33m\u001b[0m\u001b[1;33m\u001b[0m\u001b[0m\n\u001b[0;32m    688\u001b[0m                                in product(candidate_params,\n\u001b[1;32m--> 689\u001b[1;33m                                           cv.split(X, y, groups)))\n\u001b[0m\u001b[0;32m    690\u001b[0m \u001b[1;33m\u001b[0m\u001b[0m\n\u001b[0;32m    691\u001b[0m                 \u001b[1;32mif\u001b[0m \u001b[0mlen\u001b[0m\u001b[1;33m(\u001b[0m\u001b[0mout\u001b[0m\u001b[1;33m)\u001b[0m \u001b[1;33m<\u001b[0m \u001b[1;36m1\u001b[0m\u001b[1;33m:\u001b[0m\u001b[1;33m\u001b[0m\u001b[1;33m\u001b[0m\u001b[0m\n",
      "\u001b[1;32m~\\Anaconda3\\lib\\site-packages\\joblib\\parallel.py\u001b[0m in \u001b[0;36m__call__\u001b[1;34m(self, iterable)\u001b[0m\n\u001b[0;32m   1040\u001b[0m \u001b[1;33m\u001b[0m\u001b[0m\n\u001b[0;32m   1041\u001b[0m             \u001b[1;32mwith\u001b[0m \u001b[0mself\u001b[0m\u001b[1;33m.\u001b[0m\u001b[0m_backend\u001b[0m\u001b[1;33m.\u001b[0m\u001b[0mretrieval_context\u001b[0m\u001b[1;33m(\u001b[0m\u001b[1;33m)\u001b[0m\u001b[1;33m:\u001b[0m\u001b[1;33m\u001b[0m\u001b[1;33m\u001b[0m\u001b[0m\n\u001b[1;32m-> 1042\u001b[1;33m                 \u001b[0mself\u001b[0m\u001b[1;33m.\u001b[0m\u001b[0mretrieve\u001b[0m\u001b[1;33m(\u001b[0m\u001b[1;33m)\u001b[0m\u001b[1;33m\u001b[0m\u001b[1;33m\u001b[0m\u001b[0m\n\u001b[0m\u001b[0;32m   1043\u001b[0m             \u001b[1;31m# Make sure that we get a last message telling us we are done\u001b[0m\u001b[1;33m\u001b[0m\u001b[1;33m\u001b[0m\u001b[1;33m\u001b[0m\u001b[0m\n\u001b[0;32m   1044\u001b[0m             \u001b[0melapsed_time\u001b[0m \u001b[1;33m=\u001b[0m \u001b[0mtime\u001b[0m\u001b[1;33m.\u001b[0m\u001b[0mtime\u001b[0m\u001b[1;33m(\u001b[0m\u001b[1;33m)\u001b[0m \u001b[1;33m-\u001b[0m \u001b[0mself\u001b[0m\u001b[1;33m.\u001b[0m\u001b[0m_start_time\u001b[0m\u001b[1;33m\u001b[0m\u001b[1;33m\u001b[0m\u001b[0m\n",
      "\u001b[1;32m~\\Anaconda3\\lib\\site-packages\\joblib\\parallel.py\u001b[0m in \u001b[0;36mretrieve\u001b[1;34m(self)\u001b[0m\n\u001b[0;32m    919\u001b[0m             \u001b[1;32mtry\u001b[0m\u001b[1;33m:\u001b[0m\u001b[1;33m\u001b[0m\u001b[1;33m\u001b[0m\u001b[0m\n\u001b[0;32m    920\u001b[0m                 \u001b[1;32mif\u001b[0m \u001b[0mgetattr\u001b[0m\u001b[1;33m(\u001b[0m\u001b[0mself\u001b[0m\u001b[1;33m.\u001b[0m\u001b[0m_backend\u001b[0m\u001b[1;33m,\u001b[0m \u001b[1;34m'supports_timeout'\u001b[0m\u001b[1;33m,\u001b[0m \u001b[1;32mFalse\u001b[0m\u001b[1;33m)\u001b[0m\u001b[1;33m:\u001b[0m\u001b[1;33m\u001b[0m\u001b[1;33m\u001b[0m\u001b[0m\n\u001b[1;32m--> 921\u001b[1;33m                     \u001b[0mself\u001b[0m\u001b[1;33m.\u001b[0m\u001b[0m_output\u001b[0m\u001b[1;33m.\u001b[0m\u001b[0mextend\u001b[0m\u001b[1;33m(\u001b[0m\u001b[0mjob\u001b[0m\u001b[1;33m.\u001b[0m\u001b[0mget\u001b[0m\u001b[1;33m(\u001b[0m\u001b[0mtimeout\u001b[0m\u001b[1;33m=\u001b[0m\u001b[0mself\u001b[0m\u001b[1;33m.\u001b[0m\u001b[0mtimeout\u001b[0m\u001b[1;33m)\u001b[0m\u001b[1;33m)\u001b[0m\u001b[1;33m\u001b[0m\u001b[1;33m\u001b[0m\u001b[0m\n\u001b[0m\u001b[0;32m    922\u001b[0m                 \u001b[1;32melse\u001b[0m\u001b[1;33m:\u001b[0m\u001b[1;33m\u001b[0m\u001b[1;33m\u001b[0m\u001b[0m\n\u001b[0;32m    923\u001b[0m                     \u001b[0mself\u001b[0m\u001b[1;33m.\u001b[0m\u001b[0m_output\u001b[0m\u001b[1;33m.\u001b[0m\u001b[0mextend\u001b[0m\u001b[1;33m(\u001b[0m\u001b[0mjob\u001b[0m\u001b[1;33m.\u001b[0m\u001b[0mget\u001b[0m\u001b[1;33m(\u001b[0m\u001b[1;33m)\u001b[0m\u001b[1;33m)\u001b[0m\u001b[1;33m\u001b[0m\u001b[1;33m\u001b[0m\u001b[0m\n",
      "\u001b[1;32m~\\Anaconda3\\lib\\site-packages\\joblib\\_parallel_backends.py\u001b[0m in \u001b[0;36mwrap_future_result\u001b[1;34m(future, timeout)\u001b[0m\n\u001b[0;32m    538\u001b[0m         AsyncResults.get from multiprocessing.\"\"\"\n\u001b[0;32m    539\u001b[0m         \u001b[1;32mtry\u001b[0m\u001b[1;33m:\u001b[0m\u001b[1;33m\u001b[0m\u001b[1;33m\u001b[0m\u001b[0m\n\u001b[1;32m--> 540\u001b[1;33m             \u001b[1;32mreturn\u001b[0m \u001b[0mfuture\u001b[0m\u001b[1;33m.\u001b[0m\u001b[0mresult\u001b[0m\u001b[1;33m(\u001b[0m\u001b[0mtimeout\u001b[0m\u001b[1;33m=\u001b[0m\u001b[0mtimeout\u001b[0m\u001b[1;33m)\u001b[0m\u001b[1;33m\u001b[0m\u001b[1;33m\u001b[0m\u001b[0m\n\u001b[0m\u001b[0;32m    541\u001b[0m         \u001b[1;32mexcept\u001b[0m \u001b[0mCfTimeoutError\u001b[0m\u001b[1;33m:\u001b[0m\u001b[1;33m\u001b[0m\u001b[1;33m\u001b[0m\u001b[0m\n\u001b[0;32m    542\u001b[0m             \u001b[1;32mraise\u001b[0m \u001b[0mTimeoutError\u001b[0m\u001b[1;33m(\u001b[0m\u001b[1;33m)\u001b[0m\u001b[1;33m\u001b[0m\u001b[1;33m\u001b[0m\u001b[0m\n",
      "\u001b[1;32m~\\Anaconda3\\lib\\concurrent\\futures\\_base.py\u001b[0m in \u001b[0;36mresult\u001b[1;34m(self, timeout)\u001b[0m\n\u001b[0;32m    425\u001b[0m                 \u001b[1;32mreturn\u001b[0m \u001b[0mself\u001b[0m\u001b[1;33m.\u001b[0m\u001b[0m__get_result\u001b[0m\u001b[1;33m(\u001b[0m\u001b[1;33m)\u001b[0m\u001b[1;33m\u001b[0m\u001b[1;33m\u001b[0m\u001b[0m\n\u001b[0;32m    426\u001b[0m \u001b[1;33m\u001b[0m\u001b[0m\n\u001b[1;32m--> 427\u001b[1;33m             \u001b[0mself\u001b[0m\u001b[1;33m.\u001b[0m\u001b[0m_condition\u001b[0m\u001b[1;33m.\u001b[0m\u001b[0mwait\u001b[0m\u001b[1;33m(\u001b[0m\u001b[0mtimeout\u001b[0m\u001b[1;33m)\u001b[0m\u001b[1;33m\u001b[0m\u001b[1;33m\u001b[0m\u001b[0m\n\u001b[0m\u001b[0;32m    428\u001b[0m \u001b[1;33m\u001b[0m\u001b[0m\n\u001b[0;32m    429\u001b[0m             \u001b[1;32mif\u001b[0m \u001b[0mself\u001b[0m\u001b[1;33m.\u001b[0m\u001b[0m_state\u001b[0m \u001b[1;32min\u001b[0m \u001b[1;33m[\u001b[0m\u001b[0mCANCELLED\u001b[0m\u001b[1;33m,\u001b[0m \u001b[0mCANCELLED_AND_NOTIFIED\u001b[0m\u001b[1;33m]\u001b[0m\u001b[1;33m:\u001b[0m\u001b[1;33m\u001b[0m\u001b[1;33m\u001b[0m\u001b[0m\n",
      "\u001b[1;32m~\\Anaconda3\\lib\\threading.py\u001b[0m in \u001b[0;36mwait\u001b[1;34m(self, timeout)\u001b[0m\n\u001b[0;32m    294\u001b[0m         \u001b[1;32mtry\u001b[0m\u001b[1;33m:\u001b[0m    \u001b[1;31m# restore state no matter what (e.g., KeyboardInterrupt)\u001b[0m\u001b[1;33m\u001b[0m\u001b[1;33m\u001b[0m\u001b[0m\n\u001b[0;32m    295\u001b[0m             \u001b[1;32mif\u001b[0m \u001b[0mtimeout\u001b[0m \u001b[1;32mis\u001b[0m \u001b[1;32mNone\u001b[0m\u001b[1;33m:\u001b[0m\u001b[1;33m\u001b[0m\u001b[1;33m\u001b[0m\u001b[0m\n\u001b[1;32m--> 296\u001b[1;33m                 \u001b[0mwaiter\u001b[0m\u001b[1;33m.\u001b[0m\u001b[0macquire\u001b[0m\u001b[1;33m(\u001b[0m\u001b[1;33m)\u001b[0m\u001b[1;33m\u001b[0m\u001b[1;33m\u001b[0m\u001b[0m\n\u001b[0m\u001b[0;32m    297\u001b[0m                 \u001b[0mgotit\u001b[0m \u001b[1;33m=\u001b[0m \u001b[1;32mTrue\u001b[0m\u001b[1;33m\u001b[0m\u001b[1;33m\u001b[0m\u001b[0m\n\u001b[0;32m    298\u001b[0m             \u001b[1;32melse\u001b[0m\u001b[1;33m:\u001b[0m\u001b[1;33m\u001b[0m\u001b[1;33m\u001b[0m\u001b[0m\n",
      "\u001b[1;31mKeyboardInterrupt\u001b[0m: "
     ]
    }
   ],
   "source": [
    "gridsearch.fit(X_train_resampled,y_train_resampled)"
   ]
  },
  {
   "cell_type": "code",
   "execution_count": null,
   "metadata": {},
   "outputs": [],
   "source": [
    "gridsearch.best_params_"
   ]
  },
  {
   "cell_type": "code",
   "execution_count": null,
   "metadata": {},
   "outputs": [],
   "source": [
    "gridsearch.best_socre_"
   ]
  },
  {
   "cell_type": "code",
   "execution_count": 17,
   "metadata": {},
   "outputs": [],
   "source": [
    "import time\n",
    "from sklearn.model_selection import cross_val_score\n",
    "from sklearn.metrics import classification_report\n",
    "from sklearn.metrics import accuracy_score\n",
    "from sklearn import metrics\n",
    "from pprint import pprint"
   ]
  },
  {
   "cell_type": "code",
   "execution_count": null,
   "metadata": {},
   "outputs": [],
   "source": [
    "# Cross validation and compare randomised and grid search results"
   ]
  },
  {
   "cell_type": "code",
   "execution_count": 24,
   "metadata": {},
   "outputs": [],
   "source": [
    "# Random search parameters\n",
    "xgb_ran = XGBClassifier(min_child_weight =1,max_depth=10,bootstrap=True,booster=\"gbtree\",\n",
    "                       n_estimators=200,\n",
    "                       validate_parameters=True,\n",
    "                       learning_rate=0.3)"
   ]
  },
  {
   "cell_type": "code",
   "execution_count": 25,
   "metadata": {
    "scrolled": true
   },
   "outputs": [
    {
     "name": "stdout",
     "output_type": "stream",
     "text": [
      "{'base_score': None,\n",
      " 'booster': 'gbtree',\n",
      " 'bootstrap': True,\n",
      " 'colsample_bylevel': None,\n",
      " 'colsample_bynode': None,\n",
      " 'colsample_bytree': None,\n",
      " 'gamma': None,\n",
      " 'gpu_id': None,\n",
      " 'importance_type': 'gain',\n",
      " 'interaction_constraints': None,\n",
      " 'learning_rate': 0.3,\n",
      " 'max_delta_step': None,\n",
      " 'max_depth': 10,\n",
      " 'min_child_weight': 1,\n",
      " 'missing': nan,\n",
      " 'monotone_constraints': None,\n",
      " 'n_estimators': 200,\n",
      " 'n_jobs': None,\n",
      " 'num_parallel_tree': None,\n",
      " 'objective': 'binary:logistic',\n",
      " 'random_state': None,\n",
      " 'reg_alpha': None,\n",
      " 'reg_lambda': None,\n",
      " 'scale_pos_weight': None,\n",
      " 'subsample': None,\n",
      " 'tree_method': None,\n",
      " 'validate_parameters': True,\n",
      " 'verbosity': None}\n"
     ]
    }
   ],
   "source": [
    "pprint(xgb_ran.get_params())"
   ]
  },
  {
   "cell_type": "code",
   "execution_count": 26,
   "metadata": {},
   "outputs": [
    {
     "name": "stdout",
     "output_type": "stream",
     "text": [
      "[11:59:51] WARNING: C:\\Users\\Administrator\\workspace\\xgboost-win64_release_1.0.0\\src\\learner.cc:328: \n",
      "Parameters: { bootstrap, importance_type, missing, n_estimators } might not be used.\n",
      "\n",
      "  This may not be accurate due to some parameters are only used in language bindings but\n",
      "  passed down to XGBoost core.  Or some parameters are not used but slip through this\n",
      "  verification. Please open an issue if you find above cases.\n",
      "\n",
      "\n",
      "[12:03:10] WARNING: C:\\Users\\Administrator\\workspace\\xgboost-win64_release_1.0.0\\src\\learner.cc:328: \n",
      "Parameters: { bootstrap, importance_type, missing, n_estimators } might not be used.\n",
      "\n",
      "  This may not be accurate due to some parameters are only used in language bindings but\n",
      "  passed down to XGBoost core.  Or some parameters are not used but slip through this\n",
      "  verification. Please open an issue if you find above cases.\n",
      "\n",
      "\n",
      "[12:06:17] WARNING: C:\\Users\\Administrator\\workspace\\xgboost-win64_release_1.0.0\\src\\learner.cc:328: \n",
      "Parameters: { bootstrap, importance_type, missing, n_estimators } might not be used.\n",
      "\n",
      "  This may not be accurate due to some parameters are only used in language bindings but\n",
      "  passed down to XGBoost core.  Or some parameters are not used but slip through this\n",
      "  verification. Please open an issue if you find above cases.\n",
      "\n",
      "\n",
      "[12:09:30] WARNING: C:\\Users\\Administrator\\workspace\\xgboost-win64_release_1.0.0\\src\\learner.cc:328: \n",
      "Parameters: { bootstrap, importance_type, missing, n_estimators } might not be used.\n",
      "\n",
      "  This may not be accurate due to some parameters are only used in language bindings but\n",
      "  passed down to XGBoost core.  Or some parameters are not used but slip through this\n",
      "  verification. Please open an issue if you find above cases.\n",
      "\n",
      "\n",
      "[12:12:57] WARNING: C:\\Users\\Administrator\\workspace\\xgboost-win64_release_1.0.0\\src\\learner.cc:328: \n",
      "Parameters: { bootstrap, importance_type, missing, n_estimators } might not be used.\n",
      "\n",
      "  This may not be accurate due to some parameters are only used in language bindings but\n",
      "  passed down to XGBoost core.  Or some parameters are not used but slip through this\n",
      "  verification. Please open an issue if you find above cases.\n",
      "\n",
      "\n"
     ]
    },
    {
     "data": {
      "text/plain": [
       "array([0.87685185, 0.87727273, 0.8773569 , 0.87718855, 0.87483165])"
      ]
     },
     "execution_count": 26,
     "metadata": {},
     "output_type": "execute_result"
    }
   ],
   "source": [
    "#cross_val_score(xgb_ran, X, y)"
   ]
  },
  {
   "cell_type": "code",
   "execution_count": 27,
   "metadata": {},
   "outputs": [
    {
     "name": "stdout",
     "output_type": "stream",
     "text": [
      "[12:16:19] WARNING: C:\\Users\\Administrator\\workspace\\xgboost-win64_release_1.0.0\\src\\learner.cc:328: \n",
      "Parameters: { bootstrap, importance_type, missing, n_estimators } might not be used.\n",
      "\n",
      "  This may not be accurate due to some parameters are only used in language bindings but\n",
      "  passed down to XGBoost core.  Or some parameters are not used but slip through this\n",
      "  verification. Please open an issue if you find above cases.\n",
      "\n",
      "\n",
      "[12:19:41] WARNING: C:\\Users\\Administrator\\workspace\\xgboost-win64_release_1.0.0\\src\\learner.cc:328: \n",
      "Parameters: { bootstrap, importance_type, missing, n_estimators } might not be used.\n",
      "\n",
      "  This may not be accurate due to some parameters are only used in language bindings but\n",
      "  passed down to XGBoost core.  Or some parameters are not used but slip through this\n",
      "  verification. Please open an issue if you find above cases.\n",
      "\n",
      "\n",
      "[12:23:19] WARNING: C:\\Users\\Administrator\\workspace\\xgboost-win64_release_1.0.0\\src\\learner.cc:328: \n",
      "Parameters: { bootstrap, importance_type, missing, n_estimators } might not be used.\n",
      "\n",
      "  This may not be accurate due to some parameters are only used in language bindings but\n",
      "  passed down to XGBoost core.  Or some parameters are not used but slip through this\n",
      "  verification. Please open an issue if you find above cases.\n",
      "\n",
      "\n",
      "[12:26:50] WARNING: C:\\Users\\Administrator\\workspace\\xgboost-win64_release_1.0.0\\src\\learner.cc:328: \n",
      "Parameters: { bootstrap, importance_type, missing, n_estimators } might not be used.\n",
      "\n",
      "  This may not be accurate due to some parameters are only used in language bindings but\n",
      "  passed down to XGBoost core.  Or some parameters are not used but slip through this\n",
      "  verification. Please open an issue if you find above cases.\n",
      "\n",
      "\n",
      "[12:30:14] WARNING: C:\\Users\\Administrator\\workspace\\xgboost-win64_release_1.0.0\\src\\learner.cc:328: \n",
      "Parameters: { bootstrap, importance_type, missing, n_estimators } might not be used.\n",
      "\n",
      "  This may not be accurate due to some parameters are only used in language bindings but\n",
      "  passed down to XGBoost core.  Or some parameters are not used but slip through this\n",
      "  verification. Please open an issue if you find above cases.\n",
      "\n",
      "\n",
      "Estimate the Accuracy: 0.88 (+/- 0.00)\n"
     ]
    }
   ],
   "source": [
    "cross_validation_score = cross_val_score(xgb_ran, X, y)\n",
    "print(\"Estimate the Accuracy: %0.2f (+/- %0.2f)\" % (cross_validation_score.mean(), cross_validation_score.std() * 2))"
   ]
  },
  {
   "cell_type": "code",
   "execution_count": 28,
   "metadata": {},
   "outputs": [
    {
     "name": "stdout",
     "output_type": "stream",
     "text": [
      "[12:33:38] WARNING: C:\\Users\\Administrator\\workspace\\xgboost-win64_release_1.0.0\\src\\learner.cc:328: \n",
      "Parameters: { bootstrap, importance_type, missing, n_estimators } might not be used.\n",
      "\n",
      "  This may not be accurate due to some parameters are only used in language bindings but\n",
      "  passed down to XGBoost core.  Or some parameters are not used but slip through this\n",
      "  verification. Please open an issue if you find above cases.\n",
      "\n",
      "\n",
      "[12:36:55] WARNING: C:\\Users\\Administrator\\workspace\\xgboost-win64_release_1.0.0\\src\\learner.cc:328: \n",
      "Parameters: { bootstrap, importance_type, missing, n_estimators } might not be used.\n",
      "\n",
      "  This may not be accurate due to some parameters are only used in language bindings but\n",
      "  passed down to XGBoost core.  Or some parameters are not used but slip through this\n",
      "  verification. Please open an issue if you find above cases.\n",
      "\n",
      "\n",
      "[12:44:12] WARNING: C:\\Users\\Administrator\\workspace\\xgboost-win64_release_1.0.0\\src\\learner.cc:328: \n",
      "Parameters: { bootstrap, importance_type, missing, n_estimators } might not be used.\n",
      "\n",
      "  This may not be accurate due to some parameters are only used in language bindings but\n",
      "  passed down to XGBoost core.  Or some parameters are not used but slip through this\n",
      "  verification. Please open an issue if you find above cases.\n",
      "\n",
      "\n",
      "[12:47:30] WARNING: C:\\Users\\Administrator\\workspace\\xgboost-win64_release_1.0.0\\src\\learner.cc:328: \n",
      "Parameters: { bootstrap, importance_type, missing, n_estimators } might not be used.\n",
      "\n",
      "  This may not be accurate due to some parameters are only used in language bindings but\n",
      "  passed down to XGBoost core.  Or some parameters are not used but slip through this\n",
      "  verification. Please open an issue if you find above cases.\n",
      "\n",
      "\n",
      "[12:50:51] WARNING: C:\\Users\\Administrator\\workspace\\xgboost-win64_release_1.0.0\\src\\learner.cc:328: \n",
      "Parameters: { bootstrap, importance_type, missing, n_estimators } might not be used.\n",
      "\n",
      "  This may not be accurate due to some parameters are only used in language bindings but\n",
      "  passed down to XGBoost core.  Or some parameters are not used but slip through this\n",
      "  verification. Please open an issue if you find above cases.\n",
      "\n",
      "\n"
     ]
    },
    {
     "data": {
      "text/plain": [
       "array([0.81517193, 0.81913602, 0.81183915, 0.82508796, 0.80384096])"
      ]
     },
     "execution_count": 28,
     "metadata": {},
     "output_type": "execute_result"
    }
   ],
   "source": [
    "#cross_val_score(xgb_ran,X, y,cv =5,scoring='f1_macro')\n"
   ]
  },
  {
   "cell_type": "code",
   "execution_count": 29,
   "metadata": {
    "scrolled": true
   },
   "outputs": [
    {
     "name": "stdout",
     "output_type": "stream",
     "text": [
      "[12:54:05] WARNING: C:\\Users\\Administrator\\workspace\\xgboost-win64_release_1.0.0\\src\\learner.cc:328: \n",
      "Parameters: { bootstrap, importance_type, missing, n_estimators } might not be used.\n",
      "\n",
      "  This may not be accurate due to some parameters are only used in language bindings but\n",
      "  passed down to XGBoost core.  Or some parameters are not used but slip through this\n",
      "  verification. Please open an issue if you find above cases.\n",
      "\n",
      "\n",
      "[12:57:15] WARNING: C:\\Users\\Administrator\\workspace\\xgboost-win64_release_1.0.0\\src\\learner.cc:328: \n",
      "Parameters: { bootstrap, importance_type, missing, n_estimators } might not be used.\n",
      "\n",
      "  This may not be accurate due to some parameters are only used in language bindings but\n",
      "  passed down to XGBoost core.  Or some parameters are not used but slip through this\n",
      "  verification. Please open an issue if you find above cases.\n",
      "\n",
      "\n",
      "[13:00:43] WARNING: C:\\Users\\Administrator\\workspace\\xgboost-win64_release_1.0.0\\src\\learner.cc:328: \n",
      "Parameters: { bootstrap, importance_type, missing, n_estimators } might not be used.\n",
      "\n",
      "  This may not be accurate due to some parameters are only used in language bindings but\n",
      "  passed down to XGBoost core.  Or some parameters are not used but slip through this\n",
      "  verification. Please open an issue if you find above cases.\n",
      "\n",
      "\n",
      "[13:04:17] WARNING: C:\\Users\\Administrator\\workspace\\xgboost-win64_release_1.0.0\\src\\learner.cc:328: \n",
      "Parameters: { bootstrap, importance_type, missing, n_estimators } might not be used.\n",
      "\n",
      "  This may not be accurate due to some parameters are only used in language bindings but\n",
      "  passed down to XGBoost core.  Or some parameters are not used but slip through this\n",
      "  verification. Please open an issue if you find above cases.\n",
      "\n",
      "\n",
      "[13:07:40] WARNING: C:\\Users\\Administrator\\workspace\\xgboost-win64_release_1.0.0\\src\\learner.cc:328: \n",
      "Parameters: { bootstrap, importance_type, missing, n_estimators } might not be used.\n",
      "\n",
      "  This may not be accurate due to some parameters are only used in language bindings but\n",
      "  passed down to XGBoost core.  Or some parameters are not used but slip through this\n",
      "  verification. Please open an issue if you find above cases.\n",
      "\n",
      "\n",
      "Estimate F1-macro: 0.82 (+/- 0.01)\n"
     ]
    }
   ],
   "source": [
    "cross_validation_score_f1 = cross_val_score(xgb_ran, X, y,scoring='f1_macro')\n",
    "print(\"Estimate F1-macro: %0.2f (+/- %0.2f)\" % (cross_validation_score_f1.mean(), cross_validation_score_f1.std() * 2))"
   ]
  },
  {
   "cell_type": "code",
   "execution_count": null,
   "metadata": {},
   "outputs": [],
   "source": []
  },
  {
   "cell_type": "code",
   "execution_count": null,
   "metadata": {},
   "outputs": [],
   "source": []
  },
  {
   "cell_type": "code",
   "execution_count": null,
   "metadata": {},
   "outputs": [],
   "source": []
  },
  {
   "cell_type": "code",
   "execution_count": null,
   "metadata": {},
   "outputs": [],
   "source": [
    "# grid search parameters\n",
    "\n",
    "xgb_grid = XGBClassifier()"
   ]
  },
  {
   "cell_type": "code",
   "execution_count": null,
   "metadata": {},
   "outputs": [],
   "source": [
    "cross_val_score(xgb_grid, X, y)"
   ]
  },
  {
   "cell_type": "code",
   "execution_count": null,
   "metadata": {},
   "outputs": [],
   "source": [
    "cross_validation_score_grid = cross_val_score(xgb_grid, X, y)\n",
    "print(\"Estimate the Accuracy: %0.2f (+/- %0.2f)\" % (cross_validation_score_grid.mean(), cross_validation_score_grid.std() * 2))"
   ]
  },
  {
   "cell_type": "code",
   "execution_count": null,
   "metadata": {},
   "outputs": [],
   "source": [
    "cross_val_score(xgb_grid,X, y,cv =5,scoring='f1_macro')"
   ]
  },
  {
   "cell_type": "code",
   "execution_count": null,
   "metadata": {},
   "outputs": [],
   "source": [
    "cross_validation_score_f1_grid = cross_val_score(xgb_grid, X, y,scoring='f1_macro')\n",
    "print(\"Estimate F1-macro: %0.2f (+/- %0.2f)\" % (cross_validation_score_f1_grid.mean(), cross_validation_score_f1_grid.std() * 2))"
   ]
  },
  {
   "cell_type": "code",
   "execution_count": null,
   "metadata": {},
   "outputs": [],
   "source": []
  },
  {
   "cell_type": "code",
   "execution_count": null,
   "metadata": {},
   "outputs": [],
   "source": []
  },
  {
   "cell_type": "code",
   "execution_count": null,
   "metadata": {},
   "outputs": [],
   "source": []
  },
  {
   "cell_type": "code",
   "execution_count": null,
   "metadata": {},
   "outputs": [],
   "source": []
  },
  {
   "cell_type": "code",
   "execution_count": null,
   "metadata": {},
   "outputs": [],
   "source": []
  },
  {
   "cell_type": "code",
   "execution_count": null,
   "metadata": {},
   "outputs": [],
   "source": []
  },
  {
   "cell_type": "code",
   "execution_count": null,
   "metadata": {},
   "outputs": [],
   "source": []
  },
  {
   "cell_type": "code",
   "execution_count": 29,
   "metadata": {},
   "outputs": [],
   "source": [
    "params = {'min_child_weight': 1,\n",
    " 'max_depth': 10,\n",
    " 'bootstrap': True,\n",
    " 'booster': 'gbtree'}"
   ]
  },
  {
   "cell_type": "code",
   "execution_count": 30,
   "metadata": {},
   "outputs": [
    {
     "name": "stdout",
     "output_type": "stream",
     "text": [
      "              precision    recall  f1-score   support\n",
      "\n",
      "           0       0.90      0.84      0.86      6457\n",
      "           1       0.43      0.76      0.55       851\n",
      "           2       0.88      0.84      0.86      4572\n",
      "\n",
      "    accuracy                           0.83     11880\n",
      "   macro avg       0.74      0.81      0.76     11880\n",
      "weighted avg       0.86      0.83      0.84     11880\n",
      "\n",
      "0.8316498316498316\n"
     ]
    }
   ],
   "source": [
    "XGB =XGBClassifier(params)\n",
    "XGB.fit(X_train_resampled,y_train_resampled)\n",
    "y_pred =XGB.predict(X_test)\n",
    "print(classification_report(y_test,y_pred))\n",
    "print(accuracy_score(y_test, y_pred))"
   ]
  },
  {
   "cell_type": "code",
   "execution_count": null,
   "metadata": {},
   "outputs": [],
   "source": []
  },
  {
   "cell_type": "code",
   "execution_count": 32,
   "metadata": {},
   "outputs": [
    {
     "name": "stdout",
     "output_type": "stream",
     "text": [
      "              precision    recall  f1-score   support\n",
      "\n",
      "           0       0.90      0.84      0.86      6457\n",
      "           1       0.43      0.76      0.55       851\n",
      "           2       0.88      0.84      0.86      4572\n",
      "\n",
      "    accuracy                           0.83     11880\n",
      "   macro avg       0.74      0.81      0.76     11880\n",
      "weighted avg       0.86      0.83      0.84     11880\n",
      "\n",
      "0.8316498316498316\n"
     ]
    }
   ],
   "source": [
    "XGB =XGBClassifier(params)\n",
    "XGB.fit(X_train_resampled,y_train_resampled)\n",
    "y_pred =XGB.predict(X_test)\n",
    "print(classification_report(y_test,y_pred))\n",
    "print(accuracy_score(y_test, y_pred))"
   ]
  },
  {
   "cell_type": "code",
   "execution_count": 26,
   "metadata": {},
   "outputs": [
    {
     "name": "stdout",
     "output_type": "stream",
     "text": [
      "              precision    recall  f1-score   support\n",
      "\n",
      "           0       0.88      0.78      0.83      6457\n",
      "           1       0.32      0.80      0.46       851\n",
      "           2       0.88      0.78      0.83      4572\n",
      "\n",
      "    accuracy                           0.78     11880\n",
      "   macro avg       0.69      0.79      0.70     11880\n",
      "weighted avg       0.84      0.78      0.80     11880\n",
      "\n",
      "0.7808080808080808\n"
     ]
    }
   ],
   "source": [
    "\n",
    "GBC = GradientBoostingClassifier()\n",
    "GBC.fit(X_train_resampled,y_train_resampled)\n",
    "y_pred =GBC.predict(X_test)\n",
    "print(classification_report(y_test,y_pred))\n",
    "print(accuracy_score(y_test, y_pred))\n"
   ]
  },
  {
   "cell_type": "code",
   "execution_count": 27,
   "metadata": {},
   "outputs": [
    {
     "name": "stdout",
     "output_type": "stream",
     "text": [
      "              precision    recall  f1-score   support\n",
      "\n",
      "           0       0.90      0.82      0.86      6457\n",
      "           1       0.42      0.76      0.54       851\n",
      "           2       0.87      0.84      0.86      4572\n",
      "\n",
      "    accuracy                           0.83     11880\n",
      "   macro avg       0.73      0.81      0.75     11880\n",
      "weighted avg       0.86      0.83      0.84     11880\n",
      "\n",
      "0.8271043771043771\n"
     ]
    }
   ],
   "source": [
    "\n",
    "RFC =RandomForestClassifier()\n",
    "RFC.fit(X_train_resampled,y_train_resampled)\n",
    "y_pred =RFC.predict(X_test)\n",
    "print(classification_report(y_test,y_pred))\n",
    "print(accuracy_score(y_test, y_pred))\n"
   ]
  },
  {
   "cell_type": "code",
   "execution_count": 28,
   "metadata": {},
   "outputs": [
    {
     "name": "stdout",
     "output_type": "stream",
     "text": [
      "              precision    recall  f1-score   support\n",
      "\n",
      "           0       0.88      0.82      0.85      6457\n",
      "           1       0.39      0.75      0.51       851\n",
      "           2       0.87      0.81      0.84      4572\n",
      "\n",
      "    accuracy                           0.81     11880\n",
      "   macro avg       0.71      0.79      0.73     11880\n",
      "weighted avg       0.84      0.81      0.82     11880\n",
      "\n",
      "0.8107744107744108\n"
     ]
    }
   ],
   "source": [
    "svc =SVC()\n",
    "svc.fit(X_train_resampled,y_train_resampled)\n",
    "y_pred =svc.predict(X_test)\n",
    "print(classification_report(y_test,y_pred))\n",
    "print(accuracy_score(y_test, y_pred))"
   ]
  },
  {
   "cell_type": "code",
   "execution_count": 44,
   "metadata": {},
   "outputs": [],
   "source": [
    "results={'Classifier':[\"XGB Classifier\",\"Gradient Boosting Classifier\",\"Random Forest Classifier\",\"SVC\"],\n",
    "'Accuracy':[0.8316,0.7808,0.8276,0.8107],\n",
    "'F1_macro':[0.76,0.70,0.75,0.73]}\n"
   ]
  },
  {
   "cell_type": "code",
   "execution_count": 45,
   "metadata": {},
   "outputs": [
    {
     "data": {
      "text/html": [
       "<div>\n",
       "<style scoped>\n",
       "    .dataframe tbody tr th:only-of-type {\n",
       "        vertical-align: middle;\n",
       "    }\n",
       "\n",
       "    .dataframe tbody tr th {\n",
       "        vertical-align: top;\n",
       "    }\n",
       "\n",
       "    .dataframe thead th {\n",
       "        text-align: right;\n",
       "    }\n",
       "</style>\n",
       "<table border=\"1\" class=\"dataframe\">\n",
       "  <thead>\n",
       "    <tr style=\"text-align: right;\">\n",
       "      <th></th>\n",
       "      <th>Classifier</th>\n",
       "      <th>Accuracy</th>\n",
       "      <th>F1_macro</th>\n",
       "    </tr>\n",
       "  </thead>\n",
       "  <tbody>\n",
       "    <tr>\n",
       "      <th>0</th>\n",
       "      <td>XGB Classifier</td>\n",
       "      <td>0.8316</td>\n",
       "      <td>0.76</td>\n",
       "    </tr>\n",
       "    <tr>\n",
       "      <th>1</th>\n",
       "      <td>Gradient Boosting Classifier</td>\n",
       "      <td>0.7808</td>\n",
       "      <td>0.70</td>\n",
       "    </tr>\n",
       "    <tr>\n",
       "      <th>2</th>\n",
       "      <td>Random Forest Classifier</td>\n",
       "      <td>0.8276</td>\n",
       "      <td>0.75</td>\n",
       "    </tr>\n",
       "    <tr>\n",
       "      <th>3</th>\n",
       "      <td>SVC</td>\n",
       "      <td>0.8107</td>\n",
       "      <td>0.73</td>\n",
       "    </tr>\n",
       "  </tbody>\n",
       "</table>\n",
       "</div>"
      ],
      "text/plain": [
       "                     Classifier  Accuracy  F1_macro\n",
       "0                XGB Classifier    0.8316      0.76\n",
       "1  Gradient Boosting Classifier    0.7808      0.70\n",
       "2      Random Forest Classifier    0.8276      0.75\n",
       "3                           SVC    0.8107      0.73"
      ]
     },
     "execution_count": 45,
     "metadata": {},
     "output_type": "execute_result"
    }
   ],
   "source": [
    "score_report_df =pd.DataFrame(data=results,columns=[\"Classifier\",\"Accuracy\",\"F1_macro\"])\n",
    "score_report_df "
   ]
  },
  {
   "cell_type": "code",
   "execution_count": 46,
   "metadata": {},
   "outputs": [],
   "source": [
    "from sklearn.metrics import f1_score"
   ]
  },
  {
   "cell_type": "code",
   "execution_count": 47,
   "metadata": {},
   "outputs": [],
   "source": [
    "def modeling(clf,X_train_resampled,y_train_resampled,X_test,y_test):\n",
    "    clf.fit(X_train_resampled,y_train_resampled)\n",
    "    y_pred =clf.predict(X_test)\n",
    "    clf_report = classification_report(y_test,y_pred)\n",
    "    clf_acc_score = accuracy_score(y_test, y_pred)\n",
    "    f1score=f1_score(y_test, y_pred, average='macro')\n",
    "    return  clf_report, clf_acc_score, f1score\n",
    "    print(clf_report)\n"
   ]
  },
  {
   "cell_type": "code",
   "execution_count": null,
   "metadata": {},
   "outputs": [],
   "source": []
  },
  {
   "cell_type": "code",
   "execution_count": 51,
   "metadata": {},
   "outputs": [],
   "source": [
    "XGB =XGBClassifier()\n",
    "XGB_clf_report, XGB_clf_acc_score, XGB_f1score = modeling(XGB,X_train_resampled,y_train_resampled,X_test)\n",
    "\n",
    "GBC = GradientBoostingClassifier()\n",
    "GBC_clf_report, GBC_clf_acc_score, GBC_f1score = modeling(GBC,X_train_resampled,y_train_resampled,X_test)\n",
    "\n",
    "\n",
    "RFC =RandomForestClassifier()\n",
    "RFC_clf_report, RFC_clf_acc_score, RFC_f1score = modeling(RFC,X_train_resampled,y_train_resampled,X_test)\n",
    "\n",
    "svc =SVC()\n",
    "svc_clf_report, svc_clf_acc_score, svc_f1score = modeling(svc,X_train_resampled,y_train_resampled,X_test)\n"
   ]
  },
  {
   "cell_type": "code",
   "execution_count": 52,
   "metadata": {},
   "outputs": [
    {
     "name": "stdout",
     "output_type": "stream",
     "text": [
      "              precision    recall  f1-score   support\n",
      "\n",
      "           0       0.88      0.82      0.85      6457\n",
      "           1       0.39      0.75      0.51       851\n",
      "           2       0.87      0.81      0.84      4572\n",
      "\n",
      "    accuracy                           0.81     11880\n",
      "   macro avg       0.71      0.79      0.73     11880\n",
      "weighted avg       0.84      0.81      0.82     11880\n",
      "\n"
     ]
    }
   ],
   "source": [
    "print(svc_clf_report)"
   ]
  },
  {
   "cell_type": "code",
   "execution_count": 53,
   "metadata": {},
   "outputs": [
    {
     "name": "stdout",
     "output_type": "stream",
     "text": [
      "0.8107744107744108\n"
     ]
    }
   ],
   "source": [
    "print(svc_clf_acc_score)"
   ]
  },
  {
   "cell_type": "code",
   "execution_count": 54,
   "metadata": {},
   "outputs": [
    {
     "name": "stdout",
     "output_type": "stream",
     "text": [
      "0.7342336000625377\n"
     ]
    }
   ],
   "source": [
    "print(svc_f1score)"
   ]
  },
  {
   "cell_type": "code",
   "execution_count": 55,
   "metadata": {},
   "outputs": [
    {
     "data": {
      "text/plain": [
       "'0.811'"
      ]
     },
     "execution_count": 55,
     "metadata": {},
     "output_type": "execute_result"
    }
   ],
   "source": [
    "\"{:.3f}\".format(svc_clf_acc_score)"
   ]
  },
  {
   "cell_type": "code",
   "execution_count": 56,
   "metadata": {},
   "outputs": [
    {
     "data": {
      "text/plain": [
       "'0.811'"
      ]
     },
     "execution_count": 56,
     "metadata": {},
     "output_type": "execute_result"
    }
   ],
   "source": [
    "'%.3f' % svc_clf_acc_score"
   ]
  },
  {
   "cell_type": "markdown",
   "metadata": {},
   "source": [
    "# F1 and accuracy df table"
   ]
  },
  {
   "cell_type": "code",
   "execution_count": null,
   "metadata": {},
   "outputs": [],
   "source": [
    "results={'Classifier':[\"XGB Classifier\",\"Gradient Boosting Classifier\",\"Random Forest Classifier\",\"SVC\"],\n",
    "'Accuracy':[XGB_clf_acc_score,GBC_clf_acc_score,RFC_clf_acc_score,svc_clf_acc_score],\n",
    "'F1_macro':[XGB_f1score,GBC_f1score,RFC_f1score,svc_f1score]}"
   ]
  },
  {
   "cell_type": "code",
   "execution_count": null,
   "metadata": {},
   "outputs": [],
   "source": [
    "score_report_df =pd.DataFrame(data=results,columns=[\"Classifier\",\"Accuracy\",\"F1_macro\"])\n",
    "print(score_report_df)"
   ]
  },
  {
   "cell_type": "code",
   "execution_count": null,
   "metadata": {},
   "outputs": [],
   "source": []
  },
  {
   "cell_type": "code",
   "execution_count": null,
   "metadata": {},
   "outputs": [],
   "source": []
  },
  {
   "cell_type": "code",
   "execution_count": null,
   "metadata": {},
   "outputs": [],
   "source": []
  },
  {
   "cell_type": "code",
   "execution_count": null,
   "metadata": {},
   "outputs": [],
   "source": []
  }
 ],
 "metadata": {
  "kernelspec": {
   "display_name": "Python 3",
   "language": "python",
   "name": "python3"
  },
  "language_info": {
   "codemirror_mode": {
    "name": "ipython",
    "version": 3
   },
   "file_extension": ".py",
   "mimetype": "text/x-python",
   "name": "python",
   "nbconvert_exporter": "python",
   "pygments_lexer": "ipython3",
   "version": "3.7.1"
  }
 },
 "nbformat": 4,
 "nbformat_minor": 4
}
