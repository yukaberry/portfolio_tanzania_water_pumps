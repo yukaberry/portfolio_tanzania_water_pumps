{
 "cells": [
  {
   "cell_type": "code",
   "execution_count": 56,
   "metadata": {},
   "outputs": [],
   "source": [
    "import pandas as pd\n",
    "import numpy as np\n",
    "from sklearn import preprocessing\n",
    "from sklearn.preprocessing import StandardScaler\n",
    "\n",
    "from sklearn.model_selection import train_test_split\n",
    "\n",
    "from sklearn.model_selection import KFold\n",
    "from imblearn.over_sampling import SMOTE\n",
    "\n",
    "from xgboost import XGBClassifier\n",
    "from sklearn.ensemble import GradientBoostingClassifier\n",
    "from sklearn.ensemble import RandomForestClassifier\n",
    "from sklearn.svm import SVC\n",
    "\n",
    "\n",
    "from sklearn.model_selection import cross_val_score\n",
    "from sklearn.metrics import classification_report\n",
    "from sklearn.metrics import accuracy_score\n",
    "from sklearn.metrics import f1_score\n",
    "\n",
    "from sklearn.model_selection import RandomizedSearchCV, GridSearchCV\n",
    "from sklearn.multiclass import OneVsRestClassifier\n",
    "\n",
    "from sklearn.metrics import confusion_matrix\n",
    "from mlxtend.plotting import plot_confusion_matrix\n",
    "import matplotlib.pyplot as plt\n",
    "\n",
    "import scikitplot as skplt\n",
    "from pprint import pprint\n"
   ]
  },
  {
   "cell_type": "code",
   "execution_count": 37,
   "metadata": {},
   "outputs": [],
   "source": [
    "def modeling(clf,X_train,y_train,X_test,y_test):\n",
    "    \"\"\"train a model and return model's accuracy and F1_macro\"\"\"\n",
    "    \n",
    "    clf.fit(X_train,y_train)\n",
    "    y_pred =clf.predict(X_test)\n",
    "    clf_report = classification_report(y_test,y_pred)\n",
    "    clf_acc_score = accuracy_score(y_test, y_pred)\n",
    "    f1score=f1_score(y_test, y_pred, average='macro')\n",
    "    return  clf_report, clf_acc_score, f1score,y_pred\n",
    "    print(clf_report)"
   ]
  },
  {
   "cell_type": "code",
   "execution_count": null,
   "metadata": {},
   "outputs": [],
   "source": []
  },
  {
   "cell_type": "code",
   "execution_count": 4,
   "metadata": {},
   "outputs": [
    {
     "data": {
      "text/html": [
       "<div>\n",
       "<style scoped>\n",
       "    .dataframe tbody tr th:only-of-type {\n",
       "        vertical-align: middle;\n",
       "    }\n",
       "\n",
       "    .dataframe tbody tr th {\n",
       "        vertical-align: top;\n",
       "    }\n",
       "\n",
       "    .dataframe thead th {\n",
       "        text-align: right;\n",
       "    }\n",
       "</style>\n",
       "<table border=\"1\" class=\"dataframe\">\n",
       "  <thead>\n",
       "    <tr style=\"text-align: right;\">\n",
       "      <th></th>\n",
       "      <th>gps_height</th>\n",
       "      <th>longitude</th>\n",
       "      <th>latitude</th>\n",
       "      <th>population</th>\n",
       "      <th>basin_Internal</th>\n",
       "      <th>basin_Lake_Nyasa</th>\n",
       "      <th>basin_Lake_Rukwa</th>\n",
       "      <th>basin_Lake_Tanganyika</th>\n",
       "      <th>basin_Lake_Victoria</th>\n",
       "      <th>basin_Pangani</th>\n",
       "      <th>...</th>\n",
       "      <th>funder_group_gov</th>\n",
       "      <th>funder_group_hesewa</th>\n",
       "      <th>funder_group_kkkt</th>\n",
       "      <th>funder_group_others</th>\n",
       "      <th>funder_group_rwe</th>\n",
       "      <th>funder_group_tcrs</th>\n",
       "      <th>funder_group_unknown</th>\n",
       "      <th>population_zero_0</th>\n",
       "      <th>population_zero_1</th>\n",
       "      <th>status_group</th>\n",
       "    </tr>\n",
       "  </thead>\n",
       "  <tbody>\n",
       "    <tr>\n",
       "      <th>0</th>\n",
       "      <td>0.653165</td>\n",
       "      <td>-0.079198</td>\n",
       "      <td>-1.408791</td>\n",
       "      <td>-0.150399</td>\n",
       "      <td>0</td>\n",
       "      <td>1</td>\n",
       "      <td>0</td>\n",
       "      <td>0</td>\n",
       "      <td>0</td>\n",
       "      <td>0</td>\n",
       "      <td>...</td>\n",
       "      <td>0</td>\n",
       "      <td>0</td>\n",
       "      <td>0</td>\n",
       "      <td>1</td>\n",
       "      <td>0</td>\n",
       "      <td>0</td>\n",
       "      <td>0</td>\n",
       "      <td>1</td>\n",
       "      <td>0</td>\n",
       "      <td>functional</td>\n",
       "    </tr>\n",
       "    <tr>\n",
       "      <th>1</th>\n",
       "      <td>0.671010</td>\n",
       "      <td>-0.172375</td>\n",
       "      <td>1.207934</td>\n",
       "      <td>0.212290</td>\n",
       "      <td>0</td>\n",
       "      <td>0</td>\n",
       "      <td>0</td>\n",
       "      <td>0</td>\n",
       "      <td>1</td>\n",
       "      <td>0</td>\n",
       "      <td>...</td>\n",
       "      <td>0</td>\n",
       "      <td>0</td>\n",
       "      <td>0</td>\n",
       "      <td>1</td>\n",
       "      <td>0</td>\n",
       "      <td>0</td>\n",
       "      <td>0</td>\n",
       "      <td>1</td>\n",
       "      <td>0</td>\n",
       "      <td>functional</td>\n",
       "    </tr>\n",
       "    <tr>\n",
       "      <th>2</th>\n",
       "      <td>-0.742690</td>\n",
       "      <td>0.902910</td>\n",
       "      <td>0.639751</td>\n",
       "      <td>0.148660</td>\n",
       "      <td>0</td>\n",
       "      <td>0</td>\n",
       "      <td>0</td>\n",
       "      <td>0</td>\n",
       "      <td>0</td>\n",
       "      <td>1</td>\n",
       "      <td>...</td>\n",
       "      <td>0</td>\n",
       "      <td>0</td>\n",
       "      <td>0</td>\n",
       "      <td>1</td>\n",
       "      <td>0</td>\n",
       "      <td>0</td>\n",
       "      <td>0</td>\n",
       "      <td>1</td>\n",
       "      <td>0</td>\n",
       "      <td>functional</td>\n",
       "    </tr>\n",
       "    <tr>\n",
       "      <th>3</th>\n",
       "      <td>-1.581393</td>\n",
       "      <td>1.302165</td>\n",
       "      <td>-1.849720</td>\n",
       "      <td>-0.258570</td>\n",
       "      <td>0</td>\n",
       "      <td>0</td>\n",
       "      <td>0</td>\n",
       "      <td>0</td>\n",
       "      <td>0</td>\n",
       "      <td>0</td>\n",
       "      <td>...</td>\n",
       "      <td>0</td>\n",
       "      <td>0</td>\n",
       "      <td>0</td>\n",
       "      <td>1</td>\n",
       "      <td>0</td>\n",
       "      <td>0</td>\n",
       "      <td>0</td>\n",
       "      <td>1</td>\n",
       "      <td>0</td>\n",
       "      <td>non functional</td>\n",
       "    </tr>\n",
       "    <tr>\n",
       "      <th>4</th>\n",
       "      <td>0.373597</td>\n",
       "      <td>-1.561466</td>\n",
       "      <td>1.317271</td>\n",
       "      <td>-0.381587</td>\n",
       "      <td>0</td>\n",
       "      <td>0</td>\n",
       "      <td>0</td>\n",
       "      <td>0</td>\n",
       "      <td>1</td>\n",
       "      <td>0</td>\n",
       "      <td>...</td>\n",
       "      <td>0</td>\n",
       "      <td>0</td>\n",
       "      <td>0</td>\n",
       "      <td>1</td>\n",
       "      <td>0</td>\n",
       "      <td>0</td>\n",
       "      <td>0</td>\n",
       "      <td>0</td>\n",
       "      <td>1</td>\n",
       "      <td>functional</td>\n",
       "    </tr>\n",
       "    <tr>\n",
       "      <th>...</th>\n",
       "      <td>...</td>\n",
       "      <td>...</td>\n",
       "      <td>...</td>\n",
       "      <td>...</td>\n",
       "      <td>...</td>\n",
       "      <td>...</td>\n",
       "      <td>...</td>\n",
       "      <td>...</td>\n",
       "      <td>...</td>\n",
       "      <td>...</td>\n",
       "      <td>...</td>\n",
       "      <td>...</td>\n",
       "      <td>...</td>\n",
       "      <td>...</td>\n",
       "      <td>...</td>\n",
       "      <td>...</td>\n",
       "      <td>...</td>\n",
       "      <td>...</td>\n",
       "      <td>...</td>\n",
       "      <td>...</td>\n",
       "      <td>...</td>\n",
       "    </tr>\n",
       "    <tr>\n",
       "      <th>59395</th>\n",
       "      <td>0.296270</td>\n",
       "      <td>0.789671</td>\n",
       "      <td>0.832379</td>\n",
       "      <td>-0.116463</td>\n",
       "      <td>0</td>\n",
       "      <td>0</td>\n",
       "      <td>0</td>\n",
       "      <td>0</td>\n",
       "      <td>0</td>\n",
       "      <td>1</td>\n",
       "      <td>...</td>\n",
       "      <td>0</td>\n",
       "      <td>0</td>\n",
       "      <td>0</td>\n",
       "      <td>1</td>\n",
       "      <td>0</td>\n",
       "      <td>0</td>\n",
       "      <td>0</td>\n",
       "      <td>1</td>\n",
       "      <td>0</td>\n",
       "      <td>functional</td>\n",
       "    </tr>\n",
       "    <tr>\n",
       "      <th>59396</th>\n",
       "      <td>0.300236</td>\n",
       "      <td>0.042233</td>\n",
       "      <td>-1.142092</td>\n",
       "      <td>-0.262812</td>\n",
       "      <td>0</td>\n",
       "      <td>0</td>\n",
       "      <td>0</td>\n",
       "      <td>0</td>\n",
       "      <td>0</td>\n",
       "      <td>0</td>\n",
       "      <td>...</td>\n",
       "      <td>0</td>\n",
       "      <td>0</td>\n",
       "      <td>0</td>\n",
       "      <td>1</td>\n",
       "      <td>0</td>\n",
       "      <td>0</td>\n",
       "      <td>0</td>\n",
       "      <td>1</td>\n",
       "      <td>0</td>\n",
       "      <td>functional</td>\n",
       "    </tr>\n",
       "    <tr>\n",
       "      <th>59397</th>\n",
       "      <td>0.373597</td>\n",
       "      <td>-0.437772</td>\n",
       "      <td>-1.033404</td>\n",
       "      <td>-0.381587</td>\n",
       "      <td>0</td>\n",
       "      <td>0</td>\n",
       "      <td>0</td>\n",
       "      <td>0</td>\n",
       "      <td>0</td>\n",
       "      <td>0</td>\n",
       "      <td>...</td>\n",
       "      <td>0</td>\n",
       "      <td>0</td>\n",
       "      <td>0</td>\n",
       "      <td>1</td>\n",
       "      <td>0</td>\n",
       "      <td>0</td>\n",
       "      <td>0</td>\n",
       "      <td>0</td>\n",
       "      <td>1</td>\n",
       "      <td>functional</td>\n",
       "    </tr>\n",
       "    <tr>\n",
       "      <th>59398</th>\n",
       "      <td>0.373597</td>\n",
       "      <td>0.280239</td>\n",
       "      <td>-0.228290</td>\n",
       "      <td>-0.381587</td>\n",
       "      <td>0</td>\n",
       "      <td>0</td>\n",
       "      <td>0</td>\n",
       "      <td>0</td>\n",
       "      <td>0</td>\n",
       "      <td>0</td>\n",
       "      <td>...</td>\n",
       "      <td>0</td>\n",
       "      <td>0</td>\n",
       "      <td>0</td>\n",
       "      <td>1</td>\n",
       "      <td>0</td>\n",
       "      <td>0</td>\n",
       "      <td>0</td>\n",
       "      <td>0</td>\n",
       "      <td>1</td>\n",
       "      <td>functional</td>\n",
       "    </tr>\n",
       "    <tr>\n",
       "      <th>59399</th>\n",
       "      <td>-1.724151</td>\n",
       "      <td>1.153398</td>\n",
       "      <td>-0.353508</td>\n",
       "      <td>-0.063439</td>\n",
       "      <td>0</td>\n",
       "      <td>0</td>\n",
       "      <td>0</td>\n",
       "      <td>0</td>\n",
       "      <td>0</td>\n",
       "      <td>0</td>\n",
       "      <td>...</td>\n",
       "      <td>0</td>\n",
       "      <td>0</td>\n",
       "      <td>0</td>\n",
       "      <td>1</td>\n",
       "      <td>0</td>\n",
       "      <td>0</td>\n",
       "      <td>0</td>\n",
       "      <td>1</td>\n",
       "      <td>0</td>\n",
       "      <td>functional</td>\n",
       "    </tr>\n",
       "  </tbody>\n",
       "</table>\n",
       "<p>59400 rows × 111 columns</p>\n",
       "</div>"
      ],
      "text/plain": [
       "       gps_height  longitude  latitude  population  basin_Internal  \\\n",
       "0        0.653165  -0.079198 -1.408791   -0.150399               0   \n",
       "1        0.671010  -0.172375  1.207934    0.212290               0   \n",
       "2       -0.742690   0.902910  0.639751    0.148660               0   \n",
       "3       -1.581393   1.302165 -1.849720   -0.258570               0   \n",
       "4        0.373597  -1.561466  1.317271   -0.381587               0   \n",
       "...           ...        ...       ...         ...             ...   \n",
       "59395    0.296270   0.789671  0.832379   -0.116463               0   \n",
       "59396    0.300236   0.042233 -1.142092   -0.262812               0   \n",
       "59397    0.373597  -0.437772 -1.033404   -0.381587               0   \n",
       "59398    0.373597   0.280239 -0.228290   -0.381587               0   \n",
       "59399   -1.724151   1.153398 -0.353508   -0.063439               0   \n",
       "\n",
       "       basin_Lake_Nyasa  basin_Lake_Rukwa  basin_Lake_Tanganyika  \\\n",
       "0                     1                 0                      0   \n",
       "1                     0                 0                      0   \n",
       "2                     0                 0                      0   \n",
       "3                     0                 0                      0   \n",
       "4                     0                 0                      0   \n",
       "...                 ...               ...                    ...   \n",
       "59395                 0                 0                      0   \n",
       "59396                 0                 0                      0   \n",
       "59397                 0                 0                      0   \n",
       "59398                 0                 0                      0   \n",
       "59399                 0                 0                      0   \n",
       "\n",
       "       basin_Lake_Victoria  basin_Pangani  ...  funder_group_gov  \\\n",
       "0                        0              0  ...                 0   \n",
       "1                        1              0  ...                 0   \n",
       "2                        0              1  ...                 0   \n",
       "3                        0              0  ...                 0   \n",
       "4                        1              0  ...                 0   \n",
       "...                    ...            ...  ...               ...   \n",
       "59395                    0              1  ...                 0   \n",
       "59396                    0              0  ...                 0   \n",
       "59397                    0              0  ...                 0   \n",
       "59398                    0              0  ...                 0   \n",
       "59399                    0              0  ...                 0   \n",
       "\n",
       "       funder_group_hesewa  funder_group_kkkt  funder_group_others  \\\n",
       "0                        0                  0                    1   \n",
       "1                        0                  0                    1   \n",
       "2                        0                  0                    1   \n",
       "3                        0                  0                    1   \n",
       "4                        0                  0                    1   \n",
       "...                    ...                ...                  ...   \n",
       "59395                    0                  0                    1   \n",
       "59396                    0                  0                    1   \n",
       "59397                    0                  0                    1   \n",
       "59398                    0                  0                    1   \n",
       "59399                    0                  0                    1   \n",
       "\n",
       "       funder_group_rwe  funder_group_tcrs  funder_group_unknown  \\\n",
       "0                     0                  0                     0   \n",
       "1                     0                  0                     0   \n",
       "2                     0                  0                     0   \n",
       "3                     0                  0                     0   \n",
       "4                     0                  0                     0   \n",
       "...                 ...                ...                   ...   \n",
       "59395                 0                  0                     0   \n",
       "59396                 0                  0                     0   \n",
       "59397                 0                  0                     0   \n",
       "59398                 0                  0                     0   \n",
       "59399                 0                  0                     0   \n",
       "\n",
       "       population_zero_0  population_zero_1    status_group  \n",
       "0                      1                  0      functional  \n",
       "1                      1                  0      functional  \n",
       "2                      1                  0      functional  \n",
       "3                      1                  0  non functional  \n",
       "4                      0                  1      functional  \n",
       "...                  ...                ...             ...  \n",
       "59395                  1                  0      functional  \n",
       "59396                  1                  0      functional  \n",
       "59397                  0                  1      functional  \n",
       "59398                  0                  1      functional  \n",
       "59399                  1                  0      functional  \n",
       "\n",
       "[59400 rows x 111 columns]"
      ]
     },
     "execution_count": 4,
     "metadata": {},
     "output_type": "execute_result"
    }
   ],
   "source": [
    "df =pd.read_csv(\"data/resampled_tanzania_cleaned_df.csv\")\n",
    "df"
   ]
  },
  {
   "cell_type": "code",
   "execution_count": 5,
   "metadata": {},
   "outputs": [],
   "source": [
    "# Feature selection \n",
    "X = df.iloc[0:59400,0:110]\n",
    "y= df[['status_group']]"
   ]
  },
  {
   "cell_type": "code",
   "execution_count": 6,
   "metadata": {},
   "outputs": [],
   "source": [
    "X_train, X_test, y_train, y_test = train_test_split(X, y,test_size=0.2,random_state=42)"
   ]
  },
  {
   "cell_type": "code",
   "execution_count": 7,
   "metadata": {},
   "outputs": [
    {
     "name": "stdout",
     "output_type": "stream",
     "text": [
      "47520\n",
      "47520\n",
      "11880\n",
      "11880\n",
      "functional                 32259\n",
      "non functional             22824\n",
      "functional needs repair     4317\n",
      "Name: status_group, dtype: int64\n"
     ]
    }
   ],
   "source": [
    "print(len(X_train))\n",
    "print(len(y_train))\n",
    "print(len(X_test))\n",
    "print(len(y_test))\n",
    "print(df.status_group.value_counts())"
   ]
  },
  {
   "cell_type": "code",
   "execution_count": null,
   "metadata": {},
   "outputs": [],
   "source": []
  },
  {
   "cell_type": "code",
   "execution_count": 9,
   "metadata": {},
   "outputs": [
    {
     "data": {
      "text/html": [
       "<div>\n",
       "<style scoped>\n",
       "    .dataframe tbody tr th:only-of-type {\n",
       "        vertical-align: middle;\n",
       "    }\n",
       "\n",
       "    .dataframe tbody tr th {\n",
       "        vertical-align: top;\n",
       "    }\n",
       "\n",
       "    .dataframe thead th {\n",
       "        text-align: right;\n",
       "    }\n",
       "</style>\n",
       "<table border=\"1\" class=\"dataframe\">\n",
       "  <thead>\n",
       "    <tr style=\"text-align: right;\">\n",
       "      <th></th>\n",
       "      <th>gps_height</th>\n",
       "      <th>longitude</th>\n",
       "      <th>latitude</th>\n",
       "      <th>population</th>\n",
       "      <th>basin_Internal</th>\n",
       "      <th>basin_Lake_Nyasa</th>\n",
       "      <th>basin_Lake_Rukwa</th>\n",
       "      <th>basin_Lake_Tanganyika</th>\n",
       "      <th>basin_Lake_Victoria</th>\n",
       "      <th>basin_Pangani</th>\n",
       "      <th>...</th>\n",
       "      <th>funder_group_gov</th>\n",
       "      <th>funder_group_hesewa</th>\n",
       "      <th>funder_group_kkkt</th>\n",
       "      <th>funder_group_others</th>\n",
       "      <th>funder_group_rwe</th>\n",
       "      <th>funder_group_tcrs</th>\n",
       "      <th>funder_group_unknown</th>\n",
       "      <th>population_zero_0</th>\n",
       "      <th>population_zero_1</th>\n",
       "      <th>status_group</th>\n",
       "    </tr>\n",
       "  </thead>\n",
       "  <tbody>\n",
       "    <tr>\n",
       "      <th>0</th>\n",
       "      <td>2.045055</td>\n",
       "      <td>0.110766</td>\n",
       "      <td>0.501897</td>\n",
       "      <td>-0.042229</td>\n",
       "      <td>1</td>\n",
       "      <td>0</td>\n",
       "      <td>0</td>\n",
       "      <td>0</td>\n",
       "      <td>0</td>\n",
       "      <td>0</td>\n",
       "      <td>...</td>\n",
       "      <td>0</td>\n",
       "      <td>0</td>\n",
       "      <td>0</td>\n",
       "      <td>1</td>\n",
       "      <td>0</td>\n",
       "      <td>0</td>\n",
       "      <td>0</td>\n",
       "      <td>1</td>\n",
       "      <td>0</td>\n",
       "      <td>functional</td>\n",
       "    </tr>\n",
       "    <tr>\n",
       "      <th>1</th>\n",
       "      <td>0.373597</td>\n",
       "      <td>0.143490</td>\n",
       "      <td>-0.006287</td>\n",
       "      <td>-0.381587</td>\n",
       "      <td>1</td>\n",
       "      <td>0</td>\n",
       "      <td>0</td>\n",
       "      <td>0</td>\n",
       "      <td>0</td>\n",
       "      <td>0</td>\n",
       "      <td>...</td>\n",
       "      <td>0</td>\n",
       "      <td>0</td>\n",
       "      <td>0</td>\n",
       "      <td>1</td>\n",
       "      <td>0</td>\n",
       "      <td>0</td>\n",
       "      <td>0</td>\n",
       "      <td>0</td>\n",
       "      <td>1</td>\n",
       "      <td>functional</td>\n",
       "    </tr>\n",
       "    <tr>\n",
       "      <th>2</th>\n",
       "      <td>-0.126055</td>\n",
       "      <td>-1.028468</td>\n",
       "      <td>-1.145688</td>\n",
       "      <td>-0.381587</td>\n",
       "      <td>0</td>\n",
       "      <td>0</td>\n",
       "      <td>1</td>\n",
       "      <td>0</td>\n",
       "      <td>0</td>\n",
       "      <td>0</td>\n",
       "      <td>...</td>\n",
       "      <td>0</td>\n",
       "      <td>0</td>\n",
       "      <td>1</td>\n",
       "      <td>0</td>\n",
       "      <td>0</td>\n",
       "      <td>0</td>\n",
       "      <td>0</td>\n",
       "      <td>0</td>\n",
       "      <td>1</td>\n",
       "      <td>non functional</td>\n",
       "    </tr>\n",
       "    <tr>\n",
       "      <th>3</th>\n",
       "      <td>-0.126055</td>\n",
       "      <td>-0.420876</td>\n",
       "      <td>-1.060482</td>\n",
       "      <td>-0.381587</td>\n",
       "      <td>0</td>\n",
       "      <td>0</td>\n",
       "      <td>0</td>\n",
       "      <td>0</td>\n",
       "      <td>0</td>\n",
       "      <td>0</td>\n",
       "      <td>...</td>\n",
       "      <td>0</td>\n",
       "      <td>0</td>\n",
       "      <td>0</td>\n",
       "      <td>1</td>\n",
       "      <td>0</td>\n",
       "      <td>0</td>\n",
       "      <td>0</td>\n",
       "      <td>0</td>\n",
       "      <td>1</td>\n",
       "      <td>non functional</td>\n",
       "    </tr>\n",
       "    <tr>\n",
       "      <th>4</th>\n",
       "      <td>-0.074504</td>\n",
       "      <td>0.736288</td>\n",
       "      <td>-0.113630</td>\n",
       "      <td>-0.127068</td>\n",
       "      <td>0</td>\n",
       "      <td>0</td>\n",
       "      <td>0</td>\n",
       "      <td>0</td>\n",
       "      <td>0</td>\n",
       "      <td>0</td>\n",
       "      <td>...</td>\n",
       "      <td>0</td>\n",
       "      <td>0</td>\n",
       "      <td>0</td>\n",
       "      <td>1</td>\n",
       "      <td>0</td>\n",
       "      <td>0</td>\n",
       "      <td>0</td>\n",
       "      <td>1</td>\n",
       "      <td>0</td>\n",
       "      <td>non functional</td>\n",
       "    </tr>\n",
       "    <tr>\n",
       "      <th>...</th>\n",
       "      <td>...</td>\n",
       "      <td>...</td>\n",
       "      <td>...</td>\n",
       "      <td>...</td>\n",
       "      <td>...</td>\n",
       "      <td>...</td>\n",
       "      <td>...</td>\n",
       "      <td>...</td>\n",
       "      <td>...</td>\n",
       "      <td>...</td>\n",
       "      <td>...</td>\n",
       "      <td>...</td>\n",
       "      <td>...</td>\n",
       "      <td>...</td>\n",
       "      <td>...</td>\n",
       "      <td>...</td>\n",
       "      <td>...</td>\n",
       "      <td>...</td>\n",
       "      <td>...</td>\n",
       "      <td>...</td>\n",
       "      <td>...</td>\n",
       "    </tr>\n",
       "    <tr>\n",
       "      <th>61954</th>\n",
       "      <td>-0.126055</td>\n",
       "      <td>1.437858</td>\n",
       "      <td>0.280064</td>\n",
       "      <td>0.176710</td>\n",
       "      <td>0</td>\n",
       "      <td>0</td>\n",
       "      <td>0</td>\n",
       "      <td>0</td>\n",
       "      <td>0</td>\n",
       "      <td>1</td>\n",
       "      <td>...</td>\n",
       "      <td>0</td>\n",
       "      <td>0</td>\n",
       "      <td>0</td>\n",
       "      <td>0</td>\n",
       "      <td>0</td>\n",
       "      <td>0</td>\n",
       "      <td>0</td>\n",
       "      <td>1</td>\n",
       "      <td>0</td>\n",
       "      <td>non functional</td>\n",
       "    </tr>\n",
       "    <tr>\n",
       "      <th>61955</th>\n",
       "      <td>-0.126055</td>\n",
       "      <td>-0.877940</td>\n",
       "      <td>-1.167614</td>\n",
       "      <td>-0.381587</td>\n",
       "      <td>0</td>\n",
       "      <td>0</td>\n",
       "      <td>1</td>\n",
       "      <td>0</td>\n",
       "      <td>0</td>\n",
       "      <td>0</td>\n",
       "      <td>...</td>\n",
       "      <td>0</td>\n",
       "      <td>0</td>\n",
       "      <td>1</td>\n",
       "      <td>0</td>\n",
       "      <td>0</td>\n",
       "      <td>0</td>\n",
       "      <td>0</td>\n",
       "      <td>0</td>\n",
       "      <td>1</td>\n",
       "      <td>non functional</td>\n",
       "    </tr>\n",
       "    <tr>\n",
       "      <th>61956</th>\n",
       "      <td>-0.126055</td>\n",
       "      <td>-0.844502</td>\n",
       "      <td>-1.203330</td>\n",
       "      <td>-0.381587</td>\n",
       "      <td>0</td>\n",
       "      <td>1</td>\n",
       "      <td>0</td>\n",
       "      <td>0</td>\n",
       "      <td>0</td>\n",
       "      <td>0</td>\n",
       "      <td>...</td>\n",
       "      <td>0</td>\n",
       "      <td>0</td>\n",
       "      <td>1</td>\n",
       "      <td>0</td>\n",
       "      <td>0</td>\n",
       "      <td>0</td>\n",
       "      <td>0</td>\n",
       "      <td>0</td>\n",
       "      <td>1</td>\n",
       "      <td>non functional</td>\n",
       "    </tr>\n",
       "    <tr>\n",
       "      <th>61957</th>\n",
       "      <td>-2.019432</td>\n",
       "      <td>1.499206</td>\n",
       "      <td>-0.576637</td>\n",
       "      <td>0.508375</td>\n",
       "      <td>0</td>\n",
       "      <td>0</td>\n",
       "      <td>0</td>\n",
       "      <td>0</td>\n",
       "      <td>0</td>\n",
       "      <td>0</td>\n",
       "      <td>...</td>\n",
       "      <td>0</td>\n",
       "      <td>0</td>\n",
       "      <td>0</td>\n",
       "      <td>1</td>\n",
       "      <td>0</td>\n",
       "      <td>0</td>\n",
       "      <td>0</td>\n",
       "      <td>1</td>\n",
       "      <td>0</td>\n",
       "      <td>non functional</td>\n",
       "    </tr>\n",
       "    <tr>\n",
       "      <th>61958</th>\n",
       "      <td>-1.470166</td>\n",
       "      <td>1.431702</td>\n",
       "      <td>-1.761327</td>\n",
       "      <td>-0.300782</td>\n",
       "      <td>0</td>\n",
       "      <td>0</td>\n",
       "      <td>0</td>\n",
       "      <td>0</td>\n",
       "      <td>0</td>\n",
       "      <td>0</td>\n",
       "      <td>...</td>\n",
       "      <td>0</td>\n",
       "      <td>0</td>\n",
       "      <td>0</td>\n",
       "      <td>1</td>\n",
       "      <td>0</td>\n",
       "      <td>0</td>\n",
       "      <td>0</td>\n",
       "      <td>1</td>\n",
       "      <td>0</td>\n",
       "      <td>non functional</td>\n",
       "    </tr>\n",
       "  </tbody>\n",
       "</table>\n",
       "<p>61959 rows × 111 columns</p>\n",
       "</div>"
      ],
      "text/plain": [
       "       gps_height  longitude  latitude  population  basin_Internal  \\\n",
       "0        2.045055   0.110766  0.501897   -0.042229               1   \n",
       "1        0.373597   0.143490 -0.006287   -0.381587               1   \n",
       "2       -0.126055  -1.028468 -1.145688   -0.381587               0   \n",
       "3       -0.126055  -0.420876 -1.060482   -0.381587               0   \n",
       "4       -0.074504   0.736288 -0.113630   -0.127068               0   \n",
       "...           ...        ...       ...         ...             ...   \n",
       "61954   -0.126055   1.437858  0.280064    0.176710               0   \n",
       "61955   -0.126055  -0.877940 -1.167614   -0.381587               0   \n",
       "61956   -0.126055  -0.844502 -1.203330   -0.381587               0   \n",
       "61957   -2.019432   1.499206 -0.576637    0.508375               0   \n",
       "61958   -1.470166   1.431702 -1.761327   -0.300782               0   \n",
       "\n",
       "       basin_Lake_Nyasa  basin_Lake_Rukwa  basin_Lake_Tanganyika  \\\n",
       "0                     0                 0                      0   \n",
       "1                     0                 0                      0   \n",
       "2                     0                 1                      0   \n",
       "3                     0                 0                      0   \n",
       "4                     0                 0                      0   \n",
       "...                 ...               ...                    ...   \n",
       "61954                 0                 0                      0   \n",
       "61955                 0                 1                      0   \n",
       "61956                 1                 0                      0   \n",
       "61957                 0                 0                      0   \n",
       "61958                 0                 0                      0   \n",
       "\n",
       "       basin_Lake_Victoria  basin_Pangani  ...  funder_group_gov  \\\n",
       "0                        0              0  ...                 0   \n",
       "1                        0              0  ...                 0   \n",
       "2                        0              0  ...                 0   \n",
       "3                        0              0  ...                 0   \n",
       "4                        0              0  ...                 0   \n",
       "...                    ...            ...  ...               ...   \n",
       "61954                    0              1  ...                 0   \n",
       "61955                    0              0  ...                 0   \n",
       "61956                    0              0  ...                 0   \n",
       "61957                    0              0  ...                 0   \n",
       "61958                    0              0  ...                 0   \n",
       "\n",
       "       funder_group_hesewa  funder_group_kkkt  funder_group_others  \\\n",
       "0                        0                  0                    1   \n",
       "1                        0                  0                    1   \n",
       "2                        0                  1                    0   \n",
       "3                        0                  0                    1   \n",
       "4                        0                  0                    1   \n",
       "...                    ...                ...                  ...   \n",
       "61954                    0                  0                    0   \n",
       "61955                    0                  1                    0   \n",
       "61956                    0                  1                    0   \n",
       "61957                    0                  0                    1   \n",
       "61958                    0                  0                    1   \n",
       "\n",
       "       funder_group_rwe  funder_group_tcrs  funder_group_unknown  \\\n",
       "0                     0                  0                     0   \n",
       "1                     0                  0                     0   \n",
       "2                     0                  0                     0   \n",
       "3                     0                  0                     0   \n",
       "4                     0                  0                     0   \n",
       "...                 ...                ...                   ...   \n",
       "61954                 0                  0                     0   \n",
       "61955                 0                  0                     0   \n",
       "61956                 0                  0                     0   \n",
       "61957                 0                  0                     0   \n",
       "61958                 0                  0                     0   \n",
       "\n",
       "       population_zero_0  population_zero_1    status_group  \n",
       "0                      1                  0      functional  \n",
       "1                      0                  1      functional  \n",
       "2                      0                  1  non functional  \n",
       "3                      0                  1  non functional  \n",
       "4                      1                  0  non functional  \n",
       "...                  ...                ...             ...  \n",
       "61954                  1                  0  non functional  \n",
       "61955                  0                  1  non functional  \n",
       "61956                  0                  1  non functional  \n",
       "61957                  1                  0  non functional  \n",
       "61958                  1                  0  non functional  \n",
       "\n",
       "[61959 rows x 111 columns]"
      ]
     },
     "execution_count": 9,
     "metadata": {},
     "output_type": "execute_result"
    }
   ],
   "source": [
    "df_r =pd.read_csv(\"data/df_resampled.csv\")\n",
    "df_r"
   ]
  },
  {
   "cell_type": "code",
   "execution_count": 10,
   "metadata": {},
   "outputs": [],
   "source": [
    "# Split X_train_resampled and y_train_resampled\n",
    "# !!Only split X and y. This dataset is only for training due to upsampled data. \n",
    "# !! Test dataset needs to be unseen\n",
    "\n",
    "X_train_resampled = df_r.iloc[0:61959,0:110]\n",
    "y_train_resampled = df_r[[\"status_group\"]]\n"
   ]
  },
  {
   "cell_type": "code",
   "execution_count": 11,
   "metadata": {},
   "outputs": [
    {
     "name": "stdout",
     "output_type": "stream",
     "text": [
      "61959\n",
      "61959\n",
      "functional needs repair    20653\n",
      "functional                 20653\n",
      "non functional             20653\n",
      "Name: status_group, dtype: int64\n"
     ]
    }
   ],
   "source": [
    "print(len(X_train_resampled))\n",
    "print(len(y_train_resampled))\n",
    "print(y_train_resampled.status_group.value_counts())"
   ]
  },
  {
   "cell_type": "code",
   "execution_count": null,
   "metadata": {},
   "outputs": [],
   "source": []
  },
  {
   "cell_type": "markdown",
   "metadata": {},
   "source": [
    "# Basemodels used upsampled train dataset, holdout method (8:2) validation"
   ]
  },
  {
   "cell_type": "code",
   "execution_count": 12,
   "metadata": {},
   "outputs": [
    {
     "name": "stderr",
     "output_type": "stream",
     "text": [
      "C:\\Users\\yuka\\Anaconda3\\lib\\site-packages\\sklearn\\preprocessing\\_label.py:235: DataConversionWarning: A column-vector y was passed when a 1d array was expected. Please change the shape of y to (n_samples, ), for example using ravel().\n",
      "  y = column_or_1d(y, warn=True)\n",
      "C:\\Users\\yuka\\Anaconda3\\lib\\site-packages\\sklearn\\preprocessing\\_label.py:268: DataConversionWarning: A column-vector y was passed when a 1d array was expected. Please change the shape of y to (n_samples, ), for example using ravel().\n",
      "  y = column_or_1d(y, warn=True)\n"
     ]
    }
   ],
   "source": [
    "XGB =XGBClassifier()\n",
    "XGB_clf_report, XGB_clf_acc_score, XGB_f1score = modeling(XGB,X_train_resampled,y_train_resampled,X_test,y_test)"
   ]
  },
  {
   "cell_type": "code",
   "execution_count": 13,
   "metadata": {},
   "outputs": [
    {
     "name": "stderr",
     "output_type": "stream",
     "text": [
      "C:\\Users\\yuka\\Anaconda3\\lib\\site-packages\\sklearn\\ensemble\\_gb.py:1454: DataConversionWarning: A column-vector y was passed when a 1d array was expected. Please change the shape of y to (n_samples, ), for example using ravel().\n",
      "  y = column_or_1d(y, warn=True)\n"
     ]
    }
   ],
   "source": [
    "GBC = GradientBoostingClassifier()\n",
    "GBC_clf_report, GBC_clf_acc_score, GBC_f1score = modeling(GBC,X_train_resampled,y_train_resampled,X_test,y_test)\n"
   ]
  },
  {
   "cell_type": "code",
   "execution_count": 14,
   "metadata": {},
   "outputs": [
    {
     "name": "stderr",
     "output_type": "stream",
     "text": [
      "C:\\Users\\yuka\\Anaconda3\\lib\\site-packages\\ipykernel_launcher.py:4: DataConversionWarning: A column-vector y was passed when a 1d array was expected. Please change the shape of y to (n_samples,), for example using ravel().\n",
      "  after removing the cwd from sys.path.\n",
      "C:\\Users\\yuka\\Anaconda3\\lib\\site-packages\\sklearn\\utils\\validation.py:760: DataConversionWarning: A column-vector y was passed when a 1d array was expected. Please change the shape of y to (n_samples, ), for example using ravel().\n",
      "  y = column_or_1d(y, warn=True)\n"
     ]
    }
   ],
   "source": [
    "RFC =RandomForestClassifier()\n",
    "RFC_clf_report, RFC_clf_acc_score, RFC_f1score = modeling(RFC,X_train_resampled,y_train_resampled,X_test,y_test)\n",
    "\n",
    "svc =SVC()\n",
    "svc_clf_report, svc_clf_acc_score, svc_f1score = modeling(svc,X_train_resampled,y_train_resampled,X_test,y_test)\n"
   ]
  },
  {
   "cell_type": "code",
   "execution_count": 15,
   "metadata": {},
   "outputs": [],
   "source": [
    "results={'Classifier':[\"XGB Classifier\",\"Gradient Boosting Classifier\",\"Random Forest Classifier\",\"SVC\"],\n",
    "'Accuracy':[XGB_clf_acc_score,GBC_clf_acc_score,RFC_clf_acc_score,svc_clf_acc_score],\n",
    "'F1_macro':[XGB_f1score,GBC_f1score,RFC_f1score,svc_f1score]}"
   ]
  },
  {
   "cell_type": "code",
   "execution_count": 16,
   "metadata": {},
   "outputs": [
    {
     "name": "stdout",
     "output_type": "stream",
     "text": [
      "Base models with upsampled train datasets,  holdout method (8:2) validation\n"
     ]
    },
    {
     "data": {
      "text/html": [
       "<div>\n",
       "<style scoped>\n",
       "    .dataframe tbody tr th:only-of-type {\n",
       "        vertical-align: middle;\n",
       "    }\n",
       "\n",
       "    .dataframe tbody tr th {\n",
       "        vertical-align: top;\n",
       "    }\n",
       "\n",
       "    .dataframe thead th {\n",
       "        text-align: right;\n",
       "    }\n",
       "</style>\n",
       "<table border=\"1\" class=\"dataframe\">\n",
       "  <thead>\n",
       "    <tr style=\"text-align: right;\">\n",
       "      <th></th>\n",
       "      <th>Classifier</th>\n",
       "      <th>Accuracy</th>\n",
       "      <th>F1_macro</th>\n",
       "    </tr>\n",
       "  </thead>\n",
       "  <tbody>\n",
       "    <tr>\n",
       "      <th>0</th>\n",
       "      <td>XGB Classifier</td>\n",
       "      <td>0.848737</td>\n",
       "      <td>0.780203</td>\n",
       "    </tr>\n",
       "    <tr>\n",
       "      <th>1</th>\n",
       "      <td>Gradient Boosting Classifier</td>\n",
       "      <td>0.814310</td>\n",
       "      <td>0.738204</td>\n",
       "    </tr>\n",
       "    <tr>\n",
       "      <th>2</th>\n",
       "      <td>Random Forest Classifier</td>\n",
       "      <td>0.860185</td>\n",
       "      <td>0.793573</td>\n",
       "    </tr>\n",
       "    <tr>\n",
       "      <th>3</th>\n",
       "      <td>SVC</td>\n",
       "      <td>0.834428</td>\n",
       "      <td>0.758577</td>\n",
       "    </tr>\n",
       "  </tbody>\n",
       "</table>\n",
       "</div>"
      ],
      "text/plain": [
       "                     Classifier  Accuracy  F1_macro\n",
       "0                XGB Classifier  0.848737  0.780203\n",
       "1  Gradient Boosting Classifier  0.814310  0.738204\n",
       "2      Random Forest Classifier  0.860185  0.793573\n",
       "3                           SVC  0.834428  0.758577"
      ]
     },
     "execution_count": 16,
     "metadata": {},
     "output_type": "execute_result"
    }
   ],
   "source": [
    "score_report_df =pd.DataFrame(data=results,columns=[\"Classifier\",\"Accuracy\",\"F1_macro\"])\n",
    "print(\"Base models with upsampled train datasets,  holdout method (8:2) validation\")\n",
    "score_report_df"
   ]
  },
  {
   "cell_type": "code",
   "execution_count": 19,
   "metadata": {},
   "outputs": [
    {
     "name": "stdout",
     "output_type": "stream",
     "text": [
      "                         precision    recall  f1-score   support\n",
      "\n",
      "             functional       0.88      0.88      0.88      6457\n",
      "functional needs repair       0.54      0.69      0.60       851\n",
      "         non functional       0.89      0.84      0.86      4572\n",
      "\n",
      "               accuracy                           0.85     11880\n",
      "              macro avg       0.77      0.80      0.78     11880\n",
      "           weighted avg       0.86      0.85      0.85     11880\n",
      "\n"
     ]
    }
   ],
   "source": [
    "print(XGB_clf_report)"
   ]
  },
  {
   "cell_type": "markdown",
   "metadata": {},
   "source": [
    "# Turned hyperparameter and WTIH resampled dataset"
   ]
  },
  {
   "cell_type": "code",
   "execution_count": 20,
   "metadata": {},
   "outputs": [
    {
     "data": {
      "text/plain": [
       "XGBClassifier(base_score=0.5, booster=None, colsample_bylevel=1,\n",
       "              colsample_bynode=1, colsample_bytree=1, gamma=0, gpu_id=-1,\n",
       "              importance_type='gain', interaction_constraints=None,\n",
       "              learning_rate=0.300000012, max_delta_step=0, max_depth=6,\n",
       "              min_child_weight=1, missing=nan, monotone_constraints=None,\n",
       "              n_estimators=100, n_jobs=0, num_parallel_tree=1,\n",
       "              objective='multi:softprob', random_state=0, reg_alpha=0,\n",
       "              reg_lambda=1, scale_pos_weight=None, subsample=1,\n",
       "              tree_method=None, validate_parameters=False, verbosity=None)"
      ]
     },
     "execution_count": 20,
     "metadata": {},
     "output_type": "execute_result"
    }
   ],
   "source": [
    "XGB"
   ]
  },
  {
   "cell_type": "code",
   "execution_count": 44,
   "metadata": {},
   "outputs": [
    {
     "data": {
      "text/plain": [
       "XGBClassifier(base_score=None, booster=None, colsample_bylevel=0.5,\n",
       "              colsample_bynode=None, colsample_bytree=None, gamma=None,\n",
       "              gpu_id=None, importance_type='gain', interaction_constraints=None,\n",
       "              learning_rate=None, max_delta_step=None, max_depth=10,\n",
       "              min_child_weight=None, missing=nan, monotone_constraints=None,\n",
       "              n_estimators=100, n_jobs=None, num_class=3,\n",
       "              num_parallel_tree=None, objective='multi:softmax',\n",
       "              random_state=None, reg_alpha=None, reg_lambda=None,\n",
       "              scale_pos_weight=None, subsample=None, tree_method=None,\n",
       "              validate_parameters=False, verbosity=None)"
      ]
     },
     "execution_count": 44,
     "metadata": {},
     "output_type": "execute_result"
    }
   ],
   "source": [
    "XGB_t= XGBClassifier(colsample_bylevel=0.5,max_depth=10,objective=\"multi:softmax\",num_class=3)\n",
    "XGB_t"
   ]
  },
  {
   "cell_type": "code",
   "execution_count": 41,
   "metadata": {},
   "outputs": [],
   "source": [
    "\n",
    "XGB_t_clf_report_r, XGB_t_clf_acc_score_r, XGB_t_f1score_r, XGB_t_y_pred_r= modeling(XGB_t,X_train_resampled,y_train_resampled,X_test,y_test)"
   ]
  },
  {
   "cell_type": "code",
   "execution_count": 42,
   "metadata": {},
   "outputs": [
    {
     "name": "stdout",
     "output_type": "stream",
     "text": [
      "                         precision    recall  f1-score   support\n",
      "\n",
      "             functional       0.88      0.89      0.89      6457\n",
      "functional needs repair       0.61      0.64      0.62       851\n",
      "         non functional       0.89      0.86      0.87      4572\n",
      "\n",
      "               accuracy                           0.86     11880\n",
      "              macro avg       0.79      0.80      0.79     11880\n",
      "           weighted avg       0.86      0.86      0.86     11880\n",
      "\n"
     ]
    }
   ],
   "source": [
    "print(XGB_t_clf_report_r)"
   ]
  },
  {
   "cell_type": "code",
   "execution_count": 47,
   "metadata": {},
   "outputs": [
    {
     "name": "stdout",
     "output_type": "stream",
     "text": [
      "61959\n",
      "61959\n",
      "functional needs repair    20653\n",
      "functional                 20653\n",
      "non functional             20653\n",
      "Name: status_group, dtype: int64\n",
      "11880\n",
      "11880\n",
      "functional                 6457\n",
      "non functional             4572\n",
      "functional needs repair     851\n",
      "Name: status_group, dtype: int64\n"
     ]
    }
   ],
   "source": [
    "print(len(X_train_resampled))\n",
    "print(len(y_train_resampled))\n",
    "print(y_train_resampled.status_group.value_counts())\n",
    "print(len(X_test))\n",
    "print(len(y_test))\n",
    "print(y_test.status_group.value_counts())"
   ]
  },
  {
   "cell_type": "code",
   "execution_count": 48,
   "metadata": {},
   "outputs": [
    {
     "data": {
      "text/plain": [
       "array([[5774,  254,  429],\n",
       "       [ 238,  544,   69],\n",
       "       [ 560,   97, 3915]], dtype=int64)"
      ]
     },
     "execution_count": 48,
     "metadata": {},
     "output_type": "execute_result"
    }
   ],
   "source": [
    "XGB_t_confusion_matrix_ =confusion_matrix(y_test,XGB_t_y_pred_r)\n",
    "XGB_t_confusion_matrix_"
   ]
  },
  {
   "cell_type": "code",
   "execution_count": 49,
   "metadata": {},
   "outputs": [
    {
     "data": {
      "image/png": "[encoded data removed]",
      "text/plain": [
       "<Figure size 432x288 with 2 Axes>"
      ]
     },
     "metadata": {
      "needs_background": "light"
     },
     "output_type": "display_data"
    }
   ],
   "source": [
    "class_names = [\"Func\",\"Need Repair\",\"Non Func\"]\n",
    "fig,ax =plot_confusion_matrix(conf_mat = XGB_t_confusion_matrix_,colorbar = True,\n",
    "                             show_absolute=False, show_normed=True,\n",
    "                             class_names = class_names)\n",
    "plt.show()"
   ]
  },
  {
   "cell_type": "markdown",
   "metadata": {},
   "source": [
    "# roc and auc"
   ]
  },
  {
   "cell_type": "code",
   "execution_count": 51,
   "metadata": {},
   "outputs": [],
   "source": [
    "predicted_probas = XGB_t.fit(X_train_resampled,y_train_resampled).predict_proba(X_test)"
   ]
  },
  {
   "cell_type": "code",
   "execution_count": 52,
   "metadata": {},
   "outputs": [
    {
     "name": "stdout",
     "output_type": "stream",
     "text": [
      "(11880, 3)\n"
     ]
    },
    {
     "data": {
      "text/plain": [
       "array([[5.26285203e-06, 3.14540489e-06, 9.99991536e-01],\n",
       "       [9.99780715e-01, 9.99007607e-05, 1.19403405e-04],\n",
       "       [5.74853301e-01, 3.69789779e-01, 5.53569570e-02],\n",
       "       ...,\n",
       "       [1.90588107e-05, 2.29752422e-05, 9.99957919e-01],\n",
       "       [2.87369430e-01, 2.49502193e-02, 6.87680364e-01],\n",
       "       [5.83923697e-01, 3.23179722e-01, 9.28966105e-02]], dtype=float32)"
      ]
     },
     "execution_count": 52,
     "metadata": {},
     "output_type": "execute_result"
    }
   ],
   "source": [
    "print(predicted_probas.shape)\n",
    "predicted_probas"
   ]
  },
  {
   "cell_type": "code",
   "execution_count": 53,
   "metadata": {},
   "outputs": [
    {
     "name": "stdout",
     "output_type": "stream",
     "text": [
      "(11880, 1)\n"
     ]
    },
    {
     "data": {
      "text/html": [
       "<div>\n",
       "<style scoped>\n",
       "    .dataframe tbody tr th:only-of-type {\n",
       "        vertical-align: middle;\n",
       "    }\n",
       "\n",
       "    .dataframe tbody tr th {\n",
       "        vertical-align: top;\n",
       "    }\n",
       "\n",
       "    .dataframe thead th {\n",
       "        text-align: right;\n",
       "    }\n",
       "</style>\n",
       "<table border=\"1\" class=\"dataframe\">\n",
       "  <thead>\n",
       "    <tr style=\"text-align: right;\">\n",
       "      <th></th>\n",
       "      <th>status_group</th>\n",
       "    </tr>\n",
       "  </thead>\n",
       "  <tbody>\n",
       "    <tr>\n",
       "      <th>2980</th>\n",
       "      <td>non functional</td>\n",
       "    </tr>\n",
       "    <tr>\n",
       "      <th>5246</th>\n",
       "      <td>functional</td>\n",
       "    </tr>\n",
       "    <tr>\n",
       "      <th>22659</th>\n",
       "      <td>functional</td>\n",
       "    </tr>\n",
       "    <tr>\n",
       "      <th>39888</th>\n",
       "      <td>non functional</td>\n",
       "    </tr>\n",
       "    <tr>\n",
       "      <th>13361</th>\n",
       "      <td>functional</td>\n",
       "    </tr>\n",
       "    <tr>\n",
       "      <th>...</th>\n",
       "      <td>...</td>\n",
       "    </tr>\n",
       "    <tr>\n",
       "      <th>17841</th>\n",
       "      <td>functional</td>\n",
       "    </tr>\n",
       "    <tr>\n",
       "      <th>20222</th>\n",
       "      <td>functional</td>\n",
       "    </tr>\n",
       "    <tr>\n",
       "      <th>40219</th>\n",
       "      <td>non functional</td>\n",
       "    </tr>\n",
       "    <tr>\n",
       "      <th>19599</th>\n",
       "      <td>functional</td>\n",
       "    </tr>\n",
       "    <tr>\n",
       "      <th>41264</th>\n",
       "      <td>functional</td>\n",
       "    </tr>\n",
       "  </tbody>\n",
       "</table>\n",
       "<p>11880 rows × 1 columns</p>\n",
       "</div>"
      ],
      "text/plain": [
       "         status_group\n",
       "2980   non functional\n",
       "5246       functional\n",
       "22659      functional\n",
       "39888  non functional\n",
       "13361      functional\n",
       "...               ...\n",
       "17841      functional\n",
       "20222      functional\n",
       "40219  non functional\n",
       "19599      functional\n",
       "41264      functional\n",
       "\n",
       "[11880 rows x 1 columns]"
      ]
     },
     "execution_count": 53,
     "metadata": {},
     "output_type": "execute_result"
    }
   ],
   "source": [
    "print(y_test.shape)\n",
    "y_test"
   ]
  },
  {
   "cell_type": "code",
   "execution_count": 54,
   "metadata": {},
   "outputs": [
    {
     "name": "stdout",
     "output_type": "stream",
     "text": [
      "(11880,)\n"
     ]
    },
    {
     "data": {
      "text/plain": [
       "array(['non functional', 'functional', 'functional', ...,\n",
       "       'non functional', 'functional', 'functional'], dtype=object)"
      ]
     },
     "execution_count": 54,
     "metadata": {},
     "output_type": "execute_result"
    }
   ],
   "source": [
    "y_test_arr = np.ravel(y_test)\n",
    "print(y_test_arr.shape)\n",
    "y_test_arr"
   ]
  },
  {
   "cell_type": "code",
   "execution_count": 57,
   "metadata": {},
   "outputs": [
    {
     "data": {
      "image/png": "[encoded data removed]",
      "text/plain": [
       "<Figure size 432x288 with 1 Axes>"
      ]
     },
     "metadata": {
      "needs_background": "light"
     },
     "output_type": "display_data"
    }
   ],
   "source": [
    "skplt.metrics.plot_roc(y_test, predicted_probas)\n",
    "plt.show()"
   ]
  },
  {
   "cell_type": "code",
   "execution_count": null,
   "metadata": {},
   "outputs": [],
   "source": []
  },
  {
   "cell_type": "markdown",
   "metadata": {},
   "source": [
    "# Turned hyperparameter and no resampled dataset"
   ]
  },
  {
   "cell_type": "code",
   "execution_count": 26,
   "metadata": {},
   "outputs": [],
   "source": [
    "\n",
    "XGB_t_clf_report_r, XGB_t_clf_acc_score_r, XGB_t_f1score_r,XGB_t_y_pred_r = modeling(XGB_t,X_train,y_train,X_test,y_test)"
   ]
  },
  {
   "cell_type": "code",
   "execution_count": 27,
   "metadata": {},
   "outputs": [
    {
     "name": "stdout",
     "output_type": "stream",
     "text": [
      "                         precision    recall  f1-score   support\n",
      "\n",
      "             functional       0.87      0.94      0.90      6457\n",
      "functional needs repair       0.80      0.57      0.67       851\n",
      "         non functional       0.90      0.85      0.88      4572\n",
      "\n",
      "               accuracy                           0.88     11880\n",
      "              macro avg       0.86      0.79      0.82     11880\n",
      "           weighted avg       0.88      0.88      0.88     11880\n",
      "\n"
     ]
    }
   ],
   "source": [
    "print(XGB_t_clf_report_r)"
   ]
  },
  {
   "cell_type": "code",
   "execution_count": 30,
   "metadata": {},
   "outputs": [
    {
     "data": {
      "text/plain": [
       "array([[6049,   79,  329],\n",
       "       [ 281,  487,   83],\n",
       "       [ 633,   39, 3900]], dtype=int64)"
      ]
     },
     "execution_count": 30,
     "metadata": {},
     "output_type": "execute_result"
    }
   ],
   "source": [
    "XGB_t2_confusion_matrix_ =confusion_matrix(y_test,XGB_t_y_pred_r)\n",
    "XGB_t2_confusion_matrix_"
   ]
  },
  {
   "cell_type": "code",
   "execution_count": 31,
   "metadata": {},
   "outputs": [
    {
     "data": {
      "image/png": "[encoded data removed]",
      "text/plain": [
       "<Figure size 432x288 with 2 Axes>"
      ]
     },
     "metadata": {
      "needs_background": "light"
     },
     "output_type": "display_data"
    }
   ],
   "source": [
    "class_names = [\"Func\",\"Need Repair\",\"Non Func\"]\n",
    "fig,ax =plot_confusion_matrix(conf_mat = XGB_t2_confusion_matrix_,colorbar = True,\n",
    "                             show_absolute=False, show_normed=True,\n",
    "                             class_names = class_names)\n",
    "plt.show()"
   ]
  },
  {
   "cell_type": "markdown",
   "metadata": {},
   "source": [
    "# roc and auc"
   ]
  },
  {
   "cell_type": "code",
   "execution_count": 58,
   "metadata": {},
   "outputs": [
    {
     "name": "stderr",
     "output_type": "stream",
     "text": [
      "C:\\Users\\yuka\\Anaconda3\\lib\\site-packages\\sklearn\\preprocessing\\_label.py:235: DataConversionWarning: A column-vector y was passed when a 1d array was expected. Please change the shape of y to (n_samples, ), for example using ravel().\n",
      "  y = column_or_1d(y, warn=True)\n",
      "C:\\Users\\yuka\\Anaconda3\\lib\\site-packages\\sklearn\\preprocessing\\_label.py:268: DataConversionWarning: A column-vector y was passed when a 1d array was expected. Please change the shape of y to (n_samples, ), for example using ravel().\n",
      "  y = column_or_1d(y, warn=True)\n"
     ]
    }
   ],
   "source": [
    "predicted_probas2 = XGB_t.fit(X_train,y_train).predict_proba(X_test)"
   ]
  },
  {
   "cell_type": "code",
   "execution_count": 59,
   "metadata": {},
   "outputs": [
    {
     "name": "stdout",
     "output_type": "stream",
     "text": [
      "(11880, 3)\n"
     ]
    },
    {
     "data": {
      "text/plain": [
       "array([[4.86874924e-05, 2.12693612e-05, 9.99930024e-01],\n",
       "       [9.99886274e-01, 2.43672439e-05, 8.93767283e-05],\n",
       "       [8.71213198e-01, 8.08292925e-02, 4.79574613e-02],\n",
       "       ...,\n",
       "       [2.97148308e-05, 1.59041119e-05, 9.99954343e-01],\n",
       "       [2.12684155e-01, 1.16776615e-01, 6.70539200e-01],\n",
       "       [8.51777434e-01, 7.35177994e-02, 7.47047812e-02]], dtype=float32)"
      ]
     },
     "execution_count": 59,
     "metadata": {},
     "output_type": "execute_result"
    }
   ],
   "source": [
    "print(predicted_probas2.shape)\n",
    "predicted_probas2"
   ]
  },
  {
   "cell_type": "code",
   "execution_count": 60,
   "metadata": {},
   "outputs": [
    {
     "data": {
      "image/png": "[encoded data removed]",
      "text/plain": [
       "<Figure size 432x288 with 1 Axes>"
      ]
     },
     "metadata": {
      "needs_background": "light"
     },
     "output_type": "display_data"
    }
   ],
   "source": [
    "skplt.metrics.plot_roc(y_test, predicted_probas2)\n",
    "plt.show()"
   ]
  },
  {
   "cell_type": "code",
   "execution_count": null,
   "metadata": {},
   "outputs": [],
   "source": []
  },
  {
   "cell_type": "code",
   "execution_count": null,
   "metadata": {},
   "outputs": [],
   "source": []
  },
  {
   "cell_type": "code",
   "execution_count": null,
   "metadata": {},
   "outputs": [],
   "source": []
  },
  {
   "cell_type": "code",
   "execution_count": null,
   "metadata": {},
   "outputs": [],
   "source": []
  },
  {
   "cell_type": "code",
   "execution_count": null,
   "metadata": {},
   "outputs": [],
   "source": []
  }
 ],
 "metadata": {
  "kernelspec": {
   "display_name": "Python 3",
   "language": "python",
   "name": "python3"
  },
  "language_info": {
   "codemirror_mode": {
    "name": "ipython",
    "version": 3
   },
   "file_extension": ".py",
   "mimetype": "text/x-python",
   "name": "python",
   "nbconvert_exporter": "python",
   "pygments_lexer": "ipython3",
   "version": "3.7.1"
  }
 },
 "nbformat": 4,
 "nbformat_minor": 4
}
